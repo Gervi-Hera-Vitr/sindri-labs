{
 "cells": [
  {
   "metadata": {},
   "cell_type": "raw",
   "source": [
    "\n",
    "    ## Captains Tensorflow and Keras Journey\n",
    "\n",
    "TensorFlow Learning:https://www.tensorflow.org/\n",
    "\n",
    "TensorFlow Glossary:https://developers.google.com/machine-learning/glossary#tensorflow\n",
    "\n",
    "Keras Learning: https://keras.io/\n",
    "\n",
    "Keras Glossary:https://developers.google.com/machine-learning/glossary#keras\n",
    "\n",
    "Now here is my understanding of TensorFlow And Keras:"
   ],
   "id": "e58a21f97de54af9"
  },
  {
   "metadata": {
    "collapsed": true,
    "ExecuteTime": {
     "end_time": "2025-02-13T16:01:42.259254Z",
     "start_time": "2025-02-13T16:01:00.267512Z"
    }
   },
   "cell_type": "code",
   "source": [
    "# Basics of TensorFlow and Keras:\n",
    "# setting up TensorFlow\n",
    "import numpy\n",
    "import tensorflow as tf\n",
    "from tensorflow.keras import layers\n",
    "print(tf.__version__)\n",
    "print(numpy.__version__)"
   ],
   "id": "initial_id",
   "outputs": [
    {
     "name": "stderr",
     "output_type": "stream",
     "text": [
      "2025-02-13 11:01:24.031105: I tensorflow/core/platform/cpu_feature_guard.cc:182] This TensorFlow binary is optimized to use available CPU instructions in performance-critical operations.\n",
      "To enable the following instructions: AVX2 FMA, in other operations, rebuild TensorFlow with the appropriate compiler flags.\n"
     ]
    },
    {
     "name": "stdout",
     "output_type": "stream",
     "text": [
      "2.13.1\n",
      "1.24.3\n"
     ]
    }
   ],
   "execution_count": 1
  },
  {
   "metadata": {
    "ExecuteTime": {
     "end_time": "2025-02-13T16:01:42.297832Z",
     "start_time": "2025-02-13T16:01:42.268722Z"
    }
   },
   "cell_type": "code",
   "source": [
    "# Create a tensor which is an array\n",
    "tensor = tf.constant([[1, 2], [3, 4]])\n",
    "print(tensor)\n",
    "# tensorflow Variables can be changed or updated unlike constants\n",
    "var = tf.Variable([1, 2, 3])\n",
    "print(\"Before update:\", var.numpy())\n",
    "\n",
    "# Update the variable\n",
    "var.assign([4, 5, 6])\n",
    "print(\"After update:\", var.numpy())\n"
   ],
   "id": "e7b0be8cdf39e0c9",
   "outputs": [
    {
     "name": "stdout",
     "output_type": "stream",
     "text": [
      "tf.Tensor(\n",
      "[[1 2]\n",
      " [3 4]], shape=(2, 2), dtype=int32)\n",
      "Before update: [1 2 3]\n",
      "After update: [4 5 6]\n"
     ]
    }
   ],
   "execution_count": 2
  },
  {
   "metadata": {
    "ExecuteTime": {
     "end_time": "2025-02-13T16:01:42.514418Z",
     "start_time": "2025-02-13T16:01:42.502488Z"
    }
   },
   "cell_type": "code",
   "source": [
    "# tensor math and manipulation\n",
    "a = tf.constant([[1, 2], [3, 4]])\n",
    "b = tf.constant([[5, 6], [7, 8]])\n",
    "\n",
    "\n",
    "c = tf.add(a, b)\n",
    "print(c)\n",
    "d = tf.multiply(a, b)\n",
    "print(d)\n",
    "e = tf.subtract(a, b)\n",
    "print(e)\n",
    "f = tf.divide(a, b)\n",
    "print(f)"
   ],
   "id": "a1c7744a571278ee",
   "outputs": [
    {
     "name": "stdout",
     "output_type": "stream",
     "text": [
      "tf.Tensor(\n",
      "[[ 6  8]\n",
      " [10 12]], shape=(2, 2), dtype=int32)\n",
      "tf.Tensor(\n",
      "[[ 5 12]\n",
      " [21 32]], shape=(2, 2), dtype=int32)\n",
      "tf.Tensor(\n",
      "[[-4 -4]\n",
      " [-4 -4]], shape=(2, 2), dtype=int32)\n",
      "tf.Tensor(\n",
      "[[0.2        0.33333333]\n",
      " [0.42857143 0.5       ]], shape=(2, 2), dtype=float64)\n"
     ]
    }
   ],
   "execution_count": 3
  },
  {
   "metadata": {
    "ExecuteTime": {
     "end_time": "2025-02-13T16:01:42.534306Z",
     "start_time": "2025-02-13T16:01:42.527916Z"
    }
   },
   "cell_type": "code",
   "source": [
    "# checking tensorflow properties\n",
    "tensor = tf.constant([[1, 2], [3, 4]])\n",
    "\n",
    "print(\"Shape:\", tensor.shape)       # (2, 2)\n",
    "print(\"Rank:\", tf.rank(tensor))     # 2\n",
    "print(\"Data Type:\", tensor.dtype)   # int32\n",
    "\n"
   ],
   "id": "37e380e76990a5ad",
   "outputs": [
    {
     "name": "stdout",
     "output_type": "stream",
     "text": [
      "Shape: (2, 2)\n",
      "Rank: tf.Tensor(2, shape=(), dtype=int32)\n",
      "Data Type: <dtype: 'int32'>\n"
     ]
    }
   ],
   "execution_count": 4
  },
  {
   "metadata": {
    "ExecuteTime": {
     "end_time": "2025-02-13T16:01:42.593747Z",
     "start_time": "2025-02-13T16:01:42.575214Z"
    }
   },
   "cell_type": "code",
   "source": [
    "# using tensorflow functions\n",
    "zeros = tf.zeros([3, 3])  # 3x3 matrix of zeros\n",
    "ones = tf.ones([3, 3])    # 3x3 matrix of ones\n",
    "random = tf.random.normal([3, 3], mean=2, stddev=1)  # Random normal distribution\n",
    "print(random)\n",
    "# reshaping tensors\n",
    "tensor = tf.constant([[1, 2], [3, 4], [5, 6]])\n",
    "reshaped = tf.reshape(tensor, (2, 3))\n",
    "print(\"Original Shape:\", tensor.shape)\n",
    "print(\"Reshaped Tensor:\\n\", reshaped)\n",
    "\n"
   ],
   "id": "720f2f31ba4df6",
   "outputs": [
    {
     "name": "stdout",
     "output_type": "stream",
     "text": [
      "tf.Tensor(\n",
      "[[1.4864663  0.98147845 3.3993487 ]\n",
      " [0.8864405  2.0278614  2.8663723 ]\n",
      " [1.2491539  1.7737402  2.126346  ]], shape=(3, 3), dtype=float32)\n",
      "Original Shape: (3, 2)\n",
      "Reshaped Tensor:\n",
      " tf.Tensor(\n",
      "[[1 2 3]\n",
      " [4 5 6]], shape=(2, 3), dtype=int32)\n"
     ]
    }
   ],
   "execution_count": 5
  },
  {
   "metadata": {
    "ExecuteTime": {
     "end_time": "2025-02-13T16:01:42.625815Z",
     "start_time": "2025-02-13T16:01:42.617274Z"
    }
   },
   "cell_type": "code",
   "source": [
    "# converting numpy to tensorflow\n",
    "import numpy as np\n",
    "array = np.array([1, 2, 3])\n",
    "tensor = tf.convert_to_tensor(array)\n",
    "print(tensor)\n"
   ],
   "id": "b2970e84f385242b",
   "outputs": [
    {
     "name": "stdout",
     "output_type": "stream",
     "text": [
      "tf.Tensor([1 2 3], shape=(3,), dtype=int64)\n"
     ]
    }
   ],
   "execution_count": 6
  },
  {
   "metadata": {
    "ExecuteTime": {
     "end_time": "2025-02-13T16:01:42.655781Z",
     "start_time": "2025-02-13T16:01:42.648742Z"
    }
   },
   "cell_type": "code",
   "source": [
    "# Broadcasting: TensorFlow automatically expands tensors with smaller dimensions to match larger ones during operations.\n",
    "x = tf.constant([[1, 2, 3]])\n",
    "y = tf.constant([[1], [2], [3]])\n",
    "result = tf.add(x, y)  # Broadcasts y to match x\n",
    "print(\"Broadcast Result:\\n\", result)\n"
   ],
   "id": "4470f530b88bf8ec",
   "outputs": [
    {
     "name": "stdout",
     "output_type": "stream",
     "text": [
      "Broadcast Result:\n",
      " tf.Tensor(\n",
      "[[2 3 4]\n",
      " [3 4 5]\n",
      " [4 5 6]], shape=(3, 3), dtype=int32)\n"
     ]
    }
   ],
   "execution_count": 7
  },
  {
   "metadata": {
    "ExecuteTime": {
     "end_time": "2025-02-13T16:01:42.692155Z",
     "start_time": "2025-02-13T16:01:42.687131Z"
    }
   },
   "cell_type": "code",
   "source": [
    "tensor = tf.constant([1, 2, 3])\n",
    "print(\"Device:\", tensor.device)  # Shows where the tensor is stored\n"
   ],
   "id": "8666665170ae0392",
   "outputs": [
    {
     "name": "stdout",
     "output_type": "stream",
     "text": [
      "Device: /job:localhost/replica:0/task:0/device:CPU:0\n"
     ]
    }
   ],
   "execution_count": 8
  },
  {
   "metadata": {
    "ExecuteTime": {
     "end_time": "2025-02-13T16:01:42.736552Z",
     "start_time": "2025-02-13T16:01:42.723767Z"
    }
   },
   "cell_type": "code",
   "source": [
    "# tensorflow variables\n",
    "var = tf.Variable([1.0, 2.0, 3.0])\n",
    "print(var)\n",
    "var.assign([4.0, 5.0, 6.0])  # Assign new values\n",
    "print(var)\n"
   ],
   "id": "a1774227a6da84d4",
   "outputs": [
    {
     "name": "stdout",
     "output_type": "stream",
     "text": [
      "<tf.Variable 'Variable:0' shape=(3,) dtype=float32, numpy=array([1., 2., 3.], dtype=float32)>\n",
      "<tf.Variable 'Variable:0' shape=(3,) dtype=float32, numpy=array([4., 5., 6.], dtype=float32)>\n"
     ]
    }
   ],
   "execution_count": 9
  },
  {
   "metadata": {
    "ExecuteTime": {
     "end_time": "2025-02-13T16:01:43.722950Z",
     "start_time": "2025-02-13T16:01:42.766964Z"
    }
   },
   "cell_type": "code",
   "source": [
    "# loading in a dataset and preprocessing\n",
    "# Load the dataset\n",
    "(train_images, train_labels), (test_images, test_labels) = tf.keras.datasets.fashion_mnist.load_data()\n",
    "\n",
    "# Normalize the images\n",
    "train_images = train_images / 255.0\n",
    "test_images = test_images / 255.0\n",
    "train_images = train_images[..., tf.newaxis]  # Add a channel dimension for grayscale images\n",
    "test_images = test_images[..., tf.newaxis]\n",
    "train_dataset = tf.data.Dataset.from_tensor_slices((train_images, train_labels))\n",
    "train_dataset = train_dataset.shuffle(buffer_size=10000).batch(32)\n",
    "train_dataset = train_dataset.batch(32)\n",
    "test_dataset = tf.data.Dataset.from_tensor_slices((test_images, test_labels)).batch(32)\n",
    "\n",
    "\n"
   ],
   "id": "88d36711dc9d0f1e",
   "outputs": [],
   "execution_count": 10
  },
  {
   "metadata": {
    "ExecuteTime": {
     "end_time": "2025-02-13T16:02:14.530593Z",
     "start_time": "2025-02-13T16:01:43.741904Z"
    }
   },
   "cell_type": "code",
   "source": [
    "    #building a model\n",
    "# Build the model\n",
    "model = tf.keras.Sequential([\n",
    "    tf.keras.layers.Flatten(input_shape=(28, 28)),\n",
    "    tf.keras.layers.Dense(128, activation='relu'),\n",
    "    tf.keras.layers.Dense(10, activation='softmax')\n",
    "])\n",
    "\n",
    "# Compile the model\n",
    "model.compile(optimizer='adam',\n",
    "              loss='sparse_categorical_crossentropy',\n",
    "              metrics=['accuracy'])\n",
    "\n",
    "# Debug shapes\n",
    "print(\"Train images shape:\", train_images.shape)  # (60000, 28, 28)\n",
    "print(\"Train labels shape:\", train_labels.shape)  # (60000,)\n",
    "\n",
    "# Train the model with batch size 32\n",
    "model.fit(train_images, train_labels, epochs=10, batch_size=32)\n",
    "\n"
   ],
   "id": "42dbfd615410668b",
   "outputs": [
    {
     "name": "stdout",
     "output_type": "stream",
     "text": [
      "Train images shape: (60000, 28, 28, 1)\n",
      "Train labels shape: (60000,)\n",
      "Epoch 1/10\n",
      "1875/1875 [==============================] - 3s 2ms/step - loss: 0.5025 - accuracy: 0.8237\n",
      "Epoch 2/10\n",
      "1875/1875 [==============================] - 3s 1ms/step - loss: 0.3736 - accuracy: 0.8646\n",
      "Epoch 3/10\n",
      "1875/1875 [==============================] - 3s 1ms/step - loss: 0.3388 - accuracy: 0.8770\n",
      "Epoch 4/10\n",
      "1875/1875 [==============================] - 3s 2ms/step - loss: 0.3123 - accuracy: 0.8862\n",
      "Epoch 5/10\n",
      "1875/1875 [==============================] - 3s 2ms/step - loss: 0.2946 - accuracy: 0.8918\n",
      "Epoch 6/10\n",
      "1875/1875 [==============================] - 3s 2ms/step - loss: 0.2799 - accuracy: 0.8968\n",
      "Epoch 7/10\n",
      "1875/1875 [==============================] - 3s 2ms/step - loss: 0.2677 - accuracy: 0.9003\n",
      "Epoch 8/10\n",
      "1875/1875 [==============================] - 3s 2ms/step - loss: 0.2585 - accuracy: 0.9033\n",
      "Epoch 9/10\n",
      "1875/1875 [==============================] - 3s 2ms/step - loss: 0.2477 - accuracy: 0.9073\n",
      "Epoch 10/10\n",
      "1875/1875 [==============================] - 3s 2ms/step - loss: 0.2387 - accuracy: 0.9122\n"
     ]
    },
    {
     "data": {
      "text/plain": [
       "<keras.src.callbacks.History at 0x143209cd0>"
      ]
     },
     "execution_count": 11,
     "metadata": {},
     "output_type": "execute_result"
    }
   ],
   "execution_count": 11
  },
  {
   "metadata": {
    "ExecuteTime": {
     "end_time": "2025-02-13T16:02:15.048376Z",
     "start_time": "2025-02-13T16:02:14.562839Z"
    }
   },
   "cell_type": "code",
   "source": [
    "# evaluate the model\n",
    "test_loss, test_acc = model.evaluate(test_images, test_labels, verbose=2)\n",
    "print(f'\\nTest accuracy: {test_acc}')\n"
   ],
   "id": "ab84857a8c3fb724",
   "outputs": [
    {
     "name": "stdout",
     "output_type": "stream",
     "text": [
      "313/313 - 0s - loss: 0.3526 - accuracy: 0.8795 - 358ms/epoch - 1ms/step\n",
      "\n",
      "Test accuracy: 0.8794999718666077\n"
     ]
    }
   ],
   "execution_count": 12
  },
  {
   "metadata": {
    "ExecuteTime": {
     "end_time": "2025-02-13T16:02:15.169159Z",
     "start_time": "2025-02-13T16:02:15.065272Z"
    }
   },
   "cell_type": "code",
   "source": [
    "# saving and loading a model\n",
    "model.save('my_model.keras')  # Save the entire model\n",
    "loaded_model = tf.keras.models.load_model('my_model.keras')  # Load it back\n",
    "print(\"Available keys:\", model.history.history.keys())\n"
   ],
   "id": "a6371abfead53d66",
   "outputs": [
    {
     "name": "stdout",
     "output_type": "stream",
     "text": [
      "Available keys: dict_keys([])\n"
     ]
    }
   ],
   "execution_count": 13
  }
 ],
 "metadata": {
  "kernelspec": {
   "display_name": "Python 3",
   "language": "python",
   "name": "python3"
  },
  "language_info": {
   "codemirror_mode": {
    "name": "ipython",
    "version": 2
   },
   "file_extension": ".py",
   "mimetype": "text/x-python",
   "name": "python",
   "nbconvert_exporter": "python",
   "pygments_lexer": "ipython2",
   "version": "2.7.6"
  }
 },
 "nbformat": 4,
 "nbformat_minor": 5
}
