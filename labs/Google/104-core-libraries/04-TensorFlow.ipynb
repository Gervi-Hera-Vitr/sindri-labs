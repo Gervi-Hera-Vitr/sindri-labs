{
 "cells": [
  {
   "metadata": {},
   "cell_type": "raw",
   "source": [
    "\n",
    "    ## Captains Tensorflow and Keras Journey\n",
    "\n",
    "TensorFlow Learning:https://www.tensorflow.org/\n",
    "\n",
    "TensorFlow Glossary:https://developers.google.com/machine-learning/glossary#tensorflow\n",
    "\n",
    "Keras Learning: https://keras.io/\n",
    "\n",
    "Keras Glossary:https://developers.google.com/machine-learning/glossary#keras\n",
    "\n",
    "Now here is my understanding of TensorFlow And Keras:"
   ],
   "id": "e58a21f97de54af9"
  },
  {
   "metadata": {
    "collapsed": true
   },
   "cell_type": "code",
   "source": [
    "# Basics of TensorFlow and Keras:\n",
    "# setting up TensorFlow\n",
    "import numpy\n",
    "import tensorflow as tf\n",
    "\n",
    "print(tf.__version__)\n",
    "print(numpy.__version__)"
   ],
   "id": "initial_id",
   "outputs": [],
   "execution_count": null
  },
  {
   "metadata": {},
   "cell_type": "code",
   "source": [
    "# Create a tensor which is an array\n",
    "tensor = tf.constant([[1, 2], [3, 4]])\n",
    "print(tensor)\n",
    "# tensorflow Variables can be changed or updated unlike constants\n",
    "var = tf.Variable([1, 2, 3])\n",
    "print(\"Before update:\", var.numpy())\n",
    "\n",
    "# Update the variable\n",
    "var.assign([4, 5, 6])\n",
    "print(\"After update:\", var.numpy())\n"
   ],
   "id": "e7b0be8cdf39e0c9",
   "outputs": [],
   "execution_count": null
  },
  {
   "metadata": {},
   "cell_type": "code",
   "source": [
    "# tensor math and manipulation\n",
    "a = tf.constant([[1, 2], [3, 4]])\n",
    "b = tf.constant([[5, 6], [7, 8]])\n",
    "\n",
    "c = tf.add(a, b)\n",
    "print(c)\n",
    "d = tf.multiply(a, b)\n",
    "print(d)\n",
    "e = tf.subtract(a, b)\n",
    "print(e)\n",
    "f = tf.divide(a, b)\n",
    "print(f)"
   ],
   "id": "a1c7744a571278ee",
   "outputs": [],
   "execution_count": null
  },
  {
   "metadata": {},
   "cell_type": "code",
   "source": [
    "# checking tensorflow properties\n",
    "tensor = tf.constant([[1, 2], [3, 4]])\n",
    "\n",
    "print(\"Shape:\", tensor.shape)  # (2, 2)\n",
    "print(\"Rank:\", tf.rank(tensor))  # 2\n",
    "print(\"Data Type:\", tensor.dtype)  # int32\n",
    "\n"
   ],
   "id": "37e380e76990a5ad",
   "outputs": [],
   "execution_count": null
  },
  {
   "metadata": {},
   "cell_type": "code",
   "source": [
    "# using tensorflow functions\n",
    "zeros = tf.zeros([3, 3])  # 3x3 matrix of zeros\n",
    "ones = tf.ones([3, 3])  # 3x3 matrix of ones\n",
    "random = tf.random.normal([3, 3], mean=2, stddev=1)  # Random normal distribution\n",
    "print(random)\n",
    "# reshaping tensors\n",
    "tensor = tf.constant([[1, 2], [3, 4], [5, 6]])\n",
    "reshaped = tf.reshape(tensor, (2, 3))\n",
    "print(\"Original Shape:\", tensor.shape)\n",
    "print(\"Reshaped Tensor:\\n\", reshaped)\n",
    "\n"
   ],
   "id": "720f2f31ba4df6",
   "outputs": [],
   "execution_count": null
  },
  {
   "metadata": {},
   "cell_type": "code",
   "source": [
    "# converting numpy to tensorflow\n",
    "import numpy as np\n",
    "\n",
    "array = np.array([1, 2, 3])\n",
    "tensor = tf.convert_to_tensor(array)\n",
    "print(tensor)\n"
   ],
   "id": "b2970e84f385242b",
   "outputs": [],
   "execution_count": null
  },
  {
   "metadata": {},
   "cell_type": "code",
   "source": [
    "# Broadcasting: TensorFlow automatically expands tensors with smaller dimensions to match larger ones during operations.\n",
    "x = tf.constant([[1, 2, 3]])\n",
    "y = tf.constant([[1], [2], [3]])\n",
    "result = tf.add(x, y)  # Broadcasts y to match x\n",
    "print(\"Broadcast Result:\\n\", result)\n"
   ],
   "id": "4470f530b88bf8ec",
   "outputs": [],
   "execution_count": null
  },
  {
   "metadata": {},
   "cell_type": "code",
   "source": [
    "tensor = tf.constant([1, 2, 3])\n",
    "print(\"Device:\", tensor.device)  # Shows where the tensor is stored\n"
   ],
   "id": "8666665170ae0392",
   "outputs": [],
   "execution_count": null
  },
  {
   "metadata": {},
   "cell_type": "code",
   "source": [
    "# tensorflow variables\n",
    "var = tf.Variable([1.0, 2.0, 3.0])\n",
    "print(var)\n",
    "var.assign([4.0, 5.0, 6.0])  # Assign new values\n",
    "print(var)\n"
   ],
   "id": "a1774227a6da84d4",
   "outputs": [],
   "execution_count": null
  },
  {
   "metadata": {},
   "cell_type": "code",
   "source": [
    "# loading in a dataset and preprocessing\n",
    "# Load the dataset\n",
    "(train_images, train_labels), (test_images, test_labels) = tf.keras.datasets.fashion_mnist.load_data()\n",
    "\n",
    "# Normalize the images\n",
    "train_images = train_images / 255.0\n",
    "test_images = test_images / 255.0\n",
    "train_images = train_images[..., tf.newaxis]  # Add a channel dimension for grayscale images\n",
    "test_images = test_images[..., tf.newaxis]\n",
    "train_dataset = tf.data.Dataset.from_tensor_slices((train_images, train_labels))\n",
    "train_dataset = train_dataset.shuffle(buffer_size=10000).batch(32)\n",
    "train_dataset = train_dataset.batch(32)\n",
    "test_dataset = tf.data.Dataset.from_tensor_slices((test_images, test_labels)).batch(32)\n",
    "\n",
    "\n"
   ],
   "id": "88d36711dc9d0f1e",
   "outputs": [],
   "execution_count": null
  },
  {
   "metadata": {},
   "cell_type": "code",
   "source": [
    "    #building a model\n",
    "# Build the model\n",
    "# noinspection PyUnresolvedReferences\n",
    "model = tf.keras.Sequential([\n",
    "    tf.keras.layers.Flatten(input_shape=(28, 28)),\n",
    "    tf.keras.layers.Dense(128, activation='relu'),\n",
    "    tf.keras.layers.Dense(10, activation='softmax')\n",
    "])\n",
    "\n",
    "# Compile the model\n",
    "model.compile(optimizer='adam',\n",
    "              loss='sparse_categorical_crossentropy',\n",
    "              metrics=['accuracy'])\n",
    "\n",
    "# Debug shapes\n",
    "print(\"Train images shape:\", train_images.shape)  # (60000, 28, 28)\n",
    "print(\"Train labels shape:\", train_labels.shape)  # (60000,)\n",
    "\n",
    "# Train the model with batch size 32\n",
    "model.fit(train_images, train_labels, epochs=10, batch_size=32)\n",
    "\n"
   ],
   "id": "42dbfd615410668b",
   "outputs": [],
   "execution_count": null
  },
  {
   "metadata": {},
   "cell_type": "code",
   "source": [
    "# evaluate the model\n",
    "test_loss, test_acc = model.evaluate(test_images, test_labels, verbose=2)\n",
    "print(f'\\nTest accuracy: {test_acc}')\n"
   ],
   "id": "ab84857a8c3fb724",
   "outputs": [],
   "execution_count": null
  },
  {
   "metadata": {},
   "cell_type": "code",
   "source": [
    "import os\n",
    "import shutil\n",
    "\n",
    "dataFolderPath = \"resources/data\"\n",
    "dataFileName = \"04-tensorflow-model.keras\"\n",
    "dataFilePath = f\"{dataFolderPath}/{dataFileName}\"\n",
    "\n",
    "# saving and loading a model\n",
    "\n",
    "\n",
    "try:\n",
    "    shutil.rmtree(dataFolderPath)\n",
    "    print(f\"Folder '{dataFolderPath}' deleted successfully.\")\n",
    "except FileNotFoundError:\n",
    "    print(f\"Folder '{dataFolderPath}' does not exist.\")\n",
    "except Exception as e:\n",
    "    print(f\"Oops! An error occurred: {e}\")\n",
    "\n",
    "if not os.path.exists(dataFolderPath):\n",
    "    os.makedirs(dataFolderPath)\n",
    "    print(f\"Folder '{dataFolderPath}' created successfully.\")\n",
    "else:\n",
    "    print(f\"Folder '{dataFolderPath}' already exists.\")\n",
    "\n",
    "model.save(dataFilePath)  # Save the entire model\n",
    "\n",
    "dataFolderContents = os.listdir(dataFolderPath)\n",
    "print(f\"Contents of the model history: '{dataFolderContents}'\")\n",
    "\n",
    "# noinspection PyUnresolvedReferences\n",
    "loaded_model = tf.keras.models.load_model(dataFilePath)  # Load it back\n",
    "print(\"Available keys:\", model.history.history.keys())\n",
    "\n",
    "shutil.rmtree(dataFolderPath)\n"
   ],
   "id": "a6371abfead53d66",
   "outputs": [],
   "execution_count": null
  }
 ],
 "metadata": {
  "kernelspec": {
   "display_name": "Python 3",
   "language": "python",
   "name": "python3"
  },
  "language_info": {
   "codemirror_mode": {
    "name": "ipython",
    "version": 2
   },
   "file_extension": ".py",
   "mimetype": "text/x-python",
   "name": "python",
   "nbconvert_exporter": "python",
   "pygments_lexer": "ipython2",
   "version": "2.7.6"
  }
 },
 "nbformat": 4,
 "nbformat_minor": 5
}
