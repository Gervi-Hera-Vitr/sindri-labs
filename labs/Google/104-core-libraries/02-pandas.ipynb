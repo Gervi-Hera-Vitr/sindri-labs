{
 "cells": [
  {
   "metadata": {},
   "cell_type": "markdown",
   "source": [
    "## Captains Pandas Journey\n",
    "Pandas Learning: https://pandas.pydata.org/docs/getting_started/index.html#getting-started\n",
    "\n",
    "Pandas Glossary: https://developers.google.com/machine-learning/glossary/#pandas\n",
    "\n",
    "Now here is my understanding of pandas:"
   ],
   "id": "13d3d06528c3ac47"
  },
  {
   "metadata": {
    "collapsed": true,
    "ExecuteTime": {
     "end_time": "2024-12-24T12:40:30.494362Z",
     "start_time": "2024-12-24T12:40:30.488809Z"
    }
   },
   "cell_type": "code",
   "source": [
    "# imports\n",
    "\n",
    "import pandas as pd\n",
    "import numpy as np\n",
    "import matplotlib as plt\n",
    "\n",
    "# pandas 1d array\n",
    "array1 = pd.Series([10,20,30,40])\n",
    "print(array1)\n",
    "\n",
    "\n",
    "# first data piece of array1  accessed\n",
    "a = array1[0]\n",
    "print(a)\n",
    "\n",
    "# Another way to access data\n",
    "print(array1[0])"
   ],
   "id": "initial_id",
   "outputs": [
    {
     "name": "stdout",
     "output_type": "stream",
     "text": [
      "0    10\n",
      "1    20\n",
      "2    30\n",
      "3    40\n",
      "dtype: int64\n",
      "10\n",
      "10\n"
     ]
    }
   ],
   "execution_count": 36
  },
  {
   "metadata": {
    "ExecuteTime": {
     "end_time": "2024-12-24T12:40:30.650778Z",
     "start_time": "2024-12-24T12:40:30.604716Z"
    }
   },
   "cell_type": "code",
   "source": [
    "# now we are creating a dataframe with pandas only\n",
    "# data\n",
    "data = {\n",
    "    'Name':[\"Bob\" , \"Jim\", \"Wanda\", \"Mary\", \"Josh\", \"Anton\"],\n",
    "    'Salary':[50000, 190000, 80000, 97000, 112000, 1200000 ],\n",
    "    'Age':[21 ,54, 32, 34, 67, 23],\n",
    "    'Profession':[\"construction worker\", \"engineer\", \"IT Service\", \"Manager\", \"Game Dev\", \"AI Dev\"]\n",
    "\n",
    "\n",
    "}\n",
    "# putting data into a dataframe\n",
    "# Salary Data Frame\n",
    "SDF = pd.DataFrame(data=data)\n",
    "#prints first 5 rows\n",
    "print(SDF.head())\n",
    "# prints info\n",
    "print(SDF.info)\n",
    "# prints last 5 rows\n",
    "print(SDF.tail())\n",
    "# prints statistics of the Dataframe\n",
    "print(SDF.describe())\n",
    "# prints shape of the dataframe\n",
    "print(SDF.shape)\n",
    "#prints the dataframes columns\n",
    "print(SDF.columns)\n",
    "# prints a single column as a series\n",
    "\n"
   ],
   "id": "9aaa996df01fafb7",
   "outputs": [
    {
     "name": "stdout",
     "output_type": "stream",
     "text": [
      "    Name  Salary  Age           Profession\n",
      "0    Bob   50000   21  construction worker\n",
      "1    Jim  190000   54             engineer\n",
      "2  Wanda   80000   32           IT Service\n",
      "3   Mary   97000   34              Manager\n",
      "4   Josh  112000   67             Game Dev\n",
      "<bound method DataFrame.info of     Name   Salary  Age           Profession\n",
      "0    Bob    50000   21  construction worker\n",
      "1    Jim   190000   54             engineer\n",
      "2  Wanda    80000   32           IT Service\n",
      "3   Mary    97000   34              Manager\n",
      "4   Josh   112000   67             Game Dev\n",
      "5  Anton  1200000   23               AI Dev>\n",
      "    Name   Salary  Age  Profession\n",
      "1    Jim   190000   54    engineer\n",
      "2  Wanda    80000   32  IT Service\n",
      "3   Mary    97000   34     Manager\n",
      "4   Josh   112000   67    Game Dev\n",
      "5  Anton  1200000   23      AI Dev\n",
      "             Salary        Age\n",
      "count  6.000000e+00   6.000000\n",
      "mean   2.881667e+05  38.500000\n",
      "std    4.491576e+05  18.229098\n",
      "min    5.000000e+04  21.000000\n",
      "25%    8.425000e+04  25.250000\n",
      "50%    1.045000e+05  33.000000\n",
      "75%    1.705000e+05  49.000000\n",
      "max    1.200000e+06  67.000000\n",
      "(6, 4)\n",
      "Index(['Name', 'Salary', 'Age', 'Profession'], dtype='object')\n"
     ]
    }
   ],
   "execution_count": 37
  },
  {
   "metadata": {
    "ExecuteTime": {
     "end_time": "2024-12-24T12:40:30.821994Z",
     "start_time": "2024-12-24T12:40:30.753004Z"
    }
   },
   "cell_type": "code",
   "source": [
    "print(SDF['Name'])\n",
    "# prints multiple columns as series\n",
    "print(SDF[['Name', 'Age']])\n",
    "# Prints first row (by index)\n",
    "print(SDF.iloc[0])\n",
    "# Prints first row (by label)\n",
    "print(SDF.loc[0])\n",
    "# Creating a filter that keeps everyone whose age is above 30\n",
    "filtered_df = SDF[SDF['Age'] > 30]\n",
    "print(filtered_df)\n",
    "\n",
    "\n",
    "#Adds Bonus Column\n",
    "SDF['Bonus'] = SDF['Salary'] * 0.1\n",
    "#updates value\n",
    "SDF.loc[0, 'Age'] = 31  # Update Bob's age\n",
    "\n",
    "print(SDF)\n",
    "# Remove Bonus\n",
    "SDF = SDF.drop('Bonus', axis=1)\n",
    "print(SDF)\n",
    "#checks if there is a null\n",
    "print(SDF.isnull().sum())\n",
    "# fill in any nulls in age with the mean\n",
    "SDF['Age'] = SDF['Age'].fillna(SDF['Age'].mean())\n",
    "#Drops Any Missing Rows\n",
    "SDF = SDF.dropna()\n",
    "\n",
    "\n"
   ],
   "id": "e38886079f9f6c89",
   "outputs": [
    {
     "name": "stdout",
     "output_type": "stream",
     "text": [
      "0      Bob\n",
      "1      Jim\n",
      "2    Wanda\n",
      "3     Mary\n",
      "4     Josh\n",
      "5    Anton\n",
      "Name: Name, dtype: object\n",
      "    Name  Age\n",
      "0    Bob   21\n",
      "1    Jim   54\n",
      "2  Wanda   32\n",
      "3   Mary   34\n",
      "4   Josh   67\n",
      "5  Anton   23\n",
      "Name                          Bob\n",
      "Salary                      50000\n",
      "Age                            21\n",
      "Profession    construction worker\n",
      "Name: 0, dtype: object\n",
      "Name                          Bob\n",
      "Salary                      50000\n",
      "Age                            21\n",
      "Profession    construction worker\n",
      "Name: 0, dtype: object\n",
      "    Name  Salary  Age  Profession\n",
      "1    Jim  190000   54    engineer\n",
      "2  Wanda   80000   32  IT Service\n",
      "3   Mary   97000   34     Manager\n",
      "4   Josh  112000   67    Game Dev\n",
      "    Name   Salary  Age           Profession     Bonus\n",
      "0    Bob    50000   31  construction worker    5000.0\n",
      "1    Jim   190000   54             engineer   19000.0\n",
      "2  Wanda    80000   32           IT Service    8000.0\n",
      "3   Mary    97000   34              Manager    9700.0\n",
      "4   Josh   112000   67             Game Dev   11200.0\n",
      "5  Anton  1200000   23               AI Dev  120000.0\n",
      "    Name   Salary  Age           Profession\n",
      "0    Bob    50000   31  construction worker\n",
      "1    Jim   190000   54             engineer\n",
      "2  Wanda    80000   32           IT Service\n",
      "3   Mary    97000   34              Manager\n",
      "4   Josh   112000   67             Game Dev\n",
      "5  Anton  1200000   23               AI Dev\n",
      "Name          0\n",
      "Salary        0\n",
      "Age           0\n",
      "Profession    0\n",
      "dtype: int64\n"
     ]
    }
   ],
   "execution_count": 38
  },
  {
   "metadata": {
    "ExecuteTime": {
     "end_time": "2024-12-24T12:51:59.259726Z",
     "start_time": "2024-12-24T12:51:59.210668Z"
    }
   },
   "cell_type": "code",
   "source": [
    "# Prints Average salary\n",
    "print(SDF['Salary'].mean())\n",
    "# Prints the Sum of the ages\n",
    "print(SDF['Age'].sum())\n",
    "#groups up the age and salary mean together\n",
    "grouped = SDF.groupby('Age')['Salary'].mean()\n",
    "print(grouped)\n",
    "# Sorts the Columns by Salary In a Descending Fashion\n",
    "sorted_df = SDF.sort_values('Salary', ascending=False)\n",
    "print(sorted_df)\n",
    "#creating 2 dataframes and then merging them\n",
    "df1 = pd.DataFrame({'ID': [1, 2], 'Name': ['Alice', 'Bob']})\n",
    "df2 = pd.DataFrame({'ID': [1, 2], 'Score': [85, 90]})\n",
    "merged_df = pd.merge(df1, df2, on='ID')\n",
    "print(merged_df)\n",
    "#puts 2 dataframes side by side\n",
    "df_concat = pd.concat([df1, df2], axis=1)  # Side by side\n",
    "print(df_concat)\n",
    "# Applying functions to Dataframes\n",
    "# Creating a new column that has the values of Salary multiplied by 1.1\n",
    "SDF['Updated Salary'] = SDF['Salary'].apply(lambda x: x * 1.1)\n",
    "print(SDF)\n",
    "\n",
    "\n",
    "\n",
    "\n"
   ],
   "id": "f603ef3910572136",
   "outputs": [
    {
     "name": "stdout",
     "output_type": "stream",
     "text": [
      "288166.6666666667\n",
      "241\n",
      "Age\n",
      "23    1200000.0\n",
      "31      50000.0\n",
      "32      80000.0\n",
      "34      97000.0\n",
      "54     190000.0\n",
      "67     112000.0\n",
      "Name: Salary, dtype: float64\n",
      "    Name   Salary  Age           Profession  New_Column\n",
      "5  Anton  1200000   23               AI Dev   1320000.0\n",
      "1    Jim   190000   54             engineer    209000.0\n",
      "4   Josh   112000   67             Game Dev    123200.0\n",
      "3   Mary    97000   34              Manager    106700.0\n",
      "2  Wanda    80000   32           IT Service     88000.0\n",
      "0    Bob    50000   31  construction worker     55000.0\n",
      "   ID   Name  Score\n",
      "0   1  Alice     85\n",
      "1   2    Bob     90\n",
      "   ID   Name  ID  Score\n",
      "0   1  Alice   1     85\n",
      "1   2    Bob   2     90\n",
      "    Name   Salary  Age           Profession  New_Column  Updated Salary\n",
      "0    Bob    50000   31  construction worker     55000.0         55000.0\n",
      "1    Jim   190000   54             engineer    209000.0        209000.0\n",
      "2  Wanda    80000   32           IT Service     88000.0         88000.0\n",
      "3   Mary    97000   34              Manager    106700.0        106700.0\n",
      "4   Josh   112000   67             Game Dev    123200.0        123200.0\n",
      "5  Anton  1200000   23               AI Dev   1320000.0       1320000.0\n"
     ]
    }
   ],
   "execution_count": 46
  },
  {
   "metadata": {},
   "cell_type": "markdown",
   "source": "And That is my basic understanding of Pandas!",
   "id": "910e211f35c2773e"
  }
 ],
 "metadata": {
  "kernelspec": {
   "display_name": "Python 3",
   "language": "python",
   "name": "python3"
  },
  "language_info": {
   "codemirror_mode": {
    "name": "ipython",
    "version": 2
   },
   "file_extension": ".py",
   "mimetype": "text/x-python",
   "name": "python",
   "nbconvert_exporter": "python",
   "pygments_lexer": "ipython2",
   "version": "2.7.6"
  }
 },
 "nbformat": 4,
 "nbformat_minor": 5
}
