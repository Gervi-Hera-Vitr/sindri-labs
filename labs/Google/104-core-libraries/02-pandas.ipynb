{
 "cells": [
  {
   "metadata": {},
   "cell_type": "markdown",
   "source": [
    "## Captains Pandas Journey\n",
    "Pandas Learning: https://pandas.pydata.org/docs/getting_started/index.html#getting-started\n",
    "\n",
    "Pandas Glossary: https://developers.google.com/machine-learning/glossary/#pandas\n",
    "\n",
    "Now here is my understanding of pandas:"
   ],
   "id": "13d3d06528c3ac47"
  },
  {
   "metadata": {
    "collapsed": true
   },
   "cell_type": "code",
   "source": [
    "# imports\n",
    "\n",
    "import pandas as pd\n",
    "\n",
    "\n",
    "# pandas 1d array\n",
    "array1 = pd.Series([10,20,30,40])\n",
    "print(array1)\n",
    "\n",
    "\n",
    "# first data piece of array1  accessed\n",
    "a = array1[0]\n",
    "print(a)\n",
    "\n",
    "# Another way to access data\n",
    "print(array1[0])"
   ],
   "id": "initial_id",
   "outputs": [],
   "execution_count": null
  },
  {
   "metadata": {},
   "cell_type": "code",
   "source": [
    "# now we are creating a dataframe with pandas only\n",
    "# data\n",
    "data = {\n",
    "    'Name':[\"Bob\" , \"Jim\", \"Wanda\", \"Mary\", \"Josh\", \"Anton\"],\n",
    "    'Salary':[50000, 190000, 80000, 97000, 112000, 1200000 ],\n",
    "    'Age':[21 ,54, 32, 34, 67, 23],\n",
    "    'Profession':[\"construction worker\", \"engineer\", \"IT Service\", \"Manager\", \"Game Dev\", \"AI Dev\"]\n",
    "\n",
    "\n",
    "}\n",
    "# putting data into a dataframe\n",
    "# Salary Data Frame\n",
    "SDF = pd.DataFrame(data=data)\n",
    "#prints first 5 rows\n",
    "print(SDF.head())\n",
    "# prints info\n",
    "print(SDF.info)\n",
    "# prints last 5 rows\n",
    "print(SDF.tail())\n",
    "# prints statistics of the Dataframe\n",
    "print(SDF.describe())\n",
    "# prints shape of the dataframe\n",
    "print(SDF.shape)\n",
    "#prints the dataframes columns\n",
    "print(SDF.columns)\n",
    "# prints a single column as a series\n",
    "\n"
   ],
   "id": "9aaa996df01fafb7",
   "outputs": [],
   "execution_count": null
  },
  {
   "metadata": {},
   "cell_type": "code",
   "source": [
    "print(SDF['Name'])\n",
    "# prints multiple columns as series\n",
    "print(SDF[['Name', 'Age']])\n",
    "# Prints first row (by index)\n",
    "print(SDF.iloc[0])\n",
    "# Prints first row (by label)\n",
    "print(SDF.loc[0])\n",
    "# Creating a filter that keeps everyone whose age is above 30\n",
    "filtered_df = SDF[SDF['Age'] > 30]\n",
    "print(filtered_df)\n",
    "\n",
    "\n",
    "#Adds Bonus Column\n",
    "SDF['Bonus'] = SDF['Salary'] * 0.1\n",
    "#updates value\n",
    "SDF.loc[0, 'Age'] = 31  # Update Bob's age\n",
    "\n",
    "print(SDF)\n",
    "# Remove Bonus\n",
    "SDF = SDF.drop('Bonus', axis=1)\n",
    "print(SDF)\n",
    "#checks if there is a null\n",
    "print(SDF.isnull().sum())\n",
    "# fill in any nulls in age with the mean\n",
    "SDF['Age'] = SDF['Age'].fillna(SDF['Age'].mean())\n",
    "#Drops Any Missing Rows\n",
    "SDF = SDF.dropna()\n",
    "\n",
    "\n"
   ],
   "id": "e38886079f9f6c89",
   "outputs": [],
   "execution_count": null
  },
  {
   "metadata": {},
   "cell_type": "code",
   "source": [
    "# Prints Average salary\n",
    "print(SDF['Salary'].mean())\n",
    "# Prints the Sum of the ages\n",
    "print(SDF['Age'].sum())\n",
    "#groups up the age and salary mean together\n",
    "grouped = SDF.groupby('Age')['Salary'].mean()\n",
    "print(grouped)\n",
    "# Sorts the Columns by Salary In a Descending Fashion\n",
    "sorted_df = SDF.sort_values('Salary', ascending=False)\n",
    "print(sorted_df)\n",
    "#creating 2 dataframes and then merging them\n",
    "df1 = pd.DataFrame({'ID': [1, 2], 'Name': ['Alice', 'Bob']})\n",
    "df2 = pd.DataFrame({'ID': [1, 2], 'Score': [85, 90]})\n",
    "merged_df = pd.merge(df1, df2, on='ID')\n",
    "print(merged_df)\n",
    "#puts 2 dataframes side by side\n",
    "df_concat = pd.concat([df1, df2], axis=1)  # Side by side\n",
    "print(df_concat)\n",
    "# Applying functions to Dataframes\n",
    "# Creating a new column that has the values of Salary multiplied by 1.1\n",
    "SDF['Updated Salary'] = SDF['Salary'].apply(lambda x: x * 1.1)\n",
    "print(SDF)\n",
    "\n",
    "\n",
    "\n",
    "\n"
   ],
   "id": "f603ef3910572136",
   "outputs": [],
   "execution_count": null
  },
  {
   "metadata": {},
   "cell_type": "markdown",
   "source": "And That is my basic understanding of Pandas!",
   "id": "910e211f35c2773e"
  }
 ],
 "metadata": {
  "kernelspec": {
   "display_name": "Python 3",
   "language": "python",
   "name": "python3"
  },
  "language_info": {
   "codemirror_mode": {
    "name": "ipython",
    "version": 2
   },
   "file_extension": ".py",
   "mimetype": "text/x-python",
   "name": "python",
   "nbconvert_exporter": "python",
   "pygments_lexer": "ipython2",
   "version": "2.7.6"
  }
 },
 "nbformat": 4,
 "nbformat_minor": 5
}
