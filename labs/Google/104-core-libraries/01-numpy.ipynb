{
 "cells": [
  {
   "metadata": {},
   "cell_type": "markdown",
   "source": [
    "# Captain's `numpy` Journey\n",
    "\n",
    "- [learning `numpy`](https://numpy.org/learn/)\n",
    "  - [glossary `numpy`](https://developers.google.com/machine-learning/glossary/#numpy)\n"
   ],
   "id": "8b461b1026cf42ef"
  },
  {
   "metadata": {},
   "cell_type": "markdown",
   "source": "Now here is my understanding of numpy:",
   "id": "62bbcb8120a8f482"
  },
  {
   "metadata": {
    "ExecuteTime": {
     "end_time": "2024-12-20T16:53:12.625399Z",
     "start_time": "2024-12-20T16:53:11.846938Z"
    }
   },
   "cell_type": "code",
   "source": [
    "import numpy as np\n",
    "import matplotlib.pyplot as plt\n",
    "# 1D array\n",
    "array1 = np.array([1, 2, 3])\n",
    "print(array1)\n",
    "# 2D array\n",
    "array2 = np.array([[1, 2, 3], [4, 5, 6], [7, 8, 9]])\n",
    "print(array2)\n",
    "# 3d array made up of zeroes\n",
    "# made up of 3 layers, 4 rows, 5 columns\n",
    "array3 = np.zeros([3,4,5])\n",
    "print(array3)"
   ],
   "id": "a12279579f7ec943",
   "outputs": [
    {
     "name": "stdout",
     "output_type": "stream",
     "text": [
      "[1 2 3]\n",
      "[[1 2 3]\n",
      " [4 5 6]\n",
      " [7 8 9]]\n",
      "[[[0. 0. 0. 0. 0.]\n",
      "  [0. 0. 0. 0. 0.]\n",
      "  [0. 0. 0. 0. 0.]\n",
      "  [0. 0. 0. 0. 0.]]\n",
      "\n",
      " [[0. 0. 0. 0. 0.]\n",
      "  [0. 0. 0. 0. 0.]\n",
      "  [0. 0. 0. 0. 0.]\n",
      "  [0. 0. 0. 0. 0.]]\n",
      "\n",
      " [[0. 0. 0. 0. 0.]\n",
      "  [0. 0. 0. 0. 0.]\n",
      "  [0. 0. 0. 0. 0.]\n",
      "  [0. 0. 0. 0. 0.]]]\n"
     ]
    }
   ],
   "execution_count": 1
  },
  {
   "metadata": {
    "ExecuteTime": {
     "end_time": "2024-12-20T16:53:12.657987Z",
     "start_time": "2024-12-20T16:53:12.652242Z"
    }
   },
   "cell_type": "code",
   "source": [
    "# arrays made out of ones and zeroes using layers, columns and rows\n",
    "ZeroesArray = np.zeros([3,4,5])\n",
    "OnesArray = np.ones([3,4,5])\n",
    "print(ZeroesArray)\n",
    "print(OnesArray)\n"
   ],
   "id": "baeca754177c7fae",
   "outputs": [
    {
     "name": "stdout",
     "output_type": "stream",
     "text": [
      "[[[0. 0. 0. 0. 0.]\n",
      "  [0. 0. 0. 0. 0.]\n",
      "  [0. 0. 0. 0. 0.]\n",
      "  [0. 0. 0. 0. 0.]]\n",
      "\n",
      " [[0. 0. 0. 0. 0.]\n",
      "  [0. 0. 0. 0. 0.]\n",
      "  [0. 0. 0. 0. 0.]\n",
      "  [0. 0. 0. 0. 0.]]\n",
      "\n",
      " [[0. 0. 0. 0. 0.]\n",
      "  [0. 0. 0. 0. 0.]\n",
      "  [0. 0. 0. 0. 0.]\n",
      "  [0. 0. 0. 0. 0.]]]\n",
      "[[[1. 1. 1. 1. 1.]\n",
      "  [1. 1. 1. 1. 1.]\n",
      "  [1. 1. 1. 1. 1.]\n",
      "  [1. 1. 1. 1. 1.]]\n",
      "\n",
      " [[1. 1. 1. 1. 1.]\n",
      "  [1. 1. 1. 1. 1.]\n",
      "  [1. 1. 1. 1. 1.]\n",
      "  [1. 1. 1. 1. 1.]]\n",
      "\n",
      " [[1. 1. 1. 1. 1.]\n",
      "  [1. 1. 1. 1. 1.]\n",
      "  [1. 1. 1. 1. 1.]\n",
      "  [1. 1. 1. 1. 1.]]]\n"
     ]
    }
   ],
   "execution_count": 2
  },
  {
   "metadata": {
    "ExecuteTime": {
     "end_time": "2024-12-20T16:53:12.679713Z",
     "start_time": "2024-12-20T16:53:12.673912Z"
    }
   },
   "cell_type": "code",
   "source": [
    "# with np, you can also create random arrays\n",
    "random_array = np.random.random([3,3])\n",
    "# a 3x3 array making random numbers between 0 and 1\n",
    "print(random_array)\n",
    "# you can make random arrays that are arranged\n",
    "Arranged_array = np.arange(3, 40, 1) # 3 = starting value, 20 = total/end value, 4 = value of distance inbetween numbers\n",
    "print(Arranged_array)\n",
    "# we can also have linespace array, where we have an array between 2 numbers in a certain number of spaces.\n",
    "# 5 equally spaced arrays between 0 and 1\n",
    "linespace_array = np.linspace(0, 2, 5)\n",
    "print(linespace_array)"
   ],
   "id": "206e6faf297a4797",
   "outputs": [
    {
     "name": "stdout",
     "output_type": "stream",
     "text": [
      "[[0.85032474 0.33608231 0.7218051 ]\n",
      " [0.01097652 0.82084791 0.96739918]\n",
      " [0.33970001 0.0636822  0.75887993]]\n",
      "[ 3  4  5  6  7  8  9 10 11 12 13 14 15 16 17 18 19 20 21 22 23 24 25 26\n",
      " 27 28 29 30 31 32 33 34 35 36 37 38 39]\n",
      "[0.  0.5 1.  1.5 2. ]\n"
     ]
    }
   ],
   "execution_count": 3
  },
  {
   "metadata": {
    "ExecuteTime": {
     "end_time": "2024-12-20T16:53:12.874425Z",
     "start_time": "2024-12-20T16:53:12.869441Z"
    }
   },
   "cell_type": "code",
   "source": [
    "# math with arrays\n",
    "arr1 = np.array([1, 2, 3])\n",
    "arr2 = np.array([4, 5, 6])\n",
    "addition = arr1 + arr2\n",
    "multiplication = arr1 * arr2\n",
    "subtraction = arr1 - arr2\n",
    "division = arr1 / arr2\n",
    "print(addition)\n",
    "print(multiplication)\n",
    "print(subtraction)\n",
    "print(division)\n"
   ],
   "id": "c459d58be32cd390",
   "outputs": [
    {
     "name": "stdout",
     "output_type": "stream",
     "text": [
      "[5 7 9]\n",
      "[ 4 10 18]\n",
      "[-3 -3 -3]\n",
      "[0.25 0.4  0.5 ]\n"
     ]
    }
   ],
   "execution_count": 4
  },
  {
   "metadata": {
    "ExecuteTime": {
     "end_time": "2024-12-20T16:53:12.906325Z",
     "start_time": "2024-12-20T16:53:12.902735Z"
    }
   },
   "cell_type": "code",
   "source": [
    "# matrix multiplication\n",
    "mat1 = np.array([[1, 2], [3, 4]])\n",
    "mat2 = np.array([[5, 6], [7, 8]])\n",
    "result = np.dot(mat1, mat2)\n",
    "print(result)"
   ],
   "id": "a79aab5feb0a6244",
   "outputs": [
    {
     "name": "stdout",
     "output_type": "stream",
     "text": [
      "[[19 22]\n",
      " [43 50]]\n"
     ]
    }
   ],
   "execution_count": 5
  },
  {
   "metadata": {
    "ExecuteTime": {
     "end_time": "2024-12-20T16:56:08.889652Z",
     "start_time": "2024-12-20T16:56:08.875478Z"
    }
   },
   "cell_type": "code",
   "source": [
    "# messing with array properties\n",
    "array4 = np.array([[1, 2, 3], [4, 5, 6], [7, 8, 9]])\n",
    "shape = array4.shape # shape\n",
    "print(shape)\n",
    "size = array4.size # size\n",
    "print(size)\n",
    "dtype = array4.dtype # type\n",
    "print(dtype)"
   ],
   "id": "d9bdb10f8f8157d6",
   "outputs": [
    {
     "name": "stdout",
     "output_type": "stream",
     "text": [
      "(3, 3)\n",
      "9\n",
      "int64\n"
     ]
    }
   ],
   "execution_count": 6
  },
  {
   "metadata": {
    "ExecuteTime": {
     "end_time": "2024-12-20T16:57:28.078931Z",
     "start_time": "2024-12-20T16:57:28.070191Z"
    }
   },
   "cell_type": "code",
   "source": [
    "# indexing and splicing arrays\n",
    "array5 = np.array([10, 20, 30, 40])\n",
    "print(array5[1])         # Access second element\n",
    "print(array5[1:3])       # Slice from index 1 to 2\n",
    "print(array5[::-1])      # Reverse the array\n"
   ],
   "id": "7a995ac87b3ef93a",
   "outputs": [
    {
     "name": "stdout",
     "output_type": "stream",
     "text": [
      "20\n",
      "[20 30]\n",
      "[40 30 20 10]\n"
     ]
    }
   ],
   "execution_count": 7
  },
  {
   "metadata": {
    "ExecuteTime": {
     "end_time": "2024-12-20T17:00:15.514377Z",
     "start_time": "2024-12-20T17:00:15.507213Z"
    }
   },
   "cell_type": "code",
   "source": [
    "# reshaping and transposing\n",
    "array5 = np.arange(1, 10)\n",
    "print(array5)\n",
    "reshaped = array5.reshape(3, 3)\n",
    "print(reshaped)\n"
   ],
   "id": "38f58e57c7f0412e",
   "outputs": [
    {
     "name": "stdout",
     "output_type": "stream",
     "text": [
      "[1 2 3 4 5 6 7 8 9]\n",
      "[[1 2 3]\n",
      " [4 5 6]\n",
      " [7 8 9]]\n"
     ]
    }
   ],
   "execution_count": 11
  },
  {
   "metadata": {
    "ExecuteTime": {
     "end_time": "2024-12-20T17:01:09.416082Z",
     "start_time": "2024-12-20T17:01:09.405505Z"
    }
   },
   "cell_type": "code",
   "source": [
    "# array statistics\n",
    "array6 = np.array([1, 2, 3, 4, 5])\n",
    "mean = np.mean(array6)      # Average\n",
    "median = np.median(array6)  # Median\n",
    "std_dev = np.std(array6)    # Standard deviation\n",
    "print(mean)\n",
    "print(median)\n",
    "print(std_dev)"
   ],
   "id": "2631bc3da7cf455d",
   "outputs": [
    {
     "name": "stdout",
     "output_type": "stream",
     "text": [
      "3.0\n",
      "3.0\n",
      "1.4142135623730951\n"
     ]
    }
   ],
   "execution_count": 12
  },
  {
   "metadata": {
    "ExecuteTime": {
     "end_time": "2024-12-20T17:02:30.453532Z",
     "start_time": "2024-12-20T17:02:30.442639Z"
    }
   },
   "cell_type": "code",
   "source": [
    "# Boolean indexing\n",
    "array7 = np.array([1, 2, 3, 4, 5])\n",
    "filtered = array7[array7 > 2]  # filtering the array so that anything above 2 is kept\n",
    "print(filtered)\n"
   ],
   "id": "7f983ec06d767b0c",
   "outputs": [
    {
     "name": "stdout",
     "output_type": "stream",
     "text": [
      "[3 4 5]\n"
     ]
    }
   ],
   "execution_count": 13
  },
  {
   "metadata": {
    "ExecuteTime": {
     "end_time": "2024-12-20T17:08:44.452401Z",
     "start_time": "2024-12-20T17:08:44.431205Z"
    }
   },
   "cell_type": "code",
   "source": [
    "#broadcasting means taking an array and then changing it into its own value\n",
    "array8 = np.array([1, 2, 3])\n",
    "Broadcast_result = array8 + 10  # [11, 12, 13]\n",
    "print(Broadcast_result)"
   ],
   "id": "3be26b4751a9e825",
   "outputs": [
    {
     "name": "stdout",
     "output_type": "stream",
     "text": [
      "[11 12 13]\n"
     ]
    }
   ],
   "execution_count": 14
  },
  {
   "metadata": {
    "ExecuteTime": {
     "end_time": "2024-12-20T17:18:13.467189Z",
     "start_time": "2024-12-20T17:18:13.242198Z"
    }
   },
   "cell_type": "code",
   "source": [
    "#how to solve linear problems using matplotlib and numpy\n",
    "A = np.array([[2, -1], [-1, -1]])  # Coefficients of x and y\n",
    "b = np.array([-1, -4])             # Constants\n",
    "\n",
    "# Solve for x and y\n",
    "solution = np.linalg.solve(A, b)\n",
    "\n",
    "# Print the solution\n",
    "print(\"Solution (x, y):\", solution)\n",
    "\n",
    "# Add the solution point to the graph\n",
    "plt.plot(A, b, label=\"y = 2x + 1\", color=\"blue\")\n",
    "plt.plot(A, b, label=\"y = -x + 4\", color=\"red\")\n",
    "plt.scatter(solution[0], solution[1], color='green', label=\"Intersection Point\")\n",
    "\n",
    "# Add labels and legend\n",
    "plt.xlabel(\"x-axis\")\n",
    "plt.ylabel(\"y-axis\")\n",
    "plt.title(\"Graphical Solution of Linear Equations\")\n",
    "plt.axhline(0, color='black', linewidth=0.5, linestyle='--')  # x-axis\n",
    "plt.axvline(0, color='black', linewidth=0.5, linestyle='--')  # y-axis\n",
    "plt.legend()\n",
    "\n",
    "# Show the plot\n",
    "plt.grid()\n",
    "plt.show()\n"
   ],
   "id": "3b626174a0ddc3da",
   "outputs": [
    {
     "name": "stdout",
     "output_type": "stream",
     "text": [
      "Solution (x, y): [1. 3.]\n"
     ]
    },
    {
     "data": {
      "text/plain": [
       "<Figure size 640x480 with 1 Axes>"
      ],
      "image/png": "[encoded data removed]"
     },
     "metadata": {},
     "output_type": "display_data"
    }
   ],
   "execution_count": 21
  },
  {
   "metadata": {
    "ExecuteTime": {
     "end_time": "2024-12-20T17:18:41.479262Z",
     "start_time": "2024-12-20T17:18:41.473340Z"
    }
   },
   "cell_type": "code",
   "source": [
    "# more advanced random number generation\n",
    "rng = np.random.default_rng()\n",
    "numbers = rng.normal(0, 3, size=40)  # 10 random values from a normal distribution\n",
    "print(numbers)\n"
   ],
   "id": "becdd4f56d449910",
   "outputs": [
    {
     "name": "stdout",
     "output_type": "stream",
     "text": [
      "[-2.09230023e+00  3.27803339e+00  2.25253015e+00  7.87084808e-01\n",
      "  2.40675912e+00  1.06481419e+00 -3.71294733e+00  3.94212228e+00\n",
      " -4.23382166e+00 -2.96078700e+00  3.74000325e+00 -1.73448995e+00\n",
      " -1.25934806e+00 -1.75788698e+00  2.99684553e+00  1.61295716e-01\n",
      "  1.08986061e+00  2.52548713e+00  1.98325143e-03  1.27532993e+00\n",
      " -2.22768381e-01  3.30985653e+00 -4.45378829e+00  3.78900250e+00\n",
      " -5.94162589e+00 -4.54579535e-01 -5.93097161e+00  8.69090484e-01\n",
      "  2.00404968e+00 -5.08689633e+00 -3.44834806e-01 -3.71539102e+00\n",
      "  1.53504480e+00 -2.72614782e+00  2.10845402e+00 -2.87278253e+00\n",
      " -1.34928598e+00  4.45475996e+00 -1.48303782e+00  1.23412192e+00]\n"
     ]
    }
   ],
   "execution_count": 24
  },
  {
   "metadata": {
    "ExecuteTime": {
     "end_time": "2024-12-20T17:22:32.573187Z",
     "start_time": "2024-12-20T17:22:32.566814Z"
    }
   },
   "cell_type": "code",
   "source": [
    "# Advanced array manipulation\n",
    "array9 = np.array([1, 2, 3])\n",
    "tiled = np.tile(array9, (2, 1))  # multiplied and tilted\n",
    "repeated = np.repeat(array9, 2)  # [1, 1, 2, 2, 3, 3]\n",
    "print(tiled)\n",
    "print(repeated)\n"
   ],
   "id": "30a449671f98d2fb",
   "outputs": [
    {
     "name": "stdout",
     "output_type": "stream",
     "text": [
      "[[1 2 3]\n",
      " [1 2 3]]\n",
      "[1 1 2 2 3 3]\n"
     ]
    }
   ],
   "execution_count": 26
  },
  {
   "metadata": {},
   "cell_type": "markdown",
   "source": "Ok There is my basic understanding of numpy and its uses, this will be super useful for make/using data with pandas for datasets.",
   "id": "8661c4c37141f983"
  }
 ],
 "metadata": {
  "kernelspec": {
   "display_name": "Python 3",
   "language": "python",
   "name": "python3"
  },
  "language_info": {
   "codemirror_mode": {
    "name": "ipython",
    "version": 2
   },
   "file_extension": ".py",
   "mimetype": "text/x-python",
   "name": "python",
   "nbconvert_exporter": "python",
   "pygments_lexer": "ipython2",
   "version": "2.7.6"
  }
 },
 "nbformat": 4,
 "nbformat_minor": 5
}
