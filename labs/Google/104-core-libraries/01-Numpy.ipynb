{
 "cells": [
  {
   "metadata": {},
   "cell_type": "markdown",
   "source": [
    "# Captain's `numpy` Journey\n",
    "\n",
    "- [learning `numpy`](https://numpy.org/learn/)\n",
    "  - [glossary `numpy`](https://developers.google.com/machine-learning/glossary/#numpy)\n"
   ],
   "id": "8b461b1026cf42ef"
  },
  {
   "metadata": {},
   "cell_type": "markdown",
   "source": "Now here is my understanding of numpy:",
   "id": "62bbcb8120a8f482"
  },
  {
   "metadata": {},
   "cell_type": "code",
   "source": [
    "import matplotlib.pyplot as plt\n",
    "import numpy as np\n",
    "\n",
    "# 1D array\n",
    "array1 = np.array([1, 2, 3])\n",
    "print(array1)\n",
    "# 2D array\n",
    "array2 = np.array([[1, 2, 3], [4, 5, 6], [7, 8, 9]])\n",
    "print(array2)\n",
    "# 3d array made up of zeroes\n",
    "# made up of 3 layers, 4 rows, 5 columns\n",
    "array3 = np.zeros([3, 4, 5])\n",
    "print(array3)"
   ],
   "id": "a12279579f7ec943",
   "outputs": [],
   "execution_count": null
  },
  {
   "metadata": {},
   "cell_type": "code",
   "source": [
    "# arrays made out of ones and zeroes using layers, columns and rows\n",
    "ZeroesArray = np.zeros([3, 4, 5])\n",
    "OnesArray = np.ones([3, 4, 5])\n",
    "print(ZeroesArray)\n",
    "print(OnesArray)\n"
   ],
   "id": "baeca754177c7fae",
   "outputs": [],
   "execution_count": null
  },
  {
   "metadata": {},
   "cell_type": "code",
   "source": [
    "# with np, you can also create random arrays\n",
    "random_array = np.random.random([3, 3])\n",
    "# a 3x3 array making random numbers between 0 and 1\n",
    "print(random_array)\n",
    "# you can make random arrays that are arranged\n",
    "Arranged_array = np.arange(3, 40,\n",
    "                           1)  # 3 = starting value, 20 = total/end value, 4 = value of distance inbetween numbers\n",
    "print(Arranged_array)\n",
    "# we can also have linespace array, where we have an array between 2 numbers in a certain number of spaces.\n",
    "# 5 equally spaced arrays between 0 and 1\n",
    "linespace_array = np.linspace(0, 2, 5)\n",
    "print(linespace_array)"
   ],
   "id": "206e6faf297a4797",
   "outputs": [],
   "execution_count": null
  },
  {
   "metadata": {},
   "cell_type": "code",
   "source": [
    "# math with arrays\n",
    "arr1 = np.array([1, 2, 3])\n",
    "arr2 = np.array([4, 5, 6])\n",
    "addition = arr1 + arr2\n",
    "multiplication = arr1 * arr2\n",
    "subtraction = arr1 - arr2\n",
    "division = arr1 / arr2\n",
    "print(addition)\n",
    "print(multiplication)\n",
    "print(subtraction)\n",
    "print(division)\n"
   ],
   "id": "c459d58be32cd390",
   "outputs": [],
   "execution_count": null
  },
  {
   "metadata": {},
   "cell_type": "code",
   "source": [
    "# matrix multiplication\n",
    "mat1 = np.array([[1, 2], [3, 4]])\n",
    "mat2 = np.array([[5, 6], [7, 8]])\n",
    "result = np.dot(mat1, mat2)\n",
    "print(result)"
   ],
   "id": "a79aab5feb0a6244",
   "outputs": [],
   "execution_count": null
  },
  {
   "metadata": {},
   "cell_type": "code",
   "source": [
    "# messing with array properties\n",
    "array4 = np.array([[1, 2, 3], [4, 5, 6], [7, 8, 9]])\n",
    "shape = array4.shape  # shape\n",
    "print(shape)\n",
    "size = array4.size  # size\n",
    "print(size)\n",
    "dtype = array4.dtype  # type\n",
    "print(dtype)"
   ],
   "id": "d9bdb10f8f8157d6",
   "outputs": [],
   "execution_count": null
  },
  {
   "metadata": {},
   "cell_type": "code",
   "source": [
    "# indexing and splicing arrays\n",
    "array5 = np.array([10, 20, 30, 40])\n",
    "print(array5[1])  # Access second element\n",
    "print(array5[1:3])  # Slice from index 1 to 2\n",
    "print(array5[::-1])  # Reverse the array\n"
   ],
   "id": "7a995ac87b3ef93a",
   "outputs": [],
   "execution_count": null
  },
  {
   "metadata": {},
   "cell_type": "code",
   "source": [
    "# reshaping and transposing\n",
    "array5 = np.arange(1, 10)\n",
    "print(array5)\n",
    "reshaped = array5.reshape(3, 3)\n",
    "print(reshaped)\n"
   ],
   "id": "38f58e57c7f0412e",
   "outputs": [],
   "execution_count": null
  },
  {
   "metadata": {},
   "cell_type": "code",
   "source": [
    "# array statistics\n",
    "array6 = np.array([1, 2, 3, 4, 5])\n",
    "mean = np.mean(array6)  # Average\n",
    "median = np.median(array6)  # Median\n",
    "std_dev = np.std(array6)  # Standard deviation\n",
    "print(mean)\n",
    "print(median)\n",
    "print(std_dev)"
   ],
   "id": "2631bc3da7cf455d",
   "outputs": [],
   "execution_count": null
  },
  {
   "metadata": {},
   "cell_type": "code",
   "source": [
    "# Boolean indexing\n",
    "array7 = np.array([1, 2, 3, 4, 5])\n",
    "filtered = array7[array7 > 2]  # filtering the array so that anything above 2 is kept\n",
    "print(filtered)\n"
   ],
   "id": "7f983ec06d767b0c",
   "outputs": [],
   "execution_count": null
  },
  {
   "metadata": {},
   "cell_type": "code",
   "source": [
    "#broadcasting means taking an array and then changing it into its own value\n",
    "array8 = np.array([1, 2, 3])\n",
    "Broadcast_result = array8 + 10  # [11, 12, 13]\n",
    "print(Broadcast_result)"
   ],
   "id": "3be26b4751a9e825",
   "outputs": [],
   "execution_count": null
  },
  {
   "metadata": {},
   "cell_type": "code",
   "source": [
    "#how to solve linear problems using matplotlib and numpy\n",
    "A = np.array([[2, -1], [-1, -1]])  # Coefficients of x and y\n",
    "b = np.array([-1, -4])  # Constants\n",
    "\n",
    "# Solve for x and y\n",
    "solution = np.linalg.solve(A, b)\n",
    "\n",
    "# Print the solution\n",
    "print(\"Solution (x, y):\", solution)\n",
    "\n",
    "# Add the solution point to the graph\n",
    "plt.plot(A, b, label=\"y = 2x + 1\", color=\"blue\")\n",
    "plt.plot(A, b, label=\"y = -x + 4\", color=\"red\")\n",
    "plt.scatter(solution[0], solution[1], color='green', label=\"Intersection Point\")\n",
    "\n",
    "# Add labels and legend\n",
    "plt.xlabel(\"x-axis\")\n",
    "plt.ylabel(\"y-axis\")\n",
    "plt.title(\"Graphical Solution of Linear Equations\")\n",
    "plt.axhline(0, color='black', linewidth=0.5, linestyle='--')  # x-axis\n",
    "plt.axvline(0, color='black', linewidth=0.5, linestyle='--')  # y-axis\n",
    "plt.legend()\n",
    "\n",
    "# Show the plot\n",
    "plt.grid()\n",
    "plt.show()\n"
   ],
   "id": "3b626174a0ddc3da",
   "outputs": [],
   "execution_count": null
  },
  {
   "metadata": {},
   "cell_type": "code",
   "source": [
    "# more advanced random number generation\n",
    "rng = np.random.default_rng()\n",
    "numbers = rng.normal(0, 3, size=40)  # 10 random values from a normal distribution\n",
    "print(numbers)\n"
   ],
   "id": "becdd4f56d449910",
   "outputs": [],
   "execution_count": null
  },
  {
   "metadata": {},
   "cell_type": "code",
   "source": [
    "# Advanced array manipulation\n",
    "array9 = np.array([1, 2, 3])\n",
    "tiled = np.tile(array9, (2, 1))  # multiplied and tilted\n",
    "repeated = np.repeat(array9, 2)  # [1, 1, 2, 2, 3, 3]\n",
    "print(tiled)\n",
    "print(repeated)\n"
   ],
   "id": "30a449671f98d2fb",
   "outputs": [],
   "execution_count": null
  },
  {
   "metadata": {},
   "cell_type": "markdown",
   "source": "Ok There is my basic understanding of numpy and its uses, this will be super useful for make/using data with pandas for datasets.",
   "id": "8661c4c37141f983"
  }
 ],
 "metadata": {
  "kernelspec": {
   "display_name": "Python 3",
   "language": "python",
   "name": "python3"
  },
  "language_info": {
   "codemirror_mode": {
    "name": "ipython",
    "version": 2
   },
   "file_extension": ".py",
   "mimetype": "text/x-python",
   "name": "python",
   "nbconvert_exporter": "python",
   "pygments_lexer": "ipython2",
   "version": "2.7.6"
  }
 },
 "nbformat": 4,
 "nbformat_minor": 5
}
