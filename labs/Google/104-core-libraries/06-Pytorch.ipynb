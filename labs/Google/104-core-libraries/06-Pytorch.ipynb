{
 "cells": [
  {
   "metadata": {},
   "cell_type": "markdown",
   "source": [
    "## Captain Learning Pytorch\n",
    "Learning: https://pytorch.org/"
   ],
   "id": "a50422130cef4290"
  },
  {
   "metadata": {
    "ExecuteTime": {
     "end_time": "2025-02-04T21:26:05.948537Z",
     "start_time": "2025-02-04T21:26:05.944019Z"
    }
   },
   "cell_type": "code",
   "source": [
    "import torch\n",
    "print(torch.__version__)"
   ],
   "id": "d524b92e428604e9",
   "outputs": [
    {
     "name": "stdout",
     "output_type": "stream",
     "text": [
      "2.5.1.post108\n"
     ]
    }
   ],
   "execution_count": 15
  },
  {
   "metadata": {
    "collapsed": true,
    "ExecuteTime": {
     "end_time": "2025-02-04T21:26:06.000354Z",
     "start_time": "2025-02-04T21:26:05.992008Z"
    }
   },
   "cell_type": "code",
   "source": [
    "# pytorch tensors\n",
    "\n",
    "tensor1 = torch.tensor([1, 2, 3])             # From a list\n",
    "tensor2 = torch.zeros(3, 4)                   # 3x4 matrix of zeros\n",
    "tensor3 = torch.rand(2, 3)                    # Random numbers\n",
    "tensor4 = torch.eye(3)                        # Identity matrix\n",
    "# key properties\n",
    "print(tensor1.shape)      # Shape\n",
    "print(tensor2.dtype)      # Data type\n",
    "print(tensor3.device)     # Device (CPU/GPU)\n",
    "\n"
   ],
   "id": "initial_id",
   "outputs": [
    {
     "name": "stdout",
     "output_type": "stream",
     "text": [
      "torch.Size([3])\n",
      "torch.float32\n",
      "cpu\n"
     ]
    }
   ],
   "execution_count": 16
  },
  {
   "metadata": {
    "ExecuteTime": {
     "end_time": "2025-02-04T21:26:06.061998Z",
     "start_time": "2025-02-04T21:26:06.043476Z"
    }
   },
   "cell_type": "code",
   "source": [
    "# Tensor Operations and manipulation\n",
    "a = torch.tensor([2, 4, 6])\n",
    "b = torch.tensor([1, 3, 5])\n",
    "\n",
    "add = a + b               # Addition\n",
    "sub = a - b               # Subtraction\n",
    "mul = a * b               # Element-wise multiplication\n",
    "div = a / b               # Division\n",
    "print(add)\n",
    "print(sub)\n",
    "print(mul)\n",
    "print(div)\n",
    "\n",
    "# reshape\n",
    "tensor = torch.arange(12)       # [0, 1, 2, ..., 11]\n",
    "reshaped = tensor.view(3, 4)    # Reshape to 3x4 matrix\n",
    "flattened = reshaped.flatten()  # Flatten back to 1D\n",
    "\n",
    "#moving data between gpu and cpu\n",
    "# Check for GPU\n",
    "device = torch.device(\"cuda\" if torch.cuda.is_available() else \"cpu\")\n",
    "\n",
    "# Move tensor to GPU\n",
    "tensor = torch.tensor([1, 2, 3]).to(device)\n"
   ],
   "id": "ddce6cd420cd62e0",
   "outputs": [
    {
     "name": "stdout",
     "output_type": "stream",
     "text": [
      "tensor([ 3,  7, 11])\n",
      "tensor([1, 1, 1])\n",
      "tensor([ 2, 12, 30])\n",
      "tensor([2.0000, 1.3333, 1.2000])\n"
     ]
    }
   ],
   "execution_count": 17
  },
  {
   "metadata": {
    "ExecuteTime": {
     "end_time": "2025-02-04T21:26:06.137927Z",
     "start_time": "2025-02-04T21:26:06.127217Z"
    }
   },
   "cell_type": "code",
   "source": [
    "# Autograd\n",
    "x = torch.tensor(2.0, requires_grad=True)  # Track gradient\n",
    "print(x)\n",
    "y = x ** 3                                 # y = x³\n",
    "y.backward()                               # Backpropagation\n",
    "\n",
    "print(x.grad)                              # dy/dx = 3x² = 12\n"
   ],
   "id": "fcf2fb59497eaa14",
   "outputs": [
    {
     "name": "stdout",
     "output_type": "stream",
     "text": [
      "tensor(2., requires_grad=True)\n",
      "tensor(12.)\n"
     ]
    }
   ],
   "execution_count": 18
  },
  {
   "metadata": {
    "ExecuteTime": {
     "end_time": "2025-02-04T21:26:06.203336Z",
     "start_time": "2025-02-04T21:26:06.197552Z"
    }
   },
   "cell_type": "code",
   "source": [
    "# building a neural network\n",
    "import torch.nn as nn\n",
    "import torch.nn.functional as F\n",
    "\n",
    "class NeuralNetwork(nn.Module):\n",
    "    def __init__(self):\n",
    "        super(NeuralNetwork, self).__init__()\n",
    "        self.fc1 = nn.Linear(4, 8)    # Input: 4 features → 8 neurons\n",
    "        self.fc2 = nn.Linear(8, 3)    # Hidden layer → 3 output classes\n",
    "\n",
    "    def forward(self, x):\n",
    "        x = F.relu(self.fc1(x))       # ReLU activation\n",
    "        x = self.fc2(x)               # Output layer\n",
    "        return x\n",
    "\n",
    "model = NeuralNetwork()\n"
   ],
   "id": "df62c15da7a06fee",
   "outputs": [],
   "execution_count": 19
  },
  {
   "metadata": {
    "ExecuteTime": {
     "end_time": "2025-02-04T21:26:06.298321Z",
     "start_time": "2025-02-04T21:26:06.234274Z"
    }
   },
   "cell_type": "code",
   "source": [
    "# training neural network:\n",
    "import torch.optim as optim\n",
    "\n",
    "# Data (dummy)\n",
    "X = torch.rand(10, 4)         # 10 samples, 4 features\n",
    "y = torch.randint(0, 3, (10,)) # 10 labels for 3 classes\n",
    "\n",
    "# Loss function & optimizer\n",
    "criterion = nn.CrossEntropyLoss()\n",
    "optimizer = optim.SGD(model.parameters(), lr=0.01)\n",
    "\n",
    "# Training loop\n",
    "for epoch in range(100):\n",
    "    outputs = model(X)                  # Forward pass\n",
    "    loss = criterion(outputs, y)       # Compute loss\n",
    "\n",
    "    optimizer.zero_grad()              # Clear gradients\n",
    "    loss.backward()                    # Backpropagation\n",
    "    optimizer.step()                   # Update weights\n",
    "\n",
    "    if epoch % 10 == 0:\n",
    "        print(f'Epoch {epoch}, Loss: {loss.item()}')\n"
   ],
   "id": "de0b55bf6c9a627e",
   "outputs": [
    {
     "name": "stdout",
     "output_type": "stream",
     "text": [
      "Epoch 0, Loss: 1.1840566396713257\n",
      "Epoch 10, Loss: 1.1555649042129517\n",
      "Epoch 20, Loss: 1.1322376728057861\n",
      "Epoch 30, Loss: 1.1121034622192383\n",
      "Epoch 40, Loss: 1.0954350233078003\n",
      "Epoch 50, Loss: 1.0806498527526855\n",
      "Epoch 60, Loss: 1.0678431987762451\n",
      "Epoch 70, Loss: 1.056889295578003\n",
      "Epoch 80, Loss: 1.0474046468734741\n",
      "Epoch 90, Loss: 1.040174126625061\n"
     ]
    }
   ],
   "execution_count": 20
  },
  {
   "metadata": {
    "ExecuteTime": {
     "end_time": "2025-02-04T21:26:06.308225Z",
     "start_time": "2025-02-04T21:26:06.304581Z"
    }
   },
   "cell_type": "code",
   "outputs": [],
   "source": [
    "# optimizer\n",
    "#optimizer = optim.Adam(model.parameters(), lr=0.001)\n",
    "#scheduler = optim.lr_scheduler.StepLR(optimizer, step_size=30, gamma=0.1)\n"
   ],
   "id": "340d901caeecc3ca",
   "execution_count": null
  },
  {
   "metadata": {
    "ExecuteTime": {
     "end_time": "2025-02-04T21:26:06.329271Z",
     "start_time": "2025-02-04T21:26:06.323960Z"
    }
   },
   "cell_type": "code",
   "source": [
    "# loss functions\n",
    "#criterion = nn.CrossEntropyLoss()  # For multi-class classification\n",
    "#print(criterion(model(X), y).item())"
   ],
   "id": "8160f20b96dc2212",
   "outputs": [
    {
     "name": "stdout",
     "output_type": "stream",
     "text": [
      "1.0339409112930298\n"
     ]
    }
   ],
   "execution_count": 22
  },
  {
   "metadata": {
    "ExecuteTime": {
     "end_time": "2025-02-04T21:29:56.725413Z",
     "start_time": "2025-02-04T21:29:56.685251Z"
    }
   },
   "cell_type": "code",
   "source": [
    "# using a dataset\n",
    "from torch.utils.data import DataLoader, TensorDataset\n",
    "\n",
    "# Dataset\n",
    "dataset = TensorDataset(X, y)\n",
    "loader = DataLoader(dataset, batch_size=4, shuffle=True)\n",
    "\n",
    "# Training with DataLoader\n",
    "for batch in loader:\n",
    "    inputs, labels = batch\n",
    "    outputs = model(inputs)\n"
   ],
   "id": "af0a14e0bf5740c8",
   "outputs": [],
   "execution_count": 23
  },
  {
   "metadata": {
    "ExecuteTime": {
     "end_time": "2025-02-04T21:30:17.084125Z",
     "start_time": "2025-02-04T21:30:17.069732Z"
    }
   },
   "cell_type": "code",
   "source": [
    "# Model Evaluations and Metrics\n",
    "correct = 0\n",
    "total = 0\n",
    "\n",
    "with torch.no_grad():  # No gradient calculation during evaluation\n",
    "    for inputs, labels in loader:\n",
    "        outputs = model(inputs)\n",
    "        _, predicted = torch.max(outputs, 1)\n",
    "        total += labels.size(0)\n",
    "        correct += (predicted == labels).sum().item()\n",
    "\n",
    "accuracy = correct / total\n",
    "print(f'Accuracy: {accuracy * 100:.2f}%')\n"
   ],
   "id": "6816c4b66e7c3a92",
   "outputs": [
    {
     "name": "stdout",
     "output_type": "stream",
     "text": [
      "Accuracy: 40.00%\n"
     ]
    }
   ],
   "execution_count": 24
  },
  {
   "metadata": {
    "ExecuteTime": {
     "end_time": "2025-02-04T21:30:44.682939Z",
     "start_time": "2025-02-04T21:30:39.142892Z"
    }
   },
   "cell_type": "code",
   "source": [
    "# confusion matrix and F1 Score\n",
    "from sklearn.metrics import confusion_matrix, f1_score\n",
    "\n",
    "# Convert tensors to NumPy\n",
    "y_true = labels.numpy()\n",
    "y_pred = predicted.numpy()\n",
    "\n",
    "# Metrics\n",
    "print(confusion_matrix(y_true, y_pred))\n",
    "print(f'F1 Score: {f1_score(y_true, y_pred, average=\"macro\")}')\n"
   ],
   "id": "34108fa290a9626a",
   "outputs": [
    {
     "name": "stdout",
     "output_type": "stream",
     "text": [
      "[[0 0 1]\n",
      " [0 0 0]\n",
      " [0 1 0]]\n",
      "F1 Score: 0.0\n"
     ]
    }
   ],
   "execution_count": 25
  },
  {
   "metadata": {},
   "cell_type": "code",
   "outputs": [],
   "execution_count": null,
   "source": [
    "# Transfer learning and pretrained models\n",
    "from torchvision import models\n",
    "\n",
    "# Load a pretrained ResNet\n",
    "model = models.resnet18(pretrained=True)\n",
    "\n",
    "# Freeze layers (optional)\n",
    "for param in model.parameters():\n",
    "    param.requires_grad = False\n",
    "\n",
    "# Modify the final layer for new classification task\n",
    "model.fc = nn.Linear(512, 2)  # Adjusting output for 2 classes\n"
   ],
   "id": "ba4d96f7a4f4f9b7"
  },
  {
   "metadata": {},
   "cell_type": "code",
   "outputs": [],
   "execution_count": null,
   "source": [
    "# Gpu acceleration with Cuda\n",
    "device = torch.device(\"cuda\" if torch.cuda.is_available() else \"cpu\")\n",
    "print(device)\n",
    "\n",
    "# Move model and data to GPU\n",
    "model.to(device)\n",
    "X, y = X.to(device), y.to(device)\n"
   ],
   "id": "cd39232d6da30cf4"
  },
  {
   "metadata": {
    "ExecuteTime": {
     "end_time": "2025-02-04T21:33:30.522686Z",
     "start_time": "2025-02-04T21:33:30.450296Z"
    }
   },
   "cell_type": "code",
   "source": [
    "torch.save(model.state_dict(), 'model.pth')\n",
    "model.load_state_dict(torch.load('model.pth'))\n",
    "model.eval()  # Set to evaluation mode\n"
   ],
   "id": "6ed172e8a71aa959",
   "outputs": [
    {
     "name": "stderr",
     "output_type": "stream",
     "text": [
      "/var/folders/b_/bx4v7gvs0pd2mj6yzb1x41m40000gn/T/ipykernel_18960/1320286838.py:2: FutureWarning: You are using `torch.load` with `weights_only=False` (the current default value), which uses the default pickle module implicitly. It is possible to construct malicious pickle data which will execute arbitrary code during unpickling (See https://github.com/pytorch/pytorch/blob/main/SECURITY.md#untrusted-models for more details). In a future release, the default value for `weights_only` will be flipped to `True`. This limits the functions that could be executed during unpickling. Arbitrary objects will no longer be allowed to be loaded via this mode unless they are explicitly allowlisted by the user via `torch.serialization.add_safe_globals`. We recommend you start setting `weights_only=True` for any use case where you don't have full control of the loaded file. Please open an issue on GitHub for any issues related to this experimental feature.\n",
      "  model.load_state_dict(torch.load('model.pth'))\n"
     ]
    },
    {
     "data": {
      "text/plain": [
       "NeuralNetwork(\n",
       "  (fc1): Linear(in_features=4, out_features=8, bias=True)\n",
       "  (fc2): Linear(in_features=8, out_features=3, bias=True)\n",
       ")"
      ]
     },
     "execution_count": 26,
     "metadata": {},
     "output_type": "execute_result"
    }
   ],
   "execution_count": 26
  }
 ],
 "metadata": {
  "kernelspec": {
   "display_name": "Python 3",
   "language": "python",
   "name": "python3"
  },
  "language_info": {
   "codemirror_mode": {
    "name": "ipython",
    "version": 2
   },
   "file_extension": ".py",
   "mimetype": "text/x-python",
   "name": "python",
   "nbconvert_exporter": "python",
   "pygments_lexer": "ipython2",
   "version": "2.7.6"
  }
 },
 "nbformat": 4,
 "nbformat_minor": 5
}
