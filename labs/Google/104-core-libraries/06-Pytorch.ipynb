{
 "cells": [
  {
   "metadata": {},
   "cell_type": "markdown",
   "source": [
    "## Captain Learning Pytorch\n",
    "Learning: https://pytorch.org/"
   ],
   "id": "a50422130cef4290"
  },
  {
   "metadata": {},
   "cell_type": "code",
   "source": [
    "import torch\n",
    "import sklearn\n",
    "print(torch.__version__)"
   ],
   "id": "d524b92e428604e9",
   "outputs": [],
   "execution_count": null
  },
  {
   "metadata": {
    "collapsed": true
   },
   "cell_type": "code",
   "source": [
    "# pytorch tensors\n",
    "\n",
    "tensor1 = torch.tensor([1, 2, 3])             # From a list\n",
    "tensor2 = torch.zeros(3, 4)                   # 3x4 matrix of zeros\n",
    "tensor3 = torch.rand(2, 3)                    # Random numbers\n",
    "tensor4 = torch.eye(3)                        # Identity matrix\n",
    "# key properties\n",
    "print(tensor1.shape)      # Shape\n",
    "print(tensor2.dtype)      # Data type\n",
    "print(tensor3.device)     # Device (CPU/GPU)\n",
    "\n"
   ],
   "id": "initial_id",
   "outputs": [],
   "execution_count": null
  },
  {
   "metadata": {},
   "cell_type": "code",
   "source": [
    "# Tensor Operations and manipulation\n",
    "a = torch.tensor([2, 4, 6])\n",
    "b = torch.tensor([1, 3, 5])\n",
    "\n",
    "add = a + b               # Addition\n",
    "sub = a - b               # Subtraction\n",
    "mul = a * b               # Element-wise multiplication\n",
    "div = a / b               # Division\n",
    "print(add)\n",
    "print(sub)\n",
    "print(mul)\n",
    "print(div)\n",
    "\n",
    "# reshape\n",
    "tensor = torch.arange(12)       # [0, 1, 2, ..., 11]\n",
    "reshaped = tensor.view(3, 4)    # Reshape to 3x4 matrix\n",
    "flattened = reshaped.flatten()  # Flatten back to 1D\n",
    "\n",
    "#moving data between gpu and cpu\n",
    "# Check for GPU\n",
    "device = torch.device(\"cuda\" if torch.cuda.is_available() else \"cpu\")\n",
    "\n",
    "# Move tensor to GPU\n",
    "tensor = torch.tensor([1, 2, 3]).to(device)\n"
   ],
   "id": "ddce6cd420cd62e0",
   "outputs": [],
   "execution_count": null
  },
  {
   "metadata": {},
   "cell_type": "code",
   "source": [
    "# Autograd\n",
    "x = torch.tensor(2.0, requires_grad=True)  # Track gradient\n",
    "print(x)\n",
    "y = x ** 3                                 # y = x³\n",
    "y.backward()                               # Backpropagation\n",
    "\n",
    "print(x.grad)                              # dy/dx = 3x² = 12\n"
   ],
   "id": "fcf2fb59497eaa14",
   "outputs": [],
   "execution_count": null
  },
  {
   "metadata": {},
   "cell_type": "code",
   "source": [
    "# building a neural network\n",
    "import torch.nn as nn\n",
    "import torch.nn.functional as F\n",
    "\n",
    "class NeuralNetwork(nn.Module):\n",
    "    def __init__(self):\n",
    "        super(NeuralNetwork, self).__init__()\n",
    "        self.fc1 = nn.Linear(4, 8)    # Input: 4 features → 8 neurons\n",
    "        self.fc2 = nn.Linear(8, 3)    # Hidden layer → 3 output classes\n",
    "\n",
    "    def forward(self, x):\n",
    "        x = F.relu(self.fc1(x))       # ReLU activation\n",
    "        x = self.fc2(x)               # Output layer\n",
    "        return x\n",
    "\n",
    "model = NeuralNetwork()\n"
   ],
   "id": "df62c15da7a06fee",
   "outputs": [],
   "execution_count": null
  },
  {
   "metadata": {},
   "cell_type": "code",
   "source": [
    "# training neural network:\n",
    "import torch.optim as optim\n",
    "\n",
    "# Data (dummy)\n",
    "X = torch.rand(10, 4)         # 10 samples, 4 features\n",
    "y = torch.randint(0, 3, (10,)) # 10 labels for 3 classes\n",
    "\n",
    "# Loss function & optimizer\n",
    "criterion = nn.CrossEntropyLoss()\n",
    "optimizer = optim.SGD(model.parameters(), lr=0.01)\n",
    "\n",
    "# Training loop\n",
    "for epoch in range(100):\n",
    "    outputs = model(X)                  # Forward pass\n",
    "    loss = criterion(outputs, y)       # Compute loss\n",
    "\n",
    "    optimizer.zero_grad()              # Clear gradients\n",
    "    loss.backward()                    # Backpropagation\n",
    "    optimizer.step()                   # Update weights\n",
    "\n",
    "    if epoch % 10 == 0:\n",
    "        print(f'Epoch {epoch}, Loss: {loss.item()}')\n"
   ],
   "id": "de0b55bf6c9a627e",
   "outputs": [],
   "execution_count": null
  },
  {
   "metadata": {},
   "cell_type": "code",
   "source": [
    "# optimizer\n",
    "#optimizer = optim.Adam(model.parameters(), lr=0.001)\n",
    "#scheduler = optim.lr_scheduler.StepLR(optimizer, step_size=30, gamma=0.1)\n"
   ],
   "id": "340d901caeecc3ca",
   "outputs": [],
   "execution_count": null
  },
  {
   "metadata": {},
   "cell_type": "code",
   "source": [
    "# loss functions\n",
    "#criterion = nn.CrossEntropyLoss()  # For multi-class classification\n",
    "#print(criterion(model(X), y).item())"
   ],
   "id": "8160f20b96dc2212",
   "outputs": [],
   "execution_count": null
  },
  {
   "metadata": {},
   "cell_type": "code",
   "source": [
    "# using a dataset\n",
    "from torch.utils.data import DataLoader, TensorDataset\n",
    "\n",
    "# Dataset\n",
    "dataset = TensorDataset(X, y)\n",
    "loader = DataLoader(dataset, batch_size=4, shuffle=True)\n",
    "\n",
    "# Training with DataLoader\n",
    "for batch in loader:\n",
    "    inputs, labels = batch\n",
    "    outputs = model(inputs)\n"
   ],
   "id": "af0a14e0bf5740c8",
   "outputs": [],
   "execution_count": null
  },
  {
   "metadata": {},
   "cell_type": "code",
   "source": [
    "# Model Evaluations and Metrics\n",
    "correct = 0\n",
    "total = 0\n",
    "\n",
    "with torch.no_grad():  # No gradient calculation during evaluation\n",
    "    for inputs, labels in loader:\n",
    "        outputs = model(inputs)\n",
    "        _, predicted = torch.max(outputs, 1)\n",
    "        total += labels.size(0)\n",
    "        correct += (predicted == labels).sum().item()\n",
    "\n",
    "accuracy = correct / total\n",
    "print(f'Accuracy: {accuracy * 100:.2f}%')\n"
   ],
   "id": "6816c4b66e7c3a92",
   "outputs": [],
   "execution_count": null
  },
  {
   "metadata": {},
   "cell_type": "code",
   "source": [
    "# confusion matrix and F1 Score\n",
    "from sklearn.metrics import confusion_matrix, f1_score\n",
    "\n",
    "# Convert tensors to NumPy\n",
    "y_true = labels.numpy()\n",
    "y_pred = predicted.numpy()\n",
    "\n",
    "# Metrics\n",
    "print(confusion_matrix(y_true, y_pred))\n",
    "print(f'F1 Score: {f1_score(y_true, y_pred, average=\"macro\")}')\n"
   ],
   "id": "34108fa290a9626a",
   "outputs": [],
   "execution_count": null
  },
  {
   "metadata": {},
   "cell_type": "code",
   "source": [
    "# Transfer learning and pretrained models\n",
    "from torchvision import models\n",
    "\n",
    "# Load a pretrained ResNet\n",
    "model = models.resnet18(pretrained=True)\n",
    "\n",
    "# Freeze layers (optional)\n",
    "for param in model.parameters():\n",
    "    param.requires_grad = False\n",
    "\n",
    "# Modify the final layer for new classification task\n",
    "model.fc = nn.Linear(512, 2)  # Adjusting output for 2 classes\n"
   ],
   "id": "ba4d96f7a4f4f9b7",
   "outputs": [],
   "execution_count": null
  },
  {
   "metadata": {},
   "cell_type": "code",
   "source": [
    "# Gpu acceleration with Cuda\n",
    "device = torch.device(\"cuda\" if torch.cuda.is_available() else \"cpu\")\n",
    "print(device)\n",
    "\n",
    "# Move model and data to GPU\n",
    "model.to(device)\n",
    "X, y = X.to(device), y.to(device)\n"
   ],
   "id": "cd39232d6da30cf4",
   "outputs": [],
   "execution_count": null
  },
  {
   "metadata": {},
   "cell_type": "code",
   "source": [
    "torch.save(model.state_dict(), 'model.pth')\n",
    "model.load_state_dict(torch.load('model.pth'))\n",
    "model.eval()  # Set to evaluation mode\n"
   ],
   "id": "6ed172e8a71aa959",
   "outputs": [],
   "execution_count": null
  }
 ],
 "metadata": {
  "kernelspec": {
   "display_name": "Python 3",
   "language": "python",
   "name": "python3"
  },
  "language_info": {
   "codemirror_mode": {
    "name": "ipython",
    "version": 2
   },
   "file_extension": ".py",
   "mimetype": "text/x-python",
   "name": "python",
   "nbconvert_exporter": "python",
   "pygments_lexer": "ipython2",
   "version": "2.7.6"
  }
 },
 "nbformat": 4,
 "nbformat_minor": 5
}
