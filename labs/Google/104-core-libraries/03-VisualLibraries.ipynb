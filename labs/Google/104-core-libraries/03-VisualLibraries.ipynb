{
 "cells": [
  {
   "metadata": {},
   "cell_type": "markdown",
   "source": [
    "## Captains Visual Library Journey\n",
    "For MatplotLib:\n",
    "Learning: https://matplotlib.org/\n",
    "Glossary: https://developers.google.com/machine-learning/glossary/#m\n"
   ],
   "id": "aa6e2b53b8bd4e8c"
  },
  {
   "metadata": {
    "collapsed": true
   },
   "cell_type": "code",
   "source": "import matplotlib.pyplot as plt",
   "id": "initial_id",
   "outputs": [],
   "execution_count": null
  },
  {
   "metadata": {},
   "cell_type": "code",
   "source": [
    "# This section goes over matplotlib Basics:\n",
    "#data\n",
    "x = [1, 2, 3, 4]\n",
    "y = [2, 4, 6, 8]\n",
    "#creating and showing a basic plot\n",
    "plt.plot(x,y)\n",
    "print(\"Basic Graph:\")\n",
    "plt.show()\n",
    "\n",
    "# customizing plots and adding labels\n",
    "plt.plot(x, y)\n",
    "plt.title(\"Basic Plot\")\n",
    "plt.xlabel(\"X-axis Label\")\n",
    "plt.grid(True)\n",
    "plt.ylabel(\"Y-axis Label\")\n",
    "print(\"Basic Graph with x and y axis labels. Also containing a Label:\")\n",
    "plt.show()\n",
    "#adding a legend and changes the color to red\n",
    "plt.plot(x, y, label=\"Line 1\")\n",
    "plt.legend()\n",
    "plt.plot(x, y, color=\"red\", linestyle=\"--\", linewidth=2)\n",
    "print(\"Basic Plot with a Legend and an red line:\")\n",
    "plt.show()\n",
    "\n",
    "\n",
    "\n"
   ],
   "id": "d6cbf34c28bd86a9",
   "outputs": [],
   "execution_count": null
  },
  {
   "metadata": {},
   "cell_type": "code",
   "source": [
    "\n",
    "# Creating a Plot that has multiple lines with 1 linestyle being --\n",
    "x = [1, 2, 3, 4]\n",
    "y1 = [10, 20, 25, 30]\n",
    "y2 = [15, 25, 30, 35]\n",
    "\n",
    "plt.plot(x, y1, label=\"Line 1\")\n",
    "plt.plot(x, y2, label=\"Line 2\", linestyle=\"--\")\n",
    "plt.legend()\n",
    "plt.show()\n"
   ],
   "id": "9e098e0d9bf829d1",
   "outputs": [],
   "execution_count": null
  },
  {
   "metadata": {},
   "cell_type": "code",
   "source": [
    "# Creating a ScatterPlot\n",
    "x = [1, 2, 3, 4]\n",
    "y = [10, 20, 25, 30]\n",
    "\n",
    "plt.scatter(x, y, color=\"blue\", marker=\"o\")\n",
    "plt.title(\"Scatter Plot\")\n",
    "plt.show()\n"
   ],
   "id": "b14c17caed1fdaeb",
   "outputs": [],
   "execution_count": null
  },
  {
   "metadata": {},
   "cell_type": "code",
   "source": [
    "# Creating a Bar Graph\n",
    "categories = ['A', 'B', 'C', 'D']\n",
    "values = [3, 7, 8, 5]\n",
    "\n",
    "plt.bar(categories, values, color=\"green\")\n",
    "plt.title(\"Bar Plot\")\n",
    "plt.show()\n"
   ],
   "id": "53cb718c301e0b5b",
   "outputs": [],
   "execution_count": null
  },
  {
   "metadata": {},
   "cell_type": "code",
   "source": [
    "#Creating a HistoGram\n",
    "data = [1, 1, 2, 3, 3, 3, 4, 4, 5, 6, 7]\n",
    "\n",
    "plt.hist(data, bins=5, color=\"purple\")\n",
    "plt.title(\"Histogram\")\n",
    "plt.show()\n"
   ],
   "id": "85698aac8f0748c9",
   "outputs": [],
   "execution_count": null
  },
  {
   "metadata": {},
   "cell_type": "code",
   "source": [
    "#Creating a Pie Chart\n",
    "sizes = [30, 20, 45, 5]\n",
    "labels = [\"Category A\", \"Category B\", \"Category C\", \"Category D\"]\n",
    "\n",
    "plt.pie(sizes, labels=labels, autopct=\"%1.1f%%\", startangle=90)\n",
    "plt.title(\"Pie Chart\")\n",
    "plt.show()\n"
   ],
   "id": "bd3c4bb50321829f",
   "outputs": [],
   "execution_count": null
  },
  {
   "metadata": {},
   "cell_type": "code",
   "source": [
    "#Creating simple subplots of a line graph and a bar graph\n",
    "plt.subplot(1, 2, 1)  # (rows, columns, index)\n",
    "plt.plot(x, y)\n",
    "plt.title(\"Plot 1\")\n",
    "\n",
    "plt.subplot(1, 2, 2)\n",
    "plt.bar(categories, values)\n",
    "plt.title(\"Plot 2\")\n",
    "\n",
    "plt.show()\n"
   ],
   "id": "63f27f2ba7eeba74",
   "outputs": [],
   "execution_count": null
  },
  {
   "metadata": {},
   "cell_type": "code",
   "source": [
    "# Subplots with different layouts\n",
    "ax = plt.subplots(2, 1)  # 2 rows, 1 column\n",
    "ax[0].plot(x, y)\n",
    "ax[0].set_title(\"Line Plot\")\n",
    "ax[1].bar(categories, values)\n",
    "ax[1].set_title(\"Bar Plot\")\n",
    "plt.tight_layout()\n",
    "plt.show()\n"
   ],
   "id": "9ad81968f0de2056",
   "outputs": [],
   "execution_count": null
  },
  {
   "metadata": {},
   "cell_type": "code",
   "source": [
    "#Advanced Customization for Matplot\n",
    "#Axis Limits\n",
    "plt.plot(x, y)\n",
    "plt.xlim(0, 5)\n",
    "plt.ylim(0, 40)\n",
    "plt.show()\n",
    "#Logarithmic Scale\n",
    "plt.plot(x, y)\n",
    "plt.yscale('log')\n",
    "plt.show()\n"
   ],
   "id": "3e869eab1a7e7b01",
   "outputs": [],
   "execution_count": null
  },
  {
   "metadata": {},
   "cell_type": "code",
   "source": [
    "# 3d graphs using x, y and z\n",
    "FIGURE = plt.figure()\n",
    "ax = FIGURE.add_subplot(111, projection='3d')\n",
    "\n",
    "x = [1, 2, 3, 4]\n",
    "y = [10, 20, 25, 30]\n",
    "z = [0, 1, 2, 3]\n",
    "\n",
    "ax.plot(x, y, z)\n",
    "plt.show()\n"
   ],
   "id": "51032f6a6ea748de",
   "outputs": [],
   "execution_count": null
  },
  {
   "metadata": {},
   "cell_type": "markdown",
   "source": [
    "And this is my Matplotlib journey of basics complete, but we are not done as we will also learn about seaborn\n",
    "learning: https://seaborn.pydata.org/"
   ],
   "id": "ccd78269645d525d"
  },
  {
   "metadata": {},
   "cell_type": "code",
   "source": [
    "import seaborn as sns\n",
    "# How to load in a dataset\n",
    "tips = sns.load_dataset(\"tips\")\n",
    "print(tips.head()) # notice how we are using.head so that we only get the first 5 rows, this works as seaborn is built on top of matplotlib\n",
    "# setting a theme\n",
    "sns.set_theme(style=\"darkgrid\")  # seaborn has themes that matplot does not\n",
    "sns.scatterplot(data=tips, x=\"total_bill\", y=\"tip\", hue=\"sex\", style=\"time\") # inherited scatterplot from matplot\n",
    "plt.show()\n",
    "\n",
    "\n"
   ],
   "id": "1b27c3c1f2329f73",
   "outputs": [],
   "execution_count": null
  },
  {
   "metadata": {},
   "cell_type": "code",
   "source": [
    "#now we will be exploring all of seaborns plots\n",
    "#lineplot\n",
    "sns.lineplot(data=tips, x=\"size\", y=\"total_bill\", hue=\"sex\")\n",
    "plt.show()\n"
   ],
   "id": "813fd91513dcd201",
   "outputs": [],
   "execution_count": null
  },
  {
   "metadata": {},
   "cell_type": "code",
   "source": [
    "# bar plot\n",
    "sns.barplot(data=tips, x=\"day\", y=\"total_bill\", hue=\"sex\")\n",
    "plt.show()\n"
   ],
   "id": "c29da9eebcc8492b",
   "outputs": [],
   "execution_count": null
  },
  {
   "metadata": {},
   "cell_type": "code",
   "source": [
    "# histogram\n",
    "sns.histplot(data=tips, x=\"total_bill\", bins=10, kde=True)\n",
    "plt.show()\n"
   ],
   "id": "e7d72f27e481e1f",
   "outputs": [],
   "execution_count": null
  },
  {
   "metadata": {},
   "cell_type": "code",
   "source": [
    "# box plot\n",
    "sns.boxplot(data=tips, x=\"day\", y=\"total_bill\", hue=\"sex\")\n",
    "plt.show()\n"
   ],
   "id": "1a9a6bb84529f9e7",
   "outputs": [],
   "execution_count": null
  },
  {
   "metadata": {},
   "cell_type": "code",
   "source": [
    "# violin plot\n",
    "sns.violinplot(data=tips, x=\"day\", y=\"total_bill\", hue=\"sex\", split=True)\n",
    "plt.show()\n"
   ],
   "id": "1fd52679386527c9",
   "outputs": [],
   "execution_count": null
  },
  {
   "metadata": {},
   "cell_type": "code",
   "source": [
    "# time for some more advanced plots\n",
    "sns.pairplot(tips, hue=\"sex\")\n",
    "plt.show()\n"
   ],
   "id": "31d65295dd3a0536",
   "outputs": [],
   "execution_count": null
  },
  {
   "metadata": {},
   "cell_type": "code",
   "source": [
    "#joint plot\n",
    "sns.jointplot(data=tips, x=\"total_bill\", y=\"tip\", kind=\"hex\")\n",
    "plt.show()\n",
    "\n"
   ],
   "id": "fc8134a2061db3f6",
   "outputs": [],
   "execution_count": null
  },
  {
   "metadata": {},
   "cell_type": "code",
   "source": [
    "# customizing seaborn\n",
    "# adding a title and labels.\n",
    "sns.scatterplot(data=tips, x=\"total_bill\", y=\"tip\")\n",
    "plt.title(\"Scatter Plot of Tips vs. Total Bill\")\n",
    "plt.xlabel(\"Total Bill\")\n",
    "plt.ylabel(\"Tip\")\n",
    "plt.show()\n",
    "#ajusting size\n",
    "sns.set_theme(rc={\"figure.figsize\": (8, 6)})  # Width, Height\n",
    "sns.histplot(data=tips, x=\"total_bill\", bins=10, kde=True)\n",
    "plt.show()\n",
    "#changing color\n",
    "sns.set_palette(\"deep\")  # Other palettes: deep, bright, dark, colorblind, etc.\n",
    "sns.barplot(data=tips, x=\"day\", y=\"total_bill\")\n",
    "plt.show()\n",
    "\n",
    "\n"
   ],
   "id": "3cd285a84815bfa4",
   "outputs": [],
   "execution_count": null
  },
  {
   "metadata": {},
   "cell_type": "code",
   "source": [
    "# facet grids\n",
    "g = sns.FacetGrid(tips, col=\"sex\", row=\"time\")\n",
    "g.map(sns.scatterplot, \"total_bill\", \"tip\")\n",
    "plt.show()\n"
   ],
   "id": "6ad93e369c81fc67",
   "outputs": [],
   "execution_count": null
  },
  {
   "metadata": {},
   "cell_type": "markdown",
   "source": [
    "We are also going to be learning plotly!\n",
    "Learning: https://plotly.com/"
   ],
   "id": "976cecd7f14f952e"
  },
  {
   "metadata": {},
   "cell_type": "code",
   "source": [
    "import plotly.express as px  # For high-level interface\n",
    "import plotly.graph_objects as go  # For advanced customizations\n",
    "# scatter plot\n",
    "# Sample data\n",
    "df = px.data.iris()  # Built-in dataset\n",
    "fig = px.scatter(df, x=\"sepal_width\", y=\"sepal_length\", color=\"species\")\n",
    "fig.show()\n"
   ],
   "id": "2944e618b8167c7a",
   "outputs": [],
   "execution_count": null
  },
  {
   "metadata": {},
   "cell_type": "code",
   "source": [
    "# Line Plot\n",
    "fig = px.line(x=[1, 2, 3, 4], y=[10, 15, 13, 17], title=\"Line Plot Example\")\n",
    "fig.show()\n"
   ],
   "id": "aa51d78703300204",
   "outputs": [],
   "execution_count": null
  },
  {
   "metadata": {},
   "cell_type": "code",
   "source": [
    "# bar plot\n",
    "df = px.data.tips()  # Built-in dataset\n",
    "fig = px.bar(df, x=\"day\", y=\"total_bill\", color=\"sex\", barmode=\"group\")\n",
    "fig.show()\n"
   ],
   "id": "97d7389e386dc15f",
   "outputs": [],
   "execution_count": null
  },
  {
   "metadata": {},
   "cell_type": "code",
   "source": [
    "# histogram\n",
    "fig = px.histogram(df, x=\"total_bill\", nbins=20, color=\"sex\")\n",
    "fig.show()\n"
   ],
   "id": "e4b545d1ce0dcecd",
   "outputs": [],
   "execution_count": null
  },
  {
   "metadata": {},
   "cell_type": "code",
   "source": [
    "# pie chart\n",
    "fig = px.pie(df, values=\"total_bill\", names=\"day\", title=\"Pie Chart Example\")\n",
    "fig.show()\n"
   ],
   "id": "b9966ab78e4043e6",
   "outputs": [],
   "execution_count": null
  },
  {
   "metadata": {},
   "cell_type": "code",
   "source": [
    "# 3d size\n",
    "fig = px.scatter_3d(\n",
    "    df, x=\"sex\", y=\"tip\", z=\"day\", color=\"size\"\n",
    ")\n",
    "fig.show()\n"
   ],
   "id": "a6af6d6096e0a6b7",
   "outputs": [],
   "execution_count": null
  },
  {
   "metadata": {},
   "cell_type": "code",
   "source": [
    "# 3d\n",
    "fig = go.Figure(data=go.Scatter3d(\n",
    "    x=[1, 2, 3],\n",
    "    y=[4, 5, 6],\n",
    "    z=[7, 8, 9],\n",
    "    mode='lines+markers'\n",
    "))\n",
    "fig.show()\n"
   ],
   "id": "d107e6bb96071807",
   "outputs": [],
   "execution_count": null
  },
  {
   "metadata": {},
   "cell_type": "code",
   "source": [
    "# HeatMaps\n",
    "import numpy as np\n",
    "import pandas as pd\n",
    "\n",
    "# Generate random data\n",
    "data = np.random.rand(10, 10)\n",
    "fig = px.imshow(data, color_continuous_scale=\"Viridis\", title=\"Heatmap Example\")\n",
    "fig.show()\n"
   ],
   "id": "a126991ecaa41264",
   "outputs": [],
   "execution_count": null
  },
  {
   "metadata": {},
   "cell_type": "code",
   "source": [
    "# Customizing Plots\n",
    "\n",
    "fig = px.scatter(df, x=\"sepal_width\", y=\"sepal_length\", color=\"species\")\n",
    "fig.update_layout(\n",
    "    title=\"Custom Scatter Plot\",\n",
    "    xaxis_title=\"Sepal Width\",\n",
    "    yaxis_title=\"Sepal Length\"\n",
    ")\n",
    "fig.show()\n",
    "fig = go.Figure()\n",
    "fig.add_trace(go.Scatter(x=[1, 2, 3], y=[4, 5, 6], mode=\"lines\", name=\"Line\"))\n",
    "fig.update_traces(line=dict(color=\"blue\", width=4))\n",
    "fig.show()\n",
    "\n",
    "fig = px.scatter(df, x=\"sepal_width\", y=\"sepal_length\", color=\"species\")\n",
    "fig.update_layout(template=\"plotly_dark\")  # Try other templates: \"ggplot2\", \"seaborn\"\n",
    "fig.show()\n",
    "\n"
   ],
   "id": "b3008cb98f2e4a33",
   "outputs": [],
   "execution_count": null
  },
  {
   "metadata": {},
   "cell_type": "code",
   "source": [
    "# Dash Boards And Subplots\n",
    "from plotly.subplots import make_subplots\n",
    "\n",
    "# Create subplots\n",
    "fig = make_subplots(rows=1, cols=2)\n",
    "\n",
    "# Add plots to subplots\n",
    "fig.add_trace(go.Scatter(x=[1, 2, 3], y=[4, 5, 6], mode=\"lines\", name=\"Line 1\"), row=1, col=1)\n",
    "fig.add_trace(go.Bar(x=[\"A\", \"B\", \"C\"], y=[10, 20, 30], name=\"Bar 1\"), row=1, col=2)\n",
    "\n",
    "# Update layout\n",
    "fig.update_layout(title=\"Dashboard Example\")\n",
    "fig.show()\n"
   ],
   "id": "cab82ad3968f5809",
   "outputs": [],
   "execution_count": null
  },
  {
   "metadata": {},
   "cell_type": "code",
   "source": [
    "# animation\n",
    "fig = px.scatter(\n",
    "    df, x=\"sepal_width\", y=\"sepal_length\", color=\"species\", animation_frame=\"species\"\n",
    ")\n",
    "fig.show()\n"
   ],
   "id": "9f2e344c1e265d22",
   "outputs": [],
   "execution_count": null
  },
  {
   "metadata": {},
   "cell_type": "code",
   "source": [
    "# Available datasets\n",
    "print(px.data.available())\n",
    "\n",
    "# Load dataset\n",
    "df = px.data.gapminder()\n",
    "print(df.head())\n"
   ],
   "id": "b83dbeee8c1df1dd",
   "outputs": [],
   "execution_count": null
  },
  {
   "metadata": {},
   "cell_type": "markdown",
   "source": "And That is my Journey with visual libraries.",
   "id": "862c1a42bd13d8c4"
  }
 ],
 "metadata": {
  "kernelspec": {
   "display_name": "Python 3",
   "language": "python",
   "name": "python3"
  },
  "language_info": {
   "codemirror_mode": {
    "name": "ipython",
    "version": 2
   },
   "file_extension": ".py",
   "mimetype": "text/x-python",
   "name": "python",
   "nbconvert_exporter": "python",
   "pygments_lexer": "ipython2",
   "version": "2.7.6"
  }
 },
 "nbformat": 4,
 "nbformat_minor": 5
}
