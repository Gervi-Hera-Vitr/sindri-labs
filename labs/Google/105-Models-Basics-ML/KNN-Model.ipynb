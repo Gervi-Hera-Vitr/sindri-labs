{
 "cells": [
  {
   "metadata": {},
   "cell_type": "markdown",
   "source": [
    "## What is a knn?\n",
    "A knn is the simplest machine learning model and can also be Identified as an algorithm.\n",
    "Instance-Based Learning: KNN does not learn a function during training. Instead, it memorizes the dataset and makes\n",
    " predictions based on neighboring data points.\n",
    "Lazy Learning: No actual model is built during training; predictions are made at runtime by looking at nearby data points.\n",
    "Distance-Based Classification: KNN classifies a new point based on the majority class of its nearest neighbors.\n",
    "How it really works:\n",
    "It chooses K, the number of neighbors to consider, Find the K closest points and dataset using a distance metric.\n",
    "Then it predicts the value based off of its neighbors values.\n"
   ],
   "id": "ffb06278f8f106a2"
  },
  {
   "metadata": {
    "collapsed": true
   },
   "cell_type": "code",
   "source": [
    "# import libraries\n",
    "import numpy as np\n",
    "import pandas as pd\n",
    "import matplotlib.pyplot as plt\n",
    "from sklearn.model_selection import train_test_split\n",
    "from sklearn.preprocessing import StandardScaler\n",
    "from sklearn.neighbors import KNeighborsClassifier\n",
    "from sklearn.metrics import accuracy_score, classification_report, confusion_matrix\n"
   ],
   "id": "initial_id",
   "outputs": [],
   "execution_count": null
  },
  {
   "metadata": {},
   "cell_type": "code",
   "source": [
    "# Using Iris dataset\n",
    "from sklearn.datasets import load_iris\n",
    "\n",
    "# Load dataset\n",
    "iris = load_iris()\n",
    "X = iris.data   # Features\n",
    "y = iris.target # Labels (0,1,2 for three flower species)\n",
    "\n",
    "# Convert to DataFrame for better understanding\n",
    "df = pd.DataFrame(X, columns=iris.feature_names)\n",
    "df['species'] = y  # Add target labels\n",
    "print(df.head())\n"
   ],
   "id": "76847523545960e2",
   "outputs": [],
   "execution_count": null
  },
  {
   "metadata": {},
   "cell_type": "code",
   "source": [
    "# PreProcessing\n",
    "X_train, X_test, y_train, y_test = train_test_split(X, y, test_size=0.2, random_state=42)\n",
    "scaler = StandardScaler()\n",
    "X_train = scaler.fit_transform(X_train)\n",
    "X_test = scaler.transform(X_test)\n"
   ],
   "id": "1112806e532a1954",
   "outputs": [],
   "execution_count": null
  },
  {
   "metadata": {},
   "cell_type": "code",
   "source": [
    "# train the Knn model\n",
    "knn = KNeighborsClassifier(n_neighbors=5)\n",
    "knn.fit(X_train, y_train)\n"
   ],
   "id": "7319656c9b395613",
   "outputs": [],
   "execution_count": null
  },
  {
   "metadata": {},
   "cell_type": "code",
   "source": [
    "# make predictions\n",
    "y_pred = knn.predict(X_test)\n"
   ],
   "id": "661f98f22c30d0ba",
   "outputs": [],
   "execution_count": null
  },
  {
   "metadata": {},
   "cell_type": "code",
   "source": [
    "# evaluate the model\n",
    "accuracy = accuracy_score(y_test, y_pred)\n",
    "print(f'Accuracy: {accuracy * 100:.2f}%')\n",
    "print(\"Confusion Matrix:\\n\", confusion_matrix(y_test, y_pred))\n",
    "print(\"\\nClassification Report:\\n\", classification_report(y_test, y_pred))\n",
    "\n"
   ],
   "id": "d772940034e84afd",
   "outputs": [],
   "execution_count": null
  },
  {
   "metadata": {},
   "cell_type": "code",
   "source": [
    "# Visualize the knn decision boundary\n",
    "from matplotlib.colors import ListedColormap\n",
    "\n",
    "# Function to plot decision boundary\n",
    "def plot_decision_boundary(X, y, model, title):\n",
    "    h = 0.02  # Step size in the mesh\n",
    "    x_min, x_max = X[:, 0].min() - 1, X[:, 0].max() + 1\n",
    "    y_min, y_max = X[:, 1].min() - 1, X[:, 1].max() + 1\n",
    "    xx, yy = np.meshgrid(np.arange(x_min, x_max, h),\n",
    "                         np.arange(y_min, y_max, h))\n",
    "    Z = model.predict(np.c_[xx.ravel(), yy.ravel()])\n",
    "    Z = Z.reshape(xx.shape)\n",
    "\n",
    "    plt.contourf(xx, yy, Z, alpha=0.3)\n",
    "    scatter = plt.scatter(X[:, 0], X[:, 1], c=y, edgecolors='k', cmap=ListedColormap(['red', 'green', 'blue']))\n",
    "    plt.title(title)\n",
    "    plt.show()\n",
    "\n",
    "# Use only 2 features for visualization\n",
    "X_vis = X_train[:, :2]\n",
    "knn_vis = KNeighborsClassifier(n_neighbors=5)\n",
    "knn_vis.fit(X_vis, y_train)\n",
    "\n",
    "plot_decision_boundary(X_vis, y_train, knn_vis, \"KNN Decision Boundary (k=5)\")\n"
   ],
   "id": "df2ce84eeaad0c5c",
   "outputs": [],
   "execution_count": null
  }
 ],
 "metadata": {
  "kernelspec": {
   "display_name": "Python 3",
   "language": "python",
   "name": "python3"
  },
  "language_info": {
   "codemirror_mode": {
    "name": "ipython",
    "version": 2
   },
   "file_extension": ".py",
   "mimetype": "text/x-python",
   "name": "python",
   "nbconvert_exporter": "python",
   "pygments_lexer": "ipython2",
   "version": "2.7.6"
  }
 },
 "nbformat": 4,
 "nbformat_minor": 5
}
