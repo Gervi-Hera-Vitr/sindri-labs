{
 "cells": [
  {
   "metadata": {},
   "cell_type": "markdown",
   "source": [
    "How logistic regression works:\n",
    "Logistic Regression is a classification algorithm that predicts the probability of an event occurring, using the sigmoid function to squash outputs between 0 and 1. It starts by computing a weighted sum of input features (like Linear Regression), then applies the sigmoid function to convert this into a probability. If the probability is ≥ 0.5, the model classifies the input as 1 (e.g., \"Spam\"), otherwise, as 0 (e.g., \"Not Spam\"). The model is trained using log loss (cross-entropy) to measure error and gradient descent to adjust weights iteratively, improving predictions. Logistic Regression is widely used for binary classification problems, such as fraud detection, medical diagnosis, and sentiment analysis. 🚀"
   ],
   "id": "180ad05ae00ad803"
  },
  {
   "metadata": {
    "collapsed": true
   },
   "cell_type": "code",
   "source": [
    "# import libraries:\n",
    "import numpy as np\n",
    "import pandas as pd\n",
    "import matplotlib.pyplot as plt\n",
    "from sklearn.model_selection import train_test_split\n",
    "from sklearn.linear_model import LogisticRegression\n",
    "from sklearn.datasets import load_iris\n",
    "from sklearn.metrics import accuracy_score, classification_report, confusion_matrix\n"
   ],
   "id": "initial_id",
   "outputs": [],
   "execution_count": null
  },
  {
   "metadata": {},
   "cell_type": "code",
   "source": [
    "# load and prepare data\n",
    "# Load the dataset\n",
    "iris = load_iris()\n",
    "X, y = iris.data, iris.target\n",
    "\n",
    "# Convert to binary classification: Setosa (0) vs. Others (1)\n",
    "y = (y > 0).astype(int)\n",
    "\n",
    "# Split into train and test sets (80% training, 20% testing)\n",
    "X_train, X_test, y_train, y_test = train_test_split(X, y, test_size=0.2, random_state=42)\n",
    "\n",
    "print(f\"Training data size: {X_train.shape}\")\n",
    "print(f\"Test data size: {X_test.shape}\")\n"
   ],
   "id": "f0b89972092f6422",
   "outputs": [],
   "execution_count": null
  },
  {
   "metadata": {},
   "cell_type": "code",
   "source": [
    "# train model:\n",
    "# Train Logistic Regression Model\n",
    "log_reg = LogisticRegression()\n",
    "log_reg.fit(X_train, y_train)\n",
    "\n",
    "# Make predictions\n",
    "y_pred = log_reg.predict(X_test)\n"
   ],
   "id": "95d142d8a27f35e3",
   "outputs": [],
   "execution_count": null
  },
  {
   "metadata": {},
   "cell_type": "code",
   "source": [
    "# evaluate model\n",
    "accuracy = accuracy_score(y_test, y_pred)\n",
    "print(f\"Model Accuracy: {accuracy * 100:.2f}%\")\n",
    "\n",
    "print(\"Confusion Matrix:\\n\", confusion_matrix(y_test, y_pred))\n",
    "\n",
    "print(\"\\nClassification Report:\\n\", classification_report(y_test, y_pred))\n"
   ],
   "id": "2d999b7d985a2115",
   "outputs": [],
   "execution_count": null
  },
  {
   "metadata": {},
   "cell_type": "code",
   "source": [
    "#vizulization\n",
    "# Sigmoid function\n",
    "def sigmoid(z):\n",
    "    return 1 / (1 + np.exp(-z))\n",
    "\n",
    "# Plot the sigmoid function\n",
    "z = np.linspace(-10, 10, 100)\n",
    "p = sigmoid(z)\n",
    "\n",
    "plt.plot(z, p, label=\"Sigmoid Function\")\n",
    "plt.axhline(0.5, color='r', linestyle=\"dashed\")  # Decision boundary\n",
    "plt.xlabel(\"Input (z)\")\n",
    "plt.ylabel(\"Probability\")\n",
    "plt.title(\"Sigmoid Function\")\n",
    "plt.legend()\n",
    "plt.show()\n"
   ],
   "id": "b2970225f3c7aad8",
   "outputs": [],
   "execution_count": null
  }
 ],
 "metadata": {
  "kernelspec": {
   "display_name": "Python 3",
   "language": "python",
   "name": "python3"
  },
  "language_info": {
   "codemirror_mode": {
    "name": "ipython",
    "version": 2
   },
   "file_extension": ".py",
   "mimetype": "text/x-python",
   "name": "python",
   "nbconvert_exporter": "python",
   "pygments_lexer": "ipython2",
   "version": "2.7.6"
  }
 },
 "nbformat": 4,
 "nbformat_minor": 5
}
