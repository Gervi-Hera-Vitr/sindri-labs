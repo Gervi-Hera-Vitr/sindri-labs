{
 "cells": [
  {
   "metadata": {},
   "cell_type": "markdown",
   "source": [
    "How linear regression works:\n",
    "Linear Regression is a supervised learning algorithm used to predict continuous values by finding the best-fit line through data points. It calculates a weighted sum of input features plus a bias, using the formula\n",
    "y=mx+b, where m represents the slope (weight), and\n",
    "b is the intercept. The goal is to minimize the Mean Squared Error (MSE) between predictions and actual values by adjusting weights using Gradient Descent, which iteratively reduces the error. Unlike Logistic Regression (which predicts probabilities for classification), Linear Regression is used for predicting numerical values, such as house prices, stock prices, or sales forecasts. 🚀"
   ],
   "id": "fb7b805e6fc8c762"
  },
  {
   "cell_type": "code",
   "id": "initial_id",
   "metadata": {
    "collapsed": true
   },
   "source": [
    "# import the libraries\n",
    "import numpy as np\n",
    "import pandas as pd\n",
    "import matplotlib.pyplot as plt\n",
    "from sklearn.model_selection import train_test_split\n",
    "from sklearn.linear_model import LinearRegression"
   ],
   "outputs": [],
   "execution_count": null
  },
  {
   "metadata": {},
   "cell_type": "code",
   "source": [
    "# Data\n",
    "X = np.array([600, 650, 700, 750, 800, 850]).reshape(-1, 1)\n",
    "y = np.array([300000, 320000, 340000, 360000, 380000, 400000])"
   ],
   "id": "af87f50abc64c754",
   "outputs": [],
   "execution_count": null
  },
  {
   "metadata": {},
   "cell_type": "code",
   "source": [
    "# preprocessing\n",
    "X_train, X_test, y_train, y_test = train_test_split(X, y, test_size=0.2, random_state=42)\n"
   ],
   "id": "9340dfca34665530",
   "outputs": [],
   "execution_count": null
  },
  {
   "metadata": {},
   "cell_type": "code",
   "source": [
    "# train the model\n",
    "model = LinearRegression()\n",
    "model.fit(X_train, y_train)"
   ],
   "id": "7fbb0a2ff9c90533",
   "outputs": [],
   "execution_count": null
  },
  {
   "metadata": {},
   "cell_type": "code",
   "source": [
    "# Predict on test data\n",
    "y_pred = model.predict(X_test)\n",
    "print(model.score(X_test, y_test) * 100)"
   ],
   "id": "ff58aece96da0685",
   "outputs": [],
   "execution_count": null
  },
  {
   "metadata": {},
   "cell_type": "code",
   "source": [
    "# Plot the regression line\n",
    "plt.scatter(X, y, color='blue', label=\"Actual Data\")\n",
    "plt.plot(X, model.predict(X), color='red', label=\"Regression Line\")\n",
    "plt.xlabel(\"House Size (sq ft)\")\n",
    "plt.ylabel(\"Price ($)\")\n",
    "plt.legend()\n",
    "plt.show()"
   ],
   "id": "8d06072ffa9c7c7a",
   "outputs": [],
   "execution_count": null
  }
 ],
 "metadata": {
  "kernelspec": {
   "display_name": "Python 3",
   "language": "python",
   "name": "python3"
  },
  "language_info": {
   "codemirror_mode": {
    "name": "ipython",
    "version": 2
   },
   "file_extension": ".py",
   "mimetype": "text/x-python",
   "name": "python",
   "nbconvert_exporter": "python",
   "pygments_lexer": "ipython2",
   "version": "2.7.6"
  }
 },
 "nbformat": 4,
 "nbformat_minor": 5
}
