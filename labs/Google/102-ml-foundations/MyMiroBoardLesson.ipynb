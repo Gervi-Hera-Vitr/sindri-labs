{
 "cells": [
  {
   "metadata": {},
   "cell_type": "markdown",
   "source": [
    "# Examining CaptainLugaru's MiroBoard\n",
    "\n",
    "[CaptainLugaru's MiroBoard](https://miro.com/app/board/uXjVL-vk0o4=/ \"Last mindmap board state.\") - Original design and brainstorming."
   ],
   "id": "4c4566e2d30852ab"
  },
  {
   "metadata": {},
   "cell_type": "markdown",
   "source": "Class 1 Code:\n",
   "id": "53ec3d8ae9d9d7a3"
  },
  {
   "metadata": {},
   "cell_type": "code",
   "source": "",
   "id": "742fcff2142fab1d",
   "outputs": [],
   "execution_count": null
  },
  {
   "metadata": {},
   "cell_type": "code",
   "source": [
    "import keras\n",
    "import numpy as np\n",
    "\n",
    "model = keras.Sequential([keras.layers.Dense(units=1, input_shape=[1])])\n",
    "model.compile(optimizer='sgd', loss='mean_squared_error')\n",
    "xs = np.array([-1.0, 0.0, 1.0, 2.0, 3.0, 4.0], dtype=float)\n",
    "ys = np.array([-3.0, -1.0, 1.0, 3.0, 5.0, 7.0], dtype=float)\n",
    "\n",
    "model.fit(xs, ys, epochs=200)\n",
    "\n",
    "outcome = model.predict(np.array([4.0]))\n",
    "print(outcome.round())\n"
   ],
   "id": "bdb34a8ad01b63ac",
   "outputs": [],
   "execution_count": null
  }
 ],
 "metadata": {
  "kernelspec": {
   "display_name": "Python 3",
   "language": "python",
   "name": "python3"
  },
  "language_info": {
   "codemirror_mode": {
    "name": "ipython",
    "version": 2
   },
   "file_extension": ".py",
   "mimetype": "text/x-python",
   "name": "python",
   "nbconvert_exporter": "python",
   "pygments_lexer": "ipython2",
   "version": "2.7.6"
  }
 },
 "nbformat": 4,
 "nbformat_minor": 5
}
