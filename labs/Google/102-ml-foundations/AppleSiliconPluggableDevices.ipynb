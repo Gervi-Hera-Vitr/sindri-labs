{
 "cells": [
  {
   "metadata": {},
   "cell_type": "markdown",
   "source": [
    "# Apple Silicon; M1+ and Pluggable Devices\n",
    "\n",
    "This addresses the current complications of running accelerated Tensorflow on MacBook Pro with Apple Silicon.\n",
    "\n",
    "Apparently a genius name *_Penporn_* forgot that people DO machine learning on MacBook Pro with Apple Silicon.\n",
    "It all starts with this [PluggableDevice: Device Plugins for TensorFlow](https://blog.tensorflow.org/2021/06/pluggabledevice-device-plugins-for-TensorFlow.html \"Apple post to TensorFlow blog\") post on June 07, 2021.\n",
    "This post was about everything and *NOTHING* at the same time -- a feat only a true genius can achieve.\n",
    "Yet good folks have created a bridging library Apple gladly passed as their own `tensorflow_macos`, not of the TensorFlow community.\n",
    "As time passes and important additions make their creeping slow way into `tensorflow` people want to be able to use local GPU acceleration with the Apple Silicon chip more.\n",
    "And then Apple's own development finally takes place: Metal! See [Get started with tensorflow-metal](https://developer.apple.com/metal/tensorflow-plugin/) which can be installed through Pip.\n",
    "\n",
    "- [tensorflow-metal 1.2.0](https://pypi.org/project/tensorflow-metal/ \"TensorFlow acceleration for Mac GPUs.\") -- This is your current decrepit salvation!\n",
    "\n",
    "## How to install Properly!\n",
    "\n",
    "1. First, and most important -- rip out all of your tensorflow installation.\n",
    "2. Then, run the following command: `pip install tensorflow==2.17 tensorflow-metal`\n",
    "3. Verify that you see something like this: `Successfully installed libclang-18.1.1 protobuf-4.25.6 tensorflow-2.17.0 tensorflow-metal-1.2.0`\n",
    "4. Conda should also say something like this:\n",
    "```shell\n",
    "conda list | grep tensorflow\n",
    "tensorflow-base           2.17.0          cpu_py312had574b8_3     conda-forge\n",
    "tensorflow-metal          1.2.0           pypi_0                  pypi\n",
    "```\n",
    "5. Run the dumbo next cell, example provided by Apple in the Pip repository above.\n",
    "6. If your installation has failed, then you will not even see the downloading step message like this: Downloading data from https://www.cs.toronto.edu/~kriz/cifar-100-python.tar.gz\n",
    "7. When successful, you should see the folowing confirmation in the cell log after the download:\n",
    "```shell\n",
    "2025-03-07 07:23:49.017465: I metal_plugin/src/device/metal_device.cc:1154] Metal device set to: Apple M1 Max\n",
    "2025-03-07 07:23:49.017501: I metal_plugin/src/device/metal_device.cc:296] systemMemory: 64.00 GB\n",
    "2025-03-07 07:23:49.017510: I metal_plugin/src/device/metal_device.cc:313] maxCacheSize: 10.67 GB\n",
    "2025-03-07 07:23:49.017523: I tensorflow/core/common_runtime/pluggable_device/pluggable_device_factory.cc:305] Could not identify NUMA node of platform GPU ID 0, defaulting to 0. Your kernel may not have been built with NUMA support.\n",
    "2025-03-07 07:23:49.017532: I tensorflow/core/common_runtime/pluggable_device/pluggable_device_factory.cc:271] Created TensorFlow device (/job:localhost/replica:0/task:0/device:GPU:0 with 0 MB memory) -> physical PluggableDevice (device: 0, name: METAL, pci bus id: <undefined>)\n",
    "```\n",
    "8. Don't mind all the undefined symbols, Apple is happy with those on all the machines I've tested this with.\n",
    "9. On the first epoch you should see the confirmation of the GPU acceleration: `Epoch 1/5. 2025-03-07 07:23:56.845964: I tensorflow/core/grappler/optimizers/custom_graph_optimizer_registry.cc:117] Plugin optimizer for device_type GPU is enabled.`\n",
    "\n",
    "NOTE: I am on Python==3.12.8! 3.12.9 will NOT work for you with tensorflow-metal 1.2.0!\n",
    "\n",
    "The last thing to check on is that this long model and the large data set actually peg your GPU good past half the time.\n",
    "Pop open your Activity Monitor and make sure your GPY column is selected to show.\n",
    "In my case it looks something like this:\n",
    "\n",
    "<img src=\"resources/img/metal-gpu-by-python.png\" style=\"width: 1800px; float: left; \" alt=\"Screenshot of the Activity Monitor showing GPU usage while running a model with tensorflow-metal off of the Pip repository example in the cell below.\" />\n",
    "\n",
    "NOTE: My runtime on my M1 box and this dataset and model is about 20 minutes. But I saw much better times on M2 and M3.\n",
    "\n",
    "## Important Resources\n",
    "\n",
    "- [tensorflow-metal 1.2.0](https://pypi.org/project/tensorflow-metal/ \"TensorFlow acceleration for Mac GPUs.\") -- This is your current decrepit salvation!\n",
    "- [Get started with tensorflow-metal](https://developer.apple.com/metal/tensorflow-plugin/) -- Apple's own development finally takes place: Metal!\n",
    "- [PluggableDevice: Device Plugins for TensorFlow](https://blog.tensorflow.org/2021/06/pluggabledevice-device-plugins-for-TensorFlow.html \"Apple post to TensorFlow blog\") post on June 07, 2021.\n",
    "- [Apple Developer Forum](https://developer.apple.com/forums/ \"Apple Developer Forum\")\n",
    "    - [tensorflow-metal](https://developer.apple.com/forums/tags/tensorflow-metal/ \"TensorFlow accelerates machine learning model training with Metal on Mac GPUs.\")\n",
    "    - [Attempts to install Tensorflow on Mac Studio M1 fail](https://developer.apple.com/forums/thread/771641)\n",
    "    - [Broken compatibility in tensorflow-metal with tensorflow 2.18](https://developer.apple.com/forums/thread/772147)\n",
    "    - [TensorFlow Metal 1.1.0 and TensorFlow > 2.15](https://developer.apple.com/forums/thread/773430)\n",
    "    - [TensorFlow Metal 1.2.0 on M2 Fails to converge on common toy models](https://developer.apple.com/forums/thread/775770)\n",
    "    - [Is x86 and AMD no longer available?](https://developer.apple.com/forums/thread/772707)\n",
    "\n"
   ],
   "id": "90290708a737ceda"
  },
  {
   "metadata": {
    "ExecuteTime": {
     "end_time": "2025-03-07T21:47:25.380185Z",
     "start_time": "2025-03-07T21:47:25.127471Z"
    }
   },
   "cell_type": "code",
   "source": [
    "import flatbuffers as fb\n",
    "import tensorflow as tf\n",
    "\n",
    "print(tf.__version__)\n",
    "print(fb.__version__)\n",
    "\n",
    "# This is the unmolested example from Apple during tensorflow-metal 1.2.0 release.\n",
    "\n",
    "cifar = tf.keras.datasets.cifar100\n",
    "(x_train, y_train), (x_test, y_test) = cifar.load_data()\n",
    "model = tf.keras.applications.ResNet50(\n",
    "    include_top=True,\n",
    "    weights=None,\n",
    "    input_shape=(32, 32, 3),\n",
    "    classes=100, )\n",
    "\n",
    "loss_fn = tf.keras.losses.SparseCategoricalCrossentropy(from_logits=False)\n",
    "model.compile(optimizer=\"adam\", loss=loss_fn, metrics=[\"accuracy\"])\n",
    "model.fit(x_train, y_train, epochs=5, batch_size=64)"
   ],
   "id": "427a874400ff736",
   "outputs": [
    {
     "name": "stdout",
     "output_type": "stream",
     "text": [
      "2.13.1\n",
      "25.2.10\n"
     ]
    },
    {
     "ename": "ImportError",
     "evalue": "cannot import name '_initialize_variables' from 'keras.src.backend' (/Users/anton/miniforge3/envs/ml/lib/python3.11/site-packages/keras/src/backend/__init__.py)",
     "output_type": "error",
     "traceback": [
      "\u001B[31m---------------------------------------------------------------------------\u001B[39m",
      "\u001B[31mImportError\u001B[39m                               Traceback (most recent call last)",
      "\u001B[36mCell\u001B[39m\u001B[36m \u001B[39m\u001B[32mIn[2]\u001B[39m\u001B[32m, line 10\u001B[39m\n\u001B[32m      6\u001B[39m \u001B[38;5;28mprint\u001B[39m(fb.__version__)\n\u001B[32m      8\u001B[39m \u001B[38;5;66;03m# This is the unmolested example from Apple during tensorflow-metal 1.2.0 release.\u001B[39;00m\n\u001B[32m---> \u001B[39m\u001B[32m10\u001B[39m cifar = \u001B[43mtf\u001B[49m\u001B[43m.\u001B[49m\u001B[43mkeras\u001B[49m\u001B[43m.\u001B[49m\u001B[43mdatasets\u001B[49m.cifar100\n\u001B[32m     11\u001B[39m (x_train, y_train), (x_test, y_test) = cifar.load_data()\n\u001B[32m     12\u001B[39m model = tf.keras.applications.ResNet50(\n\u001B[32m     13\u001B[39m     include_top=\u001B[38;5;28;01mTrue\u001B[39;00m,\n\u001B[32m     14\u001B[39m     weights=\u001B[38;5;28;01mNone\u001B[39;00m,\n\u001B[32m     15\u001B[39m     input_shape=(\u001B[32m32\u001B[39m, \u001B[32m32\u001B[39m, \u001B[32m3\u001B[39m),\n\u001B[32m     16\u001B[39m     classes=\u001B[32m100\u001B[39m, )\n",
      "\u001B[36mFile \u001B[39m\u001B[32m~/miniforge3/envs/ml/lib/python3.11/site-packages/tensorflow/python/util/lazy_loader.py:58\u001B[39m, in \u001B[36mLazyLoader.__getattr__\u001B[39m\u001B[34m(self, item)\u001B[39m\n\u001B[32m     57\u001B[39m \u001B[38;5;28;01mdef\u001B[39;00m\u001B[38;5;250m \u001B[39m\u001B[34m__getattr__\u001B[39m(\u001B[38;5;28mself\u001B[39m, item):\n\u001B[32m---> \u001B[39m\u001B[32m58\u001B[39m   module = \u001B[38;5;28;43mself\u001B[39;49m\u001B[43m.\u001B[49m\u001B[43m_load\u001B[49m\u001B[43m(\u001B[49m\u001B[43m)\u001B[49m\n\u001B[32m     59\u001B[39m   \u001B[38;5;28;01mreturn\u001B[39;00m \u001B[38;5;28mgetattr\u001B[39m(module, item)\n",
      "\u001B[36mFile \u001B[39m\u001B[32m~/miniforge3/envs/ml/lib/python3.11/site-packages/tensorflow/python/util/lazy_loader.py:41\u001B[39m, in \u001B[36mLazyLoader._load\u001B[39m\u001B[34m(self)\u001B[39m\n\u001B[32m     39\u001B[39m \u001B[38;5;250m\u001B[39m\u001B[33;03m\"\"\"Load the module and insert it into the parent's globals.\"\"\"\u001B[39;00m\n\u001B[32m     40\u001B[39m \u001B[38;5;66;03m# Import the target module and insert it into the parent's namespace\u001B[39;00m\n\u001B[32m---> \u001B[39m\u001B[32m41\u001B[39m module = \u001B[43mimportlib\u001B[49m\u001B[43m.\u001B[49m\u001B[43mimport_module\u001B[49m\u001B[43m(\u001B[49m\u001B[38;5;28;43mself\u001B[39;49m\u001B[43m.\u001B[49m\u001B[34;43m__name__\u001B[39;49m\u001B[43m)\u001B[49m\n\u001B[32m     42\u001B[39m \u001B[38;5;28mself\u001B[39m._parent_module_globals[\u001B[38;5;28mself\u001B[39m._local_name] = module\n\u001B[32m     44\u001B[39m \u001B[38;5;66;03m# Emit a warning if one was specified\u001B[39;00m\n",
      "\u001B[36mFile \u001B[39m\u001B[32m~/miniforge3/envs/ml/lib/python3.11/importlib/__init__.py:126\u001B[39m, in \u001B[36mimport_module\u001B[39m\u001B[34m(name, package)\u001B[39m\n\u001B[32m    124\u001B[39m             \u001B[38;5;28;01mbreak\u001B[39;00m\n\u001B[32m    125\u001B[39m         level += \u001B[32m1\u001B[39m\n\u001B[32m--> \u001B[39m\u001B[32m126\u001B[39m \u001B[38;5;28;01mreturn\u001B[39;00m \u001B[43m_bootstrap\u001B[49m\u001B[43m.\u001B[49m\u001B[43m_gcd_import\u001B[49m\u001B[43m(\u001B[49m\u001B[43mname\u001B[49m\u001B[43m[\u001B[49m\u001B[43mlevel\u001B[49m\u001B[43m:\u001B[49m\u001B[43m]\u001B[49m\u001B[43m,\u001B[49m\u001B[43m \u001B[49m\u001B[43mpackage\u001B[49m\u001B[43m,\u001B[49m\u001B[43m \u001B[49m\u001B[43mlevel\u001B[49m\u001B[43m)\u001B[49m\n",
      "\u001B[36mFile \u001B[39m\u001B[32m<frozen importlib._bootstrap>:1204\u001B[39m, in \u001B[36m_gcd_import\u001B[39m\u001B[34m(name, package, level)\u001B[39m\n",
      "\u001B[36mFile \u001B[39m\u001B[32m<frozen importlib._bootstrap>:1176\u001B[39m, in \u001B[36m_find_and_load\u001B[39m\u001B[34m(name, import_)\u001B[39m\n",
      "\u001B[36mFile \u001B[39m\u001B[32m<frozen importlib._bootstrap>:1147\u001B[39m, in \u001B[36m_find_and_load_unlocked\u001B[39m\u001B[34m(name, import_)\u001B[39m\n",
      "\u001B[36mFile \u001B[39m\u001B[32m<frozen importlib._bootstrap>:690\u001B[39m, in \u001B[36m_load_unlocked\u001B[39m\u001B[34m(spec)\u001B[39m\n",
      "\u001B[36mFile \u001B[39m\u001B[32m<frozen importlib._bootstrap_external>:940\u001B[39m, in \u001B[36mexec_module\u001B[39m\u001B[34m(self, module)\u001B[39m\n",
      "\u001B[36mFile \u001B[39m\u001B[32m<frozen importlib._bootstrap>:241\u001B[39m, in \u001B[36m_call_with_frames_removed\u001B[39m\u001B[34m(f, *args, **kwds)\u001B[39m\n",
      "\u001B[36mFile \u001B[39m\u001B[32m~/miniforge3/envs/ml/lib/python3.11/site-packages/keras/api/_v2/keras/__init__.py:3\u001B[39m\n\u001B[32m      1\u001B[39m \u001B[33;03m\"\"\"AUTOGENERATED. DO NOT EDIT.\"\"\"\u001B[39;00m\n\u001B[32m----> \u001B[39m\u001B[32m3\u001B[39m \u001B[38;5;28;01mfrom\u001B[39;00m\u001B[38;5;250m \u001B[39m\u001B[34;01mkeras\u001B[39;00m\u001B[34;01m.\u001B[39;00m\u001B[34;01mapi\u001B[39;00m\u001B[34;01m.\u001B[39;00m\u001B[34;01m_v2\u001B[39;00m\u001B[34;01m.\u001B[39;00m\u001B[34;01mkeras\u001B[39;00m\u001B[38;5;250m \u001B[39m\u001B[38;5;28;01mimport\u001B[39;00m __internal__\n\u001B[32m      4\u001B[39m \u001B[38;5;28;01mfrom\u001B[39;00m\u001B[38;5;250m \u001B[39m\u001B[34;01mkeras\u001B[39;00m\u001B[34;01m.\u001B[39;00m\u001B[34;01mapi\u001B[39;00m\u001B[34;01m.\u001B[39;00m\u001B[34;01m_v2\u001B[39;00m\u001B[34;01m.\u001B[39;00m\u001B[34;01mkeras\u001B[39;00m\u001B[38;5;250m \u001B[39m\u001B[38;5;28;01mimport\u001B[39;00m activations\n\u001B[32m      5\u001B[39m \u001B[38;5;28;01mfrom\u001B[39;00m\u001B[38;5;250m \u001B[39m\u001B[34;01mkeras\u001B[39;00m\u001B[34;01m.\u001B[39;00m\u001B[34;01mapi\u001B[39;00m\u001B[34;01m.\u001B[39;00m\u001B[34;01m_v2\u001B[39;00m\u001B[34;01m.\u001B[39;00m\u001B[34;01mkeras\u001B[39;00m\u001B[38;5;250m \u001B[39m\u001B[38;5;28;01mimport\u001B[39;00m applications\n",
      "\u001B[36mFile \u001B[39m\u001B[32m~/miniforge3/envs/ml/lib/python3.11/site-packages/keras/api/_v2/keras/__internal__/__init__.py:3\u001B[39m\n\u001B[32m      1\u001B[39m \u001B[33;03m\"\"\"AUTOGENERATED. DO NOT EDIT.\"\"\"\u001B[39;00m\n\u001B[32m----> \u001B[39m\u001B[32m3\u001B[39m \u001B[38;5;28;01mfrom\u001B[39;00m\u001B[38;5;250m \u001B[39m\u001B[34;01mkeras\u001B[39;00m\u001B[34;01m.\u001B[39;00m\u001B[34;01mapi\u001B[39;00m\u001B[34;01m.\u001B[39;00m\u001B[34;01m_v2\u001B[39;00m\u001B[34;01m.\u001B[39;00m\u001B[34;01mkeras\u001B[39;00m\u001B[34;01m.\u001B[39;00m\u001B[34;01m__internal__\u001B[39;00m\u001B[38;5;250m \u001B[39m\u001B[38;5;28;01mimport\u001B[39;00m backend\n\u001B[32m      4\u001B[39m \u001B[38;5;28;01mfrom\u001B[39;00m\u001B[38;5;250m \u001B[39m\u001B[34;01mkeras\u001B[39;00m\u001B[34;01m.\u001B[39;00m\u001B[34;01mapi\u001B[39;00m\u001B[34;01m.\u001B[39;00m\u001B[34;01m_v2\u001B[39;00m\u001B[34;01m.\u001B[39;00m\u001B[34;01mkeras\u001B[39;00m\u001B[34;01m.\u001B[39;00m\u001B[34;01m__internal__\u001B[39;00m\u001B[38;5;250m \u001B[39m\u001B[38;5;28;01mimport\u001B[39;00m layers\n\u001B[32m      5\u001B[39m \u001B[38;5;28;01mfrom\u001B[39;00m\u001B[38;5;250m \u001B[39m\u001B[34;01mkeras\u001B[39;00m\u001B[34;01m.\u001B[39;00m\u001B[34;01mapi\u001B[39;00m\u001B[34;01m.\u001B[39;00m\u001B[34;01m_v2\u001B[39;00m\u001B[34;01m.\u001B[39;00m\u001B[34;01mkeras\u001B[39;00m\u001B[34;01m.\u001B[39;00m\u001B[34;01m__internal__\u001B[39;00m\u001B[38;5;250m \u001B[39m\u001B[38;5;28;01mimport\u001B[39;00m losses\n",
      "\u001B[36mFile \u001B[39m\u001B[32m~/miniforge3/envs/ml/lib/python3.11/site-packages/keras/api/_v2/keras/__internal__/backend/__init__.py:3\u001B[39m\n\u001B[32m      1\u001B[39m \u001B[33;03m\"\"\"AUTOGENERATED. DO NOT EDIT.\"\"\"\u001B[39;00m\n\u001B[32m----> \u001B[39m\u001B[32m3\u001B[39m \u001B[38;5;28;01mfrom\u001B[39;00m\u001B[38;5;250m \u001B[39m\u001B[34;01mkeras\u001B[39;00m\u001B[34;01m.\u001B[39;00m\u001B[34;01msrc\u001B[39;00m\u001B[34;01m.\u001B[39;00m\u001B[34;01mbackend\u001B[39;00m\u001B[38;5;250m \u001B[39m\u001B[38;5;28;01mimport\u001B[39;00m _initialize_variables \u001B[38;5;28;01mas\u001B[39;00m initialize_variables\n\u001B[32m      4\u001B[39m \u001B[38;5;28;01mfrom\u001B[39;00m\u001B[38;5;250m \u001B[39m\u001B[34;01mkeras\u001B[39;00m\u001B[34;01m.\u001B[39;00m\u001B[34;01msrc\u001B[39;00m\u001B[34;01m.\u001B[39;00m\u001B[34;01mbackend\u001B[39;00m\u001B[38;5;250m \u001B[39m\u001B[38;5;28;01mimport\u001B[39;00m track_variable\n",
      "\u001B[31mImportError\u001B[39m: cannot import name '_initialize_variables' from 'keras.src.backend' (/Users/anton/miniforge3/envs/ml/lib/python3.11/site-packages/keras/src/backend/__init__.py)"
     ]
    }
   ],
   "execution_count": 2
  },
  {
   "metadata": {},
   "cell_type": "code",
   "source": "",
   "id": "59b49029dca85e62",
   "outputs": [],
   "execution_count": null
  }
 ],
 "metadata": {
  "kernelspec": {
   "display_name": "Python 3",
   "language": "python",
   "name": "python3"
  },
  "language_info": {
   "codemirror_mode": {
    "name": "ipython",
    "version": 2
   },
   "file_extension": ".py",
   "mimetype": "text/x-python",
   "name": "python",
   "nbconvert_exporter": "python",
   "pygments_lexer": "ipython2",
   "version": "2.7.6"
  }
 },
 "nbformat": 4,
 "nbformat_minor": 5
}
