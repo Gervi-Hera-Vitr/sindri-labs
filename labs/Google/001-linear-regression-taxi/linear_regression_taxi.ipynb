{
 "cells": [
  {
   "cell_type": "markdown",
   "metadata": {
    "id": "view-in-github",
    "colab_type": "text"
   },
   "source": [
    "<a href=\"https://colab.research.google.com/github/Gervi-Hera-Vitr/google-ai-labs/blob/main/labs/google/001-linear-regression-taxi/linear_regression_taxi.ipynb\" target=\"_parent\"><img src=\"https://colab.research.google.com/assets/colab-badge.svg\" alt=\"Open In Colab\"/></a>"
   ]
  },
  {
   "cell_type": "code",
   "metadata": {
    "cellView": "form",
    "id": "X53vZqc7PxCA",
    "ExecuteTime": {
     "end_time": "2024-12-02T00:45:19.082461Z",
     "start_time": "2024-12-02T00:45:19.058748Z"
    }
   },
   "source": [
    "#@title Copyright 2023 Google LLC. Double-click here for license information.\n",
    "# Licensed under the Apache License, Version 2.0 (the \"License\");\n",
    "# you may not use this file except in compliance with the License.\n",
    "# You may obtain a copy of the License at\n",
    "#\n",
    "# https://www.apache.org/licenses/LICENSE-2.0\n",
    "#\n",
    "# Unless required by applicable law or agreed to in writing, software\n",
    "# distributed under the License is distributed on an \"AS IS\" BASIS,\n",
    "# WITHOUT WARRANTIES OR CONDITIONS OF ANY KIND, either express or implied.\n",
    "# See the License for the specific language governing permissions and\n",
    "# limitations under the License."
   ],
   "outputs": [],
   "execution_count": 61
  },
  {
   "cell_type": "markdown",
   "metadata": {
    "id": "mWCXBrPgQD0P"
   },
   "source": [
    "# Colabs\n",
    "\n",
    "Machine Learning Crash Course uses Colaboratories (Colabs) for all programming exercises. Colab is Google's implementation of [Jupyter Notebook](https://jupyter.org/). For more information about Colabs and how to use them, go to [Welcome to Colaboratory](https://research.google.com/colaboratory).\n",
    "\n",
    "# Linear Regression\n",
    "In this Colab you will use a real dataset to train a model to predict the fare of a taxi ride in Chicago, Illinois.\n",
    "\n",
    "## Learning Objectives\n",
    "After completing this Colab, you'll be able to:\n",
    "\n",
    "  * Read a .csv file into a [pandas](https://developers.google.com/machine-learning/glossary/#pandas) DataFrame.\n",
    "  * Explore a [dataset](https://developers.google.com/machine-learning/glossary/#data_set) with Python visualization libraries.\n",
    "  * Experiment with different [features](https://developers.google.com/machine-learning/glossary/#feature) to build a linear regression model.\n",
    "  * Tune the model's [hyperparameters](https://developers.google.com/machine-learning/glossary/#hyperparameter).\n",
    "  * Compare training runs using [root mean squared error](https://developers.google.com/machine-learning/glossary/#root-mean-squared-error-rmse) and [loss curves](https://developers.google.com/machine-learning/glossary/#loss-curve).\n",
    "\n",
    "## Dataset Description\n",
    "The [dataset for this exercise](https://storage.mtls.cloud.google.com/mlcc-nextgen-internal/chicago_taxi_train.csv) is derived from the [City of Chicago Taxi Trips dataset](https://data.cityofchicago.org/Transportation/Taxi-Trips/wrvz-psew). The data for this exercise is a subset of the Taxi Trips data, and focuses on a two-day period in May of 2022."
   ]
  },
  {
   "cell_type": "markdown",
   "metadata": {
    "id": "bBJQc5TgRrFx"
   },
   "source": [
    "# Part 1 - Setup Exercise\n",
    "\n",
    "\n",
    "---\n",
    "\n"
   ]
  },
  {
   "cell_type": "markdown",
   "metadata": {
    "id": "V9pkosc63-63"
   },
   "source": [
    "## Load required modules\n",
    "\n",
    "This exercise depends on several Python libraries to help with data manipulation, machine learning tasks, and data visualization.\n",
    "\n",
    "**Instructions**\n",
    "1. Run the **Load dependencies** code cell (below)."
   ]
  },
  {
   "cell_type": "code",
   "metadata": {
    "cellView": "form",
    "id": "wHBXW8ob16z3",
    "ExecuteTime": {
     "end_time": "2024-12-02T00:45:19.104520Z",
     "start_time": "2024-12-02T00:45:19.093317Z"
    }
   },
   "source": [
    "#@title Code - Load dependencies\n",
    "\n",
    "#general\n",
    "#import io\n",
    "#mute architecture warnings\n",
    "import os\n",
    "os.environ['TF_CPP_MIN_LOG_LEVEL']='2'\n",
    "#import tensorflow as tf\n",
    "\n",
    "# data\n",
    "import numpy as np\n",
    "import pandas as pd\n",
    "\n",
    "# machine learning\n",
    "import keras\n",
    "\n",
    "# data visualization\n",
    "import plotly.express as px\n",
    "from plotly.subplots import make_subplots\n",
    "import plotly.graph_objects as go\n",
    "import seaborn as sns"
   ],
   "outputs": [],
   "execution_count": 62
  },
  {
   "cell_type": "markdown",
   "metadata": {
    "id": "sgR4YRjj5T-b"
   },
   "source": [
    "## Load the dataset\n",
    "\n",
    "\n",
    "The following code cell loads the dataset and creates a pandas DataFrame.\n",
    "\n",
    "You can think of a DataFrame like a spreadsheet with rows and columns. The rows represent individual data examples, and the columns represent the attributes associated with each example."
   ]
  },
  {
   "cell_type": "code",
   "metadata": {
    "id": "abmswn6USJjQ",
    "ExecuteTime": {
     "end_time": "2024-12-02T00:45:19.663645Z",
     "start_time": "2024-12-02T00:45:19.143451Z"
    }
   },
   "source": [
    "# @title\n",
    "chicago_taxi_dataset = pd.read_csv(\"https://download.mlcc.google.com/mledu-datasets/chicago_taxi_train.csv\")"
   ],
   "outputs": [],
   "execution_count": 63
  },
  {
   "cell_type": "markdown",
   "metadata": {
    "id": "iKE0s1hNQ4H9"
   },
   "source": [
    "## Update the dataframe\n",
    "\n",
    "The following code cell updates the DataFrame to use only specific columns from the dataset.\n",
    "\n",
    "Notice that that output shows just a sample of the dataset, but there should be enough information for you to identify the features associated with the dataset, and have a look at the actual data for a few examples."
   ]
  },
  {
   "cell_type": "code",
   "metadata": {
    "cellView": "form",
    "id": "YuLz6IgGP2LE",
    "ExecuteTime": {
     "end_time": "2024-12-02T00:45:19.736630Z",
     "start_time": "2024-12-02T00:45:19.712755Z"
    }
   },
   "source": [
    "#@title Code - Read dataset\n",
    "\n",
    "# Updates dataframe to use specific columns.\n",
    "training_df = chicago_taxi_dataset[['TRIP_MILES', 'TRIP_SECONDS', 'FARE', 'COMPANY', 'PAYMENT_TYPE', 'TIP_RATE']]\n",
    "\n",
    "print('Read dataset completed successfully.')\n",
    "print('Total number of rows: {0}\\n\\n'.format(len(training_df.index)))\n",
    "training_df.head(200)"
   ],
   "outputs": [
    {
     "name": "stdout",
     "output_type": "stream",
     "text": [
      "Read dataset completed successfully.\n",
      "Total number of rows: 31694\n",
      "\n",
      "\n"
     ]
    },
    {
     "data": {
      "text/plain": [
       "     TRIP_MILES  TRIP_SECONDS   FARE                       COMPANY  \\\n",
       "0          2.57          2341  31.99                     Flash Cab   \n",
       "1          1.18          1074   9.75                     Flash Cab   \n",
       "2          1.29          1173  10.25                      Sun Taxi   \n",
       "3          3.70          3360  23.75       Choice Taxi Association   \n",
       "4          1.15          1044  10.00                     Flash Cab   \n",
       "..          ...           ...    ...                           ...   \n",
       "195        1.13           821   9.00  Blue Ribbon Taxi Association   \n",
       "196        0.57           414   6.00                     Flash Cab   \n",
       "197        1.22           886   9.00                  City Service   \n",
       "198        1.68          1219   9.00                      Sun Taxi   \n",
       "199        0.71           515   6.50                      Sun Taxi   \n",
       "\n",
       "    PAYMENT_TYPE  TIP_RATE  \n",
       "0         Mobile       6.3  \n",
       "1    Credit Card      27.9  \n",
       "2           Cash       0.0  \n",
       "3           Cash       0.0  \n",
       "4           Cash       0.0  \n",
       "..           ...       ...  \n",
       "195       Mobile      22.9  \n",
       "196         Cash       0.0  \n",
       "197         Cash       0.0  \n",
       "198       Mobile      23.0  \n",
       "199  Credit Card      18.2  \n",
       "\n",
       "[200 rows x 6 columns]"
      ],
      "text/html": [
       "<div>\n",
       "<style scoped>\n",
       "    .dataframe tbody tr th:only-of-type {\n",
       "        vertical-align: middle;\n",
       "    }\n",
       "\n",
       "    .dataframe tbody tr th {\n",
       "        vertical-align: top;\n",
       "    }\n",
       "\n",
       "    .dataframe thead th {\n",
       "        text-align: right;\n",
       "    }\n",
       "</style>\n",
       "<table border=\"1\" class=\"dataframe\">\n",
       "  <thead>\n",
       "    <tr style=\"text-align: right;\">\n",
       "      <th></th>\n",
       "      <th>TRIP_MILES</th>\n",
       "      <th>TRIP_SECONDS</th>\n",
       "      <th>FARE</th>\n",
       "      <th>COMPANY</th>\n",
       "      <th>PAYMENT_TYPE</th>\n",
       "      <th>TIP_RATE</th>\n",
       "    </tr>\n",
       "  </thead>\n",
       "  <tbody>\n",
       "    <tr>\n",
       "      <th>0</th>\n",
       "      <td>2.57</td>\n",
       "      <td>2341</td>\n",
       "      <td>31.99</td>\n",
       "      <td>Flash Cab</td>\n",
       "      <td>Mobile</td>\n",
       "      <td>6.3</td>\n",
       "    </tr>\n",
       "    <tr>\n",
       "      <th>1</th>\n",
       "      <td>1.18</td>\n",
       "      <td>1074</td>\n",
       "      <td>9.75</td>\n",
       "      <td>Flash Cab</td>\n",
       "      <td>Credit Card</td>\n",
       "      <td>27.9</td>\n",
       "    </tr>\n",
       "    <tr>\n",
       "      <th>2</th>\n",
       "      <td>1.29</td>\n",
       "      <td>1173</td>\n",
       "      <td>10.25</td>\n",
       "      <td>Sun Taxi</td>\n",
       "      <td>Cash</td>\n",
       "      <td>0.0</td>\n",
       "    </tr>\n",
       "    <tr>\n",
       "      <th>3</th>\n",
       "      <td>3.70</td>\n",
       "      <td>3360</td>\n",
       "      <td>23.75</td>\n",
       "      <td>Choice Taxi Association</td>\n",
       "      <td>Cash</td>\n",
       "      <td>0.0</td>\n",
       "    </tr>\n",
       "    <tr>\n",
       "      <th>4</th>\n",
       "      <td>1.15</td>\n",
       "      <td>1044</td>\n",
       "      <td>10.00</td>\n",
       "      <td>Flash Cab</td>\n",
       "      <td>Cash</td>\n",
       "      <td>0.0</td>\n",
       "    </tr>\n",
       "    <tr>\n",
       "      <th>...</th>\n",
       "      <td>...</td>\n",
       "      <td>...</td>\n",
       "      <td>...</td>\n",
       "      <td>...</td>\n",
       "      <td>...</td>\n",
       "      <td>...</td>\n",
       "    </tr>\n",
       "    <tr>\n",
       "      <th>195</th>\n",
       "      <td>1.13</td>\n",
       "      <td>821</td>\n",
       "      <td>9.00</td>\n",
       "      <td>Blue Ribbon Taxi Association</td>\n",
       "      <td>Mobile</td>\n",
       "      <td>22.9</td>\n",
       "    </tr>\n",
       "    <tr>\n",
       "      <th>196</th>\n",
       "      <td>0.57</td>\n",
       "      <td>414</td>\n",
       "      <td>6.00</td>\n",
       "      <td>Flash Cab</td>\n",
       "      <td>Cash</td>\n",
       "      <td>0.0</td>\n",
       "    </tr>\n",
       "    <tr>\n",
       "      <th>197</th>\n",
       "      <td>1.22</td>\n",
       "      <td>886</td>\n",
       "      <td>9.00</td>\n",
       "      <td>City Service</td>\n",
       "      <td>Cash</td>\n",
       "      <td>0.0</td>\n",
       "    </tr>\n",
       "    <tr>\n",
       "      <th>198</th>\n",
       "      <td>1.68</td>\n",
       "      <td>1219</td>\n",
       "      <td>9.00</td>\n",
       "      <td>Sun Taxi</td>\n",
       "      <td>Mobile</td>\n",
       "      <td>23.0</td>\n",
       "    </tr>\n",
       "    <tr>\n",
       "      <th>199</th>\n",
       "      <td>0.71</td>\n",
       "      <td>515</td>\n",
       "      <td>6.50</td>\n",
       "      <td>Sun Taxi</td>\n",
       "      <td>Credit Card</td>\n",
       "      <td>18.2</td>\n",
       "    </tr>\n",
       "  </tbody>\n",
       "</table>\n",
       "<p>200 rows × 6 columns</p>\n",
       "</div>"
      ]
     },
     "execution_count": 64,
     "metadata": {},
     "output_type": "execute_result"
    }
   ],
   "execution_count": 64
  },
  {
   "cell_type": "markdown",
   "metadata": {
    "id": "RUL471vSR28O"
   },
   "source": [
    "# Part 2 - Dataset Exploration\n",
    "\n",
    "\n",
    "---\n",
    "\n"
   ]
  },
  {
   "cell_type": "markdown",
   "metadata": {
    "id": "7mhqzPIS9nFv"
   },
   "source": [
    "## View dataset statistics\n",
    "\n",
    "A large part of most machine learning projects is getting to know your data. In this step, you will use the ``DataFrame.describe`` method to view descriptive statistics about the dataset and answer some important questions about the data.\n",
    "\n",
    "**Instructions**\n",
    "1. Run the **View dataset statistics** code cell.\n",
    "1. Inspect the output and answer these questions:\n",
    "  * What is the maximum fare?\n",
    "  * What is the mean distance across all trips?\n",
    "  * How many cab companies are in the dataset?\n",
    "  * What is the most frequent payment type?\n",
    "  * Are any features missing data?\n",
    "1. Run the code **View answers to dataset statistics** code cell to check your answers.\n",
    "\n",
    "\n",
    "You might be wondering why there are groups of `NaN` (not a number) values listed in the output. When working with data in Python, you may see this value if the result of a calculation can not be computed or if there is missing information. For example, in the taxi dataset `PAYMENT_TYPE` and `COMPANY` are non-numeric, categorical features; numeric information such as mean and max do not make sense for categorical features so the output displays `NaN`."
   ]
  },
  {
   "cell_type": "code",
   "metadata": {
    "cellView": "form",
    "id": "pkuQNjgoAKYt",
    "ExecuteTime": {
     "end_time": "2024-12-02T00:45:19.891019Z",
     "start_time": "2024-12-02T00:45:19.851026Z"
    }
   },
   "source": [
    "#@title Code - View dataset statistics\n",
    "\n",
    "print('Total number of rows: {0}\\n\\n'.format(len(training_df.index)))\n",
    "training_df.describe(include='all')"
   ],
   "outputs": [
    {
     "name": "stdout",
     "output_type": "stream",
     "text": [
      "Total number of rows: 31694\n",
      "\n",
      "\n"
     ]
    },
    {
     "data": {
      "text/plain": [
       "          TRIP_MILES  TRIP_SECONDS          FARE    COMPANY PAYMENT_TYPE  \\\n",
       "count   31694.000000  31694.000000  31694.000000      31694        31694   \n",
       "unique           NaN           NaN           NaN         31            7   \n",
       "top              NaN           NaN           NaN  Flash Cab  Credit Card   \n",
       "freq             NaN           NaN           NaN       7887        14142   \n",
       "mean        8.289463   1319.796397     23.905210        NaN          NaN   \n",
       "std         7.265672    928.932873     16.970022        NaN          NaN   \n",
       "min         0.500000     60.000000      3.250000        NaN          NaN   \n",
       "25%         1.720000    548.000000      9.000000        NaN          NaN   \n",
       "50%         5.920000   1081.000000     18.750000        NaN          NaN   \n",
       "75%        14.500000   1888.000000     38.750000        NaN          NaN   \n",
       "max        68.120000   7140.000000    159.250000        NaN          NaN   \n",
       "\n",
       "            TIP_RATE  \n",
       "count   31694.000000  \n",
       "unique           NaN  \n",
       "top              NaN  \n",
       "freq             NaN  \n",
       "mean       12.965785  \n",
       "std        15.517765  \n",
       "min         0.000000  \n",
       "25%         0.000000  \n",
       "50%        12.200000  \n",
       "75%        20.800000  \n",
       "max       648.600000  "
      ],
      "text/html": [
       "<div>\n",
       "<style scoped>\n",
       "    .dataframe tbody tr th:only-of-type {\n",
       "        vertical-align: middle;\n",
       "    }\n",
       "\n",
       "    .dataframe tbody tr th {\n",
       "        vertical-align: top;\n",
       "    }\n",
       "\n",
       "    .dataframe thead th {\n",
       "        text-align: right;\n",
       "    }\n",
       "</style>\n",
       "<table border=\"1\" class=\"dataframe\">\n",
       "  <thead>\n",
       "    <tr style=\"text-align: right;\">\n",
       "      <th></th>\n",
       "      <th>TRIP_MILES</th>\n",
       "      <th>TRIP_SECONDS</th>\n",
       "      <th>FARE</th>\n",
       "      <th>COMPANY</th>\n",
       "      <th>PAYMENT_TYPE</th>\n",
       "      <th>TIP_RATE</th>\n",
       "    </tr>\n",
       "  </thead>\n",
       "  <tbody>\n",
       "    <tr>\n",
       "      <th>count</th>\n",
       "      <td>31694.000000</td>\n",
       "      <td>31694.000000</td>\n",
       "      <td>31694.000000</td>\n",
       "      <td>31694</td>\n",
       "      <td>31694</td>\n",
       "      <td>31694.000000</td>\n",
       "    </tr>\n",
       "    <tr>\n",
       "      <th>unique</th>\n",
       "      <td>NaN</td>\n",
       "      <td>NaN</td>\n",
       "      <td>NaN</td>\n",
       "      <td>31</td>\n",
       "      <td>7</td>\n",
       "      <td>NaN</td>\n",
       "    </tr>\n",
       "    <tr>\n",
       "      <th>top</th>\n",
       "      <td>NaN</td>\n",
       "      <td>NaN</td>\n",
       "      <td>NaN</td>\n",
       "      <td>Flash Cab</td>\n",
       "      <td>Credit Card</td>\n",
       "      <td>NaN</td>\n",
       "    </tr>\n",
       "    <tr>\n",
       "      <th>freq</th>\n",
       "      <td>NaN</td>\n",
       "      <td>NaN</td>\n",
       "      <td>NaN</td>\n",
       "      <td>7887</td>\n",
       "      <td>14142</td>\n",
       "      <td>NaN</td>\n",
       "    </tr>\n",
       "    <tr>\n",
       "      <th>mean</th>\n",
       "      <td>8.289463</td>\n",
       "      <td>1319.796397</td>\n",
       "      <td>23.905210</td>\n",
       "      <td>NaN</td>\n",
       "      <td>NaN</td>\n",
       "      <td>12.965785</td>\n",
       "    </tr>\n",
       "    <tr>\n",
       "      <th>std</th>\n",
       "      <td>7.265672</td>\n",
       "      <td>928.932873</td>\n",
       "      <td>16.970022</td>\n",
       "      <td>NaN</td>\n",
       "      <td>NaN</td>\n",
       "      <td>15.517765</td>\n",
       "    </tr>\n",
       "    <tr>\n",
       "      <th>min</th>\n",
       "      <td>0.500000</td>\n",
       "      <td>60.000000</td>\n",
       "      <td>3.250000</td>\n",
       "      <td>NaN</td>\n",
       "      <td>NaN</td>\n",
       "      <td>0.000000</td>\n",
       "    </tr>\n",
       "    <tr>\n",
       "      <th>25%</th>\n",
       "      <td>1.720000</td>\n",
       "      <td>548.000000</td>\n",
       "      <td>9.000000</td>\n",
       "      <td>NaN</td>\n",
       "      <td>NaN</td>\n",
       "      <td>0.000000</td>\n",
       "    </tr>\n",
       "    <tr>\n",
       "      <th>50%</th>\n",
       "      <td>5.920000</td>\n",
       "      <td>1081.000000</td>\n",
       "      <td>18.750000</td>\n",
       "      <td>NaN</td>\n",
       "      <td>NaN</td>\n",
       "      <td>12.200000</td>\n",
       "    </tr>\n",
       "    <tr>\n",
       "      <th>75%</th>\n",
       "      <td>14.500000</td>\n",
       "      <td>1888.000000</td>\n",
       "      <td>38.750000</td>\n",
       "      <td>NaN</td>\n",
       "      <td>NaN</td>\n",
       "      <td>20.800000</td>\n",
       "    </tr>\n",
       "    <tr>\n",
       "      <th>max</th>\n",
       "      <td>68.120000</td>\n",
       "      <td>7140.000000</td>\n",
       "      <td>159.250000</td>\n",
       "      <td>NaN</td>\n",
       "      <td>NaN</td>\n",
       "      <td>648.600000</td>\n",
       "    </tr>\n",
       "  </tbody>\n",
       "</table>\n",
       "</div>"
      ]
     },
     "execution_count": 65,
     "metadata": {},
     "output_type": "execute_result"
    }
   ],
   "execution_count": 65
  },
  {
   "cell_type": "code",
   "metadata": {
    "cellView": "form",
    "id": "VQ9R5o7CcFzY",
    "ExecuteTime": {
     "end_time": "2024-12-02T00:45:20.038339Z",
     "start_time": "2024-12-02T00:45:20.022318Z"
    }
   },
   "source": [
    "#@title Double-click or run to view answers about dataset statistics\n",
    "\n",
    "answer = '''\n",
    "What is the maximum fare? \t\t\t\t              Answer: $159.25\n",
    "What is the mean distance across all trips? \t\tAnswer: 8.2895 miles\n",
    "How many cab companies are in the dataset? \t\t  Answer: 31\n",
    "What is the most frequent payment type? \t\t    Answer: Credit Card\n",
    "Are any features missing data? \t\t\t\t          Answer: No\n",
    "'''\n",
    "\n",
    "# You should be able to find the answers to the questions about the dataset\n",
    "# by inspecting the table output after running the DataFrame describe method.\n",
    "#\n",
    "# Run this code cell to verify your answers.\n",
    "\n",
    "# What is the maximum fare?\n",
    "max_fare = training_df['FARE'].max()\n",
    "print(\"What is the maximum fare? \\t\\t\\t\\tAnswer: ${fare:.2f}\".format(fare = max_fare))\n",
    "\n",
    "# What is the mean distance across all trips?\n",
    "mean_distance = training_df['TRIP_MILES'].mean()\n",
    "print(\"What is the mean distance across all trips? \\t\\tAnswer: {mean:.4f} miles\".format(mean = mean_distance))\n",
    "\n",
    "# How many cab companies are in the dataset?\n",
    "num_unique_companies =  training_df['COMPANY'].nunique()\n",
    "print(\"How many cab companies are in the dataset? \\t\\tAnswer: {number}\".format(number = num_unique_companies))\n",
    "\n",
    "# What is the most frequent payment type?\n",
    "most_freq_payment_type = training_df['PAYMENT_TYPE'].value_counts().idxmax()\n",
    "print(\"What is the most frequent payment type? \\t\\tAnswer: {type}\".format(type = most_freq_payment_type))\n",
    "\n",
    "# Are any features missing data?\n",
    "missing_values = training_df.isnull().sum().sum()\n",
    "print(\"Are any features missing data? \\t\\t\\t\\tAnswer:\", \"No\" if missing_values == 0 else \"Yes\")\n"
   ],
   "outputs": [
    {
     "name": "stdout",
     "output_type": "stream",
     "text": [
      "What is the maximum fare? \t\t\t\tAnswer: $159.25\n",
      "What is the mean distance across all trips? \t\tAnswer: 8.2895 miles\n",
      "How many cab companies are in the dataset? \t\tAnswer: 31\n",
      "What is the most frequent payment type? \t\tAnswer: Credit Card\n",
      "Are any features missing data? \t\t\t\tAnswer: No\n"
     ]
    }
   ],
   "execution_count": 66
  },
  {
   "cell_type": "markdown",
   "metadata": {
    "id": "-StQ4-wbBpIP"
   },
   "source": [
    "## Generate a correlation matrix\n",
    "\n",
    "An important part of machine learning is determining which [features](https://developers.google.com/machine-learning/glossary/#feature) correlate with the [label](https://developers.google.com/machine-learning/glossary/#label). If you have ever taken a taxi ride before, your experience is probably telling you that the fare is typically associated with the distance traveled and the duration of the trip. But, is there a way for you to learn more about how well these features correlate to the fare (label)?\n",
    "\n",
    "In this step, you will use a **correlation matrix** to identify features whose values correlate well with the label. Correlation values have the following meanings:\n",
    "\n",
    "  * **`1.0`**: perfect positive correlation; that is, when one attribute rises, the other attribute rises.\n",
    "  * **`-1.0`**: perfect negative correlation; that is, when one attribute rises, the other attribute falls.\n",
    "  * **`0.0`**: no correlation; the two columns [are not linearly related](https://en.wikipedia.org/wiki/Correlation_and_dependence#/media/File:Correlation_examples2.svg).\n",
    "\n",
    "In general, the higher the absolute value of a correlation value, the greater its predictive power.\n",
    "\n",
    "**Instructions**\n",
    "\n",
    "1. Inspect the code in the **View correlation matrix** code cell.\n",
    "1. Run the **View correlation matrix** code cell and inspect the output.\n",
    "1. **Check your understanding** by answering these questions:\n",
    "  * Which feature correlates most strongly to the label FARE?\n",
    "  * Which feature correlates least strongly to the label FARE?\n"
   ]
  },
  {
   "cell_type": "code",
   "metadata": {
    "cellView": "form",
    "id": "-1kFmfdFDVmv",
    "ExecuteTime": {
     "end_time": "2024-12-02T00:45:20.162492Z",
     "start_time": "2024-12-02T00:45:20.152202Z"
    }
   },
   "source": [
    "#@title Code - View correlation matrix\n",
    "training_df.corr(numeric_only = True)"
   ],
   "outputs": [
    {
     "data": {
      "text/plain": [
       "              TRIP_MILES  TRIP_SECONDS      FARE  TIP_RATE\n",
       "TRIP_MILES      1.000000      0.800855  0.975344 -0.049594\n",
       "TRIP_SECONDS    0.800855      1.000000  0.830292 -0.084294\n",
       "FARE            0.975344      0.830292  1.000000 -0.070979\n",
       "TIP_RATE       -0.049594     -0.084294 -0.070979  1.000000"
      ],
      "text/html": [
       "<div>\n",
       "<style scoped>\n",
       "    .dataframe tbody tr th:only-of-type {\n",
       "        vertical-align: middle;\n",
       "    }\n",
       "\n",
       "    .dataframe tbody tr th {\n",
       "        vertical-align: top;\n",
       "    }\n",
       "\n",
       "    .dataframe thead th {\n",
       "        text-align: right;\n",
       "    }\n",
       "</style>\n",
       "<table border=\"1\" class=\"dataframe\">\n",
       "  <thead>\n",
       "    <tr style=\"text-align: right;\">\n",
       "      <th></th>\n",
       "      <th>TRIP_MILES</th>\n",
       "      <th>TRIP_SECONDS</th>\n",
       "      <th>FARE</th>\n",
       "      <th>TIP_RATE</th>\n",
       "    </tr>\n",
       "  </thead>\n",
       "  <tbody>\n",
       "    <tr>\n",
       "      <th>TRIP_MILES</th>\n",
       "      <td>1.000000</td>\n",
       "      <td>0.800855</td>\n",
       "      <td>0.975344</td>\n",
       "      <td>-0.049594</td>\n",
       "    </tr>\n",
       "    <tr>\n",
       "      <th>TRIP_SECONDS</th>\n",
       "      <td>0.800855</td>\n",
       "      <td>1.000000</td>\n",
       "      <td>0.830292</td>\n",
       "      <td>-0.084294</td>\n",
       "    </tr>\n",
       "    <tr>\n",
       "      <th>FARE</th>\n",
       "      <td>0.975344</td>\n",
       "      <td>0.830292</td>\n",
       "      <td>1.000000</td>\n",
       "      <td>-0.070979</td>\n",
       "    </tr>\n",
       "    <tr>\n",
       "      <th>TIP_RATE</th>\n",
       "      <td>-0.049594</td>\n",
       "      <td>-0.084294</td>\n",
       "      <td>-0.070979</td>\n",
       "      <td>1.000000</td>\n",
       "    </tr>\n",
       "  </tbody>\n",
       "</table>\n",
       "</div>"
      ]
     },
     "execution_count": 67,
     "metadata": {},
     "output_type": "execute_result"
    }
   ],
   "execution_count": 67
  },
  {
   "cell_type": "code",
   "metadata": {
    "cellView": "form",
    "id": "ExPq1h6wIzvR",
    "ExecuteTime": {
     "end_time": "2024-12-02T00:45:20.304778Z",
     "start_time": "2024-12-02T00:45:20.299181Z"
    }
   },
   "source": [
    "#@title Double-click to view answers about the correlation matrix\n",
    "\n",
    "# Which feature correlates most strongly to the label FARE?\n",
    "# ---------------------------------------------------------\n",
    "answer = '''\n",
    "The feature with the strongest correlation to the FARE is TRIP_MILES.\n",
    "As you might expect, TRIP_MILES looks like a good feature to start with to train\n",
    "the model. Also, notice that the feature TRIP_SECONDS has a strong correlation\n",
    "with fare too.\n",
    "'''\n",
    "print(answer)\n",
    "\n",
    "\n",
    "# Which feature correlates least strongly to the label FARE?\n",
    "# -----------------------------------------------------------\n",
    "answer = '''The feature with the weakest correlation to the FARE is TIP_RATE.'''\n",
    "print(answer)"
   ],
   "outputs": [
    {
     "name": "stdout",
     "output_type": "stream",
     "text": [
      "\n",
      "The feature with the strongest correlation to the FARE is TRIP_MILES.\n",
      "As you might expect, TRIP_MILES looks like a good feature to start with to train\n",
      "the model. Also, notice that the feature TRIP_SECONDS has a strong correlation\n",
      "with fare too.\n",
      "\n",
      "The feature with the weakest correlation to the FARE is TIP_RATE.\n"
     ]
    }
   ],
   "execution_count": 68
  },
  {
   "cell_type": "markdown",
   "metadata": {
    "id": "rqklIw96G7JA"
   },
   "source": [
    "## Visualize relationships in dataset\n",
    "\n",
    "Sometimes it is helpful to visualize relationships between features in a dataset; one way to do this is with a pair plot. A **pair plot** generates a grid of pairwise plots to visualize the relationship of each feature with all other features all in one place.\n",
    "\n",
    "**Instructions**\n",
    "1. Run the **View pair plot** code cell."
   ]
  },
  {
   "cell_type": "code",
   "metadata": {
    "cellView": "form",
    "id": "ph0FE7ZxHY36",
    "ExecuteTime": {
     "end_time": "2024-12-02T00:45:23.465377Z",
     "start_time": "2024-12-02T00:45:20.485094Z"
    }
   },
   "source": [
    "#@title Code - View pairplot\n",
    "sns.pairplot(training_df, x_vars=[\"FARE\", \"TRIP_MILES\", \"TRIP_SECONDS\"], y_vars=[\"FARE\", \"TRIP_MILES\", \"TRIP_SECONDS\"])"
   ],
   "outputs": [
    {
     "data": {
      "text/plain": [
       "<seaborn.axisgrid.PairGrid at 0x148a0d8b0>"
      ]
     },
     "execution_count": 69,
     "metadata": {},
     "output_type": "execute_result"
    },
    {
     "data": {
      "text/plain": [
       "<Figure size 750x750 with 12 Axes>"
      ],
      "image/png": "[encoded data removed]"
     },
     "metadata": {},
     "output_type": "display_data"
    }
   ],
   "execution_count": 69
  },
  {
   "cell_type": "markdown",
   "metadata": {
    "id": "zrereRcYR9KG"
   },
   "source": [
    "# Part 3 - Train Model\n",
    "\n",
    "\n",
    "---\n",
    "\n"
   ]
  },
  {
   "cell_type": "markdown",
   "metadata": {
    "id": "PfRhSs_RR2VI"
   },
   "source": [
    "## Define functions to view model information\n",
    "\n",
    "To help visualize the results of each training run you will generate two plots at the end of each experiment:\n",
    "\n",
    "* a scatter plot of the features vs. the label with a line showing the output of the trained model\n",
    "* a loss curve\n",
    "\n",
    "For this exercise, the plotting functions are provided for you. Unless you are interested, it is not important for you to understand how these plotting functions work.\n",
    "\n",
    "**Instructions**\n",
    "1. Run the **Define plotting functions** code cell."
   ]
  },
  {
   "cell_type": "code",
   "metadata": {
    "cellView": "form",
    "id": "EE7nBxoMUtE9",
    "ExecuteTime": {
     "end_time": "2024-12-02T00:45:23.567745Z",
     "start_time": "2024-12-02T00:45:23.545206Z"
    }
   },
   "source": [
    "#@title Define plotting functions\n",
    "\n",
    "def make_plots(df, feature_names, label_name, model_output, sample_size=200):\n",
    "\n",
    "  random_sample = df.sample(n=sample_size).copy()\n",
    "  random_sample.reset_index()\n",
    "  weights, bias, epochs, rmse = model_output\n",
    "\n",
    "  is_2d_plot = len(feature_names) == 1\n",
    "  model_plot_type = \"scatter\" if is_2d_plot else \"surface\"\n",
    "  fig = make_subplots(rows=1, cols=2,\n",
    "                      subplot_titles=(\"Loss Curve\", \"Model Plot\"),\n",
    "                      specs=[[{\"type\": \"scatter\"}, {\"type\": model_plot_type}]])\n",
    "\n",
    "  plot_data(random_sample, feature_names, label_name, fig)\n",
    "  plot_model(random_sample, feature_names, weights, bias, fig)\n",
    "  plot_loss_curve(epochs, rmse, fig)\n",
    "\n",
    "  fig.show()\n",
    "  return\n",
    "\n",
    "def plot_loss_curve(epochs, rmse, fig):\n",
    "  curve = px.line(x=epochs, y=rmse)\n",
    "  curve.update_traces(line_color='#ff0000', line_width=3)\n",
    "\n",
    "  fig.append_trace(curve.data[0], row=1, col=1)\n",
    "  fig.update_xaxes(title_text=\"Epoch\", row=1, col=1)\n",
    "  fig.update_yaxes(title_text=\"Root Mean Squared Error\", row=1, col=1, range=[rmse.min()*0.8, rmse.max()])\n",
    "\n",
    "  return\n",
    "\n",
    "def plot_data(df, features, label, fig):\n",
    "  if len(features) == 1:\n",
    "    scatter = px.scatter(df, x=features[0], y=label)\n",
    "  else:\n",
    "    scatter = px.scatter_3d(df, x=features[0], y=features[1], z=label)\n",
    "\n",
    "  fig.append_trace(scatter.data[0], row=1, col=2)\n",
    "  if len(features) == 1:\n",
    "    fig.update_xaxes(title_text=features[0], row=1, col=2)\n",
    "    fig.update_yaxes(title_text=label, row=1, col=2)\n",
    "  else:\n",
    "    fig.update_layout(scene1=dict(xaxis_title=features[0], yaxis_title=features[1], zaxis_title=label))\n",
    "\n",
    "  return\n",
    "\n",
    "def plot_model(df, features, weights, bias, fig):\n",
    "  df['FARE_PREDICTED'] = bias[0]\n",
    "\n",
    "  for index, feature in enumerate(features):\n",
    "    df['FARE_PREDICTED'] = df['FARE_PREDICTED'] + weights[index][0] * df[feature]\n",
    "\n",
    "  if len(features) == 1:\n",
    "    model = px.line(df, x=features[0], y='FARE_PREDICTED')\n",
    "    model.update_traces(line_color='#ff0000', line_width=3)\n",
    "  else:\n",
    "    z_name, y_name = \"FARE_PREDICTED\", features[1]\n",
    "    z = [df[z_name].min(), (df[z_name].max() - df[z_name].min()) / 2, df[z_name].max()]\n",
    "    y = [df[y_name].min(), (df[y_name].max() - df[y_name].min()) / 2, df[y_name].max()]\n",
    "    x = []\n",
    "    for i in range(len(y)):\n",
    "      x.append((z[i] - weights[1][0] * y[i] - bias[0]) / weights[0][0])\n",
    "\n",
    "    plane=pd.DataFrame({'x':x, 'y':y, 'z':[z] * 3})\n",
    "\n",
    "    light_yellow = [[0, '#89CFF0'], [1, '#FFDB58']]\n",
    "    model = go.Figure(data=go.Surface(x=plane['x'], y=plane['y'], z=plane['z'],\n",
    "                                      colorscale=light_yellow))\n",
    "\n",
    "  fig.add_trace(model.data[0], row=1, col=2)\n",
    "\n",
    "  return\n",
    "\n",
    "def model_info(feature_names, label_name, model_output):\n",
    "  weights = model_output[0]\n",
    "  bias = model_output[1]\n",
    "\n",
    "  nl = \"\\n\"\n",
    "  header = \"-\" * 80\n",
    "  banner = header + nl + \"|\" + \"MODEL INFO\".center(78) + \"|\" + nl + header\n",
    "\n",
    "  info = \"\"\n",
    "  equation = label_name + \" = \"\n",
    "\n",
    "  for index, feature in enumerate(feature_names):\n",
    "    info = info + \"Weight for feature[{}]: {:.3f}\\n\".format(feature, weights[index][0])\n",
    "    equation = equation + \"{:.3f} * {} + \".format(weights[index][0], feature)\n",
    "\n",
    "  info = info + \"Bias: {:.3f}\\n\".format(bias[0])\n",
    "  equation = equation + \"{:.3f}\\n\".format(bias[0])\n",
    "\n",
    "  return banner + nl + info + nl + equation\n",
    "\n",
    "print(\"SUCCESS: defining plotting functions complete.\")"
   ],
   "outputs": [
    {
     "name": "stdout",
     "output_type": "stream",
     "text": [
      "SUCCESS: defining plotting functions complete.\n"
     ]
    }
   ],
   "execution_count": 70
  },
  {
   "cell_type": "markdown",
   "metadata": {
    "id": "iRluiQhNvTwc"
   },
   "source": [
    "## Define functions to build and train a model\n",
    "\n",
    "The code you need to build and train your model is in the **Define ML functions** code cell. If you would like to explore this code, expand the code cell and take a look.\n",
    "\n",
    "**Instructions**\n",
    "1. Run the **Define ML functions** code cell."
   ]
  },
  {
   "cell_type": "code",
   "metadata": {
    "cellView": "form",
    "id": "W6a7dtcCob-n",
    "ExecuteTime": {
     "end_time": "2024-12-02T00:45:23.601252Z",
     "start_time": "2024-12-02T00:45:23.588932Z"
    }
   },
   "source": [
    "#@title Code - Define ML functions\n",
    "\n",
    "def build_model(my_learning_rate, num_features):\n",
    "  \"\"\"Create and compile a simple linear regression model.\"\"\"\n",
    "  # Most simple keras models are sequential.\n",
    "  model = keras.models.Sequential()\n",
    "\n",
    "  # Describe the topography of the model.\n",
    "  # The topography of a simple linear regression model\n",
    "  # is a single node in a single layer.\n",
    "  model.add(keras.layers.Dense(units=1,\n",
    "                                  input_shape=(num_features,)))\n",
    "\n",
    "  # Compile the model topography into code that Keras can efficiently\n",
    "  # execute. Configure training to minimize the model's mean squared error.\n",
    "  model.compile(optimizer=keras.optimizers.RMSprop(learning_rate=my_learning_rate),\n",
    "                loss=\"mean_squared_error\",\n",
    "                metrics=[keras.metrics.RootMeanSquaredError()])\n",
    "\n",
    "  return model\n",
    "\n",
    "\n",
    "def train_model(model, df, features, label, epochs, batch_size):\n",
    "  \"\"\"Train the model by feeding it data.\"\"\"\n",
    "\n",
    "  # Feed the model the feature and the label.\n",
    "  # The model will train for the specified number of epochs.\n",
    "  # input_x = df.iloc[:,1:3].values\n",
    "  # df[feature]\n",
    "  history = model.fit(x=features,\n",
    "                      y=label,\n",
    "                      batch_size=batch_size,\n",
    "                      epochs=epochs)\n",
    "\n",
    "  # Gather the trained model's weight and bias.\n",
    "  trained_weight = model.get_weights()[0]\n",
    "  trained_bias = model.get_weights()[1]\n",
    "\n",
    "  # The list of epochs is stored separately from the rest of history.\n",
    "  epochs = history.epoch\n",
    "\n",
    "  # Isolate the error for each epoch.\n",
    "  hist = pd.DataFrame(history.history)\n",
    "\n",
    "  # To track the progression of training, we're going to take a snapshot\n",
    "  # of the model's root mean squared error at each epoch.\n",
    "  rmse = hist[\"root_mean_squared_error\"]\n",
    "\n",
    "  return trained_weight, trained_bias, epochs, rmse\n",
    "\n",
    "\n",
    "def run_experiment(df, feature_names, label_name, learning_rate, epochs, batch_size):\n",
    "\n",
    "  print('INFO: starting training experiment with features={} and label={}\\n'.format(feature_names, label_name))\n",
    "\n",
    "  num_features = len(feature_names)\n",
    "\n",
    "  features = df.loc[:, feature_names].values\n",
    "  label = df[label_name].values\n",
    "\n",
    "  model = build_model(learning_rate, num_features)\n",
    "  model_output = train_model(model, df, features, label, epochs, batch_size)\n",
    "\n",
    "  print('\\nSUCCESS: training experiment complete\\n')\n",
    "  print('{}'.format(model_info(feature_names, label_name, model_output)))\n",
    "  make_plots(df, feature_names, label_name, model_output)\n",
    "\n",
    "  return model\n",
    "\n",
    "print(\"SUCCESS: defining linear regression functions complete.\")"
   ],
   "outputs": [
    {
     "name": "stdout",
     "output_type": "stream",
     "text": [
      "SUCCESS: defining linear regression functions complete.\n"
     ]
    }
   ],
   "execution_count": 71
  },
  {
   "cell_type": "markdown",
   "metadata": {
    "id": "m3DQCE2OpH4-"
   },
   "source": [
    "## Train a model with one feature\n",
    "\n",
    "In this step you will train a model to predict the cost of the fare using a **single feature**. Earlier, you saw that `TRIP_MILES` (distance) correlates most strongly with the ``FARE``, so let's start with `TRIP_MILES` as the feature for your first training run.\n",
    "\n",
    "**Instructions**\n",
    "\n",
    "1. Run the **Experiment 1** code cell to build your model with one feature.\n",
    "1. Review the output from the training run\n",
    "1. **Check your understanding** by answering these questions:\n",
    "  * How many epochs did it take to converge on the final model?\n",
    "  * How well does the model fit the sample data?\n",
    "\n",
    "During training, you should see the root mean square error (RMSE) in the output. The units for RMSE are the same as the units for the label (dollars). In other words, you can use the RMSE to determine how far off, on average, the predicted fares are in dollars from the observed values."
   ]
  },
  {
   "cell_type": "code",
   "metadata": {
    "cellView": "form",
    "id": "F_17Aum6IG1F",
    "ExecuteTime": {
     "end_time": "2024-12-02T00:45:39.208579Z",
     "start_time": "2024-12-02T00:45:23.635721Z"
    }
   },
   "source": [
    "#@title Code - Experiment 1\n",
    "\n",
    "# The following variables are the hyperparameters.\n",
    "learning_rate = 0.001\n",
    "epochs = 20\n",
    "batch_size = 50\n",
    "\n",
    "# Specify the feature and the label.\n",
    "features = ['TRIP_MILES']\n",
    "label = 'FARE'\n",
    "\n",
    "model_1 = run_experiment(training_df, features, label, learning_rate, epochs, batch_size)"
   ],
   "outputs": [
    {
     "name": "stdout",
     "output_type": "stream",
     "text": [
      "INFO: starting training experiment with features=['TRIP_MILES'] and label=FARE\n",
      "\n",
      "Epoch 1/20\n"
     ]
    },
    {
     "name": "stderr",
     "output_type": "stream",
     "text": [
      "/Users/anton/miniforge3/envs/ml/lib/python3.12/site-packages/keras/src/layers/core/dense.py:87: UserWarning:\n",
      "\n",
      "Do not pass an `input_shape`/`input_dim` argument to a layer. When using Sequential models, prefer using an `Input(shape)` object as the first layer in the model instead.\n",
      "\n"
     ]
    },
    {
     "name": "stdout",
     "output_type": "stream",
     "text": [
      "\u001B[1m634/634\u001B[0m \u001B[32m━━━━━━━━━━━━━━━━━━━━\u001B[0m\u001B[37m\u001B[0m \u001B[1m1s\u001B[0m 1ms/step - loss: 194.2978 - root_mean_squared_error: 13.9061  \n",
      "Epoch 2/20\n",
      "\u001B[1m634/634\u001B[0m \u001B[32m━━━━━━━━━━━━━━━━━━━━\u001B[0m\u001B[37m\u001B[0m \u001B[1m1s\u001B[0m 947us/step - loss: 57.2178 - root_mean_squared_error: 7.5234\n",
      "Epoch 3/20\n",
      "\u001B[1m634/634\u001B[0m \u001B[32m━━━━━━━━━━━━━━━━━━━━\u001B[0m\u001B[37m\u001B[0m \u001B[1m1s\u001B[0m 1ms/step - loss: 20.6345 - root_mean_squared_error: 4.5361\n",
      "Epoch 4/20\n",
      "\u001B[1m634/634\u001B[0m \u001B[32m━━━━━━━━━━━━━━━━━━━━\u001B[0m\u001B[37m\u001B[0m \u001B[1m1s\u001B[0m 1ms/step - loss: 19.0204 - root_mean_squared_error: 4.3583\n",
      "Epoch 5/20\n",
      "\u001B[1m634/634\u001B[0m \u001B[32m━━━━━━━━━━━━━━━━━━━━\u001B[0m\u001B[37m\u001B[0m \u001B[1m1s\u001B[0m 985us/step - loss: 18.0261 - root_mean_squared_error: 4.2348\n",
      "Epoch 6/20\n",
      "\u001B[1m634/634\u001B[0m \u001B[32m━━━━━━━━━━━━━━━━━━━━\u001B[0m\u001B[37m\u001B[0m \u001B[1m1s\u001B[0m 963us/step - loss: 14.9016 - root_mean_squared_error: 3.8473\n",
      "Epoch 7/20\n",
      "\u001B[1m634/634\u001B[0m \u001B[32m━━━━━━━━━━━━━━━━━━━━\u001B[0m\u001B[37m\u001B[0m \u001B[1m1s\u001B[0m 986us/step - loss: 13.8110 - root_mean_squared_error: 3.7124\n",
      "Epoch 8/20\n",
      "\u001B[1m634/634\u001B[0m \u001B[32m━━━━━━━━━━━━━━━━━━━━\u001B[0m\u001B[37m\u001B[0m \u001B[1m1s\u001B[0m 1ms/step - loss: 14.4643 - root_mean_squared_error: 3.8000  \n",
      "Epoch 9/20\n",
      "\u001B[1m634/634\u001B[0m \u001B[32m━━━━━━━━━━━━━━━━━━━━\u001B[0m\u001B[37m\u001B[0m \u001B[1m1s\u001B[0m 1ms/step - loss: 14.0817 - root_mean_squared_error: 3.7480\n",
      "Epoch 10/20\n",
      "\u001B[1m634/634\u001B[0m \u001B[32m━━━━━━━━━━━━━━━━━━━━\u001B[0m\u001B[37m\u001B[0m \u001B[1m1s\u001B[0m 1ms/step - loss: 12.3384 - root_mean_squared_error: 3.4977\n",
      "Epoch 11/20\n",
      "\u001B[1m634/634\u001B[0m \u001B[32m━━━━━━━━━━━━━━━━━━━━\u001B[0m\u001B[37m\u001B[0m \u001B[1m1s\u001B[0m 1ms/step - loss: 14.6882 - root_mean_squared_error: 3.8240\n",
      "Epoch 12/20\n",
      "\u001B[1m634/634\u001B[0m \u001B[32m━━━━━━━━━━━━━━━━━━━━\u001B[0m\u001B[37m\u001B[0m \u001B[1m1s\u001B[0m 2ms/step - loss: 14.4446 - root_mean_squared_error: 3.7922\n",
      "Epoch 13/20\n",
      "\u001B[1m634/634\u001B[0m \u001B[32m━━━━━━━━━━━━━━━━━━━━\u001B[0m\u001B[37m\u001B[0m \u001B[1m1s\u001B[0m 1ms/step - loss: 13.0241 - root_mean_squared_error: 3.6010\n",
      "Epoch 14/20\n",
      "\u001B[1m634/634\u001B[0m \u001B[32m━━━━━━━━━━━━━━━━━━━━\u001B[0m\u001B[37m\u001B[0m \u001B[1m1s\u001B[0m 1ms/step - loss: 14.0216 - root_mean_squared_error: 3.7395\n",
      "Epoch 15/20\n",
      "\u001B[1m634/634\u001B[0m \u001B[32m━━━━━━━━━━━━━━━━━━━━\u001B[0m\u001B[37m\u001B[0m \u001B[1m1s\u001B[0m 1ms/step - loss: 13.5055 - root_mean_squared_error: 3.6704\n",
      "Epoch 16/20\n",
      "\u001B[1m634/634\u001B[0m \u001B[32m━━━━━━━━━━━━━━━━━━━━\u001B[0m\u001B[37m\u001B[0m \u001B[1m1s\u001B[0m 1ms/step - loss: 14.4149 - root_mean_squared_error: 3.7903\n",
      "Epoch 17/20\n",
      "\u001B[1m634/634\u001B[0m \u001B[32m━━━━━━━━━━━━━━━━━━━━\u001B[0m\u001B[37m\u001B[0m \u001B[1m1s\u001B[0m 1ms/step - loss: 13.2651 - root_mean_squared_error: 3.6402\n",
      "Epoch 18/20\n",
      "\u001B[1m634/634\u001B[0m \u001B[32m━━━━━━━━━━━━━━━━━━━━\u001B[0m\u001B[37m\u001B[0m \u001B[1m1s\u001B[0m 1ms/step - loss: 13.6820 - root_mean_squared_error: 3.6948\n",
      "Epoch 19/20\n",
      "\u001B[1m634/634\u001B[0m \u001B[32m━━━━━━━━━━━━━━━━━━━━\u001B[0m\u001B[37m\u001B[0m \u001B[1m1s\u001B[0m 1ms/step - loss: 14.4410 - root_mean_squared_error: 3.7916\n",
      "Epoch 20/20\n",
      "\u001B[1m634/634\u001B[0m \u001B[32m━━━━━━━━━━━━━━━━━━━━\u001B[0m\u001B[37m\u001B[0m \u001B[1m1s\u001B[0m 1ms/step - loss: 13.6815 - root_mean_squared_error: 3.6935\n",
      "\n",
      "SUCCESS: training experiment complete\n",
      "\n",
      "--------------------------------------------------------------------------------\n",
      "|                                  MODEL INFO                                  |\n",
      "--------------------------------------------------------------------------------\n",
      "Weight for feature[TRIP_MILES]: 2.285\n",
      "Bias: 4.974\n",
      "\n",
      "FARE = 2.285 * TRIP_MILES + 4.974\n",
      "\n"
     ]
    },
    {
     "data": {
      "application/vnd.plotly.v1+json": {
       "data": [
        {
         "hovertemplate": "TRIP_MILES=%{x}<br>FARE=%{y}<extra></extra>",
         "legendgroup": "",
         "marker": {
          "color": "#636efa",
          "symbol": "circle"
         },
         "mode": "markers",
         "name": "",
         "orientation": "v",
         "showlegend": false,
         "x": [
          0.64,
          0.51,
          0.66,
          1.73,
          1.6,
          16.0,
          1.28,
          1.38,
          14.1,
          9.95,
          6.35,
          9.63,
          2.06,
          3.91,
          17.5,
          1.05,
          2.54,
          3.8,
          2.31,
          2.06,
          34.06,
          17.16,
          7.62,
          0.62,
          0.89,
          17.71,
          15.63,
          3.2,
          17.72,
          11.9,
          8.62,
          12.31,
          33.2,
          1.0,
          11.05,
          2.0,
          11.4,
          0.7,
          9.73,
          0.82,
          30.6,
          1.04,
          17.36,
          17.0,
          2.46,
          17.66,
          17.7,
          1.19,
          2.2,
          13.47,
          1.8,
          17.3,
          11.94,
          17.58,
          3.68,
          1.9,
          12.5,
          20.6,
          16.8,
          19.42,
          12.3,
          4.3,
          1.2,
          1.2,
          23.0,
          4.8,
          18.44,
          1.8,
          33.39,
          16.9,
          8.2,
          0.9,
          3.68,
          13.4,
          2.1,
          12.02,
          0.53,
          18.1,
          0.7,
          17.8,
          1.78,
          2.2,
          17.68,
          17.5,
          18.0,
          0.9,
          2.07,
          7.8,
          0.9,
          1.74,
          0.9,
          1.48,
          18.0,
          1.07,
          5.66,
          16.5,
          3.5,
          12.16,
          9.59,
          19.3,
          19.7,
          16.92,
          17.4,
          7.91,
          1.5,
          13.72,
          16.37,
          17.63,
          0.96,
          3.5,
          4.03,
          0.61,
          18.41,
          12.3,
          12.36,
          7.98,
          4.83,
          16.5,
          6.6,
          0.88,
          1.43,
          1.3,
          1.37,
          2.07,
          12.98,
          10.88,
          3.16,
          1.9,
          2.25,
          21.16,
          5.06,
          6.8,
          6.71,
          12.8,
          17.9,
          0.5,
          17.73,
          2.15,
          5.01,
          17.28,
          3.73,
          9.61,
          6.04,
          15.5,
          2.5,
          13.3,
          2.1,
          3.3,
          18.8,
          15.68,
          14.0,
          17.6,
          6.87,
          4.3,
          17.6,
          9.2,
          1.99,
          1.24,
          4.17,
          11.35,
          1.2,
          1.44,
          16.58,
          2.0,
          3.58,
          1.05,
          0.7,
          1.25,
          2.51,
          1.8,
          5.73,
          9.7,
          16.52,
          12.5,
          13.0,
          12.47,
          1.5,
          14.35,
          0.6,
          7.94,
          13.97,
          7.71,
          14.93,
          21.03,
          14.98,
          12.7,
          0.73,
          14.23,
          4.5,
          14.47,
          0.9,
          0.76,
          2.14,
          1.8,
          31.7,
          16.05,
          0.89,
          14.2,
          1.1,
          12.6
         ],
         "xaxis": "x2",
         "y": [
          5.75,
          5.0,
          5.25,
          9.0,
          8.25,
          40.75,
          7.5,
          7.0,
          36.5,
          27.75,
          30.0,
          31.75,
          10.54,
          13.75,
          44.25,
          6.75,
          9.5,
          11.75,
          10.52,
          9.37,
          85.5,
          42.0,
          22.75,
          5.0,
          6.25,
          44.25,
          40.25,
          13.0,
          44.25,
          31.75,
          25.0,
          32.25,
          37.25,
          6.0,
          29.5,
          9.5,
          29.5,
          5.0,
          28.25,
          5.25,
          74.25,
          7.0,
          44.0,
          44.0,
          10.0,
          51.75,
          43.75,
          9.0,
          7.25,
          35.25,
          9.0,
          43.0,
          32.25,
          44.25,
          12.0,
          9.0,
          32.25,
          50.5,
          43.5,
          50.5,
          35.25,
          7.5,
          6.75,
          9.0,
          81.84,
          15.0,
          45.5,
          9.0,
          80.0,
          41.75,
          23.0,
          5.75,
          14.0,
          34.5,
          10.25,
          31.75,
          4.75,
          45.0,
          5.5,
          47.75,
          9.0,
          9.25,
          44.0,
          43.5,
          45.25,
          6.25,
          10.0,
          21.8,
          5.5,
          8.5,
          6.0,
          9.0,
          45.25,
          6.75,
          21.5,
          40.5,
          13.5,
          32.75,
          28.75,
          54.0,
          47.5,
          44.0,
          43.0,
          24.75,
          10.5,
          34.0,
          41.25,
          43.5,
          6.5,
          13.0,
          13.75,
          5.0,
          46.5,
          32.0,
          34.25,
          25.5,
          15.5,
          46.75,
          20.25,
          9.0,
          8.25,
          7.0,
          7.5,
          8.75,
          33.5,
          28.25,
          12.0,
          9.25,
          10.77,
          56.0,
          17.86,
          19.5,
          20.75,
          34.75,
          45.25,
          4.75,
          44.5,
          10.25,
          17.5,
          43.0,
          13.28,
          29.39,
          21.75,
          41.25,
          10.0,
          35.25,
          10.25,
          11.5,
          46.5,
          40.0,
          38.5,
          44.25,
          20.25,
          13.71,
          44.25,
          24.5,
          9.24,
          9.17,
          14.75,
          35.0,
          6.25,
          7.75,
          43.0,
          9.75,
          11.5,
          9.0,
          5.5,
          6.75,
          10.25,
          10.25,
          18.0,
          27.25,
          41.5,
          33.25,
          33.75,
          34.5,
          7.5,
          38.0,
          5.75,
          23.0,
          35.5,
          22.5,
          38.75,
          51.75,
          38.25,
          36.0,
          9.18,
          36.25,
          14.0,
          36.75,
          5.75,
          5.5,
          9.25,
          9.25,
          66.0,
          40.75,
          6.0,
          39.0,
          6.5,
          33.25
         ],
         "yaxis": "y2",
         "type": "scatter"
        },
        {
         "hovertemplate": "TRIP_MILES=%{x}<br>FARE_PREDICTED=%{y}<extra></extra>",
         "legendgroup": "",
         "line": {
          "color": "#ff0000",
          "dash": "solid",
          "width": 3
         },
         "marker": {
          "symbol": "circle"
         },
         "mode": "lines",
         "name": "",
         "orientation": "v",
         "showlegend": false,
         "x": [
          0.64,
          0.51,
          0.66,
          1.73,
          1.6,
          16.0,
          1.28,
          1.38,
          14.1,
          9.95,
          6.35,
          9.63,
          2.06,
          3.91,
          17.5,
          1.05,
          2.54,
          3.8,
          2.31,
          2.06,
          34.06,
          17.16,
          7.62,
          0.62,
          0.89,
          17.71,
          15.63,
          3.2,
          17.72,
          11.9,
          8.62,
          12.31,
          33.2,
          1.0,
          11.05,
          2.0,
          11.4,
          0.7,
          9.73,
          0.82,
          30.6,
          1.04,
          17.36,
          17.0,
          2.46,
          17.66,
          17.7,
          1.19,
          2.2,
          13.47,
          1.8,
          17.3,
          11.94,
          17.58,
          3.68,
          1.9,
          12.5,
          20.6,
          16.8,
          19.42,
          12.3,
          4.3,
          1.2,
          1.2,
          23.0,
          4.8,
          18.44,
          1.8,
          33.39,
          16.9,
          8.2,
          0.9,
          3.68,
          13.4,
          2.1,
          12.02,
          0.53,
          18.1,
          0.7,
          17.8,
          1.78,
          2.2,
          17.68,
          17.5,
          18.0,
          0.9,
          2.07,
          7.8,
          0.9,
          1.74,
          0.9,
          1.48,
          18.0,
          1.07,
          5.66,
          16.5,
          3.5,
          12.16,
          9.59,
          19.3,
          19.7,
          16.92,
          17.4,
          7.91,
          1.5,
          13.72,
          16.37,
          17.63,
          0.96,
          3.5,
          4.03,
          0.61,
          18.41,
          12.3,
          12.36,
          7.98,
          4.83,
          16.5,
          6.6,
          0.88,
          1.43,
          1.3,
          1.37,
          2.07,
          12.98,
          10.88,
          3.16,
          1.9,
          2.25,
          21.16,
          5.06,
          6.8,
          6.71,
          12.8,
          17.9,
          0.5,
          17.73,
          2.15,
          5.01,
          17.28,
          3.73,
          9.61,
          6.04,
          15.5,
          2.5,
          13.3,
          2.1,
          3.3,
          18.8,
          15.68,
          14.0,
          17.6,
          6.87,
          4.3,
          17.6,
          9.2,
          1.99,
          1.24,
          4.17,
          11.35,
          1.2,
          1.44,
          16.58,
          2.0,
          3.58,
          1.05,
          0.7,
          1.25,
          2.51,
          1.8,
          5.73,
          9.7,
          16.52,
          12.5,
          13.0,
          12.47,
          1.5,
          14.35,
          0.6,
          7.94,
          13.97,
          7.71,
          14.93,
          21.03,
          14.98,
          12.7,
          0.73,
          14.23,
          4.5,
          14.47,
          0.9,
          0.76,
          2.14,
          1.8,
          31.7,
          16.05,
          0.89,
          14.2,
          1.1,
          12.6
         ],
         "xaxis": "x2",
         "y": [
          6.436704540252686,
          6.139638102054596,
          6.482407069206237,
          8.927492368221284,
          8.630425930023193,
          41.53624677658081,
          7.899185466766358,
          8.12769811153412,
          37.19450652599335,
          27.711231768131256,
          19.484776556491852,
          26.97999130487442,
          9.681584095954896,
          13.909068024158477,
          44.96393644809723,
          7.373606383800507,
          10.77844479084015,
          13.65770411491394,
          10.2528657078743,
          9.681584095954896,
          82.8056304216385,
          44.18699345588684,
          22.38688714504242,
          6.3910020112991335,
          7.007986152172089,
          45.44381300210953,
          40.6907499909401,
          12.286628246307373,
          45.4666642665863,
          32.1672283411026,
          24.67201359272003,
          33.10413018465042,
          80.84042167663574,
          7.259350061416626,
          30.22487086057663,
          9.544476509094238,
          31.024665117263794,
          6.573812127113342,
          27.208503949642182,
          6.848027300834656,
          74.89909291267395,
          7.350755119323731,
          44.644018745422365,
          43.82137322425842,
          10.59563467502594,
          45.32955667972565,
          45.42096173763275,
          7.693524086475373,
          10.00150179862976,
          35.754876863956454,
          9.087451219558716,
          44.50691115856171,
          32.2586333990097,
          45.146746563911435,
          13.383488941192628,
          9.315963864326477,
          33.53830420970917,
          52.04782843589783,
          43.3643479347229,
          49.35137922763825,
          33.081278920173645,
          14.800267338752747,
          7.716375350952148,
          7.716375350952148,
          57.5321319103241,
          15.942830562591553,
          47.11195530891419,
          9.087451219558716,
          81.2745957016945,
          43.59286057949066,
          23.712260484695435,
          7.030837416648865,
          13.383488941192628,
          35.59491801261902,
          9.772989153862,
          32.441443514823916,
          6.185340631008148,
          46.335012316703796,
          6.573812127113342,
          45.64947438240051,
          9.041748690605164,
          10.00150179862976,
          45.375259208679196,
          44.96393644809723,
          46.106499671936035,
          7.030837416648865,
          9.70443536043167,
          22.79820990562439,
          7.030837416648865,
          8.95034363269806,
          7.030837416648865,
          8.35621075630188,
          46.106499671936035,
          7.419308912754059,
          17.9080393075943,
          42.67881000041962,
          12.972166180610657,
          32.76136121749878,
          26.888586246967314,
          49.07716405391693,
          49.991214632987976,
          43.63856310844422,
          44.73542380332947,
          23.04957381486893,
          8.401913285255432,
          36.32615847587586,
          42.38174356222153,
          45.261002886295316,
          7.167945003509521,
          12.972166180610657,
          14.183283197879792,
          6.368150746822357,
          47.04340151548386,
          33.081278920173645,
          33.218386507034296,
          23.20953266620636,
          16.011384356021882,
          42.67881000041962,
          20.056058168411255,
          6.985134887695312,
          8.241954433918,
          7.94488799571991,
          8.104846847057342,
          9.70443536043167,
          34.63516490459442,
          29.836399364471436,
          12.19522318840027,
          9.315963864326477,
          10.115758121013641,
          53.32749924659729,
          16.536963438987733,
          20.513083457946777,
          20.307422077655794,
          34.22384214401245,
          45.877987027168274,
          6.11678683757782,
          45.489515531063084,
          9.88724547624588,
          16.422707116603853,
          44.46120862960816,
          13.497745263576508,
          26.934288775920866,
          18.77638735771179,
          40.393683552742004,
          10.687039732933044,
          35.36640536785126,
          9.772989153862,
          12.515140891075134,
          47.934600830078125,
          40.80500631332397,
          36.965993881225586,
          45.19244909286499,
          20.673042309284213,
          14.800267338752747,
          45.19244909286499,
          25.997386932373047,
          9.521625244617463,
          7.807780408859253,
          14.503200900554656,
          30.910408794879913,
          7.716375350952148,
          8.264805698394776,
          42.86162011623382,
          9.544476509094238,
          13.154976296424866,
          7.373606383800507,
          6.573812127113342,
          7.830631673336029,
          10.70989099740982,
          9.087451219558716,
          18.067998158931733,
          27.139950156211853,
          42.724512529373165,
          33.53830420970917,
          34.680867433547974,
          33.46975041627884,
          8.401913285255432,
          37.76578813791275,
          6.345299482345581,
          23.118127608299258,
          36.89744008779526,
          22.592548525333406,
          39.09116147756576,
          53.030432808399205,
          39.20541779994965,
          33.99532949924469,
          6.6423659205436705,
          37.49157296419144,
          15.257292628288269,
          38.04000331163407,
          7.030837416648865,
          6.710919713973999,
          9.864394211769104,
          9.087451219558716,
          77.41273200511932,
          41.65050309896469,
          7.007986152172089,
          37.42301917076111,
          7.487862706184387,
          33.76681685447693
         ],
         "yaxis": "y2",
         "type": "scatter"
        },
        {
         "hovertemplate": "x=%{x}<br>y=%{y}<extra></extra>",
         "legendgroup": "",
         "line": {
          "color": "#ff0000",
          "dash": "solid",
          "width": 3
         },
         "marker": {
          "symbol": "circle"
         },
         "mode": "lines",
         "name": "",
         "orientation": "v",
         "showlegend": false,
         "x": [
          0,
          1,
          2,
          3,
          4,
          5,
          6,
          7,
          8,
          9,
          10,
          11,
          12,
          13,
          14,
          15,
          16,
          17,
          18,
          19
         ],
         "xaxis": "x",
         "y": [
          12.332534790039062,
          6.387347221374512,
          4.396175384521484,
          4.207581520080566,
          4.053223133087158,
          3.9329967498779297,
          3.847904682159424,
          3.7971088886260986,
          3.7690157890319824,
          3.7552030086517334,
          3.7500643730163574,
          3.7474443912506104,
          3.746537685394287,
          3.7462198734283447,
          3.7458126544952393,
          3.7456178665161133,
          3.746265411376953,
          3.7457926273345947,
          3.7457916736602783,
          3.7460830211639404
         ],
         "yaxis": "y",
         "type": "scatter"
        }
       ],
       "layout": {
        "template": {
         "data": {
          "histogram2dcontour": [
           {
            "type": "histogram2dcontour",
            "colorbar": {
             "outlinewidth": 0,
             "ticks": ""
            },
            "colorscale": [
             [
              0.0,
              "#0d0887"
             ],
             [
              0.1111111111111111,
              "#46039f"
             ],
             [
              0.2222222222222222,
              "#7201a8"
             ],
             [
              0.3333333333333333,
              "#9c179e"
             ],
             [
              0.4444444444444444,
              "#bd3786"
             ],
             [
              0.5555555555555556,
              "#d8576b"
             ],
             [
              0.6666666666666666,
              "#ed7953"
             ],
             [
              0.7777777777777778,
              "#fb9f3a"
             ],
             [
              0.8888888888888888,
              "#fdca26"
             ],
             [
              1.0,
              "#f0f921"
             ]
            ]
           }
          ],
          "choropleth": [
           {
            "type": "choropleth",
            "colorbar": {
             "outlinewidth": 0,
             "ticks": ""
            }
           }
          ],
          "histogram2d": [
           {
            "type": "histogram2d",
            "colorbar": {
             "outlinewidth": 0,
             "ticks": ""
            },
            "colorscale": [
             [
              0.0,
              "#0d0887"
             ],
             [
              0.1111111111111111,
              "#46039f"
             ],
             [
              0.2222222222222222,
              "#7201a8"
             ],
             [
              0.3333333333333333,
              "#9c179e"
             ],
             [
              0.4444444444444444,
              "#bd3786"
             ],
             [
              0.5555555555555556,
              "#d8576b"
             ],
             [
              0.6666666666666666,
              "#ed7953"
             ],
             [
              0.7777777777777778,
              "#fb9f3a"
             ],
             [
              0.8888888888888888,
              "#fdca26"
             ],
             [
              1.0,
              "#f0f921"
             ]
            ]
           }
          ],
          "heatmap": [
           {
            "type": "heatmap",
            "colorbar": {
             "outlinewidth": 0,
             "ticks": ""
            },
            "colorscale": [
             [
              0.0,
              "#0d0887"
             ],
             [
              0.1111111111111111,
              "#46039f"
             ],
             [
              0.2222222222222222,
              "#7201a8"
             ],
             [
              0.3333333333333333,
              "#9c179e"
             ],
             [
              0.4444444444444444,
              "#bd3786"
             ],
             [
              0.5555555555555556,
              "#d8576b"
             ],
             [
              0.6666666666666666,
              "#ed7953"
             ],
             [
              0.7777777777777778,
              "#fb9f3a"
             ],
             [
              0.8888888888888888,
              "#fdca26"
             ],
             [
              1.0,
              "#f0f921"
             ]
            ]
           }
          ],
          "heatmapgl": [
           {
            "type": "heatmapgl",
            "colorbar": {
             "outlinewidth": 0,
             "ticks": ""
            },
            "colorscale": [
             [
              0.0,
              "#0d0887"
             ],
             [
              0.1111111111111111,
              "#46039f"
             ],
             [
              0.2222222222222222,
              "#7201a8"
             ],
             [
              0.3333333333333333,
              "#9c179e"
             ],
             [
              0.4444444444444444,
              "#bd3786"
             ],
             [
              0.5555555555555556,
              "#d8576b"
             ],
             [
              0.6666666666666666,
              "#ed7953"
             ],
             [
              0.7777777777777778,
              "#fb9f3a"
             ],
             [
              0.8888888888888888,
              "#fdca26"
             ],
             [
              1.0,
              "#f0f921"
             ]
            ]
           }
          ],
          "contourcarpet": [
           {
            "type": "contourcarpet",
            "colorbar": {
             "outlinewidth": 0,
             "ticks": ""
            }
           }
          ],
          "contour": [
           {
            "type": "contour",
            "colorbar": {
             "outlinewidth": 0,
             "ticks": ""
            },
            "colorscale": [
             [
              0.0,
              "#0d0887"
             ],
             [
              0.1111111111111111,
              "#46039f"
             ],
             [
              0.2222222222222222,
              "#7201a8"
             ],
             [
              0.3333333333333333,
              "#9c179e"
             ],
             [
              0.4444444444444444,
              "#bd3786"
             ],
             [
              0.5555555555555556,
              "#d8576b"
             ],
             [
              0.6666666666666666,
              "#ed7953"
             ],
             [
              0.7777777777777778,
              "#fb9f3a"
             ],
             [
              0.8888888888888888,
              "#fdca26"
             ],
             [
              1.0,
              "#f0f921"
             ]
            ]
           }
          ],
          "surface": [
           {
            "type": "surface",
            "colorbar": {
             "outlinewidth": 0,
             "ticks": ""
            },
            "colorscale": [
             [
              0.0,
              "#0d0887"
             ],
             [
              0.1111111111111111,
              "#46039f"
             ],
             [
              0.2222222222222222,
              "#7201a8"
             ],
             [
              0.3333333333333333,
              "#9c179e"
             ],
             [
              0.4444444444444444,
              "#bd3786"
             ],
             [
              0.5555555555555556,
              "#d8576b"
             ],
             [
              0.6666666666666666,
              "#ed7953"
             ],
             [
              0.7777777777777778,
              "#fb9f3a"
             ],
             [
              0.8888888888888888,
              "#fdca26"
             ],
             [
              1.0,
              "#f0f921"
             ]
            ]
           }
          ],
          "mesh3d": [
           {
            "type": "mesh3d",
            "colorbar": {
             "outlinewidth": 0,
             "ticks": ""
            }
           }
          ],
          "scatter": [
           {
            "marker": {
             "line": {
              "color": "#283442"
             }
            },
            "type": "scatter"
           }
          ],
          "parcoords": [
           {
            "type": "parcoords",
            "line": {
             "colorbar": {
              "outlinewidth": 0,
              "ticks": ""
             }
            }
           }
          ],
          "scatterpolargl": [
           {
            "type": "scatterpolargl",
            "marker": {
             "colorbar": {
              "outlinewidth": 0,
              "ticks": ""
             }
            }
           }
          ],
          "bar": [
           {
            "error_x": {
             "color": "#f2f5fa"
            },
            "error_y": {
             "color": "#f2f5fa"
            },
            "marker": {
             "line": {
              "color": "rgb(17,17,17)",
              "width": 0.5
             },
             "pattern": {
              "fillmode": "overlay",
              "size": 10,
              "solidity": 0.2
             }
            },
            "type": "bar"
           }
          ],
          "scattergeo": [
           {
            "type": "scattergeo",
            "marker": {
             "colorbar": {
              "outlinewidth": 0,
              "ticks": ""
             }
            }
           }
          ],
          "scatterpolar": [
           {
            "type": "scatterpolar",
            "marker": {
             "colorbar": {
              "outlinewidth": 0,
              "ticks": ""
             }
            }
           }
          ],
          "histogram": [
           {
            "marker": {
             "pattern": {
              "fillmode": "overlay",
              "size": 10,
              "solidity": 0.2
             }
            },
            "type": "histogram"
           }
          ],
          "scattergl": [
           {
            "marker": {
             "line": {
              "color": "#283442"
             }
            },
            "type": "scattergl"
           }
          ],
          "scatter3d": [
           {
            "type": "scatter3d",
            "line": {
             "colorbar": {
              "outlinewidth": 0,
              "ticks": ""
             }
            },
            "marker": {
             "colorbar": {
              "outlinewidth": 0,
              "ticks": ""
             }
            }
           }
          ],
          "scattermapbox": [
           {
            "type": "scattermapbox",
            "marker": {
             "colorbar": {
              "outlinewidth": 0,
              "ticks": ""
             }
            }
           }
          ],
          "scatterternary": [
           {
            "type": "scatterternary",
            "marker": {
             "colorbar": {
              "outlinewidth": 0,
              "ticks": ""
             }
            }
           }
          ],
          "scattercarpet": [
           {
            "type": "scattercarpet",
            "marker": {
             "colorbar": {
              "outlinewidth": 0,
              "ticks": ""
             }
            }
           }
          ],
          "carpet": [
           {
            "aaxis": {
             "endlinecolor": "#A2B1C6",
             "gridcolor": "#506784",
             "linecolor": "#506784",
             "minorgridcolor": "#506784",
             "startlinecolor": "#A2B1C6"
            },
            "baxis": {
             "endlinecolor": "#A2B1C6",
             "gridcolor": "#506784",
             "linecolor": "#506784",
             "minorgridcolor": "#506784",
             "startlinecolor": "#A2B1C6"
            },
            "type": "carpet"
           }
          ],
          "table": [
           {
            "cells": {
             "fill": {
              "color": "#506784"
             },
             "line": {
              "color": "rgb(17,17,17)"
             }
            },
            "header": {
             "fill": {
              "color": "#2a3f5f"
             },
             "line": {
              "color": "rgb(17,17,17)"
             }
            },
            "type": "table"
           }
          ],
          "barpolar": [
           {
            "marker": {
             "line": {
              "color": "rgb(17,17,17)",
              "width": 0.5
             },
             "pattern": {
              "fillmode": "overlay",
              "size": 10,
              "solidity": 0.2
             }
            },
            "type": "barpolar"
           }
          ],
          "pie": [
           {
            "automargin": true,
            "type": "pie"
           }
          ]
         },
         "layout": {
          "autotypenumbers": "strict",
          "colorway": [
           "#636efa",
           "#EF553B",
           "#00cc96",
           "#ab63fa",
           "#FFA15A",
           "#19d3f3",
           "#FF6692",
           "#B6E880",
           "#FF97FF",
           "#FECB52"
          ],
          "font": {
           "color": "#f2f5fa"
          },
          "hovermode": "closest",
          "hoverlabel": {
           "align": "left"
          },
          "paper_bgcolor": "rgb(17,17,17)",
          "plot_bgcolor": "rgb(17,17,17)",
          "polar": {
           "bgcolor": "rgb(17,17,17)",
           "angularaxis": {
            "gridcolor": "#506784",
            "linecolor": "#506784",
            "ticks": ""
           },
           "radialaxis": {
            "gridcolor": "#506784",
            "linecolor": "#506784",
            "ticks": ""
           }
          },
          "ternary": {
           "bgcolor": "rgb(17,17,17)",
           "aaxis": {
            "gridcolor": "#506784",
            "linecolor": "#506784",
            "ticks": ""
           },
           "baxis": {
            "gridcolor": "#506784",
            "linecolor": "#506784",
            "ticks": ""
           },
           "caxis": {
            "gridcolor": "#506784",
            "linecolor": "#506784",
            "ticks": ""
           }
          },
          "coloraxis": {
           "colorbar": {
            "outlinewidth": 0,
            "ticks": ""
           }
          },
          "colorscale": {
           "sequential": [
            [
             0.0,
             "#0d0887"
            ],
            [
             0.1111111111111111,
             "#46039f"
            ],
            [
             0.2222222222222222,
             "#7201a8"
            ],
            [
             0.3333333333333333,
             "#9c179e"
            ],
            [
             0.4444444444444444,
             "#bd3786"
            ],
            [
             0.5555555555555556,
             "#d8576b"
            ],
            [
             0.6666666666666666,
             "#ed7953"
            ],
            [
             0.7777777777777778,
             "#fb9f3a"
            ],
            [
             0.8888888888888888,
             "#fdca26"
            ],
            [
             1.0,
             "#f0f921"
            ]
           ],
           "sequentialminus": [
            [
             0.0,
             "#0d0887"
            ],
            [
             0.1111111111111111,
             "#46039f"
            ],
            [
             0.2222222222222222,
             "#7201a8"
            ],
            [
             0.3333333333333333,
             "#9c179e"
            ],
            [
             0.4444444444444444,
             "#bd3786"
            ],
            [
             0.5555555555555556,
             "#d8576b"
            ],
            [
             0.6666666666666666,
             "#ed7953"
            ],
            [
             0.7777777777777778,
             "#fb9f3a"
            ],
            [
             0.8888888888888888,
             "#fdca26"
            ],
            [
             1.0,
             "#f0f921"
            ]
           ],
           "diverging": [
            [
             0,
             "#8e0152"
            ],
            [
             0.1,
             "#c51b7d"
            ],
            [
             0.2,
             "#de77ae"
            ],
            [
             0.3,
             "#f1b6da"
            ],
            [
             0.4,
             "#fde0ef"
            ],
            [
             0.5,
             "#f7f7f7"
            ],
            [
             0.6,
             "#e6f5d0"
            ],
            [
             0.7,
             "#b8e186"
            ],
            [
             0.8,
             "#7fbc41"
            ],
            [
             0.9,
             "#4d9221"
            ],
            [
             1,
             "#276419"
            ]
           ]
          },
          "xaxis": {
           "gridcolor": "#283442",
           "linecolor": "#506784",
           "ticks": "",
           "title": {
            "standoff": 15
           },
           "zerolinecolor": "#283442",
           "automargin": true,
           "zerolinewidth": 2
          },
          "yaxis": {
           "gridcolor": "#283442",
           "linecolor": "#506784",
           "ticks": "",
           "title": {
            "standoff": 15
           },
           "zerolinecolor": "#283442",
           "automargin": true,
           "zerolinewidth": 2
          },
          "scene": {
           "xaxis": {
            "backgroundcolor": "rgb(17,17,17)",
            "gridcolor": "#506784",
            "linecolor": "#506784",
            "showbackground": true,
            "ticks": "",
            "zerolinecolor": "#C8D4E3",
            "gridwidth": 2
           },
           "yaxis": {
            "backgroundcolor": "rgb(17,17,17)",
            "gridcolor": "#506784",
            "linecolor": "#506784",
            "showbackground": true,
            "ticks": "",
            "zerolinecolor": "#C8D4E3",
            "gridwidth": 2
           },
           "zaxis": {
            "backgroundcolor": "rgb(17,17,17)",
            "gridcolor": "#506784",
            "linecolor": "#506784",
            "showbackground": true,
            "ticks": "",
            "zerolinecolor": "#C8D4E3",
            "gridwidth": 2
           }
          },
          "shapedefaults": {
           "line": {
            "color": "#f2f5fa"
           }
          },
          "annotationdefaults": {
           "arrowcolor": "#f2f5fa",
           "arrowhead": 0,
           "arrowwidth": 1
          },
          "geo": {
           "bgcolor": "rgb(17,17,17)",
           "landcolor": "rgb(17,17,17)",
           "subunitcolor": "#506784",
           "showland": true,
           "showlakes": true,
           "lakecolor": "rgb(17,17,17)"
          },
          "title": {
           "x": 0.05
          },
          "updatemenudefaults": {
           "bgcolor": "#506784",
           "borderwidth": 0
          },
          "sliderdefaults": {
           "bgcolor": "#C8D4E3",
           "borderwidth": 1,
           "bordercolor": "rgb(17,17,17)",
           "tickwidth": 0
          },
          "mapbox": {
           "style": "dark"
          }
         }
        },
        "xaxis": {
         "anchor": "y",
         "domain": [
          0.0,
          0.45
         ],
         "title": {
          "text": "Epoch"
         }
        },
        "yaxis": {
         "anchor": "x",
         "domain": [
          0.0,
          1.0
         ],
         "title": {
          "text": "Root Mean Squared Error"
         },
         "range": [
          2.9964942932128906,
          12.332534790039062
         ]
        },
        "xaxis2": {
         "anchor": "y2",
         "domain": [
          0.55,
          1.0
         ],
         "title": {
          "text": "TRIP_MILES"
         }
        },
        "yaxis2": {
         "anchor": "x2",
         "domain": [
          0.0,
          1.0
         ],
         "title": {
          "text": "FARE"
         }
        },
        "annotations": [
         {
          "font": {
           "size": 16
          },
          "showarrow": false,
          "text": "Loss Curve",
          "x": 0.225,
          "xanchor": "center",
          "xref": "paper",
          "y": 1.0,
          "yanchor": "bottom",
          "yref": "paper"
         },
         {
          "font": {
           "size": 16
          },
          "showarrow": false,
          "text": "Model Plot",
          "x": 0.775,
          "xanchor": "center",
          "xref": "paper",
          "y": 1.0,
          "yanchor": "bottom",
          "yref": "paper"
         }
        ]
       },
       "config": {
        "plotlyServerURL": "https://plot.ly"
       }
      },
      "text/html": [
       "<div>                            <div id=\"432a6159-db3f-4c46-91d0-6109819ee8de\" class=\"plotly-graph-div\" style=\"height:525px; width:100%;\"></div>            <script type=\"text/javascript\">                require([\"plotly\"], function(Plotly) {                    window.PLOTLYENV=window.PLOTLYENV || {};                                    if (document.getElementById(\"432a6159-db3f-4c46-91d0-6109819ee8de\")) {                    Plotly.newPlot(                        \"432a6159-db3f-4c46-91d0-6109819ee8de\",                        [{\"hovertemplate\":\"TRIP_MILES=%{x}\\u003cbr\\u003eFARE=%{y}\\u003cextra\\u003e\\u003c\\u002fextra\\u003e\",\"legendgroup\":\"\",\"marker\":{\"color\":\"#636efa\",\"symbol\":\"circle\"},\"mode\":\"markers\",\"name\":\"\",\"orientation\":\"v\",\"showlegend\":false,\"x\":[0.64,0.51,0.66,1.73,1.6,16.0,1.28,1.38,14.1,9.95,6.35,9.63,2.06,3.91,17.5,1.05,2.54,3.8,2.31,2.06,34.06,17.16,7.62,0.62,0.89,17.71,15.63,3.2,17.72,11.9,8.62,12.31,33.2,1.0,11.05,2.0,11.4,0.7,9.73,0.82,30.6,1.04,17.36,17.0,2.46,17.66,17.7,1.19,2.2,13.47,1.8,17.3,11.94,17.58,3.68,1.9,12.5,20.6,16.8,19.42,12.3,4.3,1.2,1.2,23.0,4.8,18.44,1.8,33.39,16.9,8.2,0.9,3.68,13.4,2.1,12.02,0.53,18.1,0.7,17.8,1.78,2.2,17.68,17.5,18.0,0.9,2.07,7.8,0.9,1.74,0.9,1.48,18.0,1.07,5.66,16.5,3.5,12.16,9.59,19.3,19.7,16.92,17.4,7.91,1.5,13.72,16.37,17.63,0.96,3.5,4.03,0.61,18.41,12.3,12.36,7.98,4.83,16.5,6.6,0.88,1.43,1.3,1.37,2.07,12.98,10.88,3.16,1.9,2.25,21.16,5.06,6.8,6.71,12.8,17.9,0.5,17.73,2.15,5.01,17.28,3.73,9.61,6.04,15.5,2.5,13.3,2.1,3.3,18.8,15.68,14.0,17.6,6.87,4.3,17.6,9.2,1.99,1.24,4.17,11.35,1.2,1.44,16.58,2.0,3.58,1.05,0.7,1.25,2.51,1.8,5.73,9.7,16.52,12.5,13.0,12.47,1.5,14.35,0.6,7.94,13.97,7.71,14.93,21.03,14.98,12.7,0.73,14.23,4.5,14.47,0.9,0.76,2.14,1.8,31.7,16.05,0.89,14.2,1.1,12.6],\"xaxis\":\"x2\",\"y\":[5.75,5.0,5.25,9.0,8.25,40.75,7.5,7.0,36.5,27.75,30.0,31.75,10.54,13.75,44.25,6.75,9.5,11.75,10.52,9.37,85.5,42.0,22.75,5.0,6.25,44.25,40.25,13.0,44.25,31.75,25.0,32.25,37.25,6.0,29.5,9.5,29.5,5.0,28.25,5.25,74.25,7.0,44.0,44.0,10.0,51.75,43.75,9.0,7.25,35.25,9.0,43.0,32.25,44.25,12.0,9.0,32.25,50.5,43.5,50.5,35.25,7.5,6.75,9.0,81.84,15.0,45.5,9.0,80.0,41.75,23.0,5.75,14.0,34.5,10.25,31.75,4.75,45.0,5.5,47.75,9.0,9.25,44.0,43.5,45.25,6.25,10.0,21.8,5.5,8.5,6.0,9.0,45.25,6.75,21.5,40.5,13.5,32.75,28.75,54.0,47.5,44.0,43.0,24.75,10.5,34.0,41.25,43.5,6.5,13.0,13.75,5.0,46.5,32.0,34.25,25.5,15.5,46.75,20.25,9.0,8.25,7.0,7.5,8.75,33.5,28.25,12.0,9.25,10.77,56.0,17.86,19.5,20.75,34.75,45.25,4.75,44.5,10.25,17.5,43.0,13.28,29.39,21.75,41.25,10.0,35.25,10.25,11.5,46.5,40.0,38.5,44.25,20.25,13.71,44.25,24.5,9.24,9.17,14.75,35.0,6.25,7.75,43.0,9.75,11.5,9.0,5.5,6.75,10.25,10.25,18.0,27.25,41.5,33.25,33.75,34.5,7.5,38.0,5.75,23.0,35.5,22.5,38.75,51.75,38.25,36.0,9.18,36.25,14.0,36.75,5.75,5.5,9.25,9.25,66.0,40.75,6.0,39.0,6.5,33.25],\"yaxis\":\"y2\",\"type\":\"scatter\"},{\"hovertemplate\":\"TRIP_MILES=%{x}\\u003cbr\\u003eFARE_PREDICTED=%{y}\\u003cextra\\u003e\\u003c\\u002fextra\\u003e\",\"legendgroup\":\"\",\"line\":{\"color\":\"#ff0000\",\"dash\":\"solid\",\"width\":3},\"marker\":{\"symbol\":\"circle\"},\"mode\":\"lines\",\"name\":\"\",\"orientation\":\"v\",\"showlegend\":false,\"x\":[0.64,0.51,0.66,1.73,1.6,16.0,1.28,1.38,14.1,9.95,6.35,9.63,2.06,3.91,17.5,1.05,2.54,3.8,2.31,2.06,34.06,17.16,7.62,0.62,0.89,17.71,15.63,3.2,17.72,11.9,8.62,12.31,33.2,1.0,11.05,2.0,11.4,0.7,9.73,0.82,30.6,1.04,17.36,17.0,2.46,17.66,17.7,1.19,2.2,13.47,1.8,17.3,11.94,17.58,3.68,1.9,12.5,20.6,16.8,19.42,12.3,4.3,1.2,1.2,23.0,4.8,18.44,1.8,33.39,16.9,8.2,0.9,3.68,13.4,2.1,12.02,0.53,18.1,0.7,17.8,1.78,2.2,17.68,17.5,18.0,0.9,2.07,7.8,0.9,1.74,0.9,1.48,18.0,1.07,5.66,16.5,3.5,12.16,9.59,19.3,19.7,16.92,17.4,7.91,1.5,13.72,16.37,17.63,0.96,3.5,4.03,0.61,18.41,12.3,12.36,7.98,4.83,16.5,6.6,0.88,1.43,1.3,1.37,2.07,12.98,10.88,3.16,1.9,2.25,21.16,5.06,6.8,6.71,12.8,17.9,0.5,17.73,2.15,5.01,17.28,3.73,9.61,6.04,15.5,2.5,13.3,2.1,3.3,18.8,15.68,14.0,17.6,6.87,4.3,17.6,9.2,1.99,1.24,4.17,11.35,1.2,1.44,16.58,2.0,3.58,1.05,0.7,1.25,2.51,1.8,5.73,9.7,16.52,12.5,13.0,12.47,1.5,14.35,0.6,7.94,13.97,7.71,14.93,21.03,14.98,12.7,0.73,14.23,4.5,14.47,0.9,0.76,2.14,1.8,31.7,16.05,0.89,14.2,1.1,12.6],\"xaxis\":\"x2\",\"y\":[6.436704540252686,6.139638102054596,6.482407069206237,8.927492368221284,8.630425930023193,41.53624677658081,7.899185466766358,8.12769811153412,37.19450652599335,27.711231768131256,19.484776556491852,26.97999130487442,9.681584095954896,13.909068024158477,44.96393644809723,7.373606383800507,10.77844479084015,13.65770411491394,10.2528657078743,9.681584095954896,82.8056304216385,44.18699345588684,22.38688714504242,6.3910020112991335,7.007986152172089,45.44381300210953,40.6907499909401,12.286628246307373,45.4666642665863,32.1672283411026,24.67201359272003,33.10413018465042,80.84042167663574,7.259350061416626,30.22487086057663,9.544476509094238,31.024665117263794,6.573812127113342,27.208503949642182,6.848027300834656,74.89909291267395,7.350755119323731,44.644018745422365,43.82137322425842,10.59563467502594,45.32955667972565,45.42096173763275,7.693524086475373,10.00150179862976,35.754876863956454,9.087451219558716,44.50691115856171,32.2586333990097,45.146746563911435,13.383488941192628,9.315963864326477,33.53830420970917,52.04782843589783,43.3643479347229,49.35137922763825,33.081278920173645,14.800267338752747,7.716375350952148,7.716375350952148,57.5321319103241,15.942830562591553,47.11195530891419,9.087451219558716,81.2745957016945,43.59286057949066,23.712260484695435,7.030837416648865,13.383488941192628,35.59491801261902,9.772989153862,32.441443514823916,6.185340631008148,46.335012316703796,6.573812127113342,45.64947438240051,9.041748690605164,10.00150179862976,45.375259208679196,44.96393644809723,46.106499671936035,7.030837416648865,9.70443536043167,22.79820990562439,7.030837416648865,8.95034363269806,7.030837416648865,8.35621075630188,46.106499671936035,7.419308912754059,17.9080393075943,42.67881000041962,12.972166180610657,32.76136121749878,26.888586246967314,49.07716405391693,49.991214632987976,43.63856310844422,44.73542380332947,23.04957381486893,8.401913285255432,36.32615847587586,42.38174356222153,45.261002886295316,7.167945003509521,12.972166180610657,14.183283197879792,6.368150746822357,47.04340151548386,33.081278920173645,33.218386507034296,23.20953266620636,16.011384356021882,42.67881000041962,20.056058168411255,6.985134887695312,8.241954433918,7.94488799571991,8.104846847057342,9.70443536043167,34.63516490459442,29.836399364471436,12.19522318840027,9.315963864326477,10.115758121013641,53.32749924659729,16.536963438987733,20.513083457946777,20.307422077655794,34.22384214401245,45.877987027168274,6.11678683757782,45.489515531063084,9.88724547624588,16.422707116603853,44.46120862960816,13.497745263576508,26.934288775920866,18.77638735771179,40.393683552742004,10.687039732933044,35.36640536785126,9.772989153862,12.515140891075134,47.934600830078125,40.80500631332397,36.965993881225586,45.19244909286499,20.673042309284213,14.800267338752747,45.19244909286499,25.997386932373047,9.521625244617463,7.807780408859253,14.503200900554656,30.910408794879913,7.716375350952148,8.264805698394776,42.86162011623382,9.544476509094238,13.154976296424866,7.373606383800507,6.573812127113342,7.830631673336029,10.70989099740982,9.087451219558716,18.067998158931733,27.139950156211853,42.724512529373165,33.53830420970917,34.680867433547974,33.46975041627884,8.401913285255432,37.76578813791275,6.345299482345581,23.118127608299258,36.89744008779526,22.592548525333406,39.09116147756576,53.030432808399205,39.20541779994965,33.99532949924469,6.6423659205436705,37.49157296419144,15.257292628288269,38.04000331163407,7.030837416648865,6.710919713973999,9.864394211769104,9.087451219558716,77.41273200511932,41.65050309896469,7.007986152172089,37.42301917076111,7.487862706184387,33.76681685447693],\"yaxis\":\"y2\",\"type\":\"scatter\"},{\"hovertemplate\":\"x=%{x}\\u003cbr\\u003ey=%{y}\\u003cextra\\u003e\\u003c\\u002fextra\\u003e\",\"legendgroup\":\"\",\"line\":{\"color\":\"#ff0000\",\"dash\":\"solid\",\"width\":3},\"marker\":{\"symbol\":\"circle\"},\"mode\":\"lines\",\"name\":\"\",\"orientation\":\"v\",\"showlegend\":false,\"x\":[0,1,2,3,4,5,6,7,8,9,10,11,12,13,14,15,16,17,18,19],\"xaxis\":\"x\",\"y\":[12.332534790039062,6.387347221374512,4.396175384521484,4.207581520080566,4.053223133087158,3.9329967498779297,3.847904682159424,3.7971088886260986,3.7690157890319824,3.7552030086517334,3.7500643730163574,3.7474443912506104,3.746537685394287,3.7462198734283447,3.7458126544952393,3.7456178665161133,3.746265411376953,3.7457926273345947,3.7457916736602783,3.7460830211639404],\"yaxis\":\"y\",\"type\":\"scatter\"}],                        {\"template\":{\"data\":{\"histogram2dcontour\":[{\"type\":\"histogram2dcontour\",\"colorbar\":{\"outlinewidth\":0,\"ticks\":\"\"},\"colorscale\":[[0.0,\"#0d0887\"],[0.1111111111111111,\"#46039f\"],[0.2222222222222222,\"#7201a8\"],[0.3333333333333333,\"#9c179e\"],[0.4444444444444444,\"#bd3786\"],[0.5555555555555556,\"#d8576b\"],[0.6666666666666666,\"#ed7953\"],[0.7777777777777778,\"#fb9f3a\"],[0.8888888888888888,\"#fdca26\"],[1.0,\"#f0f921\"]]}],\"choropleth\":[{\"type\":\"choropleth\",\"colorbar\":{\"outlinewidth\":0,\"ticks\":\"\"}}],\"histogram2d\":[{\"type\":\"histogram2d\",\"colorbar\":{\"outlinewidth\":0,\"ticks\":\"\"},\"colorscale\":[[0.0,\"#0d0887\"],[0.1111111111111111,\"#46039f\"],[0.2222222222222222,\"#7201a8\"],[0.3333333333333333,\"#9c179e\"],[0.4444444444444444,\"#bd3786\"],[0.5555555555555556,\"#d8576b\"],[0.6666666666666666,\"#ed7953\"],[0.7777777777777778,\"#fb9f3a\"],[0.8888888888888888,\"#fdca26\"],[1.0,\"#f0f921\"]]}],\"heatmap\":[{\"type\":\"heatmap\",\"colorbar\":{\"outlinewidth\":0,\"ticks\":\"\"},\"colorscale\":[[0.0,\"#0d0887\"],[0.1111111111111111,\"#46039f\"],[0.2222222222222222,\"#7201a8\"],[0.3333333333333333,\"#9c179e\"],[0.4444444444444444,\"#bd3786\"],[0.5555555555555556,\"#d8576b\"],[0.6666666666666666,\"#ed7953\"],[0.7777777777777778,\"#fb9f3a\"],[0.8888888888888888,\"#fdca26\"],[1.0,\"#f0f921\"]]}],\"heatmapgl\":[{\"type\":\"heatmapgl\",\"colorbar\":{\"outlinewidth\":0,\"ticks\":\"\"},\"colorscale\":[[0.0,\"#0d0887\"],[0.1111111111111111,\"#46039f\"],[0.2222222222222222,\"#7201a8\"],[0.3333333333333333,\"#9c179e\"],[0.4444444444444444,\"#bd3786\"],[0.5555555555555556,\"#d8576b\"],[0.6666666666666666,\"#ed7953\"],[0.7777777777777778,\"#fb9f3a\"],[0.8888888888888888,\"#fdca26\"],[1.0,\"#f0f921\"]]}],\"contourcarpet\":[{\"type\":\"contourcarpet\",\"colorbar\":{\"outlinewidth\":0,\"ticks\":\"\"}}],\"contour\":[{\"type\":\"contour\",\"colorbar\":{\"outlinewidth\":0,\"ticks\":\"\"},\"colorscale\":[[0.0,\"#0d0887\"],[0.1111111111111111,\"#46039f\"],[0.2222222222222222,\"#7201a8\"],[0.3333333333333333,\"#9c179e\"],[0.4444444444444444,\"#bd3786\"],[0.5555555555555556,\"#d8576b\"],[0.6666666666666666,\"#ed7953\"],[0.7777777777777778,\"#fb9f3a\"],[0.8888888888888888,\"#fdca26\"],[1.0,\"#f0f921\"]]}],\"surface\":[{\"type\":\"surface\",\"colorbar\":{\"outlinewidth\":0,\"ticks\":\"\"},\"colorscale\":[[0.0,\"#0d0887\"],[0.1111111111111111,\"#46039f\"],[0.2222222222222222,\"#7201a8\"],[0.3333333333333333,\"#9c179e\"],[0.4444444444444444,\"#bd3786\"],[0.5555555555555556,\"#d8576b\"],[0.6666666666666666,\"#ed7953\"],[0.7777777777777778,\"#fb9f3a\"],[0.8888888888888888,\"#fdca26\"],[1.0,\"#f0f921\"]]}],\"mesh3d\":[{\"type\":\"mesh3d\",\"colorbar\":{\"outlinewidth\":0,\"ticks\":\"\"}}],\"scatter\":[{\"marker\":{\"line\":{\"color\":\"#283442\"}},\"type\":\"scatter\"}],\"parcoords\":[{\"type\":\"parcoords\",\"line\":{\"colorbar\":{\"outlinewidth\":0,\"ticks\":\"\"}}}],\"scatterpolargl\":[{\"type\":\"scatterpolargl\",\"marker\":{\"colorbar\":{\"outlinewidth\":0,\"ticks\":\"\"}}}],\"bar\":[{\"error_x\":{\"color\":\"#f2f5fa\"},\"error_y\":{\"color\":\"#f2f5fa\"},\"marker\":{\"line\":{\"color\":\"rgb(17,17,17)\",\"width\":0.5},\"pattern\":{\"fillmode\":\"overlay\",\"size\":10,\"solidity\":0.2}},\"type\":\"bar\"}],\"scattergeo\":[{\"type\":\"scattergeo\",\"marker\":{\"colorbar\":{\"outlinewidth\":0,\"ticks\":\"\"}}}],\"scatterpolar\":[{\"type\":\"scatterpolar\",\"marker\":{\"colorbar\":{\"outlinewidth\":0,\"ticks\":\"\"}}}],\"histogram\":[{\"marker\":{\"pattern\":{\"fillmode\":\"overlay\",\"size\":10,\"solidity\":0.2}},\"type\":\"histogram\"}],\"scattergl\":[{\"marker\":{\"line\":{\"color\":\"#283442\"}},\"type\":\"scattergl\"}],\"scatter3d\":[{\"type\":\"scatter3d\",\"line\":{\"colorbar\":{\"outlinewidth\":0,\"ticks\":\"\"}},\"marker\":{\"colorbar\":{\"outlinewidth\":0,\"ticks\":\"\"}}}],\"scattermapbox\":[{\"type\":\"scattermapbox\",\"marker\":{\"colorbar\":{\"outlinewidth\":0,\"ticks\":\"\"}}}],\"scatterternary\":[{\"type\":\"scatterternary\",\"marker\":{\"colorbar\":{\"outlinewidth\":0,\"ticks\":\"\"}}}],\"scattercarpet\":[{\"type\":\"scattercarpet\",\"marker\":{\"colorbar\":{\"outlinewidth\":0,\"ticks\":\"\"}}}],\"carpet\":[{\"aaxis\":{\"endlinecolor\":\"#A2B1C6\",\"gridcolor\":\"#506784\",\"linecolor\":\"#506784\",\"minorgridcolor\":\"#506784\",\"startlinecolor\":\"#A2B1C6\"},\"baxis\":{\"endlinecolor\":\"#A2B1C6\",\"gridcolor\":\"#506784\",\"linecolor\":\"#506784\",\"minorgridcolor\":\"#506784\",\"startlinecolor\":\"#A2B1C6\"},\"type\":\"carpet\"}],\"table\":[{\"cells\":{\"fill\":{\"color\":\"#506784\"},\"line\":{\"color\":\"rgb(17,17,17)\"}},\"header\":{\"fill\":{\"color\":\"#2a3f5f\"},\"line\":{\"color\":\"rgb(17,17,17)\"}},\"type\":\"table\"}],\"barpolar\":[{\"marker\":{\"line\":{\"color\":\"rgb(17,17,17)\",\"width\":0.5},\"pattern\":{\"fillmode\":\"overlay\",\"size\":10,\"solidity\":0.2}},\"type\":\"barpolar\"}],\"pie\":[{\"automargin\":true,\"type\":\"pie\"}]},\"layout\":{\"autotypenumbers\":\"strict\",\"colorway\":[\"#636efa\",\"#EF553B\",\"#00cc96\",\"#ab63fa\",\"#FFA15A\",\"#19d3f3\",\"#FF6692\",\"#B6E880\",\"#FF97FF\",\"#FECB52\"],\"font\":{\"color\":\"#f2f5fa\"},\"hovermode\":\"closest\",\"hoverlabel\":{\"align\":\"left\"},\"paper_bgcolor\":\"rgb(17,17,17)\",\"plot_bgcolor\":\"rgb(17,17,17)\",\"polar\":{\"bgcolor\":\"rgb(17,17,17)\",\"angularaxis\":{\"gridcolor\":\"#506784\",\"linecolor\":\"#506784\",\"ticks\":\"\"},\"radialaxis\":{\"gridcolor\":\"#506784\",\"linecolor\":\"#506784\",\"ticks\":\"\"}},\"ternary\":{\"bgcolor\":\"rgb(17,17,17)\",\"aaxis\":{\"gridcolor\":\"#506784\",\"linecolor\":\"#506784\",\"ticks\":\"\"},\"baxis\":{\"gridcolor\":\"#506784\",\"linecolor\":\"#506784\",\"ticks\":\"\"},\"caxis\":{\"gridcolor\":\"#506784\",\"linecolor\":\"#506784\",\"ticks\":\"\"}},\"coloraxis\":{\"colorbar\":{\"outlinewidth\":0,\"ticks\":\"\"}},\"colorscale\":{\"sequential\":[[0.0,\"#0d0887\"],[0.1111111111111111,\"#46039f\"],[0.2222222222222222,\"#7201a8\"],[0.3333333333333333,\"#9c179e\"],[0.4444444444444444,\"#bd3786\"],[0.5555555555555556,\"#d8576b\"],[0.6666666666666666,\"#ed7953\"],[0.7777777777777778,\"#fb9f3a\"],[0.8888888888888888,\"#fdca26\"],[1.0,\"#f0f921\"]],\"sequentialminus\":[[0.0,\"#0d0887\"],[0.1111111111111111,\"#46039f\"],[0.2222222222222222,\"#7201a8\"],[0.3333333333333333,\"#9c179e\"],[0.4444444444444444,\"#bd3786\"],[0.5555555555555556,\"#d8576b\"],[0.6666666666666666,\"#ed7953\"],[0.7777777777777778,\"#fb9f3a\"],[0.8888888888888888,\"#fdca26\"],[1.0,\"#f0f921\"]],\"diverging\":[[0,\"#8e0152\"],[0.1,\"#c51b7d\"],[0.2,\"#de77ae\"],[0.3,\"#f1b6da\"],[0.4,\"#fde0ef\"],[0.5,\"#f7f7f7\"],[0.6,\"#e6f5d0\"],[0.7,\"#b8e186\"],[0.8,\"#7fbc41\"],[0.9,\"#4d9221\"],[1,\"#276419\"]]},\"xaxis\":{\"gridcolor\":\"#283442\",\"linecolor\":\"#506784\",\"ticks\":\"\",\"title\":{\"standoff\":15},\"zerolinecolor\":\"#283442\",\"automargin\":true,\"zerolinewidth\":2},\"yaxis\":{\"gridcolor\":\"#283442\",\"linecolor\":\"#506784\",\"ticks\":\"\",\"title\":{\"standoff\":15},\"zerolinecolor\":\"#283442\",\"automargin\":true,\"zerolinewidth\":2},\"scene\":{\"xaxis\":{\"backgroundcolor\":\"rgb(17,17,17)\",\"gridcolor\":\"#506784\",\"linecolor\":\"#506784\",\"showbackground\":true,\"ticks\":\"\",\"zerolinecolor\":\"#C8D4E3\",\"gridwidth\":2},\"yaxis\":{\"backgroundcolor\":\"rgb(17,17,17)\",\"gridcolor\":\"#506784\",\"linecolor\":\"#506784\",\"showbackground\":true,\"ticks\":\"\",\"zerolinecolor\":\"#C8D4E3\",\"gridwidth\":2},\"zaxis\":{\"backgroundcolor\":\"rgb(17,17,17)\",\"gridcolor\":\"#506784\",\"linecolor\":\"#506784\",\"showbackground\":true,\"ticks\":\"\",\"zerolinecolor\":\"#C8D4E3\",\"gridwidth\":2}},\"shapedefaults\":{\"line\":{\"color\":\"#f2f5fa\"}},\"annotationdefaults\":{\"arrowcolor\":\"#f2f5fa\",\"arrowhead\":0,\"arrowwidth\":1},\"geo\":{\"bgcolor\":\"rgb(17,17,17)\",\"landcolor\":\"rgb(17,17,17)\",\"subunitcolor\":\"#506784\",\"showland\":true,\"showlakes\":true,\"lakecolor\":\"rgb(17,17,17)\"},\"title\":{\"x\":0.05},\"updatemenudefaults\":{\"bgcolor\":\"#506784\",\"borderwidth\":0},\"sliderdefaults\":{\"bgcolor\":\"#C8D4E3\",\"borderwidth\":1,\"bordercolor\":\"rgb(17,17,17)\",\"tickwidth\":0},\"mapbox\":{\"style\":\"dark\"}}},\"xaxis\":{\"anchor\":\"y\",\"domain\":[0.0,0.45],\"title\":{\"text\":\"Epoch\"}},\"yaxis\":{\"anchor\":\"x\",\"domain\":[0.0,1.0],\"title\":{\"text\":\"Root Mean Squared Error\"},\"range\":[2.9964942932128906,12.332534790039062]},\"xaxis2\":{\"anchor\":\"y2\",\"domain\":[0.55,1.0],\"title\":{\"text\":\"TRIP_MILES\"}},\"yaxis2\":{\"anchor\":\"x2\",\"domain\":[0.0,1.0],\"title\":{\"text\":\"FARE\"}},\"annotations\":[{\"font\":{\"size\":16},\"showarrow\":false,\"text\":\"Loss Curve\",\"x\":0.225,\"xanchor\":\"center\",\"xref\":\"paper\",\"y\":1.0,\"yanchor\":\"bottom\",\"yref\":\"paper\"},{\"font\":{\"size\":16},\"showarrow\":false,\"text\":\"Model Plot\",\"x\":0.775,\"xanchor\":\"center\",\"xref\":\"paper\",\"y\":1.0,\"yanchor\":\"bottom\",\"yref\":\"paper\"}]},                        {\"responsive\": true}                    ).then(function(){\n",
       "                            \n",
       "var gd = document.getElementById('432a6159-db3f-4c46-91d0-6109819ee8de');\n",
       "var x = new MutationObserver(function (mutations, observer) {{\n",
       "        var display = window.getComputedStyle(gd).display;\n",
       "        if (!display || display === 'none') {{\n",
       "            console.log([gd, 'removed!']);\n",
       "            Plotly.purge(gd);\n",
       "            observer.disconnect();\n",
       "        }}\n",
       "}});\n",
       "\n",
       "// Listen for the removal of the full notebook cells\n",
       "var notebookContainer = gd.closest('#notebook-container');\n",
       "if (notebookContainer) {{\n",
       "    x.observe(notebookContainer, {childList: true});\n",
       "}}\n",
       "\n",
       "// Listen for the clearing of the current output cell\n",
       "var outputEl = gd.closest('.output');\n",
       "if (outputEl) {{\n",
       "    x.observe(outputEl, {childList: true});\n",
       "}}\n",
       "\n",
       "                        })                };                });            </script>        </div>"
      ]
     },
     "metadata": {},
     "output_type": "display_data"
    }
   ],
   "execution_count": 72
  },
  {
   "cell_type": "code",
   "metadata": {
    "cellView": "form",
    "id": "y8Qnmb0wZ_pQ",
    "ExecuteTime": {
     "end_time": "2024-12-02T00:45:39.243618Z",
     "start_time": "2024-12-02T00:45:39.237863Z"
    }
   },
   "source": [
    "#@title Double-click to view answers for training model with one feature\n",
    "\n",
    "# How many epochs did it take to converge on the final model?\n",
    "# -----------------------------------------------------------------------------\n",
    "answer = \"\"\"\n",
    "Use the loss curve to see where the loss begins to level off during training.\n",
    "\n",
    "With this set of hyperparameters:\n",
    "\n",
    "  learning_rate = 0.001\n",
    "  epochs = 20\n",
    "  batch_size = 50\n",
    "\n",
    "it takes about 5 epochs for the training run to converge to the final model.\n",
    "\"\"\"\n",
    "print(answer)\n",
    "\n",
    "# How well does the model fit the sample data?\n",
    "# -----------------------------------------------------------------------------\n",
    "answer = '''\n",
    "It appears from the model plot that the model fits the sample data fairly well.\n",
    "'''\n",
    "print(answer)"
   ],
   "outputs": [
    {
     "name": "stdout",
     "output_type": "stream",
     "text": [
      "\n",
      "Use the loss curve to see where the loss begins to level off during training.\n",
      "\n",
      "With this set of hyperparameters:\n",
      "\n",
      "  learning_rate = 0.001\n",
      "  epochs = 20\n",
      "  batch_size = 50\n",
      "\n",
      "it takes about 5 epochs for the training run to converge to the final model.\n",
      "\n",
      "\n",
      "It appears from the model plot that the model fits the sample data fairly well.\n",
      "\n"
     ]
    }
   ],
   "execution_count": 73
  },
  {
   "cell_type": "markdown",
   "metadata": {
    "id": "MYmWW0a9p1ro"
   },
   "source": [
    "## Experiment with hyperparameters\n",
    "\n",
    "It is common with machine learning to run multiple experiments to find the best set of hyperparmeters to train your model. In this step, try varying the hyperparameters one by one with this set of experiments:\n",
    "\n",
    "* *Experiment 1:* **Increase** the learning rate to **``1``** (batch size at ``50``).\n",
    "* *Experiment 2:* **Decrease** the learning rate to **``0.0001``** (batch size at ``50``).\n",
    "* *Experiment 3:* **Increase** the batch size to **``500``** (learning rate at ``0.001``).\n",
    "\n",
    "**Instructions**\n",
    "1. Update the hyperparameter values in the **Experiment 2** code cell according to the experiment.\n",
    "2. Run the **Experiment 2** code cell.\n",
    "3. After the training run, examine the output and note any differences you see in the loss curve or model output.\n",
    "4. Repeat steps 1 - 3 for each hyperparameter experiment.\n",
    "5. **Check your understanding** by answering these questions:\n",
    "  * How did raising the learning rate impact your ability to train the model?\n",
    "  * How did lowering the learning rate impact your ability to train the model?\n",
    "  * Did changing the batch size effect your training results?\n"
   ]
  },
  {
   "cell_type": "code",
   "metadata": {
    "cellView": "form",
    "id": "PdUXEm1xeWcK",
    "ExecuteTime": {
     "end_time": "2024-12-02T00:45:52.441377Z",
     "start_time": "2024-12-02T00:45:39.271991Z"
    }
   },
   "source": [
    "#@title Code - Experiment 2\n",
    "\n",
    "# The following variables are the hyperparameters.\n",
    "# TODO - Adjust these hyperparameters to see how they impact a training run.\n",
    "learning_rate = 0.001\n",
    "epochs = 20\n",
    "batch_size = 50\n",
    "\n",
    "# Specify the feature and the label.\n",
    "features = ['TRIP_MILES']\n",
    "label = 'FARE'\n",
    "\n",
    "model_1a = run_experiment(training_df, features, label, learning_rate, epochs, batch_size)"
   ],
   "outputs": [
    {
     "name": "stdout",
     "output_type": "stream",
     "text": [
      "INFO: starting training experiment with features=['TRIP_MILES'] and label=FARE\n",
      "\n",
      "Epoch 1/20\n"
     ]
    },
    {
     "name": "stderr",
     "output_type": "stream",
     "text": [
      "/Users/anton/miniforge3/envs/ml/lib/python3.12/site-packages/keras/src/layers/core/dense.py:87: UserWarning:\n",
      "\n",
      "Do not pass an `input_shape`/`input_dim` argument to a layer. When using Sequential models, prefer using an `Input(shape)` object as the first layer in the model instead.\n",
      "\n"
     ]
    },
    {
     "name": "stdout",
     "output_type": "stream",
     "text": [
      "\u001B[1m634/634\u001B[0m \u001B[32m━━━━━━━━━━━━━━━━━━━━\u001B[0m\u001B[37m\u001B[0m \u001B[1m1s\u001B[0m 985us/step - loss: 429.1029 - root_mean_squared_error: 20.6943\n",
      "Epoch 2/20\n",
      "\u001B[1m634/634\u001B[0m \u001B[32m━━━━━━━━━━━━━━━━━━━━\u001B[0m\u001B[37m\u001B[0m \u001B[1m1s\u001B[0m 900us/step - loss: 194.6629 - root_mean_squared_error: 13.9113\n",
      "Epoch 3/20\n",
      "\u001B[1m634/634\u001B[0m \u001B[32m━━━━━━━━━━━━━━━━━━━━\u001B[0m\u001B[37m\u001B[0m \u001B[1m1s\u001B[0m 921us/step - loss: 55.5084 - root_mean_squared_error: 7.4186\n",
      "Epoch 4/20\n",
      "\u001B[1m634/634\u001B[0m \u001B[32m━━━━━━━━━━━━━━━━━━━━\u001B[0m\u001B[37m\u001B[0m \u001B[1m1s\u001B[0m 925us/step - loss: 17.7415 - root_mean_squared_error: 4.2088\n",
      "Epoch 5/20\n",
      "\u001B[1m634/634\u001B[0m \u001B[32m━━━━━━━━━━━━━━━━━━━━\u001B[0m\u001B[37m\u001B[0m \u001B[1m1s\u001B[0m 967us/step - loss: 16.0569 - root_mean_squared_error: 4.0055\n",
      "Epoch 6/20\n",
      "\u001B[1m634/634\u001B[0m \u001B[32m━━━━━━━━━━━━━━━━━━━━\u001B[0m\u001B[37m\u001B[0m \u001B[1m1s\u001B[0m 1ms/step - loss: 14.8425 - root_mean_squared_error: 3.8479\n",
      "Epoch 7/20\n",
      "\u001B[1m634/634\u001B[0m \u001B[32m━━━━━━━━━━━━━━━━━━━━\u001B[0m\u001B[37m\u001B[0m \u001B[1m1s\u001B[0m 953us/step - loss: 15.2188 - root_mean_squared_error: 3.8957\n",
      "Epoch 8/20\n",
      "\u001B[1m634/634\u001B[0m \u001B[32m━━━━━━━━━━━━━━━━━━━━\u001B[0m\u001B[37m\u001B[0m \u001B[1m1s\u001B[0m 1ms/step - loss: 15.4238 - root_mean_squared_error: 3.9159\n",
      "Epoch 9/20\n",
      "\u001B[1m634/634\u001B[0m \u001B[32m━━━━━━━━━━━━━━━━━━━━\u001B[0m\u001B[37m\u001B[0m \u001B[1m1s\u001B[0m 926us/step - loss: 15.0100 - root_mean_squared_error: 3.8669\n",
      "Epoch 10/20\n",
      "\u001B[1m634/634\u001B[0m \u001B[32m━━━━━━━━━━━━━━━━━━━━\u001B[0m\u001B[37m\u001B[0m \u001B[1m1s\u001B[0m 930us/step - loss: 14.8363 - root_mean_squared_error: 3.8489\n",
      "Epoch 11/20\n",
      "\u001B[1m634/634\u001B[0m \u001B[32m━━━━━━━━━━━━━━━━━━━━\u001B[0m\u001B[37m\u001B[0m \u001B[1m1s\u001B[0m 940us/step - loss: 14.7787 - root_mean_squared_error: 3.8393\n",
      "Epoch 12/20\n",
      "\u001B[1m634/634\u001B[0m \u001B[32m━━━━━━━━━━━━━━━━━━━━\u001B[0m\u001B[37m\u001B[0m \u001B[1m1s\u001B[0m 911us/step - loss: 15.1534 - root_mean_squared_error: 3.8808\n",
      "Epoch 13/20\n",
      "\u001B[1m634/634\u001B[0m \u001B[32m━━━━━━━━━━━━━━━━━━━━\u001B[0m\u001B[37m\u001B[0m \u001B[1m1s\u001B[0m 906us/step - loss: 13.0316 - root_mean_squared_error: 3.6006\n",
      "Epoch 14/20\n",
      "\u001B[1m634/634\u001B[0m \u001B[32m━━━━━━━━━━━━━━━━━━━━\u001B[0m\u001B[37m\u001B[0m \u001B[1m1s\u001B[0m 928us/step - loss: 12.6438 - root_mean_squared_error: 3.5460\n",
      "Epoch 15/20\n",
      "\u001B[1m634/634\u001B[0m \u001B[32m━━━━━━━━━━━━━━━━━━━━\u001B[0m\u001B[37m\u001B[0m \u001B[1m1s\u001B[0m 912us/step - loss: 15.2670 - root_mean_squared_error: 3.9036\n",
      "Epoch 16/20\n",
      "\u001B[1m634/634\u001B[0m \u001B[32m━━━━━━━━━━━━━━━━━━━━\u001B[0m\u001B[37m\u001B[0m \u001B[1m1s\u001B[0m 917us/step - loss: 13.5991 - root_mean_squared_error: 3.6840\n",
      "Epoch 17/20\n",
      "\u001B[1m634/634\u001B[0m \u001B[32m━━━━━━━━━━━━━━━━━━━━\u001B[0m\u001B[37m\u001B[0m \u001B[1m1s\u001B[0m 973us/step - loss: 13.9375 - root_mean_squared_error: 3.7263\n",
      "Epoch 18/20\n",
      "\u001B[1m634/634\u001B[0m \u001B[32m━━━━━━━━━━━━━━━━━━━━\u001B[0m\u001B[37m\u001B[0m \u001B[1m1s\u001B[0m 935us/step - loss: 14.2186 - root_mean_squared_error: 3.7681\n",
      "Epoch 19/20\n",
      "\u001B[1m634/634\u001B[0m \u001B[32m━━━━━━━━━━━━━━━━━━━━\u001B[0m\u001B[37m\u001B[0m \u001B[1m1s\u001B[0m 956us/step - loss: 13.6777 - root_mean_squared_error: 3.6832\n",
      "Epoch 20/20\n",
      "\u001B[1m634/634\u001B[0m \u001B[32m━━━━━━━━━━━━━━━━━━━━\u001B[0m\u001B[37m\u001B[0m \u001B[1m1s\u001B[0m 906us/step - loss: 14.5923 - root_mean_squared_error: 3.8131\n",
      "\n",
      "SUCCESS: training experiment complete\n",
      "\n",
      "--------------------------------------------------------------------------------\n",
      "|                                  MODEL INFO                                  |\n",
      "--------------------------------------------------------------------------------\n",
      "Weight for feature[TRIP_MILES]: 2.278\n",
      "Bias: 4.982\n",
      "\n",
      "FARE = 2.278 * TRIP_MILES + 4.982\n",
      "\n"
     ]
    },
    {
     "data": {
      "application/vnd.plotly.v1+json": {
       "data": [
        {
         "hovertemplate": "TRIP_MILES=%{x}<br>FARE=%{y}<extra></extra>",
         "legendgroup": "",
         "marker": {
          "color": "#636efa",
          "symbol": "circle"
         },
         "mode": "markers",
         "name": "",
         "orientation": "v",
         "showlegend": false,
         "x": [
          1.17,
          1.56,
          19.01,
          3.11,
          1.25,
          18.03,
          8.82,
          21.79,
          19.04,
          16.9,
          10.36,
          15.43,
          3.85,
          14.0,
          1.21,
          2.6,
          3.53,
          2.0,
          3.55,
          1.14,
          21.4,
          17.7,
          1.21,
          27.19,
          0.55,
          1.0,
          0.91,
          0.7,
          1.13,
          1.32,
          1.93,
          4.73,
          15.9,
          1.39,
          11.95,
          26.65,
          4.09,
          10.6,
          1.0,
          18.2,
          6.0,
          4.03,
          13.83,
          7.72,
          16.3,
          1.88,
          0.88,
          6.22,
          11.2,
          0.9,
          7.81,
          20.09,
          1.1,
          4.76,
          15.59,
          17.7,
          0.64,
          0.79,
          13.49,
          37.9,
          13.4,
          2.05,
          0.97,
          2.16,
          0.5,
          17.1,
          0.78,
          12.8,
          12.46,
          8.52,
          7.9,
          9.0,
          2.43,
          7.27,
          0.6,
          5.93,
          7.57,
          0.78,
          0.7,
          1.0,
          30.38,
          16.68,
          13.25,
          19.52,
          15.29,
          10.75,
          1.05,
          7.1,
          1.9,
          13.38,
          17.6,
          12.0,
          2.49,
          0.5,
          1.45,
          1.46,
          0.5,
          3.1,
          14.39,
          3.04,
          2.4,
          18.36,
          2.84,
          30.36,
          4.36,
          17.4,
          2.9,
          13.43,
          14.9,
          0.8,
          1.1,
          6.07,
          16.48,
          18.4,
          13.3,
          3.85,
          0.95,
          11.93,
          4.9,
          1.44,
          13.3,
          1.11,
          1.82,
          9.4,
          3.53,
          18.02,
          8.45,
          18.67,
          17.59,
          17.81,
          17.2,
          20.96,
          2.6,
          2.68,
          1.26,
          2.0,
          9.23,
          2.9,
          10.1,
          11.35,
          10.6,
          17.66,
          13.81,
          26.2,
          1.23,
          27.41,
          5.86,
          4.77,
          17.3,
          3.32,
          0.5,
          18.23,
          17.1,
          5.68,
          30.67,
          18.52,
          0.79,
          1.05,
          12.17,
          7.71,
          0.8,
          4.67,
          0.93,
          1.04,
          15.8,
          16.64,
          5.5,
          16.6,
          0.58,
          16.16,
          18.39,
          5.74,
          16.9,
          11.3,
          3.32,
          19.0,
          17.9,
          2.67,
          0.62,
          9.36,
          2.85,
          17.3,
          1.19,
          18.2,
          2.3,
          11.29,
          19.51,
          24.6,
          12.3,
          1.65,
          1.29,
          11.39,
          9.85,
          7.84,
          20.9,
          12.7,
          0.8,
          2.15,
          13.71,
          3.44
         ],
         "xaxis": "x2",
         "y": [
          9.0,
          8.25,
          46.5,
          12.25,
          20.0,
          45.0,
          25.75,
          54.0,
          56.33,
          41.75,
          30.25,
          39.5,
          14.29,
          37.0,
          9.0,
          11.25,
          12.25,
          9.5,
          12.0,
          6.5,
          51.75,
          44.0,
          6.25,
          65.25,
          9.0,
          6.25,
          5.75,
          5.0,
          9.0,
          6.5,
          8.25,
          15.5,
          39.25,
          8.0,
          32.0,
          65.75,
          14.25,
          29.5,
          9.0,
          45.5,
          20.25,
          13.75,
          36.5,
          22.25,
          44.5,
          9.25,
          5.5,
          15.37,
          29.75,
          6.5,
          24.25,
          50.5,
          7.0,
          17.75,
          51.38,
          45.0,
          4.75,
          6.0,
          36.5,
          44.25,
          33.0,
          9.0,
          6.0,
          9.62,
          4.75,
          42.5,
          5.75,
          34.0,
          31.25,
          23.25,
          21.5,
          24.0,
          10.5,
          27.25,
          5.25,
          18.0,
          24.0,
          5.75,
          6.0,
          4.75,
          73.5,
          41.75,
          36.75,
          49.25,
          41.25,
          30.0,
          6.25,
          20.25,
          9.75,
          35.0,
          44.0,
          32.25,
          8.75,
          4.75,
          9.0,
          7.75,
          4.5,
          12.0,
          41.25,
          11.75,
          14.0,
          46.0,
          12.0,
          80.5,
          15.5,
          43.75,
          10.25,
          35.5,
          41.0,
          5.5,
          6.25,
          35.0,
          41.5,
          46.5,
          35.25,
          14.0,
          6.75,
          31.0,
          15.75,
          7.0,
          35.5,
          6.5,
          10.0,
          26.5,
          13.25,
          45.75,
          24.05,
          46.0,
          44.5,
          45.0,
          46.5,
          51.0,
          10.37,
          10.5,
          6.5,
          9.25,
          30.25,
          11.25,
          27.25,
          30.0,
          29.5,
          44.25,
          35.25,
          72.75,
          7.75,
          66.25,
          16.97,
          14.95,
          47.5,
          11.31,
          5.0,
          58.71,
          43.25,
          17.75,
          73.25,
          46.5,
          6.25,
          6.25,
          32.5,
          22.5,
          5.25,
          18.85,
          9.0,
          9.0,
          40.25,
          41.75,
          16.75,
          40.75,
          4.75,
          45.25,
          46.25,
          17.35,
          43.5,
          31.0,
          17.87,
          47.0,
          48.75,
          10.0,
          4.75,
          27.25,
          10.5,
          42.25,
          7.0,
          44.5,
          8.75,
          28.5,
          48.5,
          85.79,
          31.75,
          7.75,
          7.5,
          30.0,
          26.5,
          22.75,
          51.0,
          33.0,
          5.5,
          9.25,
          34.5,
          12.25
         ],
         "yaxis": "y2",
         "type": "scatter"
        },
        {
         "hovertemplate": "TRIP_MILES=%{x}<br>FARE_PREDICTED=%{y}<extra></extra>",
         "legendgroup": "",
         "line": {
          "color": "#ff0000",
          "dash": "solid",
          "width": 3
         },
         "marker": {
          "symbol": "circle"
         },
         "mode": "lines",
         "name": "",
         "orientation": "v",
         "showlegend": false,
         "x": [
          1.17,
          1.56,
          19.01,
          3.11,
          1.25,
          18.03,
          8.82,
          21.79,
          19.04,
          16.9,
          10.36,
          15.43,
          3.85,
          14.0,
          1.21,
          2.6,
          3.53,
          2.0,
          3.55,
          1.14,
          21.4,
          17.7,
          1.21,
          27.19,
          0.55,
          1.0,
          0.91,
          0.7,
          1.13,
          1.32,
          1.93,
          4.73,
          15.9,
          1.39,
          11.95,
          26.65,
          4.09,
          10.6,
          1.0,
          18.2,
          6.0,
          4.03,
          13.83,
          7.72,
          16.3,
          1.88,
          0.88,
          6.22,
          11.2,
          0.9,
          7.81,
          20.09,
          1.1,
          4.76,
          15.59,
          17.7,
          0.64,
          0.79,
          13.49,
          37.9,
          13.4,
          2.05,
          0.97,
          2.16,
          0.5,
          17.1,
          0.78,
          12.8,
          12.46,
          8.52,
          7.9,
          9.0,
          2.43,
          7.27,
          0.6,
          5.93,
          7.57,
          0.78,
          0.7,
          1.0,
          30.38,
          16.68,
          13.25,
          19.52,
          15.29,
          10.75,
          1.05,
          7.1,
          1.9,
          13.38,
          17.6,
          12.0,
          2.49,
          0.5,
          1.45,
          1.46,
          0.5,
          3.1,
          14.39,
          3.04,
          2.4,
          18.36,
          2.84,
          30.36,
          4.36,
          17.4,
          2.9,
          13.43,
          14.9,
          0.8,
          1.1,
          6.07,
          16.48,
          18.4,
          13.3,
          3.85,
          0.95,
          11.93,
          4.9,
          1.44,
          13.3,
          1.11,
          1.82,
          9.4,
          3.53,
          18.02,
          8.45,
          18.67,
          17.59,
          17.81,
          17.2,
          20.96,
          2.6,
          2.68,
          1.26,
          2.0,
          9.23,
          2.9,
          10.1,
          11.35,
          10.6,
          17.66,
          13.81,
          26.2,
          1.23,
          27.41,
          5.86,
          4.77,
          17.3,
          3.32,
          0.5,
          18.23,
          17.1,
          5.68,
          30.67,
          18.52,
          0.79,
          1.05,
          12.17,
          7.71,
          0.8,
          4.67,
          0.93,
          1.04,
          15.8,
          16.64,
          5.5,
          16.6,
          0.58,
          16.16,
          18.39,
          5.74,
          16.9,
          11.3,
          3.32,
          19.0,
          17.9,
          2.67,
          0.62,
          9.36,
          2.85,
          17.3,
          1.19,
          18.2,
          2.3,
          11.29,
          19.51,
          24.6,
          12.3,
          1.65,
          1.29,
          11.39,
          9.85,
          7.84,
          20.9,
          12.7,
          0.8,
          2.15,
          13.71,
          3.44
         ],
         "xaxis": "x2",
         "y": [
          7.64741623878479,
          8.5359228515625,
          48.29089821815491,
          12.067167081832885,
          7.829674005508423,
          46.05824057579041,
          25.075815181732178,
          54.62435561180114,
          48.359244880676265,
          43.483849620819086,
          28.58427719116211,
          40.134863157272335,
          13.75305142402649,
          36.8770055770874,
          7.738545122146606,
          10.905273818969727,
          13.024020357131958,
          9.53834056854248,
          13.069584798812866,
          7.579069576263428,
          53.73584899902343,
          45.30642728805542,
          7.738545122146606,
          66.92675486564636,
          6.234918546676636,
          7.26011848449707,
          7.055078496932984,
          6.576651859283447,
          7.556287355422974,
          7.989149551391602,
          9.378865022659301,
          15.75788685798645,
          41.20562753677368,
          8.148625097274781,
          32.20665030479431,
          65.69651494026184,
          14.299824724197387,
          29.131050491333006,
          7.26011848449707,
          46.44553833007812,
          18.65122890472412,
          14.163131399154663,
          36.48970782279969,
          22.569770889282225,
          42.11691637039185,
          9.264953918457032,
          6.986731834411621,
          19.15243776321411,
          30.49798374176025,
          7.032296276092529,
          22.774810876846313,
          50.75137806892395,
          7.487940692901612,
          15.826233520507811,
          40.4993786907196,
          45.30642728805542,
          6.439958534240723,
          6.781691846847535,
          35.71511231422424,
          91.3265133857727,
          35.51007232666016,
          9.65225167274475,
          7.191771821975708,
          9.902856101989746,
          6.121007442474365,
          43.93949403762818,
          6.75890962600708,
          34.14313907623291,
          33.36854356765747,
          24.392348556518552,
          22.979850864410402,
          25.48589515686035,
          10.517976064682006,
          21.54457095146179,
          6.348829650878907,
          18.491753358840942,
          22.228037576675415,
          6.75890962600708,
          6.576651859283447,
          7.26011848449707,
          74.19428331375121,
          42.9826407623291,
          35.168339014053345,
          49.45279148101807,
          39.81591206550598,
          29.47278380393982,
          7.374029588699341,
          21.15727319717407,
          9.310518360137939,
          35.46450788497925,
          45.078605079650885,
          32.32056140899658,
          10.65466938972473,
          6.121007442474365,
          8.285318422317506,
          8.308100643157958,
          6.121007442474365,
          12.044384860992432,
          37.76551218986511,
          11.907691535949708,
          10.449629402160644,
          46.81005386352539,
          11.452047119140625,
          74.1487188720703,
          14.91494468688965,
          44.62296066284179,
          11.58874044418335,
          35.578418989181515,
          38.92740545272827,
          6.8044740676879885,
          7.487940692901612,
          18.8107044506073,
          42.52699634552002,
          46.9011827468872,
          35.28225011825562,
          13.75305142402649,
          7.1462073802948,
          32.1610858631134,
          16.14518461227417,
          8.262536201477051,
          35.28225011825562,
          7.5107229137420655,
          9.128260593414307,
          26.397183990478517,
          13.024020357131958,
          46.03545835494995,
          24.232873010635373,
          47.51630270957947,
          45.05582285881042,
          45.55703171730041,
          44.16731624603271,
          52.73343128204346,
          10.905273818969727,
          11.087531585693359,
          7.8524562263488775,
          9.53834056854248,
          26.0098862361908,
          11.58874044418335,
          27.9919394493103,
          30.839717054367064,
          29.131050491333006,
          45.215298404693606,
          36.44414338111878,
          64.6713150024414,
          7.784109563827514,
          67.42796372413636,
          18.332277812957763,
          15.849015741348266,
          44.39513845443726,
          12.545593719482422,
          6.121007442474365,
          46.513884992599486,
          43.93949403762818,
          17.92219783782959,
          74.8549677181244,
          47.17456939697266,
          6.781691846847535,
          7.374029588699341,
          32.7078591632843,
          22.546988668441774,
          6.8044740676879885,
          15.621193532943725,
          7.100642938613891,
          7.351247367858887,
          40.97780532836914,
          42.891511878967286,
          17.512117862701416,
          42.800382995605474,
          6.303265209197998,
          41.79796527862549,
          46.878400526046754,
          18.058891162872314,
          43.483849620819086,
          30.725805950164798,
          12.545593719482422,
          48.26811599731445,
          45.762071704864496,
          11.064749364852904,
          6.394394092559814,
          26.3060551071167,
          11.47482933998108,
          44.39513845443726,
          7.692980680465698,
          46.44553833007812,
          10.221807193756103,
          30.70302372932434,
          49.43000926017761,
          61.026159667968756,
          33.00402803421021,
          8.740962839126587,
          7.92080288887024,
          30.930845937728883,
          27.42238392829895,
          22.843157539367674,
          52.59673795700073,
          33.915316867828366,
          6.8044740676879885,
          9.880073881149292,
          36.21632117271423,
          12.818980369567871
         ],
         "yaxis": "y2",
         "type": "scatter"
        },
        {
         "hovertemplate": "x=%{x}<br>y=%{y}<extra></extra>",
         "legendgroup": "",
         "line": {
          "color": "#ff0000",
          "dash": "solid",
          "width": 3
         },
         "marker": {
          "symbol": "circle"
         },
         "mode": "lines",
         "name": "",
         "orientation": "v",
         "showlegend": false,
         "x": [
          0,
          1,
          2,
          3,
          4,
          5,
          6,
          7,
          8,
          9,
          10,
          11,
          12,
          13,
          14,
          15,
          16,
          17,
          18,
          19
         ],
         "xaxis": "x",
         "y": [
          19.12270736694336,
          12.239537239074707,
          6.24418306350708,
          4.1947922706604,
          4.040732383728027,
          3.9253194332122803,
          3.8429436683654785,
          3.794390916824341,
          3.7671561241149902,
          3.7550745010375977,
          3.7500314712524414,
          3.747596502304077,
          3.7468888759613037,
          3.7462096214294434,
          3.746047258377075,
          3.7460994720458984,
          3.745779514312744,
          3.7457194328308105,
          3.7460482120513916,
          3.7457480430603027
         ],
         "yaxis": "y",
         "type": "scatter"
        }
       ],
       "layout": {
        "template": {
         "data": {
          "histogram2dcontour": [
           {
            "type": "histogram2dcontour",
            "colorbar": {
             "outlinewidth": 0,
             "ticks": ""
            },
            "colorscale": [
             [
              0.0,
              "#0d0887"
             ],
             [
              0.1111111111111111,
              "#46039f"
             ],
             [
              0.2222222222222222,
              "#7201a8"
             ],
             [
              0.3333333333333333,
              "#9c179e"
             ],
             [
              0.4444444444444444,
              "#bd3786"
             ],
             [
              0.5555555555555556,
              "#d8576b"
             ],
             [
              0.6666666666666666,
              "#ed7953"
             ],
             [
              0.7777777777777778,
              "#fb9f3a"
             ],
             [
              0.8888888888888888,
              "#fdca26"
             ],
             [
              1.0,
              "#f0f921"
             ]
            ]
           }
          ],
          "choropleth": [
           {
            "type": "choropleth",
            "colorbar": {
             "outlinewidth": 0,
             "ticks": ""
            }
           }
          ],
          "histogram2d": [
           {
            "type": "histogram2d",
            "colorbar": {
             "outlinewidth": 0,
             "ticks": ""
            },
            "colorscale": [
             [
              0.0,
              "#0d0887"
             ],
             [
              0.1111111111111111,
              "#46039f"
             ],
             [
              0.2222222222222222,
              "#7201a8"
             ],
             [
              0.3333333333333333,
              "#9c179e"
             ],
             [
              0.4444444444444444,
              "#bd3786"
             ],
             [
              0.5555555555555556,
              "#d8576b"
             ],
             [
              0.6666666666666666,
              "#ed7953"
             ],
             [
              0.7777777777777778,
              "#fb9f3a"
             ],
             [
              0.8888888888888888,
              "#fdca26"
             ],
             [
              1.0,
              "#f0f921"
             ]
            ]
           }
          ],
          "heatmap": [
           {
            "type": "heatmap",
            "colorbar": {
             "outlinewidth": 0,
             "ticks": ""
            },
            "colorscale": [
             [
              0.0,
              "#0d0887"
             ],
             [
              0.1111111111111111,
              "#46039f"
             ],
             [
              0.2222222222222222,
              "#7201a8"
             ],
             [
              0.3333333333333333,
              "#9c179e"
             ],
             [
              0.4444444444444444,
              "#bd3786"
             ],
             [
              0.5555555555555556,
              "#d8576b"
             ],
             [
              0.6666666666666666,
              "#ed7953"
             ],
             [
              0.7777777777777778,
              "#fb9f3a"
             ],
             [
              0.8888888888888888,
              "#fdca26"
             ],
             [
              1.0,
              "#f0f921"
             ]
            ]
           }
          ],
          "heatmapgl": [
           {
            "type": "heatmapgl",
            "colorbar": {
             "outlinewidth": 0,
             "ticks": ""
            },
            "colorscale": [
             [
              0.0,
              "#0d0887"
             ],
             [
              0.1111111111111111,
              "#46039f"
             ],
             [
              0.2222222222222222,
              "#7201a8"
             ],
             [
              0.3333333333333333,
              "#9c179e"
             ],
             [
              0.4444444444444444,
              "#bd3786"
             ],
             [
              0.5555555555555556,
              "#d8576b"
             ],
             [
              0.6666666666666666,
              "#ed7953"
             ],
             [
              0.7777777777777778,
              "#fb9f3a"
             ],
             [
              0.8888888888888888,
              "#fdca26"
             ],
             [
              1.0,
              "#f0f921"
             ]
            ]
           }
          ],
          "contourcarpet": [
           {
            "type": "contourcarpet",
            "colorbar": {
             "outlinewidth": 0,
             "ticks": ""
            }
           }
          ],
          "contour": [
           {
            "type": "contour",
            "colorbar": {
             "outlinewidth": 0,
             "ticks": ""
            },
            "colorscale": [
             [
              0.0,
              "#0d0887"
             ],
             [
              0.1111111111111111,
              "#46039f"
             ],
             [
              0.2222222222222222,
              "#7201a8"
             ],
             [
              0.3333333333333333,
              "#9c179e"
             ],
             [
              0.4444444444444444,
              "#bd3786"
             ],
             [
              0.5555555555555556,
              "#d8576b"
             ],
             [
              0.6666666666666666,
              "#ed7953"
             ],
             [
              0.7777777777777778,
              "#fb9f3a"
             ],
             [
              0.8888888888888888,
              "#fdca26"
             ],
             [
              1.0,
              "#f0f921"
             ]
            ]
           }
          ],
          "surface": [
           {
            "type": "surface",
            "colorbar": {
             "outlinewidth": 0,
             "ticks": ""
            },
            "colorscale": [
             [
              0.0,
              "#0d0887"
             ],
             [
              0.1111111111111111,
              "#46039f"
             ],
             [
              0.2222222222222222,
              "#7201a8"
             ],
             [
              0.3333333333333333,
              "#9c179e"
             ],
             [
              0.4444444444444444,
              "#bd3786"
             ],
             [
              0.5555555555555556,
              "#d8576b"
             ],
             [
              0.6666666666666666,
              "#ed7953"
             ],
             [
              0.7777777777777778,
              "#fb9f3a"
             ],
             [
              0.8888888888888888,
              "#fdca26"
             ],
             [
              1.0,
              "#f0f921"
             ]
            ]
           }
          ],
          "mesh3d": [
           {
            "type": "mesh3d",
            "colorbar": {
             "outlinewidth": 0,
             "ticks": ""
            }
           }
          ],
          "scatter": [
           {
            "marker": {
             "line": {
              "color": "#283442"
             }
            },
            "type": "scatter"
           }
          ],
          "parcoords": [
           {
            "type": "parcoords",
            "line": {
             "colorbar": {
              "outlinewidth": 0,
              "ticks": ""
             }
            }
           }
          ],
          "scatterpolargl": [
           {
            "type": "scatterpolargl",
            "marker": {
             "colorbar": {
              "outlinewidth": 0,
              "ticks": ""
             }
            }
           }
          ],
          "bar": [
           {
            "error_x": {
             "color": "#f2f5fa"
            },
            "error_y": {
             "color": "#f2f5fa"
            },
            "marker": {
             "line": {
              "color": "rgb(17,17,17)",
              "width": 0.5
             },
             "pattern": {
              "fillmode": "overlay",
              "size": 10,
              "solidity": 0.2
             }
            },
            "type": "bar"
           }
          ],
          "scattergeo": [
           {
            "type": "scattergeo",
            "marker": {
             "colorbar": {
              "outlinewidth": 0,
              "ticks": ""
             }
            }
           }
          ],
          "scatterpolar": [
           {
            "type": "scatterpolar",
            "marker": {
             "colorbar": {
              "outlinewidth": 0,
              "ticks": ""
             }
            }
           }
          ],
          "histogram": [
           {
            "marker": {
             "pattern": {
              "fillmode": "overlay",
              "size": 10,
              "solidity": 0.2
             }
            },
            "type": "histogram"
           }
          ],
          "scattergl": [
           {
            "marker": {
             "line": {
              "color": "#283442"
             }
            },
            "type": "scattergl"
           }
          ],
          "scatter3d": [
           {
            "type": "scatter3d",
            "line": {
             "colorbar": {
              "outlinewidth": 0,
              "ticks": ""
             }
            },
            "marker": {
             "colorbar": {
              "outlinewidth": 0,
              "ticks": ""
             }
            }
           }
          ],
          "scattermapbox": [
           {
            "type": "scattermapbox",
            "marker": {
             "colorbar": {
              "outlinewidth": 0,
              "ticks": ""
             }
            }
           }
          ],
          "scatterternary": [
           {
            "type": "scatterternary",
            "marker": {
             "colorbar": {
              "outlinewidth": 0,
              "ticks": ""
             }
            }
           }
          ],
          "scattercarpet": [
           {
            "type": "scattercarpet",
            "marker": {
             "colorbar": {
              "outlinewidth": 0,
              "ticks": ""
             }
            }
           }
          ],
          "carpet": [
           {
            "aaxis": {
             "endlinecolor": "#A2B1C6",
             "gridcolor": "#506784",
             "linecolor": "#506784",
             "minorgridcolor": "#506784",
             "startlinecolor": "#A2B1C6"
            },
            "baxis": {
             "endlinecolor": "#A2B1C6",
             "gridcolor": "#506784",
             "linecolor": "#506784",
             "minorgridcolor": "#506784",
             "startlinecolor": "#A2B1C6"
            },
            "type": "carpet"
           }
          ],
          "table": [
           {
            "cells": {
             "fill": {
              "color": "#506784"
             },
             "line": {
              "color": "rgb(17,17,17)"
             }
            },
            "header": {
             "fill": {
              "color": "#2a3f5f"
             },
             "line": {
              "color": "rgb(17,17,17)"
             }
            },
            "type": "table"
           }
          ],
          "barpolar": [
           {
            "marker": {
             "line": {
              "color": "rgb(17,17,17)",
              "width": 0.5
             },
             "pattern": {
              "fillmode": "overlay",
              "size": 10,
              "solidity": 0.2
             }
            },
            "type": "barpolar"
           }
          ],
          "pie": [
           {
            "automargin": true,
            "type": "pie"
           }
          ]
         },
         "layout": {
          "autotypenumbers": "strict",
          "colorway": [
           "#636efa",
           "#EF553B",
           "#00cc96",
           "#ab63fa",
           "#FFA15A",
           "#19d3f3",
           "#FF6692",
           "#B6E880",
           "#FF97FF",
           "#FECB52"
          ],
          "font": {
           "color": "#f2f5fa"
          },
          "hovermode": "closest",
          "hoverlabel": {
           "align": "left"
          },
          "paper_bgcolor": "rgb(17,17,17)",
          "plot_bgcolor": "rgb(17,17,17)",
          "polar": {
           "bgcolor": "rgb(17,17,17)",
           "angularaxis": {
            "gridcolor": "#506784",
            "linecolor": "#506784",
            "ticks": ""
           },
           "radialaxis": {
            "gridcolor": "#506784",
            "linecolor": "#506784",
            "ticks": ""
           }
          },
          "ternary": {
           "bgcolor": "rgb(17,17,17)",
           "aaxis": {
            "gridcolor": "#506784",
            "linecolor": "#506784",
            "ticks": ""
           },
           "baxis": {
            "gridcolor": "#506784",
            "linecolor": "#506784",
            "ticks": ""
           },
           "caxis": {
            "gridcolor": "#506784",
            "linecolor": "#506784",
            "ticks": ""
           }
          },
          "coloraxis": {
           "colorbar": {
            "outlinewidth": 0,
            "ticks": ""
           }
          },
          "colorscale": {
           "sequential": [
            [
             0.0,
             "#0d0887"
            ],
            [
             0.1111111111111111,
             "#46039f"
            ],
            [
             0.2222222222222222,
             "#7201a8"
            ],
            [
             0.3333333333333333,
             "#9c179e"
            ],
            [
             0.4444444444444444,
             "#bd3786"
            ],
            [
             0.5555555555555556,
             "#d8576b"
            ],
            [
             0.6666666666666666,
             "#ed7953"
            ],
            [
             0.7777777777777778,
             "#fb9f3a"
            ],
            [
             0.8888888888888888,
             "#fdca26"
            ],
            [
             1.0,
             "#f0f921"
            ]
           ],
           "sequentialminus": [
            [
             0.0,
             "#0d0887"
            ],
            [
             0.1111111111111111,
             "#46039f"
            ],
            [
             0.2222222222222222,
             "#7201a8"
            ],
            [
             0.3333333333333333,
             "#9c179e"
            ],
            [
             0.4444444444444444,
             "#bd3786"
            ],
            [
             0.5555555555555556,
             "#d8576b"
            ],
            [
             0.6666666666666666,
             "#ed7953"
            ],
            [
             0.7777777777777778,
             "#fb9f3a"
            ],
            [
             0.8888888888888888,
             "#fdca26"
            ],
            [
             1.0,
             "#f0f921"
            ]
           ],
           "diverging": [
            [
             0,
             "#8e0152"
            ],
            [
             0.1,
             "#c51b7d"
            ],
            [
             0.2,
             "#de77ae"
            ],
            [
             0.3,
             "#f1b6da"
            ],
            [
             0.4,
             "#fde0ef"
            ],
            [
             0.5,
             "#f7f7f7"
            ],
            [
             0.6,
             "#e6f5d0"
            ],
            [
             0.7,
             "#b8e186"
            ],
            [
             0.8,
             "#7fbc41"
            ],
            [
             0.9,
             "#4d9221"
            ],
            [
             1,
             "#276419"
            ]
           ]
          },
          "xaxis": {
           "gridcolor": "#283442",
           "linecolor": "#506784",
           "ticks": "",
           "title": {
            "standoff": 15
           },
           "zerolinecolor": "#283442",
           "automargin": true,
           "zerolinewidth": 2
          },
          "yaxis": {
           "gridcolor": "#283442",
           "linecolor": "#506784",
           "ticks": "",
           "title": {
            "standoff": 15
           },
           "zerolinecolor": "#283442",
           "automargin": true,
           "zerolinewidth": 2
          },
          "scene": {
           "xaxis": {
            "backgroundcolor": "rgb(17,17,17)",
            "gridcolor": "#506784",
            "linecolor": "#506784",
            "showbackground": true,
            "ticks": "",
            "zerolinecolor": "#C8D4E3",
            "gridwidth": 2
           },
           "yaxis": {
            "backgroundcolor": "rgb(17,17,17)",
            "gridcolor": "#506784",
            "linecolor": "#506784",
            "showbackground": true,
            "ticks": "",
            "zerolinecolor": "#C8D4E3",
            "gridwidth": 2
           },
           "zaxis": {
            "backgroundcolor": "rgb(17,17,17)",
            "gridcolor": "#506784",
            "linecolor": "#506784",
            "showbackground": true,
            "ticks": "",
            "zerolinecolor": "#C8D4E3",
            "gridwidth": 2
           }
          },
          "shapedefaults": {
           "line": {
            "color": "#f2f5fa"
           }
          },
          "annotationdefaults": {
           "arrowcolor": "#f2f5fa",
           "arrowhead": 0,
           "arrowwidth": 1
          },
          "geo": {
           "bgcolor": "rgb(17,17,17)",
           "landcolor": "rgb(17,17,17)",
           "subunitcolor": "#506784",
           "showland": true,
           "showlakes": true,
           "lakecolor": "rgb(17,17,17)"
          },
          "title": {
           "x": 0.05
          },
          "updatemenudefaults": {
           "bgcolor": "#506784",
           "borderwidth": 0
          },
          "sliderdefaults": {
           "bgcolor": "#C8D4E3",
           "borderwidth": 1,
           "bordercolor": "rgb(17,17,17)",
           "tickwidth": 0
          },
          "mapbox": {
           "style": "dark"
          }
         }
        },
        "xaxis": {
         "anchor": "y",
         "domain": [
          0.0,
          0.45
         ],
         "title": {
          "text": "Epoch"
         }
        },
        "yaxis": {
         "anchor": "x",
         "domain": [
          0.0,
          1.0
         ],
         "title": {
          "text": "Root Mean Squared Error"
         },
         "range": [
          2.9965755462646486,
          19.12270736694336
         ]
        },
        "xaxis2": {
         "anchor": "y2",
         "domain": [
          0.55,
          1.0
         ],
         "title": {
          "text": "TRIP_MILES"
         }
        },
        "yaxis2": {
         "anchor": "x2",
         "domain": [
          0.0,
          1.0
         ],
         "title": {
          "text": "FARE"
         }
        },
        "annotations": [
         {
          "font": {
           "size": 16
          },
          "showarrow": false,
          "text": "Loss Curve",
          "x": 0.225,
          "xanchor": "center",
          "xref": "paper",
          "y": 1.0,
          "yanchor": "bottom",
          "yref": "paper"
         },
         {
          "font": {
           "size": 16
          },
          "showarrow": false,
          "text": "Model Plot",
          "x": 0.775,
          "xanchor": "center",
          "xref": "paper",
          "y": 1.0,
          "yanchor": "bottom",
          "yref": "paper"
         }
        ]
       },
       "config": {
        "plotlyServerURL": "https://plot.ly"
       }
      },
      "text/html": [
       "<div>                            <div id=\"61d8f79e-50ff-4186-ba22-a5072e665bc8\" class=\"plotly-graph-div\" style=\"height:525px; width:100%;\"></div>            <script type=\"text/javascript\">                require([\"plotly\"], function(Plotly) {                    window.PLOTLYENV=window.PLOTLYENV || {};                                    if (document.getElementById(\"61d8f79e-50ff-4186-ba22-a5072e665bc8\")) {                    Plotly.newPlot(                        \"61d8f79e-50ff-4186-ba22-a5072e665bc8\",                        [{\"hovertemplate\":\"TRIP_MILES=%{x}\\u003cbr\\u003eFARE=%{y}\\u003cextra\\u003e\\u003c\\u002fextra\\u003e\",\"legendgroup\":\"\",\"marker\":{\"color\":\"#636efa\",\"symbol\":\"circle\"},\"mode\":\"markers\",\"name\":\"\",\"orientation\":\"v\",\"showlegend\":false,\"x\":[1.17,1.56,19.01,3.11,1.25,18.03,8.82,21.79,19.04,16.9,10.36,15.43,3.85,14.0,1.21,2.6,3.53,2.0,3.55,1.14,21.4,17.7,1.21,27.19,0.55,1.0,0.91,0.7,1.13,1.32,1.93,4.73,15.9,1.39,11.95,26.65,4.09,10.6,1.0,18.2,6.0,4.03,13.83,7.72,16.3,1.88,0.88,6.22,11.2,0.9,7.81,20.09,1.1,4.76,15.59,17.7,0.64,0.79,13.49,37.9,13.4,2.05,0.97,2.16,0.5,17.1,0.78,12.8,12.46,8.52,7.9,9.0,2.43,7.27,0.6,5.93,7.57,0.78,0.7,1.0,30.38,16.68,13.25,19.52,15.29,10.75,1.05,7.1,1.9,13.38,17.6,12.0,2.49,0.5,1.45,1.46,0.5,3.1,14.39,3.04,2.4,18.36,2.84,30.36,4.36,17.4,2.9,13.43,14.9,0.8,1.1,6.07,16.48,18.4,13.3,3.85,0.95,11.93,4.9,1.44,13.3,1.11,1.82,9.4,3.53,18.02,8.45,18.67,17.59,17.81,17.2,20.96,2.6,2.68,1.26,2.0,9.23,2.9,10.1,11.35,10.6,17.66,13.81,26.2,1.23,27.41,5.86,4.77,17.3,3.32,0.5,18.23,17.1,5.68,30.67,18.52,0.79,1.05,12.17,7.71,0.8,4.67,0.93,1.04,15.8,16.64,5.5,16.6,0.58,16.16,18.39,5.74,16.9,11.3,3.32,19.0,17.9,2.67,0.62,9.36,2.85,17.3,1.19,18.2,2.3,11.29,19.51,24.6,12.3,1.65,1.29,11.39,9.85,7.84,20.9,12.7,0.8,2.15,13.71,3.44],\"xaxis\":\"x2\",\"y\":[9.0,8.25,46.5,12.25,20.0,45.0,25.75,54.0,56.33,41.75,30.25,39.5,14.29,37.0,9.0,11.25,12.25,9.5,12.0,6.5,51.75,44.0,6.25,65.25,9.0,6.25,5.75,5.0,9.0,6.5,8.25,15.5,39.25,8.0,32.0,65.75,14.25,29.5,9.0,45.5,20.25,13.75,36.5,22.25,44.5,9.25,5.5,15.37,29.75,6.5,24.25,50.5,7.0,17.75,51.38,45.0,4.75,6.0,36.5,44.25,33.0,9.0,6.0,9.62,4.75,42.5,5.75,34.0,31.25,23.25,21.5,24.0,10.5,27.25,5.25,18.0,24.0,5.75,6.0,4.75,73.5,41.75,36.75,49.25,41.25,30.0,6.25,20.25,9.75,35.0,44.0,32.25,8.75,4.75,9.0,7.75,4.5,12.0,41.25,11.75,14.0,46.0,12.0,80.5,15.5,43.75,10.25,35.5,41.0,5.5,6.25,35.0,41.5,46.5,35.25,14.0,6.75,31.0,15.75,7.0,35.5,6.5,10.0,26.5,13.25,45.75,24.05,46.0,44.5,45.0,46.5,51.0,10.37,10.5,6.5,9.25,30.25,11.25,27.25,30.0,29.5,44.25,35.25,72.75,7.75,66.25,16.97,14.95,47.5,11.31,5.0,58.71,43.25,17.75,73.25,46.5,6.25,6.25,32.5,22.5,5.25,18.85,9.0,9.0,40.25,41.75,16.75,40.75,4.75,45.25,46.25,17.35,43.5,31.0,17.87,47.0,48.75,10.0,4.75,27.25,10.5,42.25,7.0,44.5,8.75,28.5,48.5,85.79,31.75,7.75,7.5,30.0,26.5,22.75,51.0,33.0,5.5,9.25,34.5,12.25],\"yaxis\":\"y2\",\"type\":\"scatter\"},{\"hovertemplate\":\"TRIP_MILES=%{x}\\u003cbr\\u003eFARE_PREDICTED=%{y}\\u003cextra\\u003e\\u003c\\u002fextra\\u003e\",\"legendgroup\":\"\",\"line\":{\"color\":\"#ff0000\",\"dash\":\"solid\",\"width\":3},\"marker\":{\"symbol\":\"circle\"},\"mode\":\"lines\",\"name\":\"\",\"orientation\":\"v\",\"showlegend\":false,\"x\":[1.17,1.56,19.01,3.11,1.25,18.03,8.82,21.79,19.04,16.9,10.36,15.43,3.85,14.0,1.21,2.6,3.53,2.0,3.55,1.14,21.4,17.7,1.21,27.19,0.55,1.0,0.91,0.7,1.13,1.32,1.93,4.73,15.9,1.39,11.95,26.65,4.09,10.6,1.0,18.2,6.0,4.03,13.83,7.72,16.3,1.88,0.88,6.22,11.2,0.9,7.81,20.09,1.1,4.76,15.59,17.7,0.64,0.79,13.49,37.9,13.4,2.05,0.97,2.16,0.5,17.1,0.78,12.8,12.46,8.52,7.9,9.0,2.43,7.27,0.6,5.93,7.57,0.78,0.7,1.0,30.38,16.68,13.25,19.52,15.29,10.75,1.05,7.1,1.9,13.38,17.6,12.0,2.49,0.5,1.45,1.46,0.5,3.1,14.39,3.04,2.4,18.36,2.84,30.36,4.36,17.4,2.9,13.43,14.9,0.8,1.1,6.07,16.48,18.4,13.3,3.85,0.95,11.93,4.9,1.44,13.3,1.11,1.82,9.4,3.53,18.02,8.45,18.67,17.59,17.81,17.2,20.96,2.6,2.68,1.26,2.0,9.23,2.9,10.1,11.35,10.6,17.66,13.81,26.2,1.23,27.41,5.86,4.77,17.3,3.32,0.5,18.23,17.1,5.68,30.67,18.52,0.79,1.05,12.17,7.71,0.8,4.67,0.93,1.04,15.8,16.64,5.5,16.6,0.58,16.16,18.39,5.74,16.9,11.3,3.32,19.0,17.9,2.67,0.62,9.36,2.85,17.3,1.19,18.2,2.3,11.29,19.51,24.6,12.3,1.65,1.29,11.39,9.85,7.84,20.9,12.7,0.8,2.15,13.71,3.44],\"xaxis\":\"x2\",\"y\":[7.64741623878479,8.5359228515625,48.29089821815491,12.067167081832885,7.829674005508423,46.05824057579041,25.075815181732178,54.62435561180114,48.359244880676265,43.483849620819086,28.58427719116211,40.134863157272335,13.75305142402649,36.8770055770874,7.738545122146606,10.905273818969727,13.024020357131958,9.53834056854248,13.069584798812866,7.579069576263428,53.73584899902343,45.30642728805542,7.738545122146606,66.92675486564636,6.234918546676636,7.26011848449707,7.055078496932984,6.576651859283447,7.556287355422974,7.989149551391602,9.378865022659301,15.75788685798645,41.20562753677368,8.148625097274781,32.20665030479431,65.69651494026184,14.299824724197387,29.131050491333006,7.26011848449707,46.44553833007812,18.65122890472412,14.163131399154663,36.48970782279969,22.569770889282225,42.11691637039185,9.264953918457032,6.986731834411621,19.15243776321411,30.49798374176025,7.032296276092529,22.774810876846313,50.75137806892395,7.487940692901612,15.826233520507811,40.4993786907196,45.30642728805542,6.439958534240723,6.781691846847535,35.71511231422424,91.3265133857727,35.51007232666016,9.65225167274475,7.191771821975708,9.902856101989746,6.121007442474365,43.93949403762818,6.75890962600708,34.14313907623291,33.36854356765747,24.392348556518552,22.979850864410402,25.48589515686035,10.517976064682006,21.54457095146179,6.348829650878907,18.491753358840942,22.228037576675415,6.75890962600708,6.576651859283447,7.26011848449707,74.19428331375121,42.9826407623291,35.168339014053345,49.45279148101807,39.81591206550598,29.47278380393982,7.374029588699341,21.15727319717407,9.310518360137939,35.46450788497925,45.078605079650885,32.32056140899658,10.65466938972473,6.121007442474365,8.285318422317506,8.308100643157958,6.121007442474365,12.044384860992432,37.76551218986511,11.907691535949708,10.449629402160644,46.81005386352539,11.452047119140625,74.1487188720703,14.91494468688965,44.62296066284179,11.58874044418335,35.578418989181515,38.92740545272827,6.8044740676879885,7.487940692901612,18.8107044506073,42.52699634552002,46.9011827468872,35.28225011825562,13.75305142402649,7.1462073802948,32.1610858631134,16.14518461227417,8.262536201477051,35.28225011825562,7.5107229137420655,9.128260593414307,26.397183990478517,13.024020357131958,46.03545835494995,24.232873010635373,47.51630270957947,45.05582285881042,45.55703171730041,44.16731624603271,52.73343128204346,10.905273818969727,11.087531585693359,7.8524562263488775,9.53834056854248,26.0098862361908,11.58874044418335,27.9919394493103,30.839717054367064,29.131050491333006,45.215298404693606,36.44414338111878,64.6713150024414,7.784109563827514,67.42796372413636,18.332277812957763,15.849015741348266,44.39513845443726,12.545593719482422,6.121007442474365,46.513884992599486,43.93949403762818,17.92219783782959,74.8549677181244,47.17456939697266,6.781691846847535,7.374029588699341,32.7078591632843,22.546988668441774,6.8044740676879885,15.621193532943725,7.100642938613891,7.351247367858887,40.97780532836914,42.891511878967286,17.512117862701416,42.800382995605474,6.303265209197998,41.79796527862549,46.878400526046754,18.058891162872314,43.483849620819086,30.725805950164798,12.545593719482422,48.26811599731445,45.762071704864496,11.064749364852904,6.394394092559814,26.3060551071167,11.47482933998108,44.39513845443726,7.692980680465698,46.44553833007812,10.221807193756103,30.70302372932434,49.43000926017761,61.026159667968756,33.00402803421021,8.740962839126587,7.92080288887024,30.930845937728883,27.42238392829895,22.843157539367674,52.59673795700073,33.915316867828366,6.8044740676879885,9.880073881149292,36.21632117271423,12.818980369567871],\"yaxis\":\"y2\",\"type\":\"scatter\"},{\"hovertemplate\":\"x=%{x}\\u003cbr\\u003ey=%{y}\\u003cextra\\u003e\\u003c\\u002fextra\\u003e\",\"legendgroup\":\"\",\"line\":{\"color\":\"#ff0000\",\"dash\":\"solid\",\"width\":3},\"marker\":{\"symbol\":\"circle\"},\"mode\":\"lines\",\"name\":\"\",\"orientation\":\"v\",\"showlegend\":false,\"x\":[0,1,2,3,4,5,6,7,8,9,10,11,12,13,14,15,16,17,18,19],\"xaxis\":\"x\",\"y\":[19.12270736694336,12.239537239074707,6.24418306350708,4.1947922706604,4.040732383728027,3.9253194332122803,3.8429436683654785,3.794390916824341,3.7671561241149902,3.7550745010375977,3.7500314712524414,3.747596502304077,3.7468888759613037,3.7462096214294434,3.746047258377075,3.7460994720458984,3.745779514312744,3.7457194328308105,3.7460482120513916,3.7457480430603027],\"yaxis\":\"y\",\"type\":\"scatter\"}],                        {\"template\":{\"data\":{\"histogram2dcontour\":[{\"type\":\"histogram2dcontour\",\"colorbar\":{\"outlinewidth\":0,\"ticks\":\"\"},\"colorscale\":[[0.0,\"#0d0887\"],[0.1111111111111111,\"#46039f\"],[0.2222222222222222,\"#7201a8\"],[0.3333333333333333,\"#9c179e\"],[0.4444444444444444,\"#bd3786\"],[0.5555555555555556,\"#d8576b\"],[0.6666666666666666,\"#ed7953\"],[0.7777777777777778,\"#fb9f3a\"],[0.8888888888888888,\"#fdca26\"],[1.0,\"#f0f921\"]]}],\"choropleth\":[{\"type\":\"choropleth\",\"colorbar\":{\"outlinewidth\":0,\"ticks\":\"\"}}],\"histogram2d\":[{\"type\":\"histogram2d\",\"colorbar\":{\"outlinewidth\":0,\"ticks\":\"\"},\"colorscale\":[[0.0,\"#0d0887\"],[0.1111111111111111,\"#46039f\"],[0.2222222222222222,\"#7201a8\"],[0.3333333333333333,\"#9c179e\"],[0.4444444444444444,\"#bd3786\"],[0.5555555555555556,\"#d8576b\"],[0.6666666666666666,\"#ed7953\"],[0.7777777777777778,\"#fb9f3a\"],[0.8888888888888888,\"#fdca26\"],[1.0,\"#f0f921\"]]}],\"heatmap\":[{\"type\":\"heatmap\",\"colorbar\":{\"outlinewidth\":0,\"ticks\":\"\"},\"colorscale\":[[0.0,\"#0d0887\"],[0.1111111111111111,\"#46039f\"],[0.2222222222222222,\"#7201a8\"],[0.3333333333333333,\"#9c179e\"],[0.4444444444444444,\"#bd3786\"],[0.5555555555555556,\"#d8576b\"],[0.6666666666666666,\"#ed7953\"],[0.7777777777777778,\"#fb9f3a\"],[0.8888888888888888,\"#fdca26\"],[1.0,\"#f0f921\"]]}],\"heatmapgl\":[{\"type\":\"heatmapgl\",\"colorbar\":{\"outlinewidth\":0,\"ticks\":\"\"},\"colorscale\":[[0.0,\"#0d0887\"],[0.1111111111111111,\"#46039f\"],[0.2222222222222222,\"#7201a8\"],[0.3333333333333333,\"#9c179e\"],[0.4444444444444444,\"#bd3786\"],[0.5555555555555556,\"#d8576b\"],[0.6666666666666666,\"#ed7953\"],[0.7777777777777778,\"#fb9f3a\"],[0.8888888888888888,\"#fdca26\"],[1.0,\"#f0f921\"]]}],\"contourcarpet\":[{\"type\":\"contourcarpet\",\"colorbar\":{\"outlinewidth\":0,\"ticks\":\"\"}}],\"contour\":[{\"type\":\"contour\",\"colorbar\":{\"outlinewidth\":0,\"ticks\":\"\"},\"colorscale\":[[0.0,\"#0d0887\"],[0.1111111111111111,\"#46039f\"],[0.2222222222222222,\"#7201a8\"],[0.3333333333333333,\"#9c179e\"],[0.4444444444444444,\"#bd3786\"],[0.5555555555555556,\"#d8576b\"],[0.6666666666666666,\"#ed7953\"],[0.7777777777777778,\"#fb9f3a\"],[0.8888888888888888,\"#fdca26\"],[1.0,\"#f0f921\"]]}],\"surface\":[{\"type\":\"surface\",\"colorbar\":{\"outlinewidth\":0,\"ticks\":\"\"},\"colorscale\":[[0.0,\"#0d0887\"],[0.1111111111111111,\"#46039f\"],[0.2222222222222222,\"#7201a8\"],[0.3333333333333333,\"#9c179e\"],[0.4444444444444444,\"#bd3786\"],[0.5555555555555556,\"#d8576b\"],[0.6666666666666666,\"#ed7953\"],[0.7777777777777778,\"#fb9f3a\"],[0.8888888888888888,\"#fdca26\"],[1.0,\"#f0f921\"]]}],\"mesh3d\":[{\"type\":\"mesh3d\",\"colorbar\":{\"outlinewidth\":0,\"ticks\":\"\"}}],\"scatter\":[{\"marker\":{\"line\":{\"color\":\"#283442\"}},\"type\":\"scatter\"}],\"parcoords\":[{\"type\":\"parcoords\",\"line\":{\"colorbar\":{\"outlinewidth\":0,\"ticks\":\"\"}}}],\"scatterpolargl\":[{\"type\":\"scatterpolargl\",\"marker\":{\"colorbar\":{\"outlinewidth\":0,\"ticks\":\"\"}}}],\"bar\":[{\"error_x\":{\"color\":\"#f2f5fa\"},\"error_y\":{\"color\":\"#f2f5fa\"},\"marker\":{\"line\":{\"color\":\"rgb(17,17,17)\",\"width\":0.5},\"pattern\":{\"fillmode\":\"overlay\",\"size\":10,\"solidity\":0.2}},\"type\":\"bar\"}],\"scattergeo\":[{\"type\":\"scattergeo\",\"marker\":{\"colorbar\":{\"outlinewidth\":0,\"ticks\":\"\"}}}],\"scatterpolar\":[{\"type\":\"scatterpolar\",\"marker\":{\"colorbar\":{\"outlinewidth\":0,\"ticks\":\"\"}}}],\"histogram\":[{\"marker\":{\"pattern\":{\"fillmode\":\"overlay\",\"size\":10,\"solidity\":0.2}},\"type\":\"histogram\"}],\"scattergl\":[{\"marker\":{\"line\":{\"color\":\"#283442\"}},\"type\":\"scattergl\"}],\"scatter3d\":[{\"type\":\"scatter3d\",\"line\":{\"colorbar\":{\"outlinewidth\":0,\"ticks\":\"\"}},\"marker\":{\"colorbar\":{\"outlinewidth\":0,\"ticks\":\"\"}}}],\"scattermapbox\":[{\"type\":\"scattermapbox\",\"marker\":{\"colorbar\":{\"outlinewidth\":0,\"ticks\":\"\"}}}],\"scatterternary\":[{\"type\":\"scatterternary\",\"marker\":{\"colorbar\":{\"outlinewidth\":0,\"ticks\":\"\"}}}],\"scattercarpet\":[{\"type\":\"scattercarpet\",\"marker\":{\"colorbar\":{\"outlinewidth\":0,\"ticks\":\"\"}}}],\"carpet\":[{\"aaxis\":{\"endlinecolor\":\"#A2B1C6\",\"gridcolor\":\"#506784\",\"linecolor\":\"#506784\",\"minorgridcolor\":\"#506784\",\"startlinecolor\":\"#A2B1C6\"},\"baxis\":{\"endlinecolor\":\"#A2B1C6\",\"gridcolor\":\"#506784\",\"linecolor\":\"#506784\",\"minorgridcolor\":\"#506784\",\"startlinecolor\":\"#A2B1C6\"},\"type\":\"carpet\"}],\"table\":[{\"cells\":{\"fill\":{\"color\":\"#506784\"},\"line\":{\"color\":\"rgb(17,17,17)\"}},\"header\":{\"fill\":{\"color\":\"#2a3f5f\"},\"line\":{\"color\":\"rgb(17,17,17)\"}},\"type\":\"table\"}],\"barpolar\":[{\"marker\":{\"line\":{\"color\":\"rgb(17,17,17)\",\"width\":0.5},\"pattern\":{\"fillmode\":\"overlay\",\"size\":10,\"solidity\":0.2}},\"type\":\"barpolar\"}],\"pie\":[{\"automargin\":true,\"type\":\"pie\"}]},\"layout\":{\"autotypenumbers\":\"strict\",\"colorway\":[\"#636efa\",\"#EF553B\",\"#00cc96\",\"#ab63fa\",\"#FFA15A\",\"#19d3f3\",\"#FF6692\",\"#B6E880\",\"#FF97FF\",\"#FECB52\"],\"font\":{\"color\":\"#f2f5fa\"},\"hovermode\":\"closest\",\"hoverlabel\":{\"align\":\"left\"},\"paper_bgcolor\":\"rgb(17,17,17)\",\"plot_bgcolor\":\"rgb(17,17,17)\",\"polar\":{\"bgcolor\":\"rgb(17,17,17)\",\"angularaxis\":{\"gridcolor\":\"#506784\",\"linecolor\":\"#506784\",\"ticks\":\"\"},\"radialaxis\":{\"gridcolor\":\"#506784\",\"linecolor\":\"#506784\",\"ticks\":\"\"}},\"ternary\":{\"bgcolor\":\"rgb(17,17,17)\",\"aaxis\":{\"gridcolor\":\"#506784\",\"linecolor\":\"#506784\",\"ticks\":\"\"},\"baxis\":{\"gridcolor\":\"#506784\",\"linecolor\":\"#506784\",\"ticks\":\"\"},\"caxis\":{\"gridcolor\":\"#506784\",\"linecolor\":\"#506784\",\"ticks\":\"\"}},\"coloraxis\":{\"colorbar\":{\"outlinewidth\":0,\"ticks\":\"\"}},\"colorscale\":{\"sequential\":[[0.0,\"#0d0887\"],[0.1111111111111111,\"#46039f\"],[0.2222222222222222,\"#7201a8\"],[0.3333333333333333,\"#9c179e\"],[0.4444444444444444,\"#bd3786\"],[0.5555555555555556,\"#d8576b\"],[0.6666666666666666,\"#ed7953\"],[0.7777777777777778,\"#fb9f3a\"],[0.8888888888888888,\"#fdca26\"],[1.0,\"#f0f921\"]],\"sequentialminus\":[[0.0,\"#0d0887\"],[0.1111111111111111,\"#46039f\"],[0.2222222222222222,\"#7201a8\"],[0.3333333333333333,\"#9c179e\"],[0.4444444444444444,\"#bd3786\"],[0.5555555555555556,\"#d8576b\"],[0.6666666666666666,\"#ed7953\"],[0.7777777777777778,\"#fb9f3a\"],[0.8888888888888888,\"#fdca26\"],[1.0,\"#f0f921\"]],\"diverging\":[[0,\"#8e0152\"],[0.1,\"#c51b7d\"],[0.2,\"#de77ae\"],[0.3,\"#f1b6da\"],[0.4,\"#fde0ef\"],[0.5,\"#f7f7f7\"],[0.6,\"#e6f5d0\"],[0.7,\"#b8e186\"],[0.8,\"#7fbc41\"],[0.9,\"#4d9221\"],[1,\"#276419\"]]},\"xaxis\":{\"gridcolor\":\"#283442\",\"linecolor\":\"#506784\",\"ticks\":\"\",\"title\":{\"standoff\":15},\"zerolinecolor\":\"#283442\",\"automargin\":true,\"zerolinewidth\":2},\"yaxis\":{\"gridcolor\":\"#283442\",\"linecolor\":\"#506784\",\"ticks\":\"\",\"title\":{\"standoff\":15},\"zerolinecolor\":\"#283442\",\"automargin\":true,\"zerolinewidth\":2},\"scene\":{\"xaxis\":{\"backgroundcolor\":\"rgb(17,17,17)\",\"gridcolor\":\"#506784\",\"linecolor\":\"#506784\",\"showbackground\":true,\"ticks\":\"\",\"zerolinecolor\":\"#C8D4E3\",\"gridwidth\":2},\"yaxis\":{\"backgroundcolor\":\"rgb(17,17,17)\",\"gridcolor\":\"#506784\",\"linecolor\":\"#506784\",\"showbackground\":true,\"ticks\":\"\",\"zerolinecolor\":\"#C8D4E3\",\"gridwidth\":2},\"zaxis\":{\"backgroundcolor\":\"rgb(17,17,17)\",\"gridcolor\":\"#506784\",\"linecolor\":\"#506784\",\"showbackground\":true,\"ticks\":\"\",\"zerolinecolor\":\"#C8D4E3\",\"gridwidth\":2}},\"shapedefaults\":{\"line\":{\"color\":\"#f2f5fa\"}},\"annotationdefaults\":{\"arrowcolor\":\"#f2f5fa\",\"arrowhead\":0,\"arrowwidth\":1},\"geo\":{\"bgcolor\":\"rgb(17,17,17)\",\"landcolor\":\"rgb(17,17,17)\",\"subunitcolor\":\"#506784\",\"showland\":true,\"showlakes\":true,\"lakecolor\":\"rgb(17,17,17)\"},\"title\":{\"x\":0.05},\"updatemenudefaults\":{\"bgcolor\":\"#506784\",\"borderwidth\":0},\"sliderdefaults\":{\"bgcolor\":\"#C8D4E3\",\"borderwidth\":1,\"bordercolor\":\"rgb(17,17,17)\",\"tickwidth\":0},\"mapbox\":{\"style\":\"dark\"}}},\"xaxis\":{\"anchor\":\"y\",\"domain\":[0.0,0.45],\"title\":{\"text\":\"Epoch\"}},\"yaxis\":{\"anchor\":\"x\",\"domain\":[0.0,1.0],\"title\":{\"text\":\"Root Mean Squared Error\"},\"range\":[2.9965755462646486,19.12270736694336]},\"xaxis2\":{\"anchor\":\"y2\",\"domain\":[0.55,1.0],\"title\":{\"text\":\"TRIP_MILES\"}},\"yaxis2\":{\"anchor\":\"x2\",\"domain\":[0.0,1.0],\"title\":{\"text\":\"FARE\"}},\"annotations\":[{\"font\":{\"size\":16},\"showarrow\":false,\"text\":\"Loss Curve\",\"x\":0.225,\"xanchor\":\"center\",\"xref\":\"paper\",\"y\":1.0,\"yanchor\":\"bottom\",\"yref\":\"paper\"},{\"font\":{\"size\":16},\"showarrow\":false,\"text\":\"Model Plot\",\"x\":0.775,\"xanchor\":\"center\",\"xref\":\"paper\",\"y\":1.0,\"yanchor\":\"bottom\",\"yref\":\"paper\"}]},                        {\"responsive\": true}                    ).then(function(){\n",
       "                            \n",
       "var gd = document.getElementById('61d8f79e-50ff-4186-ba22-a5072e665bc8');\n",
       "var x = new MutationObserver(function (mutations, observer) {{\n",
       "        var display = window.getComputedStyle(gd).display;\n",
       "        if (!display || display === 'none') {{\n",
       "            console.log([gd, 'removed!']);\n",
       "            Plotly.purge(gd);\n",
       "            observer.disconnect();\n",
       "        }}\n",
       "}});\n",
       "\n",
       "// Listen for the removal of the full notebook cells\n",
       "var notebookContainer = gd.closest('#notebook-container');\n",
       "if (notebookContainer) {{\n",
       "    x.observe(notebookContainer, {childList: true});\n",
       "}}\n",
       "\n",
       "// Listen for the clearing of the current output cell\n",
       "var outputEl = gd.closest('.output');\n",
       "if (outputEl) {{\n",
       "    x.observe(outputEl, {childList: true});\n",
       "}}\n",
       "\n",
       "                        })                };                });            </script>        </div>"
      ]
     },
     "metadata": {},
     "output_type": "display_data"
    }
   ],
   "execution_count": 74
  },
  {
   "cell_type": "code",
   "metadata": {
    "cellView": "form",
    "id": "Od7vJJpHiHYB",
    "ExecuteTime": {
     "end_time": "2024-12-02T00:45:52.467462Z",
     "start_time": "2024-12-02T00:45:52.462126Z"
    }
   },
   "source": [
    "#@title Double-click to view answers for hyperparameter experiments\n",
    "\n",
    "# How did raising the learning rate impact your ability to train the model?\n",
    "# -----------------------------------------------------------------------------\n",
    "answer = \"\"\"\n",
    "When the learning rate is too high, the loss curve bounces around and does not\n",
    "appear to be moving towards convergence with each iteration. Also, notice that\n",
    "the predicted model does not fit the data very well. With a learning rate that\n",
    "is too high, it is unlikely that you will be able to train a model with good\n",
    "results.\n",
    "\"\"\"\n",
    "print(answer)\n",
    "\n",
    "# How did lowering the learning rate impact your ability to train the model?\n",
    "# -----------------------------------------------------------------------------\n",
    "answer = '''\n",
    "When the learning rate is too small, it may take longer for the loss curve to\n",
    "converge. With a small learning rate the loss curve decreases slowly, but does\n",
    "not show a dramatic drop or leveling off. With a small learning rate you could\n",
    "increase the number of epochs so that your model will eventually converge, but\n",
    "it will take longer.\n",
    "'''\n",
    "print(answer)\n",
    "\n",
    "# Did changing the batch size effect your training results?\n",
    "# -----------------------------------------------------------------------------\n",
    "answer = '''\n",
    "Increasing the batch size makes each epoch run faster, but as with the smaller\n",
    "learning rate, the model does not converge with just 20 epochs. If you have\n",
    "time, try increasing the number of epochs and eventually you should see the\n",
    "model converge.\n",
    "'''\n",
    "print(answer)"
   ],
   "outputs": [
    {
     "name": "stdout",
     "output_type": "stream",
     "text": [
      "\n",
      "When the learning rate is too high, the loss curve bounces around and does not\n",
      "appear to be moving towards convergence with each iteration. Also, notice that\n",
      "the predicted model does not fit the data very well. With a learning rate that\n",
      "is too high, it is unlikely that you will be able to train a model with good\n",
      "results.\n",
      "\n",
      "\n",
      "When the learning rate is too small, it may take longer for the loss curve to\n",
      "converge. With a small learning rate the loss curve decreases slowly, but does\n",
      "not show a dramatic drop or leveling off. With a small learning rate you could\n",
      "increase the number of epochs so that your model will eventually converge, but\n",
      "it will take longer.\n",
      "\n",
      "\n",
      "Increasing the batch size makes each epoch run faster, but as with the smaller\n",
      "learning rate, the model does not converge with just 20 epochs. If you have\n",
      "time, try increasing the number of epochs and eventually you should see the\n",
      "model converge.\n",
      "\n"
     ]
    }
   ],
   "execution_count": 75
  },
  {
   "cell_type": "markdown",
   "metadata": {
    "id": "o27u0JRj_gJr"
   },
   "source": [
    "## Train a model with two features\n",
    "\n",
    "The model you trained with the feature ``TOTAL_MILES`` demonstrates fairly strong predictive power, but is it possible to do better? In this step, try training the model with two features, ``TRIP_MILES`` and ``TRIP_MINUTES``, to see if you can improve the model. You may recall that the original dataset does not include a feature ``TRIP_MINUTES``, but this feature can be easily derived from ``TRIP_SECONDS`` as shown in the code below.*\n",
    "\n",
    "**Instructions**\n",
    "1. Review the code in **Experiment 3** code cell.\n",
    "1. Run the **Experiment 3** code cell.\n",
    "1. Review the output from the training run and answer these questions:\n",
    "  * Does the model with two features produce better results than one using a single feature?\n",
    "  * Does it make a difference if you use ``TRIP_SECONDS`` instead of ``TRIP_MINUTES``?\n",
    "  * How well do you think the model comes to the ground truth fare calculation for Chicago Taxi Trips?\n",
    "\n",
    "\n",
    "Notice that the scatter plot of the features vs. the label is a three dimensional (3-D) plot. This representation allows you to visualize both features and the label all together. The two features (TRIP_MILES and TRIP_MINUTES) are on the x and y axis, and the label (FARE) is on the z axis. The plot shows individual examples in the dataset as circles, and the model as a surface (plane). With this 3-D model, if the trained model is good you would expect most of the examples to land on the plane surface. The 3-D plot is interactive so you can explore the data further by clicking or dragging the plot.\n"
   ]
  },
  {
   "cell_type": "code",
   "metadata": {
    "cellView": "form",
    "id": "Mg3gUYOoBAtd",
    "ExecuteTime": {
     "end_time": "2024-12-02T00:46:07.867457Z",
     "start_time": "2024-12-02T00:45:52.510160Z"
    }
   },
   "source": [
    "#@title Code - Experiment 3\n",
    "\n",
    "# The following variables are the hyperparameters.\n",
    "learning_rate = 0.001\n",
    "epochs = 20\n",
    "batch_size = 50\n",
    "\n",
    "training_df['TRIP_MINUTES'] = training_df['TRIP_SECONDS']/60\n",
    "\n",
    "features = ['TRIP_MILES', 'TRIP_MINUTES']\n",
    "label = 'FARE'\n",
    "\n",
    "model_2 = run_experiment(training_df, features, label, learning_rate, epochs, batch_size)"
   ],
   "outputs": [
    {
     "name": "stdout",
     "output_type": "stream",
     "text": [
      "INFO: starting training experiment with features=['TRIP_MILES', 'TRIP_MINUTES'] and label=FARE\n",
      "\n",
      "Epoch 1/20\n"
     ]
    },
    {
     "name": "stderr",
     "output_type": "stream",
     "text": [
      "/var/folders/b_/bx4v7gvs0pd2mj6yzb1x41m40000gn/T/ipykernel_22267/4246232516.py:8: SettingWithCopyWarning:\n",
      "\n",
      "\n",
      "A value is trying to be set on a copy of a slice from a DataFrame.\n",
      "Try using .loc[row_indexer,col_indexer] = value instead\n",
      "\n",
      "See the caveats in the documentation: https://pandas.pydata.org/pandas-docs/stable/user_guide/indexing.html#returning-a-view-versus-a-copy\n",
      "\n",
      "/Users/anton/miniforge3/envs/ml/lib/python3.12/site-packages/keras/src/layers/core/dense.py:87: UserWarning:\n",
      "\n",
      "Do not pass an `input_shape`/`input_dim` argument to a layer. When using Sequential models, prefer using an `Input(shape)` object as the first layer in the model instead.\n",
      "\n"
     ]
    },
    {
     "name": "stdout",
     "output_type": "stream",
     "text": [
      "\u001B[1m634/634\u001B[0m \u001B[32m━━━━━━━━━━━━━━━━━━━━\u001B[0m\u001B[37m\u001B[0m \u001B[1m1s\u001B[0m 968us/step - loss: 134.8768 - root_mean_squared_error: 11.6099\n",
      "Epoch 2/20\n",
      "\u001B[1m634/634\u001B[0m \u001B[32m━━━━━━━━━━━━━━━━━━━━\u001B[0m\u001B[37m\u001B[0m \u001B[1m1s\u001B[0m 1ms/step - loss: 95.2207 - root_mean_squared_error: 9.7500\n",
      "Epoch 3/20\n",
      "\u001B[1m634/634\u001B[0m \u001B[32m━━━━━━━━━━━━━━━━━━━━\u001B[0m\u001B[37m\u001B[0m \u001B[1m1s\u001B[0m 1ms/step - loss: 61.5786 - root_mean_squared_error: 7.8419\n",
      "Epoch 4/20\n",
      "\u001B[1m634/634\u001B[0m \u001B[32m━━━━━━━━━━━━━━━━━━━━\u001B[0m\u001B[37m\u001B[0m \u001B[1m1s\u001B[0m 2ms/step - loss: 37.8003 - root_mean_squared_error: 6.1405\n",
      "Epoch 5/20\n",
      "\u001B[1m634/634\u001B[0m \u001B[32m━━━━━━━━━━━━━━━━━━━━\u001B[0m\u001B[37m\u001B[0m \u001B[1m1s\u001B[0m 1ms/step - loss: 22.8757 - root_mean_squared_error: 4.7766\n",
      "Epoch 6/20\n",
      "\u001B[1m634/634\u001B[0m \u001B[32m━━━━━━━━━━━━━━━━━━━━\u001B[0m\u001B[37m\u001B[0m \u001B[1m1s\u001B[0m 964us/step - loss: 15.6652 - root_mean_squared_error: 3.9540\n",
      "Epoch 7/20\n",
      "\u001B[1m634/634\u001B[0m \u001B[32m━━━━━━━━━━━━━━━━━━━━\u001B[0m\u001B[37m\u001B[0m \u001B[1m1s\u001B[0m 1ms/step - loss: 13.7867 - root_mean_squared_error: 3.7010\n",
      "Epoch 8/20\n",
      "\u001B[1m634/634\u001B[0m \u001B[32m━━━━━━━━━━━━━━━━━━━━\u001B[0m\u001B[37m\u001B[0m \u001B[1m1s\u001B[0m 987us/step - loss: 13.5663 - root_mean_squared_error: 3.6810\n",
      "Epoch 9/20\n",
      "\u001B[1m634/634\u001B[0m \u001B[32m━━━━━━━━━━━━━━━━━━━━\u001B[0m\u001B[37m\u001B[0m \u001B[1m1s\u001B[0m 927us/step - loss: 13.0483 - root_mean_squared_error: 3.5991\n",
      "Epoch 10/20\n",
      "\u001B[1m634/634\u001B[0m \u001B[32m━━━━━━━━━━━━━━━━━━━━\u001B[0m\u001B[37m\u001B[0m \u001B[1m1s\u001B[0m 2ms/step - loss: 12.6430 - root_mean_squared_error: 3.5511\n",
      "Epoch 11/20\n",
      "\u001B[1m634/634\u001B[0m \u001B[32m━━━━━━━━━━━━━━━━━━━━\u001B[0m\u001B[37m\u001B[0m \u001B[1m1s\u001B[0m 919us/step - loss: 11.4478 - root_mean_squared_error: 3.3750\n",
      "Epoch 12/20\n",
      "\u001B[1m634/634\u001B[0m \u001B[32m━━━━━━━━━━━━━━━━━━━━\u001B[0m\u001B[37m\u001B[0m \u001B[1m1s\u001B[0m 945us/step - loss: 12.0520 - root_mean_squared_error: 3.4665\n",
      "Epoch 13/20\n",
      "\u001B[1m634/634\u001B[0m \u001B[32m━━━━━━━━━━━━━━━━━━━━\u001B[0m\u001B[37m\u001B[0m \u001B[1m1s\u001B[0m 1ms/step - loss: 14.0421 - root_mean_squared_error: 3.7345\n",
      "Epoch 14/20\n",
      "\u001B[1m634/634\u001B[0m \u001B[32m━━━━━━━━━━━━━━━━━━━━\u001B[0m\u001B[37m\u001B[0m \u001B[1m1s\u001B[0m 1ms/step - loss: 11.3121 - root_mean_squared_error: 3.3544\n",
      "Epoch 15/20\n",
      "\u001B[1m634/634\u001B[0m \u001B[32m━━━━━━━━━━━━━━━━━━━━\u001B[0m\u001B[37m\u001B[0m \u001B[1m1s\u001B[0m 897us/step - loss: 12.0507 - root_mean_squared_error: 3.4694\n",
      "Epoch 16/20\n",
      "\u001B[1m634/634\u001B[0m \u001B[32m━━━━━━━━━━━━━━━━━━━━\u001B[0m\u001B[37m\u001B[0m \u001B[1m1s\u001B[0m 1ms/step - loss: 11.5269 - root_mean_squared_error: 3.3833\n",
      "Epoch 17/20\n",
      "\u001B[1m634/634\u001B[0m \u001B[32m━━━━━━━━━━━━━━━━━━━━\u001B[0m\u001B[37m\u001B[0m \u001B[1m1s\u001B[0m 1ms/step - loss: 12.1569 - root_mean_squared_error: 3.4824\n",
      "Epoch 18/20\n",
      "\u001B[1m634/634\u001B[0m \u001B[32m━━━━━━━━━━━━━━━━━━━━\u001B[0m\u001B[37m\u001B[0m \u001B[1m1s\u001B[0m 1ms/step - loss: 11.6279 - root_mean_squared_error: 3.4057\n",
      "Epoch 19/20\n",
      "\u001B[1m634/634\u001B[0m \u001B[32m━━━━━━━━━━━━━━━━━━━━\u001B[0m\u001B[37m\u001B[0m \u001B[1m1s\u001B[0m 1ms/step - loss: 10.6870 - root_mean_squared_error: 3.2569  \n",
      "Epoch 20/20\n",
      "\u001B[1m634/634\u001B[0m \u001B[32m━━━━━━━━━━━━━━━━━━━━\u001B[0m\u001B[37m\u001B[0m \u001B[1m1s\u001B[0m 964us/step - loss: 11.3223 - root_mean_squared_error: 3.3568\n",
      "\n",
      "SUCCESS: training experiment complete\n",
      "\n",
      "--------------------------------------------------------------------------------\n",
      "|                                  MODEL INFO                                  |\n",
      "--------------------------------------------------------------------------------\n",
      "Weight for feature[TRIP_MILES]: 2.032\n",
      "Weight for feature[TRIP_MINUTES]: 0.145\n",
      "Bias: 3.827\n",
      "\n",
      "FARE = 2.032 * TRIP_MILES + 0.145 * TRIP_MINUTES + 3.827\n",
      "\n"
     ]
    },
    {
     "data": {
      "application/vnd.plotly.v1+json": {
       "data": [
        {
         "hovertemplate": "TRIP_MILES=%{x}<br>TRIP_MINUTES=%{y}<br>FARE=%{z}<extra></extra>",
         "legendgroup": "",
         "marker": {
          "color": "#636efa",
          "symbol": "circle"
         },
         "mode": "markers",
         "name": "",
         "scene": "scene",
         "showlegend": false,
         "x": [
          16.37,
          17.6,
          1.76,
          1.0,
          18.03,
          17.67,
          1.59,
          5.33,
          1.5,
          7.54,
          1.8,
          0.9,
          14.7,
          16.66,
          1.24,
          13.0,
          1.71,
          18.84,
          1.1,
          6.06,
          5.17,
          3.11,
          2.9,
          3.86,
          10.61,
          1.4,
          2.4,
          2.0,
          2.04,
          10.47,
          2.6,
          1.4,
          18.98,
          0.57,
          1.8,
          11.32,
          18.11,
          8.09,
          0.82,
          1.72,
          3.5,
          9.48,
          1.74,
          11.2,
          0.5,
          15.14,
          9.2,
          4.1,
          15.43,
          10.83,
          17.44,
          17.33,
          21.38,
          12.88,
          1.22,
          12.6,
          4.3,
          5.22,
          12.0,
          25.37,
          3.73,
          1.55,
          1.34,
          12.96,
          0.6,
          13.9,
          2.29,
          6.02,
          1.1,
          17.37,
          0.85,
          16.9,
          17.81,
          1.1,
          9.55,
          17.78,
          1.9,
          1.86,
          14.39,
          12.09,
          11.8,
          13.91,
          1.63,
          1.54,
          1.97,
          6.4,
          12.04,
          1.52,
          0.7,
          17.9,
          1.6,
          14.72,
          3.17,
          18.8,
          2.48,
          13.71,
          17.93,
          5.68,
          12.13,
          3.95,
          18.12,
          2.6,
          3.02,
          7.76,
          7.59,
          17.33,
          15.92,
          2.04,
          18.7,
          13.49,
          8.7,
          18.3,
          21.3,
          3.46,
          0.91,
          14.7,
          12.2,
          2.55,
          3.39,
          2.3,
          4.43,
          4.9,
          15.9,
          17.69,
          17.7,
          12.74,
          0.56,
          1.02,
          2.21,
          0.74,
          15.59,
          9.11,
          17.8,
          10.1,
          10.8,
          15.3,
          1.05,
          11.57,
          17.5,
          11.97,
          6.1,
          19.5,
          1.29,
          1.93,
          1.28,
          10.8,
          3.2,
          1.25,
          2.0,
          0.8,
          1.4,
          5.04,
          17.5,
          9.55,
          2.09,
          16.9,
          2.65,
          17.5,
          2.04,
          1.71,
          9.0,
          0.6,
          1.1,
          17.5,
          0.69,
          2.3,
          18.64,
          10.94,
          10.8,
          18.93,
          6.09,
          2.13,
          6.69,
          3.3,
          0.9,
          6.82,
          0.7,
          18.6,
          0.6,
          17.63,
          1.58,
          5.3,
          2.05,
          1.5,
          19.69,
          6.3,
          17.46,
          17.2,
          18.15,
          1.04,
          0.8,
          13.1,
          0.57,
          10.7,
          7.6,
          11.17,
          3.4,
          30.0,
          9.73,
          7.79
         ],
         "y": [
          25.883333333333333,
          22.0,
          13.816666666666666,
          5.0,
          42.11666666666667,
          50.81666666666667,
          9.55,
          11.15,
          8.0,
          20.666666666666668,
          12.0,
          5.0,
          36.0,
          32.8,
          11.6,
          22.0,
          6.383333333333334,
          38.833333333333336,
          6.0,
          13.75,
          14.183333333333334,
          11.316666666666666,
          10.0,
          24.716666666666665,
          23.516666666666666,
          7.0,
          9.0,
          11.0,
          7.8,
          38.86666666666667,
          14.0,
          8.133333333333333,
          38.833333333333336,
          3.2333333333333334,
          8.0,
          23.333333333333332,
          37.88333333333333,
          20.25,
          4.966666666666667,
          9.666666666666666,
          17.0,
          28.366666666666667,
          7.0,
          22.966666666666665,
          4.0,
          48.55,
          20.366666666666667,
          13.916666666666666,
          49.2,
          35.28333333333333,
          39.31666666666667,
          35.9,
          84.16666666666667,
          20.0,
          7.6,
          46.0,
          15.0,
          19.466666666666665,
          24.0,
          36.11666666666667,
          15.283333333333333,
          11.4,
          6.533333333333333,
          25.083333333333332,
          4.0,
          42.0,
          10.516666666666667,
          19.4,
          7.0,
          65.36666666666666,
          6.583333333333333,
          37.0,
          37.43333333333333,
          7.0,
          33.21666666666667,
          54.03333333333333,
          16.0,
          22.483333333333334,
          33.18333333333333,
          28.433333333333334,
          13.633333333333333,
          17.2,
          10.016666666666667,
          7.966666666666667,
          13.216666666666667,
          51.666666666666664,
          20.383333333333333,
          10.05,
          6.0,
          44.0,
          9.233333333333333,
          22.533333333333335,
          19.816666666666666,
          41.0,
          10.966666666666667,
          21.633333333333333,
          56.28333333333333,
          23.533333333333335,
          45.15,
          17.083333333333332,
          21.566666666666666,
          6.0,
          9.5,
          17.333333333333332,
          13.183333333333334,
          34.666666666666664,
          37.71666666666667,
          12.283333333333333,
          32.0,
          33.7,
          19.0,
          57.0,
          30.0,
          15.766666666666667,
          4.433333333333334,
          35.63333333333333,
          26.0,
          12.033333333333333,
          10.283333333333333,
          13.0,
          29.35,
          9.0,
          52.0,
          33.4,
          56.0,
          23.8,
          5.233333333333333,
          5.8,
          10.133333333333333,
          4.383333333333334,
          26.283333333333335,
          20.716666666666665,
          35.0,
          12.666666666666666,
          39.983333333333334,
          23.0,
          5.666666666666667,
          26.416666666666668,
          39.0,
          20.316666666666666,
          14.0,
          41.0,
          5.5,
          17.433333333333334,
          8.766666666666667,
          22.0,
          7.0,
          7.666666666666667,
          13.0,
          7.0,
          7.016666666666667,
          40.35,
          68.38333333333334,
          30.45,
          12.533333333333333,
          38.0,
          14.4,
          33.0,
          19.366666666666667,
          13.85,
          41.0,
          5.0,
          5.0,
          55.5,
          4.333333333333333,
          7.0,
          33.05,
          25.816666666666666,
          37.0,
          59.583333333333336,
          46.083333333333336,
          13.083333333333334,
          36.43333333333333,
          14.083333333333334,
          5.0,
          14.266666666666667,
          2.0,
          38.083333333333336,
          4.0,
          53.18333333333333,
          8.416666666666666,
          17.733333333333334,
          15.783333333333333,
          7.0,
          33.0,
          27.0,
          29.966666666666665,
          26.716666666666665,
          35.483333333333334,
          6.466666666666667,
          5.6,
          25.0,
          2.6,
          32.0,
          20.0,
          29.433333333333334,
          8.0,
          47.0,
          24.733333333333334,
          13.433333333333334
         ],
         "z": [
          41.25,
          43.25,
          9.5,
          6.0,
          45.0,
          45.0,
          8.0,
          15.75,
          7.5,
          21.5,
          9.0,
          6.0,
          38.0,
          41.75,
          8.0,
          33.25,
          7.5,
          46.75,
          6.5,
          17.5,
          16.25,
          11.33,
          10.25,
          14.7,
          27.13,
          7.25,
          9.5,
          8.5,
          8.25,
          30.0,
          11.0,
          7.5,
          47.25,
          4.75,
          8.0,
          29.5,
          45.25,
          22.75,
          5.75,
          9.0,
          12.75,
          26.5,
          7.75,
          30.0,
          4.75,
          40.25,
          26.0,
          13.25,
          42.0,
          31.25,
          44.0,
          43.5,
          56.25,
          32.75,
          6.75,
          34.25,
          14.5,
          16.75,
          31.75,
          61.75,
          13.28,
          9.0,
          7.0,
          33.5,
          4.75,
          36.5,
          9.75,
          18.75,
          6.25,
          45.25,
          6.25,
          42.25,
          45.0,
          6.75,
          30.0,
          45.75,
          10.25,
          11.75,
          37.75,
          33.0,
          30.0,
          34.75,
          8.25,
          7.5,
          9.5,
          28.25,
          30.75,
          8.25,
          5.75,
          44.5,
          8.0,
          37.75,
          13.0,
          46.0,
          9.75,
          35.0,
          46.0,
          18.0,
          34.75,
          14.07,
          49.17,
          9.5,
          10.75,
          21.75,
          21.24,
          43.25,
          40.5,
          10.08,
          47.25,
          36.5,
          24.0,
          46.5,
          51.5,
          12.75,
          5.75,
          37.25,
          32.25,
          10.5,
          11.83,
          10.0,
          17.5,
          14.75,
          40.75,
          44.25,
          45.0,
          33.0,
          5.5,
          6.0,
          9.5,
          5.25,
          43.22,
          25.25,
          44.0,
          26.0,
          32.0,
          37.75,
          6.25,
          30.5,
          45.25,
          30.5,
          17.0,
          50.25,
          9.0,
          10.0,
          7.25,
          28.5,
          10.5,
          9.0,
          9.5,
          6.0,
          7.0,
          21.5,
          49.0,
          28.75,
          9.75,
          41.75,
          12.25,
          43.5,
          9.35,
          10.0,
          28.0,
          6.25,
          5.75,
          44.75,
          5.25,
          9.0,
          47.0,
          29.5,
          30.25,
          47.75,
          25.0,
          9.0,
          23.75,
          14.68,
          6.25,
          19.0,
          4.5,
          45.75,
          5.0,
          44.75,
          8.0,
          16.75,
          9.0,
          6.25,
          48.25,
          21.25,
          43.0,
          42.25,
          44.75,
          9.0,
          5.75,
          34.25,
          4.75,
          29.75,
          22.25,
          30.75,
          11.25,
          71.0,
          27.25,
          21.5
         ],
         "type": "scatter3d"
        },
        {
         "colorscale": [
          [
           0,
           "#89CFF0"
          ],
          [
           1,
           "#FFDB58"
          ]
         ],
         "x": [
          0.6127092000573084,
          11.48732710943137,
          27.35440232978338
         ],
         "y": [
          2.0,
          41.083333333333336,
          84.16666666666667
         ],
         "z": [
          [
           5.361272560954093,
           33.109781100153924,
           71.58083476126194
          ],
          [
           5.361272560954093,
           33.109781100153924,
           71.58083476126194
          ],
          [
           5.361272560954093,
           33.109781100153924,
           71.58083476126194
          ]
         ],
         "type": "surface",
         "scene": "scene"
        },
        {
         "hovertemplate": "x=%{x}<br>y=%{y}<extra></extra>",
         "legendgroup": "",
         "line": {
          "color": "#ff0000",
          "dash": "solid",
          "width": 3
         },
         "marker": {
          "symbol": "circle"
         },
         "mode": "lines",
         "name": "",
         "orientation": "v",
         "showlegend": false,
         "x": [
          0,
          1,
          2,
          3,
          4,
          5,
          6,
          7,
          8,
          9,
          10,
          11,
          12,
          13,
          14,
          15,
          16,
          17,
          18,
          19
         ],
         "xaxis": "x",
         "y": [
          11.145487785339355,
          9.197429656982422,
          7.370047569274902,
          5.7238311767578125,
          4.485535144805908,
          3.8370182514190674,
          3.616840124130249,
          3.5420455932617188,
          3.50937819480896,
          3.493436574935913,
          3.485276937484741,
          3.481386423110962,
          3.479520082473755,
          3.4790189266204834,
          3.4778807163238525,
          3.4785780906677246,
          3.4783732891082764,
          3.477937698364258,
          3.4781148433685303,
          3.4782373905181885
         ],
         "yaxis": "y",
         "type": "scatter"
        }
       ],
       "layout": {
        "template": {
         "data": {
          "histogram2dcontour": [
           {
            "type": "histogram2dcontour",
            "colorbar": {
             "outlinewidth": 0,
             "ticks": ""
            },
            "colorscale": [
             [
              0.0,
              "#0d0887"
             ],
             [
              0.1111111111111111,
              "#46039f"
             ],
             [
              0.2222222222222222,
              "#7201a8"
             ],
             [
              0.3333333333333333,
              "#9c179e"
             ],
             [
              0.4444444444444444,
              "#bd3786"
             ],
             [
              0.5555555555555556,
              "#d8576b"
             ],
             [
              0.6666666666666666,
              "#ed7953"
             ],
             [
              0.7777777777777778,
              "#fb9f3a"
             ],
             [
              0.8888888888888888,
              "#fdca26"
             ],
             [
              1.0,
              "#f0f921"
             ]
            ]
           }
          ],
          "choropleth": [
           {
            "type": "choropleth",
            "colorbar": {
             "outlinewidth": 0,
             "ticks": ""
            }
           }
          ],
          "histogram2d": [
           {
            "type": "histogram2d",
            "colorbar": {
             "outlinewidth": 0,
             "ticks": ""
            },
            "colorscale": [
             [
              0.0,
              "#0d0887"
             ],
             [
              0.1111111111111111,
              "#46039f"
             ],
             [
              0.2222222222222222,
              "#7201a8"
             ],
             [
              0.3333333333333333,
              "#9c179e"
             ],
             [
              0.4444444444444444,
              "#bd3786"
             ],
             [
              0.5555555555555556,
              "#d8576b"
             ],
             [
              0.6666666666666666,
              "#ed7953"
             ],
             [
              0.7777777777777778,
              "#fb9f3a"
             ],
             [
              0.8888888888888888,
              "#fdca26"
             ],
             [
              1.0,
              "#f0f921"
             ]
            ]
           }
          ],
          "heatmap": [
           {
            "type": "heatmap",
            "colorbar": {
             "outlinewidth": 0,
             "ticks": ""
            },
            "colorscale": [
             [
              0.0,
              "#0d0887"
             ],
             [
              0.1111111111111111,
              "#46039f"
             ],
             [
              0.2222222222222222,
              "#7201a8"
             ],
             [
              0.3333333333333333,
              "#9c179e"
             ],
             [
              0.4444444444444444,
              "#bd3786"
             ],
             [
              0.5555555555555556,
              "#d8576b"
             ],
             [
              0.6666666666666666,
              "#ed7953"
             ],
             [
              0.7777777777777778,
              "#fb9f3a"
             ],
             [
              0.8888888888888888,
              "#fdca26"
             ],
             [
              1.0,
              "#f0f921"
             ]
            ]
           }
          ],
          "heatmapgl": [
           {
            "type": "heatmapgl",
            "colorbar": {
             "outlinewidth": 0,
             "ticks": ""
            },
            "colorscale": [
             [
              0.0,
              "#0d0887"
             ],
             [
              0.1111111111111111,
              "#46039f"
             ],
             [
              0.2222222222222222,
              "#7201a8"
             ],
             [
              0.3333333333333333,
              "#9c179e"
             ],
             [
              0.4444444444444444,
              "#bd3786"
             ],
             [
              0.5555555555555556,
              "#d8576b"
             ],
             [
              0.6666666666666666,
              "#ed7953"
             ],
             [
              0.7777777777777778,
              "#fb9f3a"
             ],
             [
              0.8888888888888888,
              "#fdca26"
             ],
             [
              1.0,
              "#f0f921"
             ]
            ]
           }
          ],
          "contourcarpet": [
           {
            "type": "contourcarpet",
            "colorbar": {
             "outlinewidth": 0,
             "ticks": ""
            }
           }
          ],
          "contour": [
           {
            "type": "contour",
            "colorbar": {
             "outlinewidth": 0,
             "ticks": ""
            },
            "colorscale": [
             [
              0.0,
              "#0d0887"
             ],
             [
              0.1111111111111111,
              "#46039f"
             ],
             [
              0.2222222222222222,
              "#7201a8"
             ],
             [
              0.3333333333333333,
              "#9c179e"
             ],
             [
              0.4444444444444444,
              "#bd3786"
             ],
             [
              0.5555555555555556,
              "#d8576b"
             ],
             [
              0.6666666666666666,
              "#ed7953"
             ],
             [
              0.7777777777777778,
              "#fb9f3a"
             ],
             [
              0.8888888888888888,
              "#fdca26"
             ],
             [
              1.0,
              "#f0f921"
             ]
            ]
           }
          ],
          "surface": [
           {
            "type": "surface",
            "colorbar": {
             "outlinewidth": 0,
             "ticks": ""
            },
            "colorscale": [
             [
              0.0,
              "#0d0887"
             ],
             [
              0.1111111111111111,
              "#46039f"
             ],
             [
              0.2222222222222222,
              "#7201a8"
             ],
             [
              0.3333333333333333,
              "#9c179e"
             ],
             [
              0.4444444444444444,
              "#bd3786"
             ],
             [
              0.5555555555555556,
              "#d8576b"
             ],
             [
              0.6666666666666666,
              "#ed7953"
             ],
             [
              0.7777777777777778,
              "#fb9f3a"
             ],
             [
              0.8888888888888888,
              "#fdca26"
             ],
             [
              1.0,
              "#f0f921"
             ]
            ]
           }
          ],
          "mesh3d": [
           {
            "type": "mesh3d",
            "colorbar": {
             "outlinewidth": 0,
             "ticks": ""
            }
           }
          ],
          "scatter": [
           {
            "marker": {
             "line": {
              "color": "#283442"
             }
            },
            "type": "scatter"
           }
          ],
          "parcoords": [
           {
            "type": "parcoords",
            "line": {
             "colorbar": {
              "outlinewidth": 0,
              "ticks": ""
             }
            }
           }
          ],
          "scatterpolargl": [
           {
            "type": "scatterpolargl",
            "marker": {
             "colorbar": {
              "outlinewidth": 0,
              "ticks": ""
             }
            }
           }
          ],
          "bar": [
           {
            "error_x": {
             "color": "#f2f5fa"
            },
            "error_y": {
             "color": "#f2f5fa"
            },
            "marker": {
             "line": {
              "color": "rgb(17,17,17)",
              "width": 0.5
             },
             "pattern": {
              "fillmode": "overlay",
              "size": 10,
              "solidity": 0.2
             }
            },
            "type": "bar"
           }
          ],
          "scattergeo": [
           {
            "type": "scattergeo",
            "marker": {
             "colorbar": {
              "outlinewidth": 0,
              "ticks": ""
             }
            }
           }
          ],
          "scatterpolar": [
           {
            "type": "scatterpolar",
            "marker": {
             "colorbar": {
              "outlinewidth": 0,
              "ticks": ""
             }
            }
           }
          ],
          "histogram": [
           {
            "marker": {
             "pattern": {
              "fillmode": "overlay",
              "size": 10,
              "solidity": 0.2
             }
            },
            "type": "histogram"
           }
          ],
          "scattergl": [
           {
            "marker": {
             "line": {
              "color": "#283442"
             }
            },
            "type": "scattergl"
           }
          ],
          "scatter3d": [
           {
            "type": "scatter3d",
            "line": {
             "colorbar": {
              "outlinewidth": 0,
              "ticks": ""
             }
            },
            "marker": {
             "colorbar": {
              "outlinewidth": 0,
              "ticks": ""
             }
            }
           }
          ],
          "scattermapbox": [
           {
            "type": "scattermapbox",
            "marker": {
             "colorbar": {
              "outlinewidth": 0,
              "ticks": ""
             }
            }
           }
          ],
          "scatterternary": [
           {
            "type": "scatterternary",
            "marker": {
             "colorbar": {
              "outlinewidth": 0,
              "ticks": ""
             }
            }
           }
          ],
          "scattercarpet": [
           {
            "type": "scattercarpet",
            "marker": {
             "colorbar": {
              "outlinewidth": 0,
              "ticks": ""
             }
            }
           }
          ],
          "carpet": [
           {
            "aaxis": {
             "endlinecolor": "#A2B1C6",
             "gridcolor": "#506784",
             "linecolor": "#506784",
             "minorgridcolor": "#506784",
             "startlinecolor": "#A2B1C6"
            },
            "baxis": {
             "endlinecolor": "#A2B1C6",
             "gridcolor": "#506784",
             "linecolor": "#506784",
             "minorgridcolor": "#506784",
             "startlinecolor": "#A2B1C6"
            },
            "type": "carpet"
           }
          ],
          "table": [
           {
            "cells": {
             "fill": {
              "color": "#506784"
             },
             "line": {
              "color": "rgb(17,17,17)"
             }
            },
            "header": {
             "fill": {
              "color": "#2a3f5f"
             },
             "line": {
              "color": "rgb(17,17,17)"
             }
            },
            "type": "table"
           }
          ],
          "barpolar": [
           {
            "marker": {
             "line": {
              "color": "rgb(17,17,17)",
              "width": 0.5
             },
             "pattern": {
              "fillmode": "overlay",
              "size": 10,
              "solidity": 0.2
             }
            },
            "type": "barpolar"
           }
          ],
          "pie": [
           {
            "automargin": true,
            "type": "pie"
           }
          ]
         },
         "layout": {
          "autotypenumbers": "strict",
          "colorway": [
           "#636efa",
           "#EF553B",
           "#00cc96",
           "#ab63fa",
           "#FFA15A",
           "#19d3f3",
           "#FF6692",
           "#B6E880",
           "#FF97FF",
           "#FECB52"
          ],
          "font": {
           "color": "#f2f5fa"
          },
          "hovermode": "closest",
          "hoverlabel": {
           "align": "left"
          },
          "paper_bgcolor": "rgb(17,17,17)",
          "plot_bgcolor": "rgb(17,17,17)",
          "polar": {
           "bgcolor": "rgb(17,17,17)",
           "angularaxis": {
            "gridcolor": "#506784",
            "linecolor": "#506784",
            "ticks": ""
           },
           "radialaxis": {
            "gridcolor": "#506784",
            "linecolor": "#506784",
            "ticks": ""
           }
          },
          "ternary": {
           "bgcolor": "rgb(17,17,17)",
           "aaxis": {
            "gridcolor": "#506784",
            "linecolor": "#506784",
            "ticks": ""
           },
           "baxis": {
            "gridcolor": "#506784",
            "linecolor": "#506784",
            "ticks": ""
           },
           "caxis": {
            "gridcolor": "#506784",
            "linecolor": "#506784",
            "ticks": ""
           }
          },
          "coloraxis": {
           "colorbar": {
            "outlinewidth": 0,
            "ticks": ""
           }
          },
          "colorscale": {
           "sequential": [
            [
             0.0,
             "#0d0887"
            ],
            [
             0.1111111111111111,
             "#46039f"
            ],
            [
             0.2222222222222222,
             "#7201a8"
            ],
            [
             0.3333333333333333,
             "#9c179e"
            ],
            [
             0.4444444444444444,
             "#bd3786"
            ],
            [
             0.5555555555555556,
             "#d8576b"
            ],
            [
             0.6666666666666666,
             "#ed7953"
            ],
            [
             0.7777777777777778,
             "#fb9f3a"
            ],
            [
             0.8888888888888888,
             "#fdca26"
            ],
            [
             1.0,
             "#f0f921"
            ]
           ],
           "sequentialminus": [
            [
             0.0,
             "#0d0887"
            ],
            [
             0.1111111111111111,
             "#46039f"
            ],
            [
             0.2222222222222222,
             "#7201a8"
            ],
            [
             0.3333333333333333,
             "#9c179e"
            ],
            [
             0.4444444444444444,
             "#bd3786"
            ],
            [
             0.5555555555555556,
             "#d8576b"
            ],
            [
             0.6666666666666666,
             "#ed7953"
            ],
            [
             0.7777777777777778,
             "#fb9f3a"
            ],
            [
             0.8888888888888888,
             "#fdca26"
            ],
            [
             1.0,
             "#f0f921"
            ]
           ],
           "diverging": [
            [
             0,
             "#8e0152"
            ],
            [
             0.1,
             "#c51b7d"
            ],
            [
             0.2,
             "#de77ae"
            ],
            [
             0.3,
             "#f1b6da"
            ],
            [
             0.4,
             "#fde0ef"
            ],
            [
             0.5,
             "#f7f7f7"
            ],
            [
             0.6,
             "#e6f5d0"
            ],
            [
             0.7,
             "#b8e186"
            ],
            [
             0.8,
             "#7fbc41"
            ],
            [
             0.9,
             "#4d9221"
            ],
            [
             1,
             "#276419"
            ]
           ]
          },
          "xaxis": {
           "gridcolor": "#283442",
           "linecolor": "#506784",
           "ticks": "",
           "title": {
            "standoff": 15
           },
           "zerolinecolor": "#283442",
           "automargin": true,
           "zerolinewidth": 2
          },
          "yaxis": {
           "gridcolor": "#283442",
           "linecolor": "#506784",
           "ticks": "",
           "title": {
            "standoff": 15
           },
           "zerolinecolor": "#283442",
           "automargin": true,
           "zerolinewidth": 2
          },
          "scene": {
           "xaxis": {
            "backgroundcolor": "rgb(17,17,17)",
            "gridcolor": "#506784",
            "linecolor": "#506784",
            "showbackground": true,
            "ticks": "",
            "zerolinecolor": "#C8D4E3",
            "gridwidth": 2
           },
           "yaxis": {
            "backgroundcolor": "rgb(17,17,17)",
            "gridcolor": "#506784",
            "linecolor": "#506784",
            "showbackground": true,
            "ticks": "",
            "zerolinecolor": "#C8D4E3",
            "gridwidth": 2
           },
           "zaxis": {
            "backgroundcolor": "rgb(17,17,17)",
            "gridcolor": "#506784",
            "linecolor": "#506784",
            "showbackground": true,
            "ticks": "",
            "zerolinecolor": "#C8D4E3",
            "gridwidth": 2
           }
          },
          "shapedefaults": {
           "line": {
            "color": "#f2f5fa"
           }
          },
          "annotationdefaults": {
           "arrowcolor": "#f2f5fa",
           "arrowhead": 0,
           "arrowwidth": 1
          },
          "geo": {
           "bgcolor": "rgb(17,17,17)",
           "landcolor": "rgb(17,17,17)",
           "subunitcolor": "#506784",
           "showland": true,
           "showlakes": true,
           "lakecolor": "rgb(17,17,17)"
          },
          "title": {
           "x": 0.05
          },
          "updatemenudefaults": {
           "bgcolor": "#506784",
           "borderwidth": 0
          },
          "sliderdefaults": {
           "bgcolor": "#C8D4E3",
           "borderwidth": 1,
           "bordercolor": "rgb(17,17,17)",
           "tickwidth": 0
          },
          "mapbox": {
           "style": "dark"
          }
         }
        },
        "xaxis": {
         "anchor": "y",
         "domain": [
          0.0,
          0.45
         ],
         "title": {
          "text": "Epoch"
         }
        },
        "yaxis": {
         "anchor": "x",
         "domain": [
          0.0,
          1.0
         ],
         "title": {
          "text": "Root Mean Squared Error"
         },
         "range": [
          2.7823045730590823,
          11.145487785339355
         ]
        },
        "scene": {
         "domain": {
          "x": [
           0.55,
           1.0
          ],
          "y": [
           0.0,
           1.0
          ]
         },
         "xaxis": {
          "title": {
           "text": "TRIP_MILES"
          }
         },
         "yaxis": {
          "title": {
           "text": "TRIP_MINUTES"
          }
         },
         "zaxis": {
          "title": {
           "text": "FARE"
          }
         }
        },
        "annotations": [
         {
          "font": {
           "size": 16
          },
          "showarrow": false,
          "text": "Loss Curve",
          "x": 0.225,
          "xanchor": "center",
          "xref": "paper",
          "y": 1.0,
          "yanchor": "bottom",
          "yref": "paper"
         },
         {
          "font": {
           "size": 16
          },
          "showarrow": false,
          "text": "Model Plot",
          "x": 0.775,
          "xanchor": "center",
          "xref": "paper",
          "y": 1.0,
          "yanchor": "bottom",
          "yref": "paper"
         }
        ]
       },
       "config": {
        "plotlyServerURL": "https://plot.ly"
       }
      },
      "text/html": [
       "<div>                            <div id=\"3816c137-a6d1-4d16-8079-eff67d7cbd11\" class=\"plotly-graph-div\" style=\"height:525px; width:100%;\"></div>            <script type=\"text/javascript\">                require([\"plotly\"], function(Plotly) {                    window.PLOTLYENV=window.PLOTLYENV || {};                                    if (document.getElementById(\"3816c137-a6d1-4d16-8079-eff67d7cbd11\")) {                    Plotly.newPlot(                        \"3816c137-a6d1-4d16-8079-eff67d7cbd11\",                        [{\"hovertemplate\":\"TRIP_MILES=%{x}\\u003cbr\\u003eTRIP_MINUTES=%{y}\\u003cbr\\u003eFARE=%{z}\\u003cextra\\u003e\\u003c\\u002fextra\\u003e\",\"legendgroup\":\"\",\"marker\":{\"color\":\"#636efa\",\"symbol\":\"circle\"},\"mode\":\"markers\",\"name\":\"\",\"scene\":\"scene\",\"showlegend\":false,\"x\":[16.37,17.6,1.76,1.0,18.03,17.67,1.59,5.33,1.5,7.54,1.8,0.9,14.7,16.66,1.24,13.0,1.71,18.84,1.1,6.06,5.17,3.11,2.9,3.86,10.61,1.4,2.4,2.0,2.04,10.47,2.6,1.4,18.98,0.57,1.8,11.32,18.11,8.09,0.82,1.72,3.5,9.48,1.74,11.2,0.5,15.14,9.2,4.1,15.43,10.83,17.44,17.33,21.38,12.88,1.22,12.6,4.3,5.22,12.0,25.37,3.73,1.55,1.34,12.96,0.6,13.9,2.29,6.02,1.1,17.37,0.85,16.9,17.81,1.1,9.55,17.78,1.9,1.86,14.39,12.09,11.8,13.91,1.63,1.54,1.97,6.4,12.04,1.52,0.7,17.9,1.6,14.72,3.17,18.8,2.48,13.71,17.93,5.68,12.13,3.95,18.12,2.6,3.02,7.76,7.59,17.33,15.92,2.04,18.7,13.49,8.7,18.3,21.3,3.46,0.91,14.7,12.2,2.55,3.39,2.3,4.43,4.9,15.9,17.69,17.7,12.74,0.56,1.02,2.21,0.74,15.59,9.11,17.8,10.1,10.8,15.3,1.05,11.57,17.5,11.97,6.1,19.5,1.29,1.93,1.28,10.8,3.2,1.25,2.0,0.8,1.4,5.04,17.5,9.55,2.09,16.9,2.65,17.5,2.04,1.71,9.0,0.6,1.1,17.5,0.69,2.3,18.64,10.94,10.8,18.93,6.09,2.13,6.69,3.3,0.9,6.82,0.7,18.6,0.6,17.63,1.58,5.3,2.05,1.5,19.69,6.3,17.46,17.2,18.15,1.04,0.8,13.1,0.57,10.7,7.6,11.17,3.4,30.0,9.73,7.79],\"y\":[25.883333333333333,22.0,13.816666666666666,5.0,42.11666666666667,50.81666666666667,9.55,11.15,8.0,20.666666666666668,12.0,5.0,36.0,32.8,11.6,22.0,6.383333333333334,38.833333333333336,6.0,13.75,14.183333333333334,11.316666666666666,10.0,24.716666666666665,23.516666666666666,7.0,9.0,11.0,7.8,38.86666666666667,14.0,8.133333333333333,38.833333333333336,3.2333333333333334,8.0,23.333333333333332,37.88333333333333,20.25,4.966666666666667,9.666666666666666,17.0,28.366666666666667,7.0,22.966666666666665,4.0,48.55,20.366666666666667,13.916666666666666,49.2,35.28333333333333,39.31666666666667,35.9,84.16666666666667,20.0,7.6,46.0,15.0,19.466666666666665,24.0,36.11666666666667,15.283333333333333,11.4,6.533333333333333,25.083333333333332,4.0,42.0,10.516666666666667,19.4,7.0,65.36666666666666,6.583333333333333,37.0,37.43333333333333,7.0,33.21666666666667,54.03333333333333,16.0,22.483333333333334,33.18333333333333,28.433333333333334,13.633333333333333,17.2,10.016666666666667,7.966666666666667,13.216666666666667,51.666666666666664,20.383333333333333,10.05,6.0,44.0,9.233333333333333,22.533333333333335,19.816666666666666,41.0,10.966666666666667,21.633333333333333,56.28333333333333,23.533333333333335,45.15,17.083333333333332,21.566666666666666,6.0,9.5,17.333333333333332,13.183333333333334,34.666666666666664,37.71666666666667,12.283333333333333,32.0,33.7,19.0,57.0,30.0,15.766666666666667,4.433333333333334,35.63333333333333,26.0,12.033333333333333,10.283333333333333,13.0,29.35,9.0,52.0,33.4,56.0,23.8,5.233333333333333,5.8,10.133333333333333,4.383333333333334,26.283333333333335,20.716666666666665,35.0,12.666666666666666,39.983333333333334,23.0,5.666666666666667,26.416666666666668,39.0,20.316666666666666,14.0,41.0,5.5,17.433333333333334,8.766666666666667,22.0,7.0,7.666666666666667,13.0,7.0,7.016666666666667,40.35,68.38333333333334,30.45,12.533333333333333,38.0,14.4,33.0,19.366666666666667,13.85,41.0,5.0,5.0,55.5,4.333333333333333,7.0,33.05,25.816666666666666,37.0,59.583333333333336,46.083333333333336,13.083333333333334,36.43333333333333,14.083333333333334,5.0,14.266666666666667,2.0,38.083333333333336,4.0,53.18333333333333,8.416666666666666,17.733333333333334,15.783333333333333,7.0,33.0,27.0,29.966666666666665,26.716666666666665,35.483333333333334,6.466666666666667,5.6,25.0,2.6,32.0,20.0,29.433333333333334,8.0,47.0,24.733333333333334,13.433333333333334],\"z\":[41.25,43.25,9.5,6.0,45.0,45.0,8.0,15.75,7.5,21.5,9.0,6.0,38.0,41.75,8.0,33.25,7.5,46.75,6.5,17.5,16.25,11.33,10.25,14.7,27.13,7.25,9.5,8.5,8.25,30.0,11.0,7.5,47.25,4.75,8.0,29.5,45.25,22.75,5.75,9.0,12.75,26.5,7.75,30.0,4.75,40.25,26.0,13.25,42.0,31.25,44.0,43.5,56.25,32.75,6.75,34.25,14.5,16.75,31.75,61.75,13.28,9.0,7.0,33.5,4.75,36.5,9.75,18.75,6.25,45.25,6.25,42.25,45.0,6.75,30.0,45.75,10.25,11.75,37.75,33.0,30.0,34.75,8.25,7.5,9.5,28.25,30.75,8.25,5.75,44.5,8.0,37.75,13.0,46.0,9.75,35.0,46.0,18.0,34.75,14.07,49.17,9.5,10.75,21.75,21.24,43.25,40.5,10.08,47.25,36.5,24.0,46.5,51.5,12.75,5.75,37.25,32.25,10.5,11.83,10.0,17.5,14.75,40.75,44.25,45.0,33.0,5.5,6.0,9.5,5.25,43.22,25.25,44.0,26.0,32.0,37.75,6.25,30.5,45.25,30.5,17.0,50.25,9.0,10.0,7.25,28.5,10.5,9.0,9.5,6.0,7.0,21.5,49.0,28.75,9.75,41.75,12.25,43.5,9.35,10.0,28.0,6.25,5.75,44.75,5.25,9.0,47.0,29.5,30.25,47.75,25.0,9.0,23.75,14.68,6.25,19.0,4.5,45.75,5.0,44.75,8.0,16.75,9.0,6.25,48.25,21.25,43.0,42.25,44.75,9.0,5.75,34.25,4.75,29.75,22.25,30.75,11.25,71.0,27.25,21.5],\"type\":\"scatter3d\"},{\"colorscale\":[[0,\"#89CFF0\"],[1,\"#FFDB58\"]],\"x\":[0.6127092000573084,11.48732710943137,27.35440232978338],\"y\":[2.0,41.083333333333336,84.16666666666667],\"z\":[[5.361272560954093,33.109781100153924,71.58083476126194],[5.361272560954093,33.109781100153924,71.58083476126194],[5.361272560954093,33.109781100153924,71.58083476126194]],\"type\":\"surface\",\"scene\":\"scene\"},{\"hovertemplate\":\"x=%{x}\\u003cbr\\u003ey=%{y}\\u003cextra\\u003e\\u003c\\u002fextra\\u003e\",\"legendgroup\":\"\",\"line\":{\"color\":\"#ff0000\",\"dash\":\"solid\",\"width\":3},\"marker\":{\"symbol\":\"circle\"},\"mode\":\"lines\",\"name\":\"\",\"orientation\":\"v\",\"showlegend\":false,\"x\":[0,1,2,3,4,5,6,7,8,9,10,11,12,13,14,15,16,17,18,19],\"xaxis\":\"x\",\"y\":[11.145487785339355,9.197429656982422,7.370047569274902,5.7238311767578125,4.485535144805908,3.8370182514190674,3.616840124130249,3.5420455932617188,3.50937819480896,3.493436574935913,3.485276937484741,3.481386423110962,3.479520082473755,3.4790189266204834,3.4778807163238525,3.4785780906677246,3.4783732891082764,3.477937698364258,3.4781148433685303,3.4782373905181885],\"yaxis\":\"y\",\"type\":\"scatter\"}],                        {\"template\":{\"data\":{\"histogram2dcontour\":[{\"type\":\"histogram2dcontour\",\"colorbar\":{\"outlinewidth\":0,\"ticks\":\"\"},\"colorscale\":[[0.0,\"#0d0887\"],[0.1111111111111111,\"#46039f\"],[0.2222222222222222,\"#7201a8\"],[0.3333333333333333,\"#9c179e\"],[0.4444444444444444,\"#bd3786\"],[0.5555555555555556,\"#d8576b\"],[0.6666666666666666,\"#ed7953\"],[0.7777777777777778,\"#fb9f3a\"],[0.8888888888888888,\"#fdca26\"],[1.0,\"#f0f921\"]]}],\"choropleth\":[{\"type\":\"choropleth\",\"colorbar\":{\"outlinewidth\":0,\"ticks\":\"\"}}],\"histogram2d\":[{\"type\":\"histogram2d\",\"colorbar\":{\"outlinewidth\":0,\"ticks\":\"\"},\"colorscale\":[[0.0,\"#0d0887\"],[0.1111111111111111,\"#46039f\"],[0.2222222222222222,\"#7201a8\"],[0.3333333333333333,\"#9c179e\"],[0.4444444444444444,\"#bd3786\"],[0.5555555555555556,\"#d8576b\"],[0.6666666666666666,\"#ed7953\"],[0.7777777777777778,\"#fb9f3a\"],[0.8888888888888888,\"#fdca26\"],[1.0,\"#f0f921\"]]}],\"heatmap\":[{\"type\":\"heatmap\",\"colorbar\":{\"outlinewidth\":0,\"ticks\":\"\"},\"colorscale\":[[0.0,\"#0d0887\"],[0.1111111111111111,\"#46039f\"],[0.2222222222222222,\"#7201a8\"],[0.3333333333333333,\"#9c179e\"],[0.4444444444444444,\"#bd3786\"],[0.5555555555555556,\"#d8576b\"],[0.6666666666666666,\"#ed7953\"],[0.7777777777777778,\"#fb9f3a\"],[0.8888888888888888,\"#fdca26\"],[1.0,\"#f0f921\"]]}],\"heatmapgl\":[{\"type\":\"heatmapgl\",\"colorbar\":{\"outlinewidth\":0,\"ticks\":\"\"},\"colorscale\":[[0.0,\"#0d0887\"],[0.1111111111111111,\"#46039f\"],[0.2222222222222222,\"#7201a8\"],[0.3333333333333333,\"#9c179e\"],[0.4444444444444444,\"#bd3786\"],[0.5555555555555556,\"#d8576b\"],[0.6666666666666666,\"#ed7953\"],[0.7777777777777778,\"#fb9f3a\"],[0.8888888888888888,\"#fdca26\"],[1.0,\"#f0f921\"]]}],\"contourcarpet\":[{\"type\":\"contourcarpet\",\"colorbar\":{\"outlinewidth\":0,\"ticks\":\"\"}}],\"contour\":[{\"type\":\"contour\",\"colorbar\":{\"outlinewidth\":0,\"ticks\":\"\"},\"colorscale\":[[0.0,\"#0d0887\"],[0.1111111111111111,\"#46039f\"],[0.2222222222222222,\"#7201a8\"],[0.3333333333333333,\"#9c179e\"],[0.4444444444444444,\"#bd3786\"],[0.5555555555555556,\"#d8576b\"],[0.6666666666666666,\"#ed7953\"],[0.7777777777777778,\"#fb9f3a\"],[0.8888888888888888,\"#fdca26\"],[1.0,\"#f0f921\"]]}],\"surface\":[{\"type\":\"surface\",\"colorbar\":{\"outlinewidth\":0,\"ticks\":\"\"},\"colorscale\":[[0.0,\"#0d0887\"],[0.1111111111111111,\"#46039f\"],[0.2222222222222222,\"#7201a8\"],[0.3333333333333333,\"#9c179e\"],[0.4444444444444444,\"#bd3786\"],[0.5555555555555556,\"#d8576b\"],[0.6666666666666666,\"#ed7953\"],[0.7777777777777778,\"#fb9f3a\"],[0.8888888888888888,\"#fdca26\"],[1.0,\"#f0f921\"]]}],\"mesh3d\":[{\"type\":\"mesh3d\",\"colorbar\":{\"outlinewidth\":0,\"ticks\":\"\"}}],\"scatter\":[{\"marker\":{\"line\":{\"color\":\"#283442\"}},\"type\":\"scatter\"}],\"parcoords\":[{\"type\":\"parcoords\",\"line\":{\"colorbar\":{\"outlinewidth\":0,\"ticks\":\"\"}}}],\"scatterpolargl\":[{\"type\":\"scatterpolargl\",\"marker\":{\"colorbar\":{\"outlinewidth\":0,\"ticks\":\"\"}}}],\"bar\":[{\"error_x\":{\"color\":\"#f2f5fa\"},\"error_y\":{\"color\":\"#f2f5fa\"},\"marker\":{\"line\":{\"color\":\"rgb(17,17,17)\",\"width\":0.5},\"pattern\":{\"fillmode\":\"overlay\",\"size\":10,\"solidity\":0.2}},\"type\":\"bar\"}],\"scattergeo\":[{\"type\":\"scattergeo\",\"marker\":{\"colorbar\":{\"outlinewidth\":0,\"ticks\":\"\"}}}],\"scatterpolar\":[{\"type\":\"scatterpolar\",\"marker\":{\"colorbar\":{\"outlinewidth\":0,\"ticks\":\"\"}}}],\"histogram\":[{\"marker\":{\"pattern\":{\"fillmode\":\"overlay\",\"size\":10,\"solidity\":0.2}},\"type\":\"histogram\"}],\"scattergl\":[{\"marker\":{\"line\":{\"color\":\"#283442\"}},\"type\":\"scattergl\"}],\"scatter3d\":[{\"type\":\"scatter3d\",\"line\":{\"colorbar\":{\"outlinewidth\":0,\"ticks\":\"\"}},\"marker\":{\"colorbar\":{\"outlinewidth\":0,\"ticks\":\"\"}}}],\"scattermapbox\":[{\"type\":\"scattermapbox\",\"marker\":{\"colorbar\":{\"outlinewidth\":0,\"ticks\":\"\"}}}],\"scatterternary\":[{\"type\":\"scatterternary\",\"marker\":{\"colorbar\":{\"outlinewidth\":0,\"ticks\":\"\"}}}],\"scattercarpet\":[{\"type\":\"scattercarpet\",\"marker\":{\"colorbar\":{\"outlinewidth\":0,\"ticks\":\"\"}}}],\"carpet\":[{\"aaxis\":{\"endlinecolor\":\"#A2B1C6\",\"gridcolor\":\"#506784\",\"linecolor\":\"#506784\",\"minorgridcolor\":\"#506784\",\"startlinecolor\":\"#A2B1C6\"},\"baxis\":{\"endlinecolor\":\"#A2B1C6\",\"gridcolor\":\"#506784\",\"linecolor\":\"#506784\",\"minorgridcolor\":\"#506784\",\"startlinecolor\":\"#A2B1C6\"},\"type\":\"carpet\"}],\"table\":[{\"cells\":{\"fill\":{\"color\":\"#506784\"},\"line\":{\"color\":\"rgb(17,17,17)\"}},\"header\":{\"fill\":{\"color\":\"#2a3f5f\"},\"line\":{\"color\":\"rgb(17,17,17)\"}},\"type\":\"table\"}],\"barpolar\":[{\"marker\":{\"line\":{\"color\":\"rgb(17,17,17)\",\"width\":0.5},\"pattern\":{\"fillmode\":\"overlay\",\"size\":10,\"solidity\":0.2}},\"type\":\"barpolar\"}],\"pie\":[{\"automargin\":true,\"type\":\"pie\"}]},\"layout\":{\"autotypenumbers\":\"strict\",\"colorway\":[\"#636efa\",\"#EF553B\",\"#00cc96\",\"#ab63fa\",\"#FFA15A\",\"#19d3f3\",\"#FF6692\",\"#B6E880\",\"#FF97FF\",\"#FECB52\"],\"font\":{\"color\":\"#f2f5fa\"},\"hovermode\":\"closest\",\"hoverlabel\":{\"align\":\"left\"},\"paper_bgcolor\":\"rgb(17,17,17)\",\"plot_bgcolor\":\"rgb(17,17,17)\",\"polar\":{\"bgcolor\":\"rgb(17,17,17)\",\"angularaxis\":{\"gridcolor\":\"#506784\",\"linecolor\":\"#506784\",\"ticks\":\"\"},\"radialaxis\":{\"gridcolor\":\"#506784\",\"linecolor\":\"#506784\",\"ticks\":\"\"}},\"ternary\":{\"bgcolor\":\"rgb(17,17,17)\",\"aaxis\":{\"gridcolor\":\"#506784\",\"linecolor\":\"#506784\",\"ticks\":\"\"},\"baxis\":{\"gridcolor\":\"#506784\",\"linecolor\":\"#506784\",\"ticks\":\"\"},\"caxis\":{\"gridcolor\":\"#506784\",\"linecolor\":\"#506784\",\"ticks\":\"\"}},\"coloraxis\":{\"colorbar\":{\"outlinewidth\":0,\"ticks\":\"\"}},\"colorscale\":{\"sequential\":[[0.0,\"#0d0887\"],[0.1111111111111111,\"#46039f\"],[0.2222222222222222,\"#7201a8\"],[0.3333333333333333,\"#9c179e\"],[0.4444444444444444,\"#bd3786\"],[0.5555555555555556,\"#d8576b\"],[0.6666666666666666,\"#ed7953\"],[0.7777777777777778,\"#fb9f3a\"],[0.8888888888888888,\"#fdca26\"],[1.0,\"#f0f921\"]],\"sequentialminus\":[[0.0,\"#0d0887\"],[0.1111111111111111,\"#46039f\"],[0.2222222222222222,\"#7201a8\"],[0.3333333333333333,\"#9c179e\"],[0.4444444444444444,\"#bd3786\"],[0.5555555555555556,\"#d8576b\"],[0.6666666666666666,\"#ed7953\"],[0.7777777777777778,\"#fb9f3a\"],[0.8888888888888888,\"#fdca26\"],[1.0,\"#f0f921\"]],\"diverging\":[[0,\"#8e0152\"],[0.1,\"#c51b7d\"],[0.2,\"#de77ae\"],[0.3,\"#f1b6da\"],[0.4,\"#fde0ef\"],[0.5,\"#f7f7f7\"],[0.6,\"#e6f5d0\"],[0.7,\"#b8e186\"],[0.8,\"#7fbc41\"],[0.9,\"#4d9221\"],[1,\"#276419\"]]},\"xaxis\":{\"gridcolor\":\"#283442\",\"linecolor\":\"#506784\",\"ticks\":\"\",\"title\":{\"standoff\":15},\"zerolinecolor\":\"#283442\",\"automargin\":true,\"zerolinewidth\":2},\"yaxis\":{\"gridcolor\":\"#283442\",\"linecolor\":\"#506784\",\"ticks\":\"\",\"title\":{\"standoff\":15},\"zerolinecolor\":\"#283442\",\"automargin\":true,\"zerolinewidth\":2},\"scene\":{\"xaxis\":{\"backgroundcolor\":\"rgb(17,17,17)\",\"gridcolor\":\"#506784\",\"linecolor\":\"#506784\",\"showbackground\":true,\"ticks\":\"\",\"zerolinecolor\":\"#C8D4E3\",\"gridwidth\":2},\"yaxis\":{\"backgroundcolor\":\"rgb(17,17,17)\",\"gridcolor\":\"#506784\",\"linecolor\":\"#506784\",\"showbackground\":true,\"ticks\":\"\",\"zerolinecolor\":\"#C8D4E3\",\"gridwidth\":2},\"zaxis\":{\"backgroundcolor\":\"rgb(17,17,17)\",\"gridcolor\":\"#506784\",\"linecolor\":\"#506784\",\"showbackground\":true,\"ticks\":\"\",\"zerolinecolor\":\"#C8D4E3\",\"gridwidth\":2}},\"shapedefaults\":{\"line\":{\"color\":\"#f2f5fa\"}},\"annotationdefaults\":{\"arrowcolor\":\"#f2f5fa\",\"arrowhead\":0,\"arrowwidth\":1},\"geo\":{\"bgcolor\":\"rgb(17,17,17)\",\"landcolor\":\"rgb(17,17,17)\",\"subunitcolor\":\"#506784\",\"showland\":true,\"showlakes\":true,\"lakecolor\":\"rgb(17,17,17)\"},\"title\":{\"x\":0.05},\"updatemenudefaults\":{\"bgcolor\":\"#506784\",\"borderwidth\":0},\"sliderdefaults\":{\"bgcolor\":\"#C8D4E3\",\"borderwidth\":1,\"bordercolor\":\"rgb(17,17,17)\",\"tickwidth\":0},\"mapbox\":{\"style\":\"dark\"}}},\"xaxis\":{\"anchor\":\"y\",\"domain\":[0.0,0.45],\"title\":{\"text\":\"Epoch\"}},\"yaxis\":{\"anchor\":\"x\",\"domain\":[0.0,1.0],\"title\":{\"text\":\"Root Mean Squared Error\"},\"range\":[2.7823045730590823,11.145487785339355]},\"scene\":{\"domain\":{\"x\":[0.55,1.0],\"y\":[0.0,1.0]},\"xaxis\":{\"title\":{\"text\":\"TRIP_MILES\"}},\"yaxis\":{\"title\":{\"text\":\"TRIP_MINUTES\"}},\"zaxis\":{\"title\":{\"text\":\"FARE\"}}},\"annotations\":[{\"font\":{\"size\":16},\"showarrow\":false,\"text\":\"Loss Curve\",\"x\":0.225,\"xanchor\":\"center\",\"xref\":\"paper\",\"y\":1.0,\"yanchor\":\"bottom\",\"yref\":\"paper\"},{\"font\":{\"size\":16},\"showarrow\":false,\"text\":\"Model Plot\",\"x\":0.775,\"xanchor\":\"center\",\"xref\":\"paper\",\"y\":1.0,\"yanchor\":\"bottom\",\"yref\":\"paper\"}]},                        {\"responsive\": true}                    ).then(function(){\n",
       "                            \n",
       "var gd = document.getElementById('3816c137-a6d1-4d16-8079-eff67d7cbd11');\n",
       "var x = new MutationObserver(function (mutations, observer) {{\n",
       "        var display = window.getComputedStyle(gd).display;\n",
       "        if (!display || display === 'none') {{\n",
       "            console.log([gd, 'removed!']);\n",
       "            Plotly.purge(gd);\n",
       "            observer.disconnect();\n",
       "        }}\n",
       "}});\n",
       "\n",
       "// Listen for the removal of the full notebook cells\n",
       "var notebookContainer = gd.closest('#notebook-container');\n",
       "if (notebookContainer) {{\n",
       "    x.observe(notebookContainer, {childList: true});\n",
       "}}\n",
       "\n",
       "// Listen for the clearing of the current output cell\n",
       "var outputEl = gd.closest('.output');\n",
       "if (outputEl) {{\n",
       "    x.observe(outputEl, {childList: true});\n",
       "}}\n",
       "\n",
       "                        })                };                });            </script>        </div>"
      ]
     },
     "metadata": {},
     "output_type": "display_data"
    }
   ],
   "execution_count": 76
  },
  {
   "cell_type": "code",
   "metadata": {
    "cellView": "form",
    "id": "uFkKK5t33xSX",
    "ExecuteTime": {
     "end_time": "2024-12-02T00:46:07.907872Z",
     "start_time": "2024-12-02T00:46:07.899425Z"
    }
   },
   "source": [
    "#@title Double-click to view answers for training with two features\n",
    "\n",
    "# Does the model with two features produce better results than one using a\n",
    "# single feature?\n",
    "# -----------------------------------------------------------------------------\n",
    "answer = '''\n",
    "To answer this question for your specific training runs, compare the RMSE for\n",
    "each model. For example, if the RMSE for the model trained with one feature was\n",
    "3.7457 and the RMSE for the model with two features is 3.4787, that means that\n",
    "on average the model with two features makes predictions that are about $0.27\n",
    "closer to the observed fare.\n",
    "\n",
    "'''\n",
    "print(answer)\n",
    "\n",
    "# Does it make a difference if you use TRIP_SECONDS instead of TRIP_MILES?\n",
    "# -----------------------------------------------------------------------------\n",
    "answer = '''\n",
    "When training a model with more than one feature, it is important that all\n",
    "numeric values are roughly on the same scale. In this case, TRIP_SECONDS and\n",
    "TRIP_MILES do not meet this criteria. The mean value for TRIP_MILES is 8.3 and\n",
    "the mean for TRIP_SECONDS is 1320; that is two orders of magnitude difference.\n",
    "Converting the trip duration to minutes helps during training because in puts\n",
    "values for both features on a more comparable scale. Of course, this is not the\n",
    "only way to scale values before training, but you will learn about that in\n",
    "another module.\n",
    "\n",
    "'''\n",
    "print(answer)\n",
    "\n",
    "# How well do you think the model comes to the ground truth fare calculation for\n",
    "# Chicago taxi trips?\n",
    "# -----------------------------------------------------------------------------\n",
    "answer = '''\n",
    "In reality, Chicago taxi cabs use a documented formula to determine cab fares.\n",
    "For a single passenger paying cash, the fare is calculated like this:\n",
    "\n",
    "FARE = 2.25 * TRIP_MILES + 0.12 * TRIP_MINUTES + 3.25\n",
    "\n",
    "Typically with machine learning problems you would not know the 'correct'\n",
    "formula, but in this case you can this knowledge to evaluate your model. Take a\n",
    "look at your model output (the weights and bias) and determine how well it\n",
    "matches the ground truth fare calculation. You should find that the model is\n",
    "roughly close to this formula.\n",
    "'''\n",
    "print(answer)"
   ],
   "outputs": [
    {
     "name": "stdout",
     "output_type": "stream",
     "text": [
      "\n",
      "To answer this question for your specific training runs, compare the RMSE for\n",
      "each model. For example, if the RMSE for the model trained with one feature was\n",
      "3.7457 and the RMSE for the model with two features is 3.4787, that means that\n",
      "on average the model with two features makes predictions that are about $0.27\n",
      "closer to the observed fare.\n",
      "\n",
      "\n",
      "\n",
      "When training a model with more than one feature, it is important that all\n",
      "numeric values are roughly on the same scale. In this case, TRIP_SECONDS and\n",
      "TRIP_MILES do not meet this criteria. The mean value for TRIP_MILES is 8.3 and\n",
      "the mean for TRIP_SECONDS is 1320; that is two orders of magnitude difference.\n",
      "Converting the trip duration to minutes helps during training because in puts\n",
      "values for both features on a more comparable scale. Of course, this is not the\n",
      "only way to scale values before training, but you will learn about that in\n",
      "another module.\n",
      "\n",
      "\n",
      "\n",
      "In reality, Chicago taxi cabs use a documented formula to determine cab fares.\n",
      "For a single passenger paying cash, the fare is calculated like this:\n",
      "\n",
      "FARE = 2.25 * TRIP_MILES + 0.12 * TRIP_MINUTES + 3.25\n",
      "\n",
      "Typically with machine learning problems you would not know the 'correct'\n",
      "formula, but in this case you can this knowledge to evaluate your model. Take a\n",
      "look at your model output (the weights and bias) and determine how well it\n",
      "matches the ground truth fare calculation. You should find that the model is\n",
      "roughly close to this formula.\n",
      "\n"
     ]
    }
   ],
   "execution_count": 77
  },
  {
   "cell_type": "markdown",
   "metadata": {
    "id": "MzMfgxldSMGK"
   },
   "source": [
    "# Part 4 - Validate Model\n",
    "\n",
    "\n",
    "---\n",
    "\n"
   ]
  },
  {
   "cell_type": "markdown",
   "metadata": {
    "id": "_yW7nVxlO1WY"
   },
   "source": [
    "## Use the model to make predictions\n",
    "\n",
    "Now that you have a trained model, you can use the model to make predictions. In practice, you should make predictions on examples that are not used during training. However, for this exercise, you'll just work with a subset of the same training dataset. In another Colab exercise you will explore ways to make predictions on examples not used in training.\n",
    "\n",
    "**Instructions**\n",
    "\n",
    "1. Run the **Define functions to make predictions** code cell.\n",
    "1. Run the **Make predictions** code cell.\n",
    "1. Review the predictions in the output.\n",
    "1. **Check your understanding** by answering these questions:\n",
    "  * How close is the predicted value to the label value? In other words, does your model accurately predict the fare for a taxi ride?"
   ]
  },
  {
   "cell_type": "code",
   "metadata": {
    "cellView": "form",
    "id": "XdNxv3j8PGnr",
    "ExecuteTime": {
     "end_time": "2024-12-02T00:46:07.945792Z",
     "start_time": "2024-12-02T00:46:07.937706Z"
    }
   },
   "source": [
    "#@title Code - Define functions to make predictions\n",
    "def format_currency(x):\n",
    "  return \"${:.2f}\".format(x)\n",
    "\n",
    "def build_batch(df, batch_size):\n",
    "  batch = df.sample(n=batch_size).copy()\n",
    "  batch.set_index(np.arange(batch_size), inplace=True)\n",
    "  return batch\n",
    "\n",
    "def predict_fare(model, df, features, label, batch_size=50):\n",
    "  batch = build_batch(df, batch_size)\n",
    "  predicted_values = model.predict_on_batch(x=batch.loc[:, features].values)\n",
    "\n",
    "  data = {\"PREDICTED_FARE\": [], \"OBSERVED_FARE\": [], \"L1_LOSS\": [],\n",
    "          features[0]: [], features[1]: []}\n",
    "  for i in range(batch_size):\n",
    "    predicted = predicted_values[i][0]\n",
    "    observed = batch.at[i, label]\n",
    "    data[\"PREDICTED_FARE\"].append(format_currency(predicted))\n",
    "    data[\"OBSERVED_FARE\"].append(format_currency(observed))\n",
    "    data[\"L1_LOSS\"].append(format_currency(abs(observed - predicted)))\n",
    "    data[features[0]].append(batch.at[i, features[0]])\n",
    "    data[features[1]].append(\"{:.2f}\".format(batch.at[i, features[1]]))\n",
    "\n",
    "  output_df = pd.DataFrame(data)\n",
    "  return output_df\n",
    "\n",
    "def show_predictions(output):\n",
    "  header = \"-\" * 80\n",
    "  banner = header + \"\\n\" + \"|\" + \"PREDICTIONS\".center(78) + \"|\" + \"\\n\" + header\n",
    "  print(banner)\n",
    "  print(output)\n",
    "  return"
   ],
   "outputs": [],
   "execution_count": 78
  },
  {
   "cell_type": "code",
   "metadata": {
    "cellView": "form",
    "id": "PK3oO2kYV8m0",
    "ExecuteTime": {
     "end_time": "2024-12-02T00:46:08.018545Z",
     "start_time": "2024-12-02T00:46:07.987856Z"
    }
   },
   "source": [
    "#@title Code - Make predictions\n",
    "\n",
    "output = predict_fare(model_2, training_df, features, label)\n",
    "show_predictions(output)"
   ],
   "outputs": [
    {
     "name": "stdout",
     "output_type": "stream",
     "text": [
      "--------------------------------------------------------------------------------\n",
      "|                                 PREDICTIONS                                  |\n",
      "--------------------------------------------------------------------------------\n",
      "   PREDICTED_FARE OBSERVED_FARE L1_LOSS  TRIP_MILES TRIP_MINUTES\n",
      "0          $15.05        $15.25   $0.20        3.60        27.00\n",
      "1          $26.68        $27.25   $0.57        9.48        24.83\n",
      "2          $24.98        $24.25   $0.73        8.97        20.27\n",
      "3           $8.38         $7.50   $0.88        1.67         8.03\n",
      "4          $17.00        $19.75   $2.75        4.12        33.22\n",
      "5          $29.15        $30.50   $1.35       10.39        29.13\n",
      "6          $30.18        $29.50   $0.68       11.30        23.43\n",
      "7           $6.82         $6.50   $0.32        0.96         7.22\n",
      "8          $27.85        $28.64   $0.79       10.88        13.22\n",
      "9           $7.28         $7.00   $0.28        1.20         7.00\n",
      "10         $22.51        $22.25   $0.26        7.57        22.80\n",
      "11          $5.97         $5.25   $0.72        0.70         5.00\n",
      "12         $37.52        $37.25   $0.27       14.62        27.57\n",
      "13         $45.92        $44.50   $1.42       17.85        40.25\n",
      "14         $17.07        $17.50   $0.43        4.43        29.35\n",
      "15         $25.30        $25.50   $0.20        9.50        15.00\n",
      "16         $67.43        $66.75   $0.68       28.10        45.00\n",
      "17         $10.12         $9.25   $0.87        2.48         8.70\n",
      "18          $5.92         $5.25   $0.67        0.77         3.68\n",
      "19         $18.69        $21.50   $2.81        4.40        40.92\n",
      "20         $41.70        $40.25   $1.45       16.24        33.68\n",
      "21         $29.09        $30.50   $1.41       11.00        20.15\n",
      "22         $44.58        $45.25   $0.67       18.27        25.13\n",
      "23         $22.90        $24.00   $1.10        6.63        38.73\n",
      "24         $27.28        $27.75   $0.47        9.67        26.33\n",
      "25          $7.67         $7.00   $0.67        1.38         7.17\n",
      "26          $5.42         $6.00   $0.58        0.50         4.00\n",
      "27         $49.95        $46.50   $3.45       17.91        67.28\n",
      "28         $27.50        $27.50   $0.00        9.77        26.43\n",
      "29          $5.91         $5.75   $0.16        0.65         5.28\n",
      "30         $12.53         $9.00   $3.53        3.50        11.00\n",
      "31          $9.48         $9.00   $0.48        2.13         9.13\n",
      "32         $11.72         $9.50   $2.22        3.08        11.30\n",
      "33         $15.72        $14.75   $0.97        4.50        19.00\n",
      "34          $9.61         $9.50   $0.11        2.02        11.58\n",
      "35         $30.46        $30.75   $0.29       11.65        20.45\n",
      "36         $39.83        $38.75   $1.08       15.22        35.08\n",
      "37         $33.20        $50.00  $16.80       13.08        19.35\n",
      "38         $10.95        $10.97   $0.02        2.66        11.85\n",
      "39          $5.35         $4.50   $0.85        0.56         2.63\n",
      "40          $6.24         $9.00   $2.76        0.86         4.60\n",
      "41          $6.79         $6.00   $0.79        1.07         5.45\n",
      "42         $22.07        $21.75   $0.32        7.95        14.42\n",
      "43         $56.37        $53.25   $3.12       21.34        63.52\n",
      "44         $10.53         $9.30   $1.23        2.24        14.88\n",
      "45         $13.66        $11.32   $2.34        4.11        10.23\n",
      "46          $8.24         $8.00   $0.24        1.43        10.43\n",
      "47         $10.54        $10.75   $0.21        2.28        14.40\n",
      "48         $10.76        $10.00   $0.76        2.65        10.73\n",
      "49         $12.69        $12.50   $0.19        3.58        11.02\n"
     ]
    }
   ],
   "execution_count": 79
  },
  {
   "cell_type": "code",
   "metadata": {
    "cellView": "form",
    "id": "6sjix7lXI7xT",
    "ExecuteTime": {
     "end_time": "2024-12-02T00:46:08.059394Z",
     "start_time": "2024-12-02T00:46:08.056229Z"
    }
   },
   "source": [
    "#@title Double-click to view answers for validate model\n",
    "\n",
    "# How close is the predicted value to the label value?\n",
    "# -----------------------------------------------------------------------------\n",
    "answer = '''\n",
    "Based on a random sampling of examples, the model seems to do pretty well\n",
    "predicting the fare for a taxi ride. Most of the predicted values do not vary\n",
    "significantly from the observed value. You should be able to see this by looking\n",
    "at the column L1_LOSS = |observed - predicted|.\n",
    "'''\n",
    "print(answer)"
   ],
   "outputs": [
    {
     "name": "stdout",
     "output_type": "stream",
     "text": [
      "\n",
      "Based on a random sampling of examples, the model seems to do pretty well\n",
      "predicting the fare for a taxi ride. Most of the predicted values do not vary\n",
      "significantly from the observed value. You should be able to see this by looking\n",
      "at the column L1_LOSS = |observed - predicted|.\n",
      "\n"
     ]
    }
   ],
   "execution_count": 80
  },
  {
   "metadata": {},
   "cell_type": "markdown",
   "source": [
    "`rdd13r` there are errors here that come from the class assignment code.\n",
    "And these errors bother me, but I don't know how to fix them yet.\n",
    "I have muted the TensorFlow compilation options messages as you'd recommended.\n",
    "Can you please take a look at the errors or warnings in code?"
   ]
  }
 ],
 "metadata": {
  "colab": {
   "collapsed_sections": [
    "sgR4YRjj5T-b"
   ],
   "provenance": [],
   "include_colab_link": true
  },
  "kernelspec": {
   "display_name": "Python 3 (ipykernel)",
   "name": "python3",
   "language": "python"
  },
  "language_info": {
   "name": "python"
  }
 },
 "nbformat": 4,
 "nbformat_minor": 0
}
