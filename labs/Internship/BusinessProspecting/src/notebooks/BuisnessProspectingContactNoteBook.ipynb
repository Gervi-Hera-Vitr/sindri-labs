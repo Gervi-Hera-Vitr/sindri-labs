{
 "cells": [
  {
   "metadata": {},
   "cell_type": "markdown",
   "source": [
    "# Business Prospecting Contact Notebook\n",
    "\n",
    "- Author: Captain Lugaru\n",
    "\n",
    "## Resources\n",
    "\n",
    "- [Mimis boys Pythong 3.12 Bible](https://docs.python.org/dev/whatsnew/index.html \"What’s New in Python\")\n",
    "- [Python 3 Language Bible](https://docs.python.org/3/reference/index.html \"Python Language Reference\")"
   ],
   "id": "913f0087bfe77d91"
  },
  {
   "metadata": {
    "collapsed": true
   },
   "cell_type": "code",
   "source": [
    "from os import path\n",
    "from zipfile import ZipFile\n",
    "\n",
    "import pandas as pd"
   ],
   "id": "initial_id",
   "outputs": [],
   "execution_count": null
  },
  {
   "metadata": {},
   "cell_type": "code",
   "source": [
    "# Constants\n",
    "data_working_folder = '../resources/data'\n",
    "inside_zip_prefix = 'Takeout/Contacts/All Contacts'\n",
    "\n",
    "googleTakeouts = (\n",
    "    'aaa-google-takeout', 'dai-google-takeout', 'mum-google-takeout', 'cap-google-takeout', 'bos-google-takeout',\n",
    "    'ase-google-takeout')\n"
   ],
   "id": "8e551ece4b68b6b3",
   "outputs": [],
   "execution_count": null
  },
  {
   "metadata": {},
   "cell_type": "code",
   "source": [
    "for takeout in googleTakeouts:\n",
    "    print(f\"Processing Takeout for: '{takeout}'\")\n",
    "    takeoutZipFileName = f'{data_working_folder}/{takeout}.zip'\n",
    "    print(f\"Takeout zip file name: '{takeoutZipFileName}'\")\n",
    "\n",
    "    if path.exists(takeoutZipFileName):\n",
    "        print(f\"Takeout zip file exists: '{takeoutZipFileName}'\")\n",
    "        takeoutZip = ZipFile(takeoutZipFileName, 'r')\n",
    "        takeoutZip.extractall(f'{data_working_folder}/{takeout}')\n",
    "        takeoutZip.close()\n",
    "        print(f\"Takeout zip file extracted: '{takeoutZipFileName}'\")\n"
   ],
   "id": "12b2bd724cc7feb0",
   "outputs": [],
   "execution_count": null
  },
  {
   "metadata": {},
   "cell_type": "code",
   "source": [
    "CsvTest = pd.read_csv(\n",
    "    f'{data_working_folder}/aaa-google-takeout/Takeout/Contacts/My Contacts/My Contacts.csv'\n",
    ")  # Read the CSV file\n",
    "\n",
    "contacts_df = pd.DataFrame(columns=[\n",
    "    \"Name\", \"Company\", \"Email\", \"Phone\", \"LinkedIn\", \"Priority\", \"Last Contact\",\n",
    "    \"Role\", \"Status\", \"Follow-up Date\", \"Notes\"\n",
    "])  # Create an empty DataFrame\n"
   ],
   "id": "375dd6576b794023",
   "outputs": [],
   "execution_count": null
  },
  {
   "metadata": {},
   "cell_type": "code",
   "source": [
    "# Ensure missing values are replaced with empty strings\n",
    "CsvTest[\"First Name\"] = CsvTest[\"First Name\"].fillna(\"\")\n",
    "CsvTest[\"Last Name\"] = CsvTest[\"Last Name\"].fillna(\"\")\n",
    "\n",
    "# Combine \"First Name\" and \"Last Name\" safely\n",
    "CsvTest[\"Name\"] = CsvTest[\"First Name\"].str.cat(CsvTest[\"Last Name\"], sep=\" \").str.strip()\n",
    "\n",
    "# Display the cleaned names\n",
    "print(CsvTest[\"Name\"])\n",
    "\n",
    "\n"
   ],
   "id": "b516504ddcbda239",
   "outputs": [],
   "execution_count": null
  },
  {
   "metadata": {},
   "cell_type": "code",
   "source": [
    "def add_contact(name, company, email, phone, linkedin, priority, last_contact, role, status, follow_up,\n",
    "                notes):  # Function to add a contact\n",
    "    global contacts_df\n",
    "    new_entry = pd.DataFrame([{\n",
    "        \"Name\": name,\n",
    "        \"Company\": company,\n",
    "        \"Email\": email,\n",
    "        \"Phone\": phone,\n",
    "        \"LinkedIn\": linkedin,\n",
    "        \"Priority\": priority,\n",
    "        \"Last Contact\": last_contact,\n",
    "        \"Role\": role,\n",
    "        \"Status\": status,\n",
    "        \"Follow-up Date\": follow_up,\n",
    "        \"Notes\": notes\n",
    "    }])\n",
    "    contacts_df = pd.concat([contacts_df, new_entry], ignore_index=True)"
   ],
   "id": "d570c400057062ab",
   "outputs": [],
   "execution_count": null
  },
  {
   "metadata": {},
   "cell_type": "code",
   "source": [
    "for index, row in CsvTest.iterrows():\n",
    "    add_contact(\n",
    "        name=row[\"Name\"],\n",
    "        company=\"\",\n",
    "        email=\"\",\n",
    "        phone=row[\"Phone 1 - Value\"] if \"Phone 1 - Value\" in row else \"\",\n",
    "        linkedin=\"\",\n",
    "        priority=\"\",\n",
    "        last_contact=\"\",\n",
    "        role=\"\",\n",
    "        status=\"\",\n",
    "        follow_up=\"\",\n",
    "        notes=\"\"\n",
    "    )\n"
   ],
   "id": "a50cbfef453feb01",
   "outputs": [],
   "execution_count": null
  },
  {
   "metadata": {},
   "cell_type": "code",
   "source": [
    "import os\n",
    "\n",
    "print(os.listdir())\n",
    "display(contacts_df)\n"
   ],
   "id": "11663760989424bc",
   "outputs": [],
   "execution_count": null
  }
 ],
 "metadata": {
  "kernelspec": {
   "display_name": "Python 3",
   "language": "python",
   "name": "python3"
  },
  "language_info": {
   "codemirror_mode": {
    "name": "ipython",
    "version": 2
   },
   "file_extension": ".py",
   "mimetype": "text/x-python",
   "name": "python",
   "nbconvert_exporter": "python",
   "pygments_lexer": "ipython2",
   "version": "2.7.6"
  }
 },
 "nbformat": 4,
 "nbformat_minor": 5
}
