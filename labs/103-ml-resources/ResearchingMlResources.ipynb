{
 "cells": [
  {
   "metadata": {},
   "cell_type": "markdown",
   "source": [
    "# Teach rdd13r how to teach ML\n",
    "\n",
    "Suggested resources are:\n",
    "\n",
    "- Google Developers: ML / Google Cloud: ML\n",
    "- Kaggle\n",
    "- Hugging Face\n",
    "- New awesome sites discovered by Cpt. L.\n"
   ],
   "id": "eddd5cb41b973c75"
  },
  {
   "metadata": {},
   "cell_type": "markdown",
   "source": [
    "## Gaps I think I have\n",
    "\n",
    "- Foundational libraries\n",
    "- Ml Ops\n",
    "- Ml Communities\n",
    "- Ml Types\n"
   ],
   "id": "6f92ff91054f8f20"
  },
  {
   "metadata": {},
   "cell_type": "markdown",
   "source": [
    "## RoadMap For Learning\n",
    "https://miro.com/app/board/uXjVL0gTojw=/"
   ],
   "id": "ed324730a18db508"
  }
 ],
 "metadata": {
  "kernelspec": {
   "display_name": "Python 3",
   "language": "python",
   "name": "python3"
  },
  "language_info": {
   "codemirror_mode": {
    "name": "ipython",
    "version": 2
   },
   "file_extension": ".py",
   "mimetype": "text/x-python",
   "name": "python",
   "nbconvert_exporter": "python",
   "pygments_lexer": "ipython2",
   "version": "2.7.6"
  }
 },
 "nbformat": 4,
 "nbformat_minor": 5
}
